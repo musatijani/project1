{
  "cells": [
    {
      "cell_type": "code",
      "source": [
        "using Plots\n"
      ],
      "outputs": [],
      "execution_count": 4,
      "metadata": {
        "collapsed": true,
        "jupyter": {
          "source_hidden": false,
          "outputs_hidden": false
        },
        "nteract": {
          "transient": {
            "deleting": false
          }
        },
        "execution": {
          "iopub.status.busy": "2023-10-31T23:47:06.397Z",
          "iopub.execute_input": "2023-10-31T23:47:06.538Z",
          "iopub.status.idle": "2023-10-31T23:47:06.741Z"
        }
      }
    },
    {
      "cell_type": "code",
      "source": [
        "#using Pkg\n",
        "#Pkg.precompile(\"Plots\")\n",
        "\n",
        "\n",
        "\n",
        "using Pkg\n",
        "Pkg.add(\"CSV\");\n",
        "Pkg.add(\"DataFrames\");\n",
        "Pkg.update()\n",
        "\n",
        "\n"
      ],
      "outputs": [
        {
          "output_type": "stream",
          "name": "stderr",
          "text": [
            "\u001b[32m\u001b[1m   Resolving\u001b[22m\u001b[39m package versions...\n",
            "\u001b[32m\u001b[1m  No Changes\u001b[22m\u001b[39m to `C:\\Users\\Worlds Best\\.julia\\environments\\v1.9\\Project.toml`\n",
            "\u001b[32m\u001b[1m  No Changes\u001b[22m\u001b[39m to `C:\\Users\\Worlds Best\\.julia\\environments\\v1.9\\Manifest.toml`\n",
            "\u001b[32m\u001b[1m   Resolving\u001b[22m\u001b[39m package versions...\n",
            "\u001b[32m\u001b[1m  No Changes\u001b[22m\u001b[39m to `C:\\Users\\Worlds Best\\.julia\\environments\\v1.9\\Project.toml`\n",
            "\u001b[32m\u001b[1m  No Changes\u001b[22m\u001b[39m to `C:\\Users\\Worlds Best\\.julia\\environments\\v1.9\\Manifest.toml`\n",
            "\u001b[32m\u001b[1m    Updating\u001b[22m\u001b[39m registry at `C:\\Users\\Worlds Best\\.julia\\registries\\General.toml`\n",
            "\u001b[32m\u001b[1m  No Changes\u001b[22m\u001b[39m to `C:\\Users\\Worlds Best\\.julia\\environments\\v1.9\\Project.toml`\n",
            "\u001b[32m\u001b[1m  No Changes\u001b[22m\u001b[39m to `C:\\Users\\Worlds Best\\.julia\\environments\\v1.9\\Manifest.toml`\n"
          ]
        }
      ],
      "execution_count": 6,
      "metadata": {
        "collapsed": true,
        "jupyter": {
          "source_hidden": false,
          "outputs_hidden": false
        },
        "nteract": {
          "transient": {
            "deleting": false
          }
        },
        "execution": {
          "iopub.status.busy": "2023-10-31T23:48:09.447Z",
          "iopub.execute_input": "2023-10-31T23:48:09.759Z",
          "iopub.status.idle": "2023-10-31T23:48:44.813Z"
        }
      }
    },
    {
      "cell_type": "code",
      "source": [
        "########NUMBER 1########\n",
        "## 1(A) LEAST SQUARES TO FIND Y=MX+C\n",
        "X = [0; 1; 2; 3; 4; 5; 6; 7]\n",
        "Y = [4.0; 3.1; 2.8; 2.5; 2.3; 2.2; 2.1; 2.0]\n",
        "A = [0 1; 1 1; 2 1; 3 1; 4 1; 5 1; 6 1; 7 1]\n",
        "## LEAST SQUARES TO FIND Y=MX+C\n",
        "A =[X ones(8,1)]\n",
        "z=(A'A)\\(A'Y)\n",
        "function h(x)\n",
        "  return z[1]*x+z[2]\n",
        "end\n",
        "t=0:.1:7\n",
        "plot(t,h.(t))\n",
        "  "
      ],
      "outputs": [
        {
          "output_type": "execute_result",
          "execution_count": 7,
          "data": {
            "image/png": "[encoded data removed]",
            "text/html": "<?xml version=\"1.0\" encoding=\"utf-8\"?>\n<svg xmlns=\"http://www.w3.org/2000/svg\" xmlns:xlink=\"http://www.w3.org/1999/xlink\" width=\"600\" height=\"400\" viewBox=\"0 0 2400 1600\">\n<defs>\n  <clipPath id=\"clip870\">\n    <rect x=\"0\" y=\"0\" width=\"2400\" height=\"1600\"/>\n  </clipPath>\n</defs>\n<path clip-path=\"url(#clip870)\" d=\"M0 1600 L2400 1600 L2400 0 L0 0  Z\" fill=\"#ffffff\" fill-rule=\"evenodd\" fill-opacity=\"1\"/>\n<defs>\n  <clipPath id=\"clip871\">\n    <rect x=\"480\" y=\"0\" width=\"1681\" height=\"1600\"/>\n  </clipPath>\n</defs>\n<path clip-path=\"url(#clip870)\" d=\"M155.765 1486.45 L2352.76 1486.45 L2352.76 47.2441 L155.765 47.2441  Z\" fill=\"#ffffff\" fill-rule=\"evenodd\" fill-opacity=\"1\"/>\n<defs>\n  <clipPath id=\"clip872\">\n    <rect x=\"155\" y=\"47\" width=\"2198\" height=\"1440\"/>\n  </clipPath>\n</defs>\n<polyline clip-path=\"url(#clip872)\" style=\"stroke:#000000; stroke-linecap:round; stroke-linejoin:round; stroke-width:2; stroke-opacity:0.1; fill:none\" points=\"217.944,1486.45 217.944,47.2441 \"/>\n<polyline clip-path=\"url(#clip872)\" style=\"stroke:#000000; stroke-linecap:round; stroke-linejoin:round; stroke-width:2; stroke-opacity:0.1; fill:none\" points=\"810.125,1486.45 810.125,47.2441 \"/>\n<polyline clip-path=\"url(#clip872)\" style=\"stroke:#000000; stroke-linecap:round; stroke-linejoin:round; stroke-width:2; stroke-opacity:0.1; fill:none\" points=\"1402.31,1486.45 1402.31,47.2441 \"/>\n<polyline clip-path=\"url(#clip872)\" style=\"stroke:#000000; stroke-linecap:round; stroke-linejoin:round; stroke-width:2; stroke-opacity:0.1; fill:none\" points=\"1994.49,1486.45 1994.49,47.2441 \"/>\n<polyline clip-path=\"url(#clip870)\" style=\"stroke:#000000; stroke-linecap:round; stroke-linejoin:round; stroke-width:4; stroke-opacity:1; fill:none\" points=\"155.765,1486.45 2352.76,1486.45 \"/>\n<polyline clip-path=\"url(#clip870)\" style=\"stroke:#000000; stroke-linecap:round; stroke-linejoin:round; stroke-width:4; stroke-opacity:1; fill:none\" points=\"217.944,1486.45 217.944,1467.55 \"/>\n<polyline clip-path=\"url(#clip870)\" style=\"stroke:#000000; stroke-linecap:round; stroke-linejoin:round; stroke-width:4; stroke-opacity:1; fill:none\" points=\"810.125,1486.45 810.125,1467.55 \"/>\n<polyline clip-path=\"url(#clip870)\" style=\"stroke:#000000; stroke-linecap:round; stroke-linejoin:round; stroke-width:4; stroke-opacity:1; fill:none\" points=\"1402.31,1486.45 1402.31,1467.55 \"/>\n<polyline clip-path=\"url(#clip870)\" style=\"stroke:#000000; stroke-linecap:round; stroke-linejoin:round; stroke-width:4; stroke-opacity:1; fill:none\" points=\"1994.49,1486.45 1994.49,1467.55 \"/>\n<path clip-path=\"url(#clip870)\" d=\"M217.944 1517.37 Q214.333 1517.37 212.504 1520.93 Q210.699 1524.47 210.699 1531.6 Q210.699 1538.71 212.504 1542.27 Q214.333 1545.82 217.944 1545.82 Q221.578 1545.82 223.384 1542.27 Q225.212 1538.71 225.212 1531.6 Q225.212 1524.47 223.384 1520.93 Q221.578 1517.37 217.944 1517.37 M217.944 1513.66 Q223.754 1513.66 226.81 1518.27 Q229.888 1522.85 229.888 1531.6 Q229.888 1540.33 226.81 1544.94 Q223.754 1549.52 217.944 1549.52 Q212.134 1549.52 209.055 1544.94 Q206 1540.33 206 1531.6 Q206 1522.85 209.055 1518.27 Q212.134 1513.66 217.944 1513.66 Z\" fill=\"#000000\" fill-rule=\"nonzero\" fill-opacity=\"1\" /><path clip-path=\"url(#clip870)\" d=\"M804.778 1544.91 L821.097 1544.91 L821.097 1548.85 L799.153 1548.85 L799.153 1544.91 Q801.815 1542.16 806.398 1537.53 Q811.004 1532.88 812.185 1531.53 Q814.43 1529.01 815.31 1527.27 Q816.213 1525.51 816.213 1523.82 Q816.213 1521.07 814.268 1519.33 Q812.347 1517.6 809.245 1517.6 Q807.046 1517.6 804.592 1518.36 Q802.162 1519.13 799.384 1520.68 L799.384 1515.95 Q802.208 1514.82 804.662 1514.24 Q807.116 1513.66 809.153 1513.66 Q814.523 1513.66 817.717 1516.35 Q820.912 1519.03 820.912 1523.52 Q820.912 1525.65 820.102 1527.57 Q819.315 1529.47 817.208 1532.07 Q816.629 1532.74 813.528 1535.95 Q810.426 1539.15 804.778 1544.91 Z\" fill=\"#000000\" fill-rule=\"nonzero\" fill-opacity=\"1\" /><path clip-path=\"url(#clip870)\" d=\"M1405.31 1518.36 L1393.51 1536.81 L1405.31 1536.81 L1405.31 1518.36 M1404.09 1514.29 L1409.97 1514.29 L1409.97 1536.81 L1414.9 1536.81 L1414.9 1540.7 L1409.97 1540.7 L1409.97 1548.85 L1405.31 1548.85 L1405.31 1540.7 L1389.71 1540.7 L1389.71 1536.19 L1404.09 1514.29 Z\" fill=\"#000000\" fill-rule=\"nonzero\" fill-opacity=\"1\" /><path clip-path=\"url(#clip870)\" d=\"M1994.89 1529.7 Q1991.74 1529.7 1989.89 1531.86 Q1988.06 1534.01 1988.06 1537.76 Q1988.06 1541.49 1989.89 1543.66 Q1991.74 1545.82 1994.89 1545.82 Q1998.04 1545.82 1999.87 1543.66 Q2001.72 1541.49 2001.72 1537.76 Q2001.72 1534.01 1999.87 1531.86 Q1998.04 1529.7 1994.89 1529.7 M2004.17 1515.05 L2004.17 1519.31 Q2002.41 1518.48 2000.61 1518.04 Q1998.83 1517.6 1997.07 1517.6 Q1992.44 1517.6 1989.98 1520.72 Q1987.55 1523.85 1987.21 1530.17 Q1988.57 1528.15 1990.63 1527.09 Q1992.69 1526 1995.17 1526 Q2000.38 1526 2003.39 1529.17 Q2006.42 1532.32 2006.42 1537.76 Q2006.42 1543.08 2003.27 1546.3 Q2000.12 1549.52 1994.89 1549.52 Q1988.9 1549.52 1985.72 1544.94 Q1982.55 1540.33 1982.55 1531.6 Q1982.55 1523.41 1986.44 1518.55 Q1990.33 1513.66 1996.88 1513.66 Q1998.64 1513.66 2000.42 1514.01 Q2002.23 1514.36 2004.17 1515.05 Z\" fill=\"#000000\" fill-rule=\"nonzero\" fill-opacity=\"1\" /><polyline clip-path=\"url(#clip872)\" style=\"stroke:#000000; stroke-linecap:round; stroke-linejoin:round; stroke-width:2; stroke-opacity:0.1; fill:none\" points=\"155.765,1251.75 2352.76,1251.75 \"/>\n<polyline clip-path=\"url(#clip872)\" style=\"stroke:#000000; stroke-linecap:round; stroke-linejoin:round; stroke-width:2; stroke-opacity:0.1; fill:none\" points=\"155.765,863.827 2352.76,863.827 \"/>\n<polyline clip-path=\"url(#clip872)\" style=\"stroke:#000000; stroke-linecap:round; stroke-linejoin:round; stroke-width:2; stroke-opacity:0.1; fill:none\" points=\"155.765,475.902 2352.76,475.902 \"/>\n<polyline clip-path=\"url(#clip872)\" style=\"stroke:#000000; stroke-linecap:round; stroke-linejoin:round; stroke-width:2; stroke-opacity:0.1; fill:none\" points=\"155.765,87.9763 2352.76,87.9763 \"/>\n<polyline clip-path=\"url(#clip870)\" style=\"stroke:#000000; stroke-linecap:round; stroke-linejoin:round; stroke-width:4; stroke-opacity:1; fill:none\" points=\"155.765,1486.45 155.765,47.2441 \"/>\n<polyline clip-path=\"url(#clip870)\" style=\"stroke:#000000; stroke-linecap:round; stroke-linejoin:round; stroke-width:4; stroke-opacity:1; fill:none\" points=\"155.765,1251.75 174.663,1251.75 \"/>\n<polyline clip-path=\"url(#clip870)\" style=\"stroke:#000000; stroke-linecap:round; stroke-linejoin:round; stroke-width:4; stroke-opacity:1; fill:none\" points=\"155.765,863.827 174.663,863.827 \"/>\n<polyline clip-path=\"url(#clip870)\" style=\"stroke:#000000; stroke-linecap:round; stroke-linejoin:round; stroke-width:4; stroke-opacity:1; fill:none\" points=\"155.765,475.902 174.663,475.902 \"/>\n<polyline clip-path=\"url(#clip870)\" style=\"stroke:#000000; stroke-linecap:round; stroke-linejoin:round; stroke-width:4; stroke-opacity:1; fill:none\" points=\"155.765,87.9763 174.663,87.9763 \"/>\n<path clip-path=\"url(#clip870)\" d=\"M56.6171 1265.1 L72.9365 1265.1 L72.9365 1269.03 L50.9921 1269.03 L50.9921 1265.1 Q53.6541 1262.34 58.2375 1257.71 Q62.8439 1253.06 64.0245 1251.72 Q66.2698 1249.2 67.1494 1247.46 Q68.0522 1245.7 68.0522 1244.01 Q68.0522 1241.26 66.1078 1239.52 Q64.1865 1237.78 61.0847 1237.78 Q58.8856 1237.78 56.4319 1238.55 Q54.0014 1239.31 51.2236 1240.86 L51.2236 1236.14 Q54.0477 1235.01 56.5014 1234.43 Q58.955 1233.85 60.9921 1233.85 Q66.3624 1233.85 69.5568 1236.53 Q72.7513 1239.22 72.7513 1243.71 Q72.7513 1245.84 71.9411 1247.76 Q71.1541 1249.66 69.0476 1252.25 Q68.4689 1252.92 65.367 1256.14 Q62.2652 1259.33 56.6171 1265.1 Z\" fill=\"#000000\" fill-rule=\"nonzero\" fill-opacity=\"1\" /><path clip-path=\"url(#clip870)\" d=\"M82.7512 1263.15 L87.6354 1263.15 L87.6354 1269.03 L82.7512 1269.03 L82.7512 1263.15 Z\" fill=\"#000000\" fill-rule=\"nonzero\" fill-opacity=\"1\" /><path clip-path=\"url(#clip870)\" d=\"M107.821 1237.55 Q104.209 1237.55 102.381 1241.12 Q100.575 1244.66 100.575 1251.79 Q100.575 1258.89 102.381 1262.46 Q104.209 1266 107.821 1266 Q111.455 1266 113.26 1262.46 Q115.089 1258.89 115.089 1251.79 Q115.089 1244.66 113.26 1241.12 Q111.455 1237.55 107.821 1237.55 M107.821 1233.85 Q113.631 1233.85 116.686 1238.45 Q119.765 1243.04 119.765 1251.79 Q119.765 1260.51 116.686 1265.12 Q113.631 1269.7 107.821 1269.7 Q102.01 1269.7 98.9317 1265.12 Q95.8761 1260.51 95.8761 1251.79 Q95.8761 1243.04 98.9317 1238.45 Q102.01 1233.85 107.821 1233.85 Z\" fill=\"#000000\" fill-rule=\"nonzero\" fill-opacity=\"1\" /><path clip-path=\"url(#clip870)\" d=\"M57.6125 877.172 L73.9318 877.172 L73.9318 881.107 L51.9875 881.107 L51.9875 877.172 Q54.6495 874.418 59.2328 869.788 Q63.8393 865.135 65.0198 863.793 Q67.2652 861.27 68.1448 859.533 Q69.0476 857.774 69.0476 856.084 Q69.0476 853.33 67.1032 851.594 Q65.1819 849.858 62.08 849.858 Q59.881 849.858 57.4273 850.621 Q54.9967 851.385 52.219 852.936 L52.219 848.214 Q55.043 847.08 57.4967 846.501 Q59.9504 845.922 61.9874 845.922 Q67.3578 845.922 70.5522 848.608 Q73.7466 851.293 73.7466 855.783 Q73.7466 857.913 72.9365 859.834 Q72.1494 861.732 70.0429 864.325 Q69.4642 864.996 66.3624 868.214 Q63.2606 871.408 57.6125 877.172 Z\" fill=\"#000000\" fill-rule=\"nonzero\" fill-opacity=\"1\" /><path clip-path=\"url(#clip870)\" d=\"M83.7466 875.228 L88.6308 875.228 L88.6308 881.107 L83.7466 881.107 L83.7466 875.228 Z\" fill=\"#000000\" fill-rule=\"nonzero\" fill-opacity=\"1\" /><path clip-path=\"url(#clip870)\" d=\"M98.8622 846.547 L117.219 846.547 L117.219 850.483 L103.145 850.483 L103.145 858.955 Q104.163 858.607 105.182 858.445 Q106.2 858.26 107.219 858.26 Q113.006 858.26 116.385 861.432 Q119.765 864.603 119.765 870.019 Q119.765 875.598 116.293 878.7 Q112.82 881.779 106.501 881.779 Q104.325 881.779 102.057 881.408 Q99.8113 881.038 97.4039 880.297 L97.4039 875.598 Q99.4872 876.732 101.709 877.288 Q103.932 877.843 106.408 877.843 Q110.413 877.843 112.751 875.737 Q115.089 873.631 115.089 870.019 Q115.089 866.408 112.751 864.302 Q110.413 862.195 106.408 862.195 Q104.534 862.195 102.659 862.612 Q100.807 863.029 98.8622 863.908 L98.8622 846.547 Z\" fill=\"#000000\" fill-rule=\"nonzero\" fill-opacity=\"1\" /><path clip-path=\"url(#clip870)\" d=\"M66.7559 474.548 Q70.1124 475.265 71.9874 477.534 Q73.8855 479.802 73.8855 483.136 Q73.8855 488.251 70.367 491.052 Q66.8485 493.853 60.3671 493.853 Q58.1912 493.853 55.8764 493.413 Q53.5847 492.997 51.131 492.14 L51.131 487.626 Q53.0754 488.761 55.3903 489.339 Q57.7051 489.918 60.2282 489.918 Q64.6263 489.918 66.918 488.182 Q69.2328 486.446 69.2328 483.136 Q69.2328 480.08 67.08 478.367 Q64.9504 476.631 61.131 476.631 L57.1032 476.631 L57.1032 472.788 L61.3161 472.788 Q64.7652 472.788 66.5939 471.423 Q68.4226 470.034 68.4226 467.441 Q68.4226 464.779 66.5245 463.367 Q64.6495 461.932 61.131 461.932 Q59.2097 461.932 57.0106 462.349 Q54.8115 462.765 52.1727 463.645 L52.1727 459.478 Q54.8347 458.738 57.1495 458.367 Q59.4875 457.997 61.5476 457.997 Q66.8717 457.997 69.9735 460.427 Q73.0753 462.835 73.0753 466.955 Q73.0753 469.825 71.4318 471.816 Q69.7883 473.784 66.7559 474.548 Z\" fill=\"#000000\" fill-rule=\"nonzero\" fill-opacity=\"1\" /><path clip-path=\"url(#clip870)\" d=\"M82.7512 487.302 L87.6354 487.302 L87.6354 493.182 L82.7512 493.182 L82.7512 487.302 Z\" fill=\"#000000\" fill-rule=\"nonzero\" fill-opacity=\"1\" /><path clip-path=\"url(#clip870)\" d=\"M107.821 461.701 Q104.209 461.701 102.381 465.265 Q100.575 468.807 100.575 475.937 Q100.575 483.043 102.381 486.608 Q104.209 490.149 107.821 490.149 Q111.455 490.149 113.26 486.608 Q115.089 483.043 115.089 475.937 Q115.089 468.807 113.26 465.265 Q111.455 461.701 107.821 461.701 M107.821 457.997 Q113.631 457.997 116.686 462.603 Q119.765 467.187 119.765 475.937 Q119.765 484.663 116.686 489.27 Q113.631 493.853 107.821 493.853 Q102.01 493.853 98.9317 489.27 Q95.8761 484.663 95.8761 475.937 Q95.8761 467.187 98.9317 462.603 Q102.01 457.997 107.821 457.997 Z\" fill=\"#000000\" fill-rule=\"nonzero\" fill-opacity=\"1\" /><path clip-path=\"url(#clip870)\" d=\"M67.7513 86.6221 Q71.1078 87.3397 72.9827 89.6082 Q74.8809 91.8767 74.8809 95.21 Q74.8809 100.326 71.3624 103.127 Q67.8439 105.928 61.3624 105.928 Q59.1865 105.928 56.8717 105.488 Q54.5801 105.071 52.1264 104.215 L52.1264 99.7008 Q54.0708 100.835 56.3856 101.414 Q58.7004 101.992 61.2236 101.992 Q65.6217 101.992 67.9133 100.256 Q70.2281 98.5202 70.2281 95.21 Q70.2281 92.1545 68.0754 90.4415 Q65.9457 88.7054 62.1263 88.7054 L58.0986 88.7054 L58.0986 84.8629 L62.3115 84.8629 Q65.7606 84.8629 67.5893 83.4971 Q69.418 82.1083 69.418 79.5157 Q69.418 76.8537 67.5198 75.4416 Q65.6448 74.0064 62.1263 74.0064 Q60.205 74.0064 58.006 74.4231 Q55.8069 74.8398 53.168 75.7194 L53.168 71.5528 Q55.8301 70.812 58.1449 70.4416 Q60.4828 70.0713 62.543 70.0713 Q67.867 70.0713 70.9689 72.5018 Q74.0707 74.9092 74.0707 79.0296 Q74.0707 81.8999 72.4272 83.8907 Q70.7837 85.8582 67.7513 86.6221 Z\" fill=\"#000000\" fill-rule=\"nonzero\" fill-opacity=\"1\" /><path clip-path=\"url(#clip870)\" d=\"M83.7466 99.3767 L88.6308 99.3767 L88.6308 105.256 L83.7466 105.256 L83.7466 99.3767 Z\" fill=\"#000000\" fill-rule=\"nonzero\" fill-opacity=\"1\" /><path clip-path=\"url(#clip870)\" d=\"M98.8622 70.6963 L117.219 70.6963 L117.219 74.6314 L103.145 74.6314 L103.145 83.1036 Q104.163 82.7564 105.182 82.5944 Q106.2 82.4092 107.219 82.4092 Q113.006 82.4092 116.385 85.5805 Q119.765 88.7517 119.765 94.1684 Q119.765 99.747 116.293 102.849 Q112.82 105.928 106.501 105.928 Q104.325 105.928 102.057 105.557 Q99.8113 105.187 97.4039 104.446 L97.4039 99.747 Q99.4872 100.881 101.709 101.437 Q103.932 101.992 106.408 101.992 Q110.413 101.992 112.751 99.8859 Q115.089 97.7795 115.089 94.1684 Q115.089 90.5573 112.751 88.4508 Q110.413 86.3443 106.408 86.3443 Q104.534 86.3443 102.659 86.761 Q100.807 87.1777 98.8622 88.0573 L98.8622 70.6963 Z\" fill=\"#000000\" fill-rule=\"nonzero\" fill-opacity=\"1\" /><polyline clip-path=\"url(#clip872)\" style=\"stroke:#009af9; stroke-linecap:round; stroke-linejoin:round; stroke-width:4; stroke-opacity:1; fill:none\" points=\"217.944,87.9763 247.553,107.373 277.162,126.769 306.771,146.165 336.38,165.561 365.989,184.958 395.598,204.354 425.207,223.75 454.816,243.146 484.425,262.543 514.034,281.939 543.643,301.335 573.252,320.732 602.861,340.128 632.47,359.524 662.08,378.92 691.689,398.317 721.298,417.713 750.907,437.109 780.516,456.506 810.125,475.902 839.734,495.298 869.343,514.694 898.952,534.091 928.561,553.487 958.17,572.883 987.779,592.279 1017.39,611.676 1047,631.072 1076.61,650.468 1106.22,669.865 1135.82,689.261 1165.43,708.657 1195.04,728.053 1224.65,747.45 1254.26,766.846 1283.87,786.242 1313.48,805.639 1343.09,825.035 1372.7,844.431 1402.31,863.827 1431.91,883.224 1461.52,902.62 1491.13,922.016 1520.74,941.412 1550.35,960.809 1579.96,980.205 1609.57,999.601 1639.18,1019 1668.79,1038.39 1698.4,1057.79 1728.01,1077.19 1757.61,1096.58 1787.22,1115.98 1816.83,1135.38 1846.44,1154.77 1876.05,1174.17 1905.66,1193.56 1935.27,1212.96 1964.88,1232.36 1994.49,1251.75 2024.1,1271.15 2053.7,1290.55 2083.31,1309.94 2112.92,1329.34 2142.53,1348.73 2172.14,1368.13 2201.75,1387.53 2231.36,1406.92 2260.97,1426.32 2290.58,1445.72 \"/>\n<path clip-path=\"url(#clip870)\" d=\"M2007.39 198.898 L2279.52 198.898 L2279.52 95.2176 L2007.39 95.2176  Z\" fill=\"#ffffff\" fill-rule=\"evenodd\" fill-opacity=\"1\"/>\n<polyline clip-path=\"url(#clip870)\" style=\"stroke:#000000; stroke-linecap:round; stroke-linejoin:round; stroke-width:4; stroke-opacity:1; fill:none\" points=\"2007.39,198.898 2279.52,198.898 2279.52,95.2176 2007.39,95.2176 2007.39,198.898 \"/>\n<polyline clip-path=\"url(#clip870)\" style=\"stroke:#009af9; stroke-linecap:round; stroke-linejoin:round; stroke-width:4; stroke-opacity:1; fill:none\" points=\"2031.8,147.058 2178.27,147.058 \"/>\n<path clip-path=\"url(#clip870)\" d=\"M2216.52 166.745 Q2214.72 171.375 2213.01 172.787 Q2211.29 174.199 2208.42 174.199 L2205.02 174.199 L2205.02 170.634 L2207.52 170.634 Q2209.28 170.634 2210.25 169.8 Q2211.22 168.967 2212.4 165.865 L2213.17 163.921 L2202.68 138.412 L2207.2 138.412 L2215.3 158.689 L2223.4 138.412 L2227.91 138.412 L2216.52 166.745 Z\" fill=\"#000000\" fill-rule=\"nonzero\" fill-opacity=\"1\" /><path clip-path=\"url(#clip870)\" d=\"M2235.2 160.402 L2242.84 160.402 L2242.84 134.037 L2234.53 135.703 L2234.53 131.444 L2242.8 129.778 L2247.47 129.778 L2247.47 160.402 L2255.11 160.402 L2255.11 164.338 L2235.2 164.338 L2235.2 160.402 Z\" fill=\"#000000\" fill-rule=\"nonzero\" fill-opacity=\"1\" /></svg>\n",
            "image/svg+xml": "<?xml version=\"1.0\" encoding=\"utf-8\"?>\n<svg xmlns=\"http://www.w3.org/2000/svg\" xmlns:xlink=\"http://www.w3.org/1999/xlink\" width=\"600\" height=\"400\" viewBox=\"0 0 2400 1600\">\n<defs>\n  <clipPath id=\"clip820\">\n    <rect x=\"0\" y=\"0\" width=\"2400\" height=\"1600\"/>\n  </clipPath>\n</defs>\n<path clip-path=\"url(#clip820)\" d=\"M0 1600 L2400 1600 L2400 0 L0 0  Z\" fill=\"#ffffff\" fill-rule=\"evenodd\" fill-opacity=\"1\"/>\n<defs>\n  <clipPath id=\"clip821\">\n    <rect x=\"480\" y=\"0\" width=\"1681\" height=\"1600\"/>\n  </clipPath>\n</defs>\n<path clip-path=\"url(#clip820)\" d=\"M155.765 1486.45 L2352.76 1486.45 L2352.76 47.2441 L155.765 47.2441  Z\" fill=\"#ffffff\" fill-rule=\"evenodd\" fill-opacity=\"1\"/>\n<defs>\n  <clipPath id=\"clip822\">\n    <rect x=\"155\" y=\"47\" width=\"2198\" height=\"1440\"/>\n  </clipPath>\n</defs>\n<polyline clip-path=\"url(#clip822)\" style=\"stroke:#000000; stroke-linecap:round; stroke-linejoin:round; stroke-width:2; stroke-opacity:0.1; fill:none\" points=\"217.944,1486.45 217.944,47.2441 \"/>\n<polyline clip-path=\"url(#clip822)\" style=\"stroke:#000000; stroke-linecap:round; stroke-linejoin:round; stroke-width:2; stroke-opacity:0.1; fill:none\" points=\"810.125,1486.45 810.125,47.2441 \"/>\n<polyline clip-path=\"url(#clip822)\" style=\"stroke:#000000; stroke-linecap:round; stroke-linejoin:round; stroke-width:2; stroke-opacity:0.1; fill:none\" points=\"1402.31,1486.45 1402.31,47.2441 \"/>\n<polyline clip-path=\"url(#clip822)\" style=\"stroke:#000000; stroke-linecap:round; stroke-linejoin:round; stroke-width:2; stroke-opacity:0.1; fill:none\" points=\"1994.49,1486.45 1994.49,47.2441 \"/>\n<polyline clip-path=\"url(#clip820)\" style=\"stroke:#000000; stroke-linecap:round; stroke-linejoin:round; stroke-width:4; stroke-opacity:1; fill:none\" points=\"155.765,1486.45 2352.76,1486.45 \"/>\n<polyline clip-path=\"url(#clip820)\" style=\"stroke:#000000; stroke-linecap:round; stroke-linejoin:round; stroke-width:4; stroke-opacity:1; fill:none\" points=\"217.944,1486.45 217.944,1467.55 \"/>\n<polyline clip-path=\"url(#clip820)\" style=\"stroke:#000000; stroke-linecap:round; stroke-linejoin:round; stroke-width:4; stroke-opacity:1; fill:none\" points=\"810.125,1486.45 810.125,1467.55 \"/>\n<polyline clip-path=\"url(#clip820)\" style=\"stroke:#000000; stroke-linecap:round; stroke-linejoin:round; stroke-width:4; stroke-opacity:1; fill:none\" points=\"1402.31,1486.45 1402.31,1467.55 \"/>\n<polyline clip-path=\"url(#clip820)\" style=\"stroke:#000000; stroke-linecap:round; stroke-linejoin:round; stroke-width:4; stroke-opacity:1; fill:none\" points=\"1994.49,1486.45 1994.49,1467.55 \"/>\n<path clip-path=\"url(#clip820)\" d=\"M217.944 1517.37 Q214.333 1517.37 212.504 1520.93 Q210.699 1524.47 210.699 1531.6 Q210.699 1538.71 212.504 1542.27 Q214.333 1545.82 217.944 1545.82 Q221.578 1545.82 223.384 1542.27 Q225.212 1538.71 225.212 1531.6 Q225.212 1524.47 223.384 1520.93 Q221.578 1517.37 217.944 1517.37 M217.944 1513.66 Q223.754 1513.66 226.81 1518.27 Q229.888 1522.85 229.888 1531.6 Q229.888 1540.33 226.81 1544.94 Q223.754 1549.52 217.944 1549.52 Q212.134 1549.52 209.055 1544.94 Q206 1540.33 206 1531.6 Q206 1522.85 209.055 1518.27 Q212.134 1513.66 217.944 1513.66 Z\" fill=\"#000000\" fill-rule=\"nonzero\" fill-opacity=\"1\" /><path clip-path=\"url(#clip820)\" d=\"M804.778 1544.91 L821.097 1544.91 L821.097 1548.85 L799.153 1548.85 L799.153 1544.91 Q801.815 1542.16 806.398 1537.53 Q811.004 1532.88 812.185 1531.53 Q814.43 1529.01 815.31 1527.27 Q816.213 1525.51 816.213 1523.82 Q816.213 1521.07 814.268 1519.33 Q812.347 1517.6 809.245 1517.6 Q807.046 1517.6 804.592 1518.36 Q802.162 1519.13 799.384 1520.68 L799.384 1515.95 Q802.208 1514.82 804.662 1514.24 Q807.116 1513.66 809.153 1513.66 Q814.523 1513.66 817.717 1516.35 Q820.912 1519.03 820.912 1523.52 Q820.912 1525.65 820.102 1527.57 Q819.315 1529.47 817.208 1532.07 Q816.629 1532.74 813.528 1535.95 Q810.426 1539.15 804.778 1544.91 Z\" fill=\"#000000\" fill-rule=\"nonzero\" fill-opacity=\"1\" /><path clip-path=\"url(#clip820)\" d=\"M1405.31 1518.36 L1393.51 1536.81 L1405.31 1536.81 L1405.31 1518.36 M1404.09 1514.29 L1409.97 1514.29 L1409.97 1536.81 L1414.9 1536.81 L1414.9 1540.7 L1409.97 1540.7 L1409.97 1548.85 L1405.31 1548.85 L1405.31 1540.7 L1389.71 1540.7 L1389.71 1536.19 L1404.09 1514.29 Z\" fill=\"#000000\" fill-rule=\"nonzero\" fill-opacity=\"1\" /><path clip-path=\"url(#clip820)\" d=\"M1994.89 1529.7 Q1991.74 1529.7 1989.89 1531.86 Q1988.06 1534.01 1988.06 1537.76 Q1988.06 1541.49 1989.89 1543.66 Q1991.74 1545.82 1994.89 1545.82 Q1998.04 1545.82 1999.87 1543.66 Q2001.72 1541.49 2001.72 1537.76 Q2001.72 1534.01 1999.87 1531.86 Q1998.04 1529.7 1994.89 1529.7 M2004.17 1515.05 L2004.17 1519.31 Q2002.41 1518.48 2000.61 1518.04 Q1998.83 1517.6 1997.07 1517.6 Q1992.44 1517.6 1989.98 1520.72 Q1987.55 1523.85 1987.21 1530.17 Q1988.57 1528.15 1990.63 1527.09 Q1992.69 1526 1995.17 1526 Q2000.38 1526 2003.39 1529.17 Q2006.42 1532.32 2006.42 1537.76 Q2006.42 1543.08 2003.27 1546.3 Q2000.12 1549.52 1994.89 1549.52 Q1988.9 1549.52 1985.72 1544.94 Q1982.55 1540.33 1982.55 1531.6 Q1982.55 1523.41 1986.44 1518.55 Q1990.33 1513.66 1996.88 1513.66 Q1998.64 1513.66 2000.42 1514.01 Q2002.23 1514.36 2004.17 1515.05 Z\" fill=\"#000000\" fill-rule=\"nonzero\" fill-opacity=\"1\" /><polyline clip-path=\"url(#clip822)\" style=\"stroke:#000000; stroke-linecap:round; stroke-linejoin:round; stroke-width:2; stroke-opacity:0.1; fill:none\" points=\"155.765,1251.75 2352.76,1251.75 \"/>\n<polyline clip-path=\"url(#clip822)\" style=\"stroke:#000000; stroke-linecap:round; stroke-linejoin:round; stroke-width:2; stroke-opacity:0.1; fill:none\" points=\"155.765,863.827 2352.76,863.827 \"/>\n<polyline clip-path=\"url(#clip822)\" style=\"stroke:#000000; stroke-linecap:round; stroke-linejoin:round; stroke-width:2; stroke-opacity:0.1; fill:none\" points=\"155.765,475.902 2352.76,475.902 \"/>\n<polyline clip-path=\"url(#clip822)\" style=\"stroke:#000000; stroke-linecap:round; stroke-linejoin:round; stroke-width:2; stroke-opacity:0.1; fill:none\" points=\"155.765,87.9763 2352.76,87.9763 \"/>\n<polyline clip-path=\"url(#clip820)\" style=\"stroke:#000000; stroke-linecap:round; stroke-linejoin:round; stroke-width:4; stroke-opacity:1; fill:none\" points=\"155.765,1486.45 155.765,47.2441 \"/>\n<polyline clip-path=\"url(#clip820)\" style=\"stroke:#000000; stroke-linecap:round; stroke-linejoin:round; stroke-width:4; stroke-opacity:1; fill:none\" points=\"155.765,1251.75 174.663,1251.75 \"/>\n<polyline clip-path=\"url(#clip820)\" style=\"stroke:#000000; stroke-linecap:round; stroke-linejoin:round; stroke-width:4; stroke-opacity:1; fill:none\" points=\"155.765,863.827 174.663,863.827 \"/>\n<polyline clip-path=\"url(#clip820)\" style=\"stroke:#000000; stroke-linecap:round; stroke-linejoin:round; stroke-width:4; stroke-opacity:1; fill:none\" points=\"155.765,475.902 174.663,475.902 \"/>\n<polyline clip-path=\"url(#clip820)\" style=\"stroke:#000000; stroke-linecap:round; stroke-linejoin:round; stroke-width:4; stroke-opacity:1; fill:none\" points=\"155.765,87.9763 174.663,87.9763 \"/>\n<path clip-path=\"url(#clip820)\" d=\"M56.6171 1265.1 L72.9365 1265.1 L72.9365 1269.03 L50.9921 1269.03 L50.9921 1265.1 Q53.6541 1262.34 58.2375 1257.71 Q62.8439 1253.06 64.0245 1251.72 Q66.2698 1249.2 67.1494 1247.46 Q68.0522 1245.7 68.0522 1244.01 Q68.0522 1241.26 66.1078 1239.52 Q64.1865 1237.78 61.0847 1237.78 Q58.8856 1237.78 56.4319 1238.55 Q54.0014 1239.31 51.2236 1240.86 L51.2236 1236.14 Q54.0477 1235.01 56.5014 1234.43 Q58.955 1233.85 60.9921 1233.85 Q66.3624 1233.85 69.5568 1236.53 Q72.7513 1239.22 72.7513 1243.71 Q72.7513 1245.84 71.9411 1247.76 Q71.1541 1249.66 69.0476 1252.25 Q68.4689 1252.92 65.367 1256.14 Q62.2652 1259.33 56.6171 1265.1 Z\" fill=\"#000000\" fill-rule=\"nonzero\" fill-opacity=\"1\" /><path clip-path=\"url(#clip820)\" d=\"M82.7512 1263.15 L87.6354 1263.15 L87.6354 1269.03 L82.7512 1269.03 L82.7512 1263.15 Z\" fill=\"#000000\" fill-rule=\"nonzero\" fill-opacity=\"1\" /><path clip-path=\"url(#clip820)\" d=\"M107.821 1237.55 Q104.209 1237.55 102.381 1241.12 Q100.575 1244.66 100.575 1251.79 Q100.575 1258.89 102.381 1262.46 Q104.209 1266 107.821 1266 Q111.455 1266 113.26 1262.46 Q115.089 1258.89 115.089 1251.79 Q115.089 1244.66 113.26 1241.12 Q111.455 1237.55 107.821 1237.55 M107.821 1233.85 Q113.631 1233.85 116.686 1238.45 Q119.765 1243.04 119.765 1251.79 Q119.765 1260.51 116.686 1265.12 Q113.631 1269.7 107.821 1269.7 Q102.01 1269.7 98.9317 1265.12 Q95.8761 1260.51 95.8761 1251.79 Q95.8761 1243.04 98.9317 1238.45 Q102.01 1233.85 107.821 1233.85 Z\" fill=\"#000000\" fill-rule=\"nonzero\" fill-opacity=\"1\" /><path clip-path=\"url(#clip820)\" d=\"M57.6125 877.172 L73.9318 877.172 L73.9318 881.107 L51.9875 881.107 L51.9875 877.172 Q54.6495 874.418 59.2328 869.788 Q63.8393 865.135 65.0198 863.793 Q67.2652 861.27 68.1448 859.533 Q69.0476 857.774 69.0476 856.084 Q69.0476 853.33 67.1032 851.594 Q65.1819 849.858 62.08 849.858 Q59.881 849.858 57.4273 850.621 Q54.9967 851.385 52.219 852.936 L52.219 848.214 Q55.043 847.08 57.4967 846.501 Q59.9504 845.922 61.9874 845.922 Q67.3578 845.922 70.5522 848.608 Q73.7466 851.293 73.7466 855.783 Q73.7466 857.913 72.9365 859.834 Q72.1494 861.732 70.0429 864.325 Q69.4642 864.996 66.3624 868.214 Q63.2606 871.408 57.6125 877.172 Z\" fill=\"#000000\" fill-rule=\"nonzero\" fill-opacity=\"1\" /><path clip-path=\"url(#clip820)\" d=\"M83.7466 875.228 L88.6308 875.228 L88.6308 881.107 L83.7466 881.107 L83.7466 875.228 Z\" fill=\"#000000\" fill-rule=\"nonzero\" fill-opacity=\"1\" /><path clip-path=\"url(#clip820)\" d=\"M98.8622 846.547 L117.219 846.547 L117.219 850.483 L103.145 850.483 L103.145 858.955 Q104.163 858.607 105.182 858.445 Q106.2 858.26 107.219 858.26 Q113.006 858.26 116.385 861.432 Q119.765 864.603 119.765 870.019 Q119.765 875.598 116.293 878.7 Q112.82 881.779 106.501 881.779 Q104.325 881.779 102.057 881.408 Q99.8113 881.038 97.4039 880.297 L97.4039 875.598 Q99.4872 876.732 101.709 877.288 Q103.932 877.843 106.408 877.843 Q110.413 877.843 112.751 875.737 Q115.089 873.631 115.089 870.019 Q115.089 866.408 112.751 864.302 Q110.413 862.195 106.408 862.195 Q104.534 862.195 102.659 862.612 Q100.807 863.029 98.8622 863.908 L98.8622 846.547 Z\" fill=\"#000000\" fill-rule=\"nonzero\" fill-opacity=\"1\" /><path clip-path=\"url(#clip820)\" d=\"M66.7559 474.548 Q70.1124 475.265 71.9874 477.534 Q73.8855 479.802 73.8855 483.136 Q73.8855 488.251 70.367 491.052 Q66.8485 493.853 60.3671 493.853 Q58.1912 493.853 55.8764 493.413 Q53.5847 492.997 51.131 492.14 L51.131 487.626 Q53.0754 488.761 55.3903 489.339 Q57.7051 489.918 60.2282 489.918 Q64.6263 489.918 66.918 488.182 Q69.2328 486.446 69.2328 483.136 Q69.2328 480.08 67.08 478.367 Q64.9504 476.631 61.131 476.631 L57.1032 476.631 L57.1032 472.788 L61.3161 472.788 Q64.7652 472.788 66.5939 471.423 Q68.4226 470.034 68.4226 467.441 Q68.4226 464.779 66.5245 463.367 Q64.6495 461.932 61.131 461.932 Q59.2097 461.932 57.0106 462.349 Q54.8115 462.765 52.1727 463.645 L52.1727 459.478 Q54.8347 458.738 57.1495 458.367 Q59.4875 457.997 61.5476 457.997 Q66.8717 457.997 69.9735 460.427 Q73.0753 462.835 73.0753 466.955 Q73.0753 469.825 71.4318 471.816 Q69.7883 473.784 66.7559 474.548 Z\" fill=\"#000000\" fill-rule=\"nonzero\" fill-opacity=\"1\" /><path clip-path=\"url(#clip820)\" d=\"M82.7512 487.302 L87.6354 487.302 L87.6354 493.182 L82.7512 493.182 L82.7512 487.302 Z\" fill=\"#000000\" fill-rule=\"nonzero\" fill-opacity=\"1\" /><path clip-path=\"url(#clip820)\" d=\"M107.821 461.701 Q104.209 461.701 102.381 465.265 Q100.575 468.807 100.575 475.937 Q100.575 483.043 102.381 486.608 Q104.209 490.149 107.821 490.149 Q111.455 490.149 113.26 486.608 Q115.089 483.043 115.089 475.937 Q115.089 468.807 113.26 465.265 Q111.455 461.701 107.821 461.701 M107.821 457.997 Q113.631 457.997 116.686 462.603 Q119.765 467.187 119.765 475.937 Q119.765 484.663 116.686 489.27 Q113.631 493.853 107.821 493.853 Q102.01 493.853 98.9317 489.27 Q95.8761 484.663 95.8761 475.937 Q95.8761 467.187 98.9317 462.603 Q102.01 457.997 107.821 457.997 Z\" fill=\"#000000\" fill-rule=\"nonzero\" fill-opacity=\"1\" /><path clip-path=\"url(#clip820)\" d=\"M67.7513 86.6221 Q71.1078 87.3397 72.9827 89.6082 Q74.8809 91.8767 74.8809 95.21 Q74.8809 100.326 71.3624 103.127 Q67.8439 105.928 61.3624 105.928 Q59.1865 105.928 56.8717 105.488 Q54.5801 105.071 52.1264 104.215 L52.1264 99.7008 Q54.0708 100.835 56.3856 101.414 Q58.7004 101.992 61.2236 101.992 Q65.6217 101.992 67.9133 100.256 Q70.2281 98.5202 70.2281 95.21 Q70.2281 92.1545 68.0754 90.4415 Q65.9457 88.7054 62.1263 88.7054 L58.0986 88.7054 L58.0986 84.8629 L62.3115 84.8629 Q65.7606 84.8629 67.5893 83.4971 Q69.418 82.1083 69.418 79.5157 Q69.418 76.8537 67.5198 75.4416 Q65.6448 74.0064 62.1263 74.0064 Q60.205 74.0064 58.006 74.4231 Q55.8069 74.8398 53.168 75.7194 L53.168 71.5528 Q55.8301 70.812 58.1449 70.4416 Q60.4828 70.0713 62.543 70.0713 Q67.867 70.0713 70.9689 72.5018 Q74.0707 74.9092 74.0707 79.0296 Q74.0707 81.8999 72.4272 83.8907 Q70.7837 85.8582 67.7513 86.6221 Z\" fill=\"#000000\" fill-rule=\"nonzero\" fill-opacity=\"1\" /><path clip-path=\"url(#clip820)\" d=\"M83.7466 99.3767 L88.6308 99.3767 L88.6308 105.256 L83.7466 105.256 L83.7466 99.3767 Z\" fill=\"#000000\" fill-rule=\"nonzero\" fill-opacity=\"1\" /><path clip-path=\"url(#clip820)\" d=\"M98.8622 70.6963 L117.219 70.6963 L117.219 74.6314 L103.145 74.6314 L103.145 83.1036 Q104.163 82.7564 105.182 82.5944 Q106.2 82.4092 107.219 82.4092 Q113.006 82.4092 116.385 85.5805 Q119.765 88.7517 119.765 94.1684 Q119.765 99.747 116.293 102.849 Q112.82 105.928 106.501 105.928 Q104.325 105.928 102.057 105.557 Q99.8113 105.187 97.4039 104.446 L97.4039 99.747 Q99.4872 100.881 101.709 101.437 Q103.932 101.992 106.408 101.992 Q110.413 101.992 112.751 99.8859 Q115.089 97.7795 115.089 94.1684 Q115.089 90.5573 112.751 88.4508 Q110.413 86.3443 106.408 86.3443 Q104.534 86.3443 102.659 86.761 Q100.807 87.1777 98.8622 88.0573 L98.8622 70.6963 Z\" fill=\"#000000\" fill-rule=\"nonzero\" fill-opacity=\"1\" /><polyline clip-path=\"url(#clip822)\" style=\"stroke:#009af9; stroke-linecap:round; stroke-linejoin:round; stroke-width:4; stroke-opacity:1; fill:none\" points=\"217.944,87.9763 247.553,107.373 277.162,126.769 306.771,146.165 336.38,165.561 365.989,184.958 395.598,204.354 425.207,223.75 454.816,243.146 484.425,262.543 514.034,281.939 543.643,301.335 573.252,320.732 602.861,340.128 632.47,359.524 662.08,378.92 691.689,398.317 721.298,417.713 750.907,437.109 780.516,456.506 810.125,475.902 839.734,495.298 869.343,514.694 898.952,534.091 928.561,553.487 958.17,572.883 987.779,592.279 1017.39,611.676 1047,631.072 1076.61,650.468 1106.22,669.865 1135.82,689.261 1165.43,708.657 1195.04,728.053 1224.65,747.45 1254.26,766.846 1283.87,786.242 1313.48,805.639 1343.09,825.035 1372.7,844.431 1402.31,863.827 1431.91,883.224 1461.52,902.62 1491.13,922.016 1520.74,941.412 1550.35,960.809 1579.96,980.205 1609.57,999.601 1639.18,1019 1668.79,1038.39 1698.4,1057.79 1728.01,1077.19 1757.61,1096.58 1787.22,1115.98 1816.83,1135.38 1846.44,1154.77 1876.05,1174.17 1905.66,1193.56 1935.27,1212.96 1964.88,1232.36 1994.49,1251.75 2024.1,1271.15 2053.7,1290.55 2083.31,1309.94 2112.92,1329.34 2142.53,1348.73 2172.14,1368.13 2201.75,1387.53 2231.36,1406.92 2260.97,1426.32 2290.58,1445.72 \"/>\n<path clip-path=\"url(#clip820)\" d=\"M2007.39 198.898 L2279.52 198.898 L2279.52 95.2176 L2007.39 95.2176  Z\" fill=\"#ffffff\" fill-rule=\"evenodd\" fill-opacity=\"1\"/>\n<polyline clip-path=\"url(#clip820)\" style=\"stroke:#000000; stroke-linecap:round; stroke-linejoin:round; stroke-width:4; stroke-opacity:1; fill:none\" points=\"2007.39,198.898 2279.52,198.898 2279.52,95.2176 2007.39,95.2176 2007.39,198.898 \"/>\n<polyline clip-path=\"url(#clip820)\" style=\"stroke:#009af9; stroke-linecap:round; stroke-linejoin:round; stroke-width:4; stroke-opacity:1; fill:none\" points=\"2031.8,147.058 2178.27,147.058 \"/>\n<path clip-path=\"url(#clip820)\" d=\"M2216.52 166.745 Q2214.72 171.375 2213.01 172.787 Q2211.29 174.199 2208.42 174.199 L2205.02 174.199 L2205.02 170.634 L2207.52 170.634 Q2209.28 170.634 2210.25 169.8 Q2211.22 168.967 2212.4 165.865 L2213.17 163.921 L2202.68 138.412 L2207.2 138.412 L2215.3 158.689 L2223.4 138.412 L2227.91 138.412 L2216.52 166.745 Z\" fill=\"#000000\" fill-rule=\"nonzero\" fill-opacity=\"1\" /><path clip-path=\"url(#clip820)\" d=\"M2235.2 160.402 L2242.84 160.402 L2242.84 134.037 L2234.53 135.703 L2234.53 131.444 L2242.8 129.778 L2247.47 129.778 L2247.47 160.402 L2255.11 160.402 L2255.11 164.338 L2235.2 164.338 L2235.2 160.402 Z\" fill=\"#000000\" fill-rule=\"nonzero\" fill-opacity=\"1\" /></svg>\n"
          },
          "metadata": {}
        }
      ],
      "execution_count": 7,
      "metadata": {
        "collapsed": true,
        "jupyter": {
          "source_hidden": false,
          "outputs_hidden": false
        },
        "nteract": {
          "transient": {
            "deleting": false
          }
        },
        "execution": {
          "iopub.status.busy": "2023-10-31T23:48:45.116Z",
          "iopub.execute_input": "2023-10-31T23:48:45.532Z",
          "iopub.status.idle": "2023-10-31T23:48:50.073Z"
        }
      }
    },
    {
      "cell_type": "code",
      "source": [
        "## 1(B) LEAST SQUARES FOR A CUBIC POLYNOMIAL\n",
        "X = [0; 1; 2; 3; 4; 5; 6; 7]\n",
        "Y = [4.0; 3.1; 2.8; 2.5; 2.3; 2.2; 2.1; 2.0]\n",
        "A = [0 1; 1 1; 2 1; 3 1; 4 1; 5 1; 6 1; 7 1]\n",
        "A =[X.^3 X.^2 X ones(8,1)]\n",
        "z=(A'A)\\(A'Y)\n",
        "a=z[1]\n",
        "b=z[2]\n",
        "c=z[3]\n",
        "d=z[4]\n",
        "function g(x)\n",
        "  return a*x^3+b*x^2+c*x+d\n",
        "end\n",
        "t=0:.1:7\n",
        "plot!(t,g.(t))"
      ],
      "outputs": [
        {
          "output_type": "execute_result",
          "execution_count": 9,
          "data": {
            "image/png": "[encoded data removed]",
            "text/html": "<?xml version=\"1.0\" encoding=\"utf-8\"?>\n<svg xmlns=\"http://www.w3.org/2000/svg\" xmlns:xlink=\"http://www.w3.org/1999/xlink\" width=\"600\" height=\"400\" viewBox=\"0 0 2400 1600\">\n<defs>\n  <clipPath id=\"clip050\">\n    <rect x=\"0\" y=\"0\" width=\"2400\" height=\"1600\"/>\n  </clipPath>\n</defs>\n<path clip-path=\"url(#clip050)\" d=\"M0 1600 L2400 1600 L2400 0 L0 0  Z\" fill=\"#ffffff\" fill-rule=\"evenodd\" fill-opacity=\"1\"/>\n<defs>\n  <clipPath id=\"clip051\">\n    <rect x=\"480\" y=\"0\" width=\"1681\" height=\"1600\"/>\n  </clipPath>\n</defs>\n<path clip-path=\"url(#clip050)\" d=\"M156.922 1486.45 L2352.76 1486.45 L2352.76 47.2441 L156.922 47.2441  Z\" fill=\"#ffffff\" fill-rule=\"evenodd\" fill-opacity=\"1\"/>\n<defs>\n  <clipPath id=\"clip052\">\n    <rect x=\"156\" y=\"47\" width=\"2197\" height=\"1440\"/>\n  </clipPath>\n</defs>\n<polyline clip-path=\"url(#clip052)\" style=\"stroke:#000000; stroke-linecap:round; stroke-linejoin:round; stroke-width:2; stroke-opacity:0.1; fill:none\" points=\"219.069,1486.45 219.069,47.2441 \"/>\n<polyline clip-path=\"url(#clip052)\" style=\"stroke:#000000; stroke-linecap:round; stroke-linejoin:round; stroke-width:2; stroke-opacity:0.1; fill:none\" points=\"810.937,1486.45 810.937,47.2441 \"/>\n<polyline clip-path=\"url(#clip052)\" style=\"stroke:#000000; stroke-linecap:round; stroke-linejoin:round; stroke-width:2; stroke-opacity:0.1; fill:none\" points=\"1402.81,1486.45 1402.81,47.2441 \"/>\n<polyline clip-path=\"url(#clip052)\" style=\"stroke:#000000; stroke-linecap:round; stroke-linejoin:round; stroke-width:2; stroke-opacity:0.1; fill:none\" points=\"1994.68,1486.45 1994.68,47.2441 \"/>\n<polyline clip-path=\"url(#clip050)\" style=\"stroke:#000000; stroke-linecap:round; stroke-linejoin:round; stroke-width:4; stroke-opacity:1; fill:none\" points=\"156.922,1486.45 2352.76,1486.45 \"/>\n<polyline clip-path=\"url(#clip050)\" style=\"stroke:#000000; stroke-linecap:round; stroke-linejoin:round; stroke-width:4; stroke-opacity:1; fill:none\" points=\"219.069,1486.45 219.069,1467.55 \"/>\n<polyline clip-path=\"url(#clip050)\" style=\"stroke:#000000; stroke-linecap:round; stroke-linejoin:round; stroke-width:4; stroke-opacity:1; fill:none\" points=\"810.937,1486.45 810.937,1467.55 \"/>\n<polyline clip-path=\"url(#clip050)\" style=\"stroke:#000000; stroke-linecap:round; stroke-linejoin:round; stroke-width:4; stroke-opacity:1; fill:none\" points=\"1402.81,1486.45 1402.81,1467.55 \"/>\n<polyline clip-path=\"url(#clip050)\" style=\"stroke:#000000; stroke-linecap:round; stroke-linejoin:round; stroke-width:4; stroke-opacity:1; fill:none\" points=\"1994.68,1486.45 1994.68,1467.55 \"/>\n<path clip-path=\"url(#clip050)\" d=\"M219.069 1517.37 Q215.457 1517.37 213.629 1520.93 Q211.823 1524.47 211.823 1531.6 Q211.823 1538.71 213.629 1542.27 Q215.457 1545.82 219.069 1545.82 Q222.703 1545.82 224.508 1542.27 Q226.337 1538.71 226.337 1531.6 Q226.337 1524.47 224.508 1520.93 Q222.703 1517.37 219.069 1517.37 M219.069 1513.66 Q224.879 1513.66 227.934 1518.27 Q231.013 1522.85 231.013 1531.6 Q231.013 1540.33 227.934 1544.94 Q224.879 1549.52 219.069 1549.52 Q213.258 1549.52 210.18 1544.94 Q207.124 1540.33 207.124 1531.6 Q207.124 1522.85 210.18 1518.27 Q213.258 1513.66 219.069 1513.66 Z\" fill=\"#000000\" fill-rule=\"nonzero\" fill-opacity=\"1\" /><path clip-path=\"url(#clip050)\" d=\"M805.59 1544.91 L821.91 1544.91 L821.91 1548.85 L799.965 1548.85 L799.965 1544.91 Q802.627 1542.16 807.211 1537.53 Q811.817 1532.88 812.998 1531.53 Q815.243 1529.01 816.123 1527.27 Q817.025 1525.51 817.025 1523.82 Q817.025 1521.07 815.081 1519.33 Q813.16 1517.6 810.058 1517.6 Q807.859 1517.6 805.405 1518.36 Q802.975 1519.13 800.197 1520.68 L800.197 1515.95 Q803.021 1514.82 805.475 1514.24 Q807.928 1513.66 809.965 1513.66 Q815.336 1513.66 818.53 1516.35 Q821.724 1519.03 821.724 1523.52 Q821.724 1525.65 820.914 1527.57 Q820.127 1529.47 818.021 1532.07 Q817.442 1532.74 814.34 1535.95 Q811.238 1539.15 805.59 1544.91 Z\" fill=\"#000000\" fill-rule=\"nonzero\" fill-opacity=\"1\" /><path clip-path=\"url(#clip050)\" d=\"M1405.82 1518.36 L1394.01 1536.81 L1405.82 1536.81 L1405.82 1518.36 M1404.59 1514.29 L1410.47 1514.29 L1410.47 1536.81 L1415.4 1536.81 L1415.4 1540.7 L1410.47 1540.7 L1410.47 1548.85 L1405.82 1548.85 L1405.82 1540.7 L1390.21 1540.7 L1390.21 1536.19 L1404.59 1514.29 Z\" fill=\"#000000\" fill-rule=\"nonzero\" fill-opacity=\"1\" /><path clip-path=\"url(#clip050)\" d=\"M1995.08 1529.7 Q1991.93 1529.7 1990.08 1531.86 Q1988.25 1534.01 1988.25 1537.76 Q1988.25 1541.49 1990.08 1543.66 Q1991.93 1545.82 1995.08 1545.82 Q1998.23 1545.82 2000.06 1543.66 Q2001.91 1541.49 2001.91 1537.76 Q2001.91 1534.01 2000.06 1531.86 Q1998.23 1529.7 1995.08 1529.7 M2004.36 1515.05 L2004.36 1519.31 Q2002.6 1518.48 2000.8 1518.04 Q1999.02 1517.6 1997.26 1517.6 Q1992.63 1517.6 1990.17 1520.72 Q1987.74 1523.85 1987.4 1530.17 Q1988.76 1528.15 1990.82 1527.09 Q1992.88 1526 1995.36 1526 Q2000.57 1526 2003.58 1529.17 Q2006.61 1532.32 2006.61 1537.76 Q2006.61 1543.08 2003.46 1546.3 Q2000.31 1549.52 1995.08 1549.52 Q1989.08 1549.52 1985.91 1544.94 Q1982.74 1540.33 1982.74 1531.6 Q1982.74 1523.41 1986.63 1518.55 Q1990.52 1513.66 1997.07 1513.66 Q1998.83 1513.66 2000.61 1514.01 Q2002.42 1514.36 2004.36 1515.05 Z\" fill=\"#000000\" fill-rule=\"nonzero\" fill-opacity=\"1\" /><polyline clip-path=\"url(#clip052)\" style=\"stroke:#000000; stroke-linecap:round; stroke-linejoin:round; stroke-width:2; stroke-opacity:0.1; fill:none\" points=\"156.922,1291.64 2352.76,1291.64 \"/>\n<polyline clip-path=\"url(#clip052)\" style=\"stroke:#000000; stroke-linecap:round; stroke-linejoin:round; stroke-width:2; stroke-opacity:0.1; fill:none\" points=\"156.922,983.487 2352.76,983.487 \"/>\n<polyline clip-path=\"url(#clip052)\" style=\"stroke:#000000; stroke-linecap:round; stroke-linejoin:round; stroke-width:2; stroke-opacity:0.1; fill:none\" points=\"156.922,675.334 2352.76,675.334 \"/>\n<polyline clip-path=\"url(#clip052)\" style=\"stroke:#000000; stroke-linecap:round; stroke-linejoin:round; stroke-width:2; stroke-opacity:0.1; fill:none\" points=\"156.922,367.181 2352.76,367.181 \"/>\n<polyline clip-path=\"url(#clip052)\" style=\"stroke:#000000; stroke-linecap:round; stroke-linejoin:round; stroke-width:2; stroke-opacity:0.1; fill:none\" points=\"156.922,59.0286 2352.76,59.0286 \"/>\n<polyline clip-path=\"url(#clip050)\" style=\"stroke:#000000; stroke-linecap:round; stroke-linejoin:round; stroke-width:4; stroke-opacity:1; fill:none\" points=\"156.922,1486.45 156.922,47.2441 \"/>\n<polyline clip-path=\"url(#clip050)\" style=\"stroke:#000000; stroke-linecap:round; stroke-linejoin:round; stroke-width:4; stroke-opacity:1; fill:none\" points=\"156.922,1291.64 175.82,1291.64 \"/>\n<polyline clip-path=\"url(#clip050)\" style=\"stroke:#000000; stroke-linecap:round; stroke-linejoin:round; stroke-width:4; stroke-opacity:1; fill:none\" points=\"156.922,983.487 175.82,983.487 \"/>\n<polyline clip-path=\"url(#clip050)\" style=\"stroke:#000000; stroke-linecap:round; stroke-linejoin:round; stroke-width:4; stroke-opacity:1; fill:none\" points=\"156.922,675.334 175.82,675.334 \"/>\n<polyline clip-path=\"url(#clip050)\" style=\"stroke:#000000; stroke-linecap:round; stroke-linejoin:round; stroke-width:4; stroke-opacity:1; fill:none\" points=\"156.922,367.181 175.82,367.181 \"/>\n<polyline clip-path=\"url(#clip050)\" style=\"stroke:#000000; stroke-linecap:round; stroke-linejoin:round; stroke-width:4; stroke-opacity:1; fill:none\" points=\"156.922,59.0286 175.82,59.0286 \"/>\n<path clip-path=\"url(#clip050)\" d=\"M57.7745 1304.98 L74.0939 1304.98 L74.0939 1308.92 L52.1495 1308.92 L52.1495 1304.98 Q54.8115 1302.23 59.3949 1297.6 Q64.0013 1292.95 65.1819 1291.6 Q67.4272 1289.08 68.3068 1287.35 Q69.2096 1285.59 69.2096 1283.9 Q69.2096 1281.14 67.2652 1279.41 Q65.3439 1277.67 62.2421 1277.67 Q60.043 1277.67 57.5893 1278.43 Q55.1588 1279.2 52.381 1280.75 L52.381 1276.03 Q55.2051 1274.89 57.6588 1274.31 Q60.1124 1273.73 62.1495 1273.73 Q67.5198 1273.73 70.7142 1276.42 Q73.9087 1279.1 73.9087 1283.6 Q73.9087 1285.73 73.0985 1287.65 Q72.3115 1289.54 70.205 1292.14 Q69.6263 1292.81 66.5245 1296.03 Q63.4226 1299.22 57.7745 1304.98 Z\" fill=\"#000000\" fill-rule=\"nonzero\" fill-opacity=\"1\" /><path clip-path=\"url(#clip050)\" d=\"M83.9086 1303.04 L88.7928 1303.04 L88.7928 1308.92 L83.9086 1308.92 L83.9086 1303.04 Z\" fill=\"#000000\" fill-rule=\"nonzero\" fill-opacity=\"1\" /><path clip-path=\"url(#clip050)\" d=\"M108.978 1277.44 Q105.367 1277.44 103.538 1281 Q101.733 1284.54 101.733 1291.67 Q101.733 1298.78 103.538 1302.35 Q105.367 1305.89 108.978 1305.89 Q112.612 1305.89 114.418 1302.35 Q116.246 1298.78 116.246 1291.67 Q116.246 1284.54 114.418 1281 Q112.612 1277.44 108.978 1277.44 M108.978 1273.73 Q114.788 1273.73 117.844 1278.34 Q120.922 1282.92 120.922 1291.67 Q120.922 1300.4 117.844 1305.01 Q114.788 1309.59 108.978 1309.59 Q103.168 1309.59 100.089 1305.01 Q97.0335 1300.4 97.0335 1291.67 Q97.0335 1282.92 100.089 1278.34 Q103.168 1273.73 108.978 1273.73 Z\" fill=\"#000000\" fill-rule=\"nonzero\" fill-opacity=\"1\" /><path clip-path=\"url(#clip050)\" d=\"M58.7699 996.831 L75.0892 996.831 L75.0892 1000.77 L53.1449 1000.77 L53.1449 996.831 Q55.8069 994.077 60.3902 989.447 Q64.9967 984.795 66.1772 983.452 Q68.4226 980.929 69.3022 979.193 Q70.205 977.433 70.205 975.744 Q70.205 972.989 68.2606 971.253 Q66.3393 969.517 63.2374 969.517 Q61.0384 969.517 58.5847 970.281 Q56.1541 971.045 53.3764 972.596 L53.3764 967.873 Q56.2004 966.739 58.6541 966.16 Q61.1078 965.582 63.1448 965.582 Q68.5152 965.582 71.7096 968.267 Q74.904 970.952 74.904 975.443 Q74.904 977.572 74.0939 979.494 Q73.3068 981.392 71.2004 983.984 Q70.6217 984.656 67.5198 987.873 Q64.418 991.068 58.7699 996.831 Z\" fill=\"#000000\" fill-rule=\"nonzero\" fill-opacity=\"1\" /><path clip-path=\"url(#clip050)\" d=\"M84.904 994.887 L89.7882 994.887 L89.7882 1000.77 L84.904 1000.77 L84.904 994.887 Z\" fill=\"#000000\" fill-rule=\"nonzero\" fill-opacity=\"1\" /><path clip-path=\"url(#clip050)\" d=\"M100.02 966.207 L118.376 966.207 L118.376 970.142 L104.302 970.142 L104.302 978.614 Q105.321 978.267 106.339 978.105 Q107.358 977.92 108.376 977.92 Q114.163 977.92 117.543 981.091 Q120.922 984.262 120.922 989.679 Q120.922 995.257 117.45 998.359 Q113.978 1001.44 107.658 1001.44 Q105.483 1001.44 103.214 1001.07 Q100.969 1000.7 98.5613 999.956 L98.5613 995.257 Q100.645 996.392 102.867 996.947 Q105.089 997.503 107.566 997.503 Q111.571 997.503 113.908 995.396 Q116.246 993.29 116.246 989.679 Q116.246 986.068 113.908 983.961 Q111.571 981.855 107.566 981.855 Q105.691 981.855 103.816 982.271 Q101.964 982.688 100.02 983.568 L100.02 966.207 Z\" fill=\"#000000\" fill-rule=\"nonzero\" fill-opacity=\"1\" /><path clip-path=\"url(#clip050)\" d=\"M67.9133 673.98 Q71.2698 674.697 73.1448 676.966 Q75.0429 679.234 75.0429 682.568 Q75.0429 687.683 71.5244 690.484 Q68.0059 693.285 61.5245 693.285 Q59.3486 693.285 57.0338 692.845 Q54.7421 692.429 52.2884 691.572 L52.2884 687.058 Q54.2328 688.193 56.5477 688.771 Q58.8625 689.35 61.3856 689.35 Q65.7837 689.35 68.0754 687.614 Q70.3902 685.878 70.3902 682.568 Q70.3902 679.512 68.2374 677.799 Q66.1078 676.063 62.2884 676.063 L58.2606 676.063 L58.2606 672.221 L62.4735 672.221 Q65.9226 672.221 67.7513 670.855 Q69.58 669.466 69.58 666.873 Q69.58 664.211 67.6819 662.799 Q65.8069 661.364 62.2884 661.364 Q60.3671 661.364 58.168 661.781 Q55.969 662.197 53.3301 663.077 L53.3301 658.91 Q55.9921 658.17 58.3069 657.799 Q60.6449 657.429 62.705 657.429 Q68.0291 657.429 71.1309 659.86 Q74.2327 662.267 74.2327 666.387 Q74.2327 669.258 72.5892 671.248 Q70.9457 673.216 67.9133 673.98 Z\" fill=\"#000000\" fill-rule=\"nonzero\" fill-opacity=\"1\" /><path clip-path=\"url(#clip050)\" d=\"M83.9086 686.734 L88.7928 686.734 L88.7928 692.614 L83.9086 692.614 L83.9086 686.734 Z\" fill=\"#000000\" fill-rule=\"nonzero\" fill-opacity=\"1\" /><path clip-path=\"url(#clip050)\" d=\"M108.978 661.133 Q105.367 661.133 103.538 664.697 Q101.733 668.239 101.733 675.369 Q101.733 682.475 103.538 686.04 Q105.367 689.582 108.978 689.582 Q112.612 689.582 114.418 686.04 Q116.246 682.475 116.246 675.369 Q116.246 668.239 114.418 664.697 Q112.612 661.133 108.978 661.133 M108.978 657.429 Q114.788 657.429 117.844 662.035 Q120.922 666.619 120.922 675.369 Q120.922 684.096 117.844 688.702 Q114.788 693.285 108.978 693.285 Q103.168 693.285 100.089 688.702 Q97.0335 684.096 97.0335 675.369 Q97.0335 666.619 100.089 662.035 Q103.168 657.429 108.978 657.429 Z\" fill=\"#000000\" fill-rule=\"nonzero\" fill-opacity=\"1\" /><path clip-path=\"url(#clip050)\" d=\"M68.9087 365.827 Q72.2652 366.545 74.1402 368.813 Q76.0383 371.082 76.0383 374.415 Q76.0383 379.531 72.5198 382.332 Q69.0013 385.133 62.5198 385.133 Q60.3439 385.133 58.0291 384.693 Q55.7375 384.276 53.2838 383.42 L53.2838 378.906 Q55.2282 380.04 57.543 380.619 Q59.8578 381.197 62.381 381.197 Q66.7791 381.197 69.0707 379.461 Q71.3855 377.725 71.3855 374.415 Q71.3855 371.36 69.2328 369.647 Q67.1032 367.91 63.2837 367.91 L59.256 367.91 L59.256 364.068 L63.4689 364.068 Q66.918 364.068 68.7467 362.702 Q70.5754 361.313 70.5754 358.721 Q70.5754 356.059 68.6772 354.647 Q66.8022 353.211 63.2837 353.211 Q61.3624 353.211 59.1634 353.628 Q56.9643 354.045 54.3254 354.924 L54.3254 350.758 Q56.9875 350.017 59.3023 349.647 Q61.6402 349.276 63.7004 349.276 Q69.0244 349.276 72.1263 351.707 Q75.2281 354.114 75.2281 358.235 Q75.2281 361.105 73.5846 363.096 Q71.9411 365.063 68.9087 365.827 Z\" fill=\"#000000\" fill-rule=\"nonzero\" fill-opacity=\"1\" /><path clip-path=\"url(#clip050)\" d=\"M84.904 378.582 L89.7882 378.582 L89.7882 384.461 L84.904 384.461 L84.904 378.582 Z\" fill=\"#000000\" fill-rule=\"nonzero\" fill-opacity=\"1\" /><path clip-path=\"url(#clip050)\" d=\"M100.02 349.901 L118.376 349.901 L118.376 353.836 L104.302 353.836 L104.302 362.309 Q105.321 361.961 106.339 361.799 Q107.358 361.614 108.376 361.614 Q114.163 361.614 117.543 364.785 Q120.922 367.957 120.922 373.373 Q120.922 378.952 117.45 382.054 Q113.978 385.133 107.658 385.133 Q105.483 385.133 103.214 384.762 Q100.969 384.392 98.5613 383.651 L98.5613 378.952 Q100.645 380.086 102.867 380.642 Q105.089 381.197 107.566 381.197 Q111.571 381.197 113.908 379.091 Q116.246 376.984 116.246 373.373 Q116.246 369.762 113.908 367.656 Q111.571 365.549 107.566 365.549 Q105.691 365.549 103.816 365.966 Q101.964 366.383 100.02 367.262 L100.02 349.901 Z\" fill=\"#000000\" fill-rule=\"nonzero\" fill-opacity=\"1\" /><path clip-path=\"url(#clip050)\" d=\"M66.5939 45.8227 L54.7884 64.2716 L66.5939 64.2716 L66.5939 45.8227 M65.367 41.7486 L71.2466 41.7486 L71.2466 64.2716 L76.1772 64.2716 L76.1772 68.1605 L71.2466 68.1605 L71.2466 76.3086 L66.5939 76.3086 L66.5939 68.1605 L50.9921 68.1605 L50.9921 63.6466 L65.367 41.7486 Z\" fill=\"#000000\" fill-rule=\"nonzero\" fill-opacity=\"1\" /><path clip-path=\"url(#clip050)\" d=\"M83.9086 70.429 L88.7928 70.429 L88.7928 76.3086 L83.9086 76.3086 L83.9086 70.429 Z\" fill=\"#000000\" fill-rule=\"nonzero\" fill-opacity=\"1\" /><path clip-path=\"url(#clip050)\" d=\"M108.978 44.8273 Q105.367 44.8273 103.538 48.3921 Q101.733 51.9337 101.733 59.0633 Q101.733 66.1698 103.538 69.7346 Q105.367 73.2762 108.978 73.2762 Q112.612 73.2762 114.418 69.7346 Q116.246 66.1698 116.246 59.0633 Q116.246 51.9337 114.418 48.3921 Q112.612 44.8273 108.978 44.8273 M108.978 41.1236 Q114.788 41.1236 117.844 45.7301 Q120.922 50.3134 120.922 59.0633 Q120.922 67.7901 117.844 72.3966 Q114.788 76.9799 108.978 76.9799 Q103.168 76.9799 100.089 72.3966 Q97.0335 67.7901 97.0335 59.0633 Q97.0335 50.3134 100.089 45.7301 Q103.168 41.1236 108.978 41.1236 Z\" fill=\"#000000\" fill-rule=\"nonzero\" fill-opacity=\"1\" /><polyline clip-path=\"url(#clip052)\" style=\"stroke:#009af9; stroke-linecap:round; stroke-linejoin:round; stroke-width:4; stroke-opacity:1; fill:none\" points=\"219.069,367.181 248.662,382.589 278.255,397.997 307.849,413.404 337.442,428.812 367.036,444.219 396.629,459.627 426.223,475.035 455.816,490.442 485.41,505.85 515.003,521.258 544.596,536.665 574.19,552.073 603.783,567.481 633.377,582.888 662.97,598.296 692.564,613.703 722.157,629.111 751.751,644.519 781.344,659.926 810.937,675.334 840.531,690.742 870.124,706.149 899.718,721.557 929.311,736.965 958.905,752.372 988.498,767.78 1018.09,783.187 1047.68,798.595 1077.28,814.003 1106.87,829.41 1136.47,844.818 1166.06,860.226 1195.65,875.633 1225.25,891.041 1254.84,906.448 1284.43,921.856 1314.03,937.264 1343.62,952.671 1373.21,968.079 1402.81,983.487 1432.4,998.894 1461.99,1014.3 1491.59,1029.71 1521.18,1045.12 1550.77,1060.52 1580.37,1075.93 1609.96,1091.34 1639.55,1106.75 1669.15,1122.16 1698.74,1137.56 1728.33,1152.97 1757.93,1168.38 1787.52,1183.79 1817.11,1199.19 1846.71,1214.6 1876.3,1230.01 1905.89,1245.42 1935.49,1260.82 1965.08,1276.23 1994.68,1291.64 2024.27,1307.05 2053.86,1322.45 2083.46,1337.86 2113.05,1353.27 2142.64,1368.68 2172.24,1384.09 2201.83,1399.49 2231.42,1414.9 2261.02,1430.31 2290.61,1445.72 \"/>\n<polyline clip-path=\"url(#clip052)\" style=\"stroke:#e26f46; stroke-linecap:round; stroke-linejoin:round; stroke-width:4; stroke-opacity:1; fill:none\" points=\"219.069,87.9763 248.662,141.436 278.255,192.961 307.849,242.589 337.442,290.361 367.036,336.316 396.629,380.492 426.223,422.93 455.816,463.667 485.41,502.745 515.003,540.2 544.596,576.074 574.19,610.405 603.783,643.232 633.377,674.594 662.97,704.532 692.564,733.083 722.157,760.288 751.751,786.185 781.344,810.813 810.937,834.213 840.531,856.422 870.124,877.481 899.718,897.428 929.311,916.304 958.905,934.146 988.498,950.994 1018.09,966.887 1047.68,981.866 1077.28,995.968 1106.87,1009.23 1136.47,1021.7 1166.06,1033.41 1195.65,1044.4 1225.25,1054.71 1254.84,1064.38 1284.43,1073.44 1314.03,1081.95 1343.62,1089.93 1373.21,1097.43 1402.81,1104.48 1432.4,1111.13 1461.99,1117.41 1491.59,1123.36 1521.18,1129.03 1550.77,1134.44 1580.37,1139.65 1609.96,1144.69 1639.55,1149.6 1669.15,1154.41 1698.74,1159.17 1728.33,1163.92 1757.93,1168.7 1787.52,1173.54 1817.11,1178.48 1846.71,1183.57 1876.3,1188.84 1905.89,1194.33 1935.49,1200.09 1965.08,1206.14 1994.68,1212.53 2024.27,1219.31 2053.86,1226.5 2083.46,1234.14 2113.05,1242.29 2142.64,1250.97 2172.24,1260.22 2201.83,1270.09 2231.42,1280.62 2261.02,1291.83 2290.61,1303.78 \"/>\n<polyline clip-path=\"url(#clip052)\" style=\"stroke:#3da44d; stroke-linecap:round; stroke-linejoin:round; stroke-width:4; stroke-opacity:1; fill:none\" points=\"219.069,87.9763 248.662,141.436 278.255,192.961 307.849,242.589 337.442,290.361 367.036,336.316 396.629,380.492 426.223,422.93 455.816,463.667 485.41,502.745 515.003,540.2 544.596,576.074 574.19,610.405 603.783,643.232 633.377,674.594 662.97,704.532 692.564,733.083 722.157,760.288 751.751,786.185 781.344,810.813 810.937,834.213 840.531,856.422 870.124,877.481 899.718,897.428 929.311,916.304 958.905,934.146 988.498,950.994 1018.09,966.887 1047.68,981.866 1077.28,995.968 1106.87,1009.23 1136.47,1021.7 1166.06,1033.41 1195.65,1044.4 1225.25,1054.71 1254.84,1064.38 1284.43,1073.44 1314.03,1081.95 1343.62,1089.93 1373.21,1097.43 1402.81,1104.48 1432.4,1111.13 1461.99,1117.41 1491.59,1123.36 1521.18,1129.03 1550.77,1134.44 1580.37,1139.65 1609.96,1144.69 1639.55,1149.6 1669.15,1154.41 1698.74,1159.17 1728.33,1163.92 1757.93,1168.7 1787.52,1173.54 1817.11,1178.48 1846.71,1183.57 1876.3,1188.84 1905.89,1194.33 1935.49,1200.09 1965.08,1206.14 1994.68,1212.53 2024.27,1219.31 2053.86,1226.5 2083.46,1234.14 2113.05,1242.29 2142.64,1250.97 2172.24,1260.22 2201.83,1270.09 2231.42,1280.62 2261.02,1291.83 2290.61,1303.78 \"/>\n<path clip-path=\"url(#clip050)\" d=\"M2006.97 302.578 L2279.56 302.578 L2279.56 95.2176 L2006.97 95.2176  Z\" fill=\"#ffffff\" fill-rule=\"evenodd\" fill-opacity=\"1\"/>\n<polyline clip-path=\"url(#clip050)\" style=\"stroke:#000000; stroke-linecap:round; stroke-linejoin:round; stroke-width:4; stroke-opacity:1; fill:none\" points=\"2006.97,302.578 2279.56,302.578 2279.56,95.2176 2006.97,95.2176 2006.97,302.578 \"/>\n<polyline clip-path=\"url(#clip050)\" style=\"stroke:#009af9; stroke-linecap:round; stroke-linejoin:round; stroke-width:4; stroke-opacity:1; fill:none\" points=\"2031.37,147.058 2177.76,147.058 \"/>\n<path clip-path=\"url(#clip050)\" d=\"M2216 166.745 Q2214.19 171.375 2212.48 172.787 Q2210.77 174.199 2207.9 174.199 L2204.49 174.199 L2204.49 170.634 L2206.99 170.634 Q2208.75 170.634 2209.72 169.8 Q2210.7 168.967 2211.88 165.865 L2212.64 163.921 L2202.15 138.412 L2206.67 138.412 L2214.77 158.689 L2222.87 138.412 L2227.39 138.412 L2216 166.745 Z\" fill=\"#000000\" fill-rule=\"nonzero\" fill-opacity=\"1\" /><path clip-path=\"url(#clip050)\" d=\"M2234.68 160.402 L2242.32 160.402 L2242.32 134.037 L2234.01 135.703 L2234.01 131.444 L2242.27 129.778 L2246.95 129.778 L2246.95 160.402 L2254.58 160.402 L2254.58 164.338 L2234.68 164.338 L2234.68 160.402 Z\" fill=\"#000000\" fill-rule=\"nonzero\" fill-opacity=\"1\" /><polyline clip-path=\"url(#clip050)\" style=\"stroke:#e26f46; stroke-linecap:round; stroke-linejoin:round; stroke-width:4; stroke-opacity:1; fill:none\" points=\"2031.37,198.898 2177.76,198.898 \"/>\n<path clip-path=\"url(#clip050)\" d=\"M2216 218.585 Q2214.19 223.215 2212.48 224.627 Q2210.77 226.039 2207.9 226.039 L2204.49 226.039 L2204.49 222.474 L2206.99 222.474 Q2208.75 222.474 2209.72 221.64 Q2210.7 220.807 2211.88 217.705 L2212.64 215.761 L2202.15 190.252 L2206.67 190.252 L2214.77 210.529 L2222.87 190.252 L2227.39 190.252 L2216 218.585 Z\" fill=\"#000000\" fill-rule=\"nonzero\" fill-opacity=\"1\" /><path clip-path=\"url(#clip050)\" d=\"M2237.89 212.242 L2254.21 212.242 L2254.21 216.178 L2232.27 216.178 L2232.27 212.242 Q2234.93 209.488 2239.52 204.858 Q2244.12 200.205 2245.3 198.863 Q2247.55 196.34 2248.43 194.604 Q2249.33 192.844 2249.33 191.155 Q2249.33 188.4 2247.39 186.664 Q2245.46 184.928 2242.36 184.928 Q2240.16 184.928 2237.71 185.692 Q2235.28 186.455 2232.5 188.006 L2232.5 183.284 Q2235.33 182.15 2237.78 181.571 Q2240.23 180.993 2242.27 180.993 Q2247.64 180.993 2250.83 183.678 Q2254.03 186.363 2254.03 190.854 Q2254.03 192.983 2253.22 194.905 Q2252.43 196.803 2250.33 199.395 Q2249.75 200.067 2246.64 203.284 Q2243.54 206.479 2237.89 212.242 Z\" fill=\"#000000\" fill-rule=\"nonzero\" fill-opacity=\"1\" /><polyline clip-path=\"url(#clip050)\" style=\"stroke:#3da44d; stroke-linecap:round; stroke-linejoin:round; stroke-width:4; stroke-opacity:1; fill:none\" points=\"2031.37,250.738 2177.76,250.738 \"/>\n<path clip-path=\"url(#clip050)\" d=\"M2216 270.425 Q2214.19 275.055 2212.48 276.467 Q2210.77 277.879 2207.9 277.879 L2204.49 277.879 L2204.49 274.314 L2206.99 274.314 Q2208.75 274.314 2209.72 273.48 Q2210.7 272.647 2211.88 269.545 L2212.64 267.601 L2202.15 242.092 L2206.67 242.092 L2214.77 262.369 L2222.87 242.092 L2227.39 242.092 L2216 270.425 Z\" fill=\"#000000\" fill-rule=\"nonzero\" fill-opacity=\"1\" /><path clip-path=\"url(#clip050)\" d=\"M2248.03 249.383 Q2251.39 250.101 2253.27 252.369 Q2255.16 254.638 2255.16 257.971 Q2255.16 263.087 2251.64 265.888 Q2248.13 268.689 2241.64 268.689 Q2239.47 268.689 2237.15 268.249 Q2234.86 267.832 2232.41 266.976 L2232.41 262.462 Q2234.35 263.596 2236.67 264.175 Q2238.98 264.754 2241.51 264.754 Q2245.9 264.754 2248.2 263.018 Q2250.51 261.281 2250.51 257.971 Q2250.51 254.916 2248.36 253.203 Q2246.23 251.467 2242.41 251.467 L2238.38 251.467 L2238.38 247.624 L2242.59 247.624 Q2246.04 247.624 2247.87 246.258 Q2249.7 244.87 2249.7 242.277 Q2249.7 239.615 2247.8 238.203 Q2245.93 236.768 2242.41 236.768 Q2240.49 236.768 2238.29 237.184 Q2236.09 237.601 2233.45 238.481 L2233.45 234.314 Q2236.11 233.573 2238.43 233.203 Q2240.77 232.833 2242.83 232.833 Q2248.15 232.833 2251.25 235.263 Q2254.35 237.67 2254.35 241.791 Q2254.35 244.661 2252.71 246.652 Q2251.07 248.62 2248.03 249.383 Z\" fill=\"#000000\" fill-rule=\"nonzero\" fill-opacity=\"1\" /></svg>\n",
            "image/svg+xml": "<?xml version=\"1.0\" encoding=\"utf-8\"?>\n<svg xmlns=\"http://www.w3.org/2000/svg\" xmlns:xlink=\"http://www.w3.org/1999/xlink\" width=\"600\" height=\"400\" viewBox=\"0 0 2400 1600\">\n<defs>\n  <clipPath id=\"clip000\">\n    <rect x=\"0\" y=\"0\" width=\"2400\" height=\"1600\"/>\n  </clipPath>\n</defs>\n<path clip-path=\"url(#clip000)\" d=\"M0 1600 L2400 1600 L2400 0 L0 0  Z\" fill=\"#ffffff\" fill-rule=\"evenodd\" fill-opacity=\"1\"/>\n<defs>\n  <clipPath id=\"clip001\">\n    <rect x=\"480\" y=\"0\" width=\"1681\" height=\"1600\"/>\n  </clipPath>\n</defs>\n<path clip-path=\"url(#clip000)\" d=\"M156.922 1486.45 L2352.76 1486.45 L2352.76 47.2441 L156.922 47.2441  Z\" fill=\"#ffffff\" fill-rule=\"evenodd\" fill-opacity=\"1\"/>\n<defs>\n  <clipPath id=\"clip002\">\n    <rect x=\"156\" y=\"47\" width=\"2197\" height=\"1440\"/>\n  </clipPath>\n</defs>\n<polyline clip-path=\"url(#clip002)\" style=\"stroke:#000000; stroke-linecap:round; stroke-linejoin:round; stroke-width:2; stroke-opacity:0.1; fill:none\" points=\"219.069,1486.45 219.069,47.2441 \"/>\n<polyline clip-path=\"url(#clip002)\" style=\"stroke:#000000; stroke-linecap:round; stroke-linejoin:round; stroke-width:2; stroke-opacity:0.1; fill:none\" points=\"810.937,1486.45 810.937,47.2441 \"/>\n<polyline clip-path=\"url(#clip002)\" style=\"stroke:#000000; stroke-linecap:round; stroke-linejoin:round; stroke-width:2; stroke-opacity:0.1; fill:none\" points=\"1402.81,1486.45 1402.81,47.2441 \"/>\n<polyline clip-path=\"url(#clip002)\" style=\"stroke:#000000; stroke-linecap:round; stroke-linejoin:round; stroke-width:2; stroke-opacity:0.1; fill:none\" points=\"1994.68,1486.45 1994.68,47.2441 \"/>\n<polyline clip-path=\"url(#clip000)\" style=\"stroke:#000000; stroke-linecap:round; stroke-linejoin:round; stroke-width:4; stroke-opacity:1; fill:none\" points=\"156.922,1486.45 2352.76,1486.45 \"/>\n<polyline clip-path=\"url(#clip000)\" style=\"stroke:#000000; stroke-linecap:round; stroke-linejoin:round; stroke-width:4; stroke-opacity:1; fill:none\" points=\"219.069,1486.45 219.069,1467.55 \"/>\n<polyline clip-path=\"url(#clip000)\" style=\"stroke:#000000; stroke-linecap:round; stroke-linejoin:round; stroke-width:4; stroke-opacity:1; fill:none\" points=\"810.937,1486.45 810.937,1467.55 \"/>\n<polyline clip-path=\"url(#clip000)\" style=\"stroke:#000000; stroke-linecap:round; stroke-linejoin:round; stroke-width:4; stroke-opacity:1; fill:none\" points=\"1402.81,1486.45 1402.81,1467.55 \"/>\n<polyline clip-path=\"url(#clip000)\" style=\"stroke:#000000; stroke-linecap:round; stroke-linejoin:round; stroke-width:4; stroke-opacity:1; fill:none\" points=\"1994.68,1486.45 1994.68,1467.55 \"/>\n<path clip-path=\"url(#clip000)\" d=\"M219.069 1517.37 Q215.457 1517.37 213.629 1520.93 Q211.823 1524.47 211.823 1531.6 Q211.823 1538.71 213.629 1542.27 Q215.457 1545.82 219.069 1545.82 Q222.703 1545.82 224.508 1542.27 Q226.337 1538.71 226.337 1531.6 Q226.337 1524.47 224.508 1520.93 Q222.703 1517.37 219.069 1517.37 M219.069 1513.66 Q224.879 1513.66 227.934 1518.27 Q231.013 1522.85 231.013 1531.6 Q231.013 1540.33 227.934 1544.94 Q224.879 1549.52 219.069 1549.52 Q213.258 1549.52 210.18 1544.94 Q207.124 1540.33 207.124 1531.6 Q207.124 1522.85 210.18 1518.27 Q213.258 1513.66 219.069 1513.66 Z\" fill=\"#000000\" fill-rule=\"nonzero\" fill-opacity=\"1\" /><path clip-path=\"url(#clip000)\" d=\"M805.59 1544.91 L821.91 1544.91 L821.91 1548.85 L799.965 1548.85 L799.965 1544.91 Q802.627 1542.16 807.211 1537.53 Q811.817 1532.88 812.998 1531.53 Q815.243 1529.01 816.123 1527.27 Q817.025 1525.51 817.025 1523.82 Q817.025 1521.07 815.081 1519.33 Q813.16 1517.6 810.058 1517.6 Q807.859 1517.6 805.405 1518.36 Q802.975 1519.13 800.197 1520.68 L800.197 1515.95 Q803.021 1514.82 805.475 1514.24 Q807.928 1513.66 809.965 1513.66 Q815.336 1513.66 818.53 1516.35 Q821.724 1519.03 821.724 1523.52 Q821.724 1525.65 820.914 1527.57 Q820.127 1529.47 818.021 1532.07 Q817.442 1532.74 814.34 1535.95 Q811.238 1539.15 805.59 1544.91 Z\" fill=\"#000000\" fill-rule=\"nonzero\" fill-opacity=\"1\" /><path clip-path=\"url(#clip000)\" d=\"M1405.82 1518.36 L1394.01 1536.81 L1405.82 1536.81 L1405.82 1518.36 M1404.59 1514.29 L1410.47 1514.29 L1410.47 1536.81 L1415.4 1536.81 L1415.4 1540.7 L1410.47 1540.7 L1410.47 1548.85 L1405.82 1548.85 L1405.82 1540.7 L1390.21 1540.7 L1390.21 1536.19 L1404.59 1514.29 Z\" fill=\"#000000\" fill-rule=\"nonzero\" fill-opacity=\"1\" /><path clip-path=\"url(#clip000)\" d=\"M1995.08 1529.7 Q1991.93 1529.7 1990.08 1531.86 Q1988.25 1534.01 1988.25 1537.76 Q1988.25 1541.49 1990.08 1543.66 Q1991.93 1545.82 1995.08 1545.82 Q1998.23 1545.82 2000.06 1543.66 Q2001.91 1541.49 2001.91 1537.76 Q2001.91 1534.01 2000.06 1531.86 Q1998.23 1529.7 1995.08 1529.7 M2004.36 1515.05 L2004.36 1519.31 Q2002.6 1518.48 2000.8 1518.04 Q1999.02 1517.6 1997.26 1517.6 Q1992.63 1517.6 1990.17 1520.72 Q1987.74 1523.85 1987.4 1530.17 Q1988.76 1528.15 1990.82 1527.09 Q1992.88 1526 1995.36 1526 Q2000.57 1526 2003.58 1529.17 Q2006.61 1532.32 2006.61 1537.76 Q2006.61 1543.08 2003.46 1546.3 Q2000.31 1549.52 1995.08 1549.52 Q1989.08 1549.52 1985.91 1544.94 Q1982.74 1540.33 1982.74 1531.6 Q1982.74 1523.41 1986.63 1518.55 Q1990.52 1513.66 1997.07 1513.66 Q1998.83 1513.66 2000.61 1514.01 Q2002.42 1514.36 2004.36 1515.05 Z\" fill=\"#000000\" fill-rule=\"nonzero\" fill-opacity=\"1\" /><polyline clip-path=\"url(#clip002)\" style=\"stroke:#000000; stroke-linecap:round; stroke-linejoin:round; stroke-width:2; stroke-opacity:0.1; fill:none\" points=\"156.922,1291.64 2352.76,1291.64 \"/>\n<polyline clip-path=\"url(#clip002)\" style=\"stroke:#000000; stroke-linecap:round; stroke-linejoin:round; stroke-width:2; stroke-opacity:0.1; fill:none\" points=\"156.922,983.487 2352.76,983.487 \"/>\n<polyline clip-path=\"url(#clip002)\" style=\"stroke:#000000; stroke-linecap:round; stroke-linejoin:round; stroke-width:2; stroke-opacity:0.1; fill:none\" points=\"156.922,675.334 2352.76,675.334 \"/>\n<polyline clip-path=\"url(#clip002)\" style=\"stroke:#000000; stroke-linecap:round; stroke-linejoin:round; stroke-width:2; stroke-opacity:0.1; fill:none\" points=\"156.922,367.181 2352.76,367.181 \"/>\n<polyline clip-path=\"url(#clip002)\" style=\"stroke:#000000; stroke-linecap:round; stroke-linejoin:round; stroke-width:2; stroke-opacity:0.1; fill:none\" points=\"156.922,59.0286 2352.76,59.0286 \"/>\n<polyline clip-path=\"url(#clip000)\" style=\"stroke:#000000; stroke-linecap:round; stroke-linejoin:round; stroke-width:4; stroke-opacity:1; fill:none\" points=\"156.922,1486.45 156.922,47.2441 \"/>\n<polyline clip-path=\"url(#clip000)\" style=\"stroke:#000000; stroke-linecap:round; stroke-linejoin:round; stroke-width:4; stroke-opacity:1; fill:none\" points=\"156.922,1291.64 175.82,1291.64 \"/>\n<polyline clip-path=\"url(#clip000)\" style=\"stroke:#000000; stroke-linecap:round; stroke-linejoin:round; stroke-width:4; stroke-opacity:1; fill:none\" points=\"156.922,983.487 175.82,983.487 \"/>\n<polyline clip-path=\"url(#clip000)\" style=\"stroke:#000000; stroke-linecap:round; stroke-linejoin:round; stroke-width:4; stroke-opacity:1; fill:none\" points=\"156.922,675.334 175.82,675.334 \"/>\n<polyline clip-path=\"url(#clip000)\" style=\"stroke:#000000; stroke-linecap:round; stroke-linejoin:round; stroke-width:4; stroke-opacity:1; fill:none\" points=\"156.922,367.181 175.82,367.181 \"/>\n<polyline clip-path=\"url(#clip000)\" style=\"stroke:#000000; stroke-linecap:round; stroke-linejoin:round; stroke-width:4; stroke-opacity:1; fill:none\" points=\"156.922,59.0286 175.82,59.0286 \"/>\n<path clip-path=\"url(#clip000)\" d=\"M57.7745 1304.98 L74.0939 1304.98 L74.0939 1308.92 L52.1495 1308.92 L52.1495 1304.98 Q54.8115 1302.23 59.3949 1297.6 Q64.0013 1292.95 65.1819 1291.6 Q67.4272 1289.08 68.3068 1287.35 Q69.2096 1285.59 69.2096 1283.9 Q69.2096 1281.14 67.2652 1279.41 Q65.3439 1277.67 62.2421 1277.67 Q60.043 1277.67 57.5893 1278.43 Q55.1588 1279.2 52.381 1280.75 L52.381 1276.03 Q55.2051 1274.89 57.6588 1274.31 Q60.1124 1273.73 62.1495 1273.73 Q67.5198 1273.73 70.7142 1276.42 Q73.9087 1279.1 73.9087 1283.6 Q73.9087 1285.73 73.0985 1287.65 Q72.3115 1289.54 70.205 1292.14 Q69.6263 1292.81 66.5245 1296.03 Q63.4226 1299.22 57.7745 1304.98 Z\" fill=\"#000000\" fill-rule=\"nonzero\" fill-opacity=\"1\" /><path clip-path=\"url(#clip000)\" d=\"M83.9086 1303.04 L88.7928 1303.04 L88.7928 1308.92 L83.9086 1308.92 L83.9086 1303.04 Z\" fill=\"#000000\" fill-rule=\"nonzero\" fill-opacity=\"1\" /><path clip-path=\"url(#clip000)\" d=\"M108.978 1277.44 Q105.367 1277.44 103.538 1281 Q101.733 1284.54 101.733 1291.67 Q101.733 1298.78 103.538 1302.35 Q105.367 1305.89 108.978 1305.89 Q112.612 1305.89 114.418 1302.35 Q116.246 1298.78 116.246 1291.67 Q116.246 1284.54 114.418 1281 Q112.612 1277.44 108.978 1277.44 M108.978 1273.73 Q114.788 1273.73 117.844 1278.34 Q120.922 1282.92 120.922 1291.67 Q120.922 1300.4 117.844 1305.01 Q114.788 1309.59 108.978 1309.59 Q103.168 1309.59 100.089 1305.01 Q97.0335 1300.4 97.0335 1291.67 Q97.0335 1282.92 100.089 1278.34 Q103.168 1273.73 108.978 1273.73 Z\" fill=\"#000000\" fill-rule=\"nonzero\" fill-opacity=\"1\" /><path clip-path=\"url(#clip000)\" d=\"M58.7699 996.831 L75.0892 996.831 L75.0892 1000.77 L53.1449 1000.77 L53.1449 996.831 Q55.8069 994.077 60.3902 989.447 Q64.9967 984.795 66.1772 983.452 Q68.4226 980.929 69.3022 979.193 Q70.205 977.433 70.205 975.744 Q70.205 972.989 68.2606 971.253 Q66.3393 969.517 63.2374 969.517 Q61.0384 969.517 58.5847 970.281 Q56.1541 971.045 53.3764 972.596 L53.3764 967.873 Q56.2004 966.739 58.6541 966.16 Q61.1078 965.582 63.1448 965.582 Q68.5152 965.582 71.7096 968.267 Q74.904 970.952 74.904 975.443 Q74.904 977.572 74.0939 979.494 Q73.3068 981.392 71.2004 983.984 Q70.6217 984.656 67.5198 987.873 Q64.418 991.068 58.7699 996.831 Z\" fill=\"#000000\" fill-rule=\"nonzero\" fill-opacity=\"1\" /><path clip-path=\"url(#clip000)\" d=\"M84.904 994.887 L89.7882 994.887 L89.7882 1000.77 L84.904 1000.77 L84.904 994.887 Z\" fill=\"#000000\" fill-rule=\"nonzero\" fill-opacity=\"1\" /><path clip-path=\"url(#clip000)\" d=\"M100.02 966.207 L118.376 966.207 L118.376 970.142 L104.302 970.142 L104.302 978.614 Q105.321 978.267 106.339 978.105 Q107.358 977.92 108.376 977.92 Q114.163 977.92 117.543 981.091 Q120.922 984.262 120.922 989.679 Q120.922 995.257 117.45 998.359 Q113.978 1001.44 107.658 1001.44 Q105.483 1001.44 103.214 1001.07 Q100.969 1000.7 98.5613 999.956 L98.5613 995.257 Q100.645 996.392 102.867 996.947 Q105.089 997.503 107.566 997.503 Q111.571 997.503 113.908 995.396 Q116.246 993.29 116.246 989.679 Q116.246 986.068 113.908 983.961 Q111.571 981.855 107.566 981.855 Q105.691 981.855 103.816 982.271 Q101.964 982.688 100.02 983.568 L100.02 966.207 Z\" fill=\"#000000\" fill-rule=\"nonzero\" fill-opacity=\"1\" /><path clip-path=\"url(#clip000)\" d=\"M67.9133 673.98 Q71.2698 674.697 73.1448 676.966 Q75.0429 679.234 75.0429 682.568 Q75.0429 687.683 71.5244 690.484 Q68.0059 693.285 61.5245 693.285 Q59.3486 693.285 57.0338 692.845 Q54.7421 692.429 52.2884 691.572 L52.2884 687.058 Q54.2328 688.193 56.5477 688.771 Q58.8625 689.35 61.3856 689.35 Q65.7837 689.35 68.0754 687.614 Q70.3902 685.878 70.3902 682.568 Q70.3902 679.512 68.2374 677.799 Q66.1078 676.063 62.2884 676.063 L58.2606 676.063 L58.2606 672.221 L62.4735 672.221 Q65.9226 672.221 67.7513 670.855 Q69.58 669.466 69.58 666.873 Q69.58 664.211 67.6819 662.799 Q65.8069 661.364 62.2884 661.364 Q60.3671 661.364 58.168 661.781 Q55.969 662.197 53.3301 663.077 L53.3301 658.91 Q55.9921 658.17 58.3069 657.799 Q60.6449 657.429 62.705 657.429 Q68.0291 657.429 71.1309 659.86 Q74.2327 662.267 74.2327 666.387 Q74.2327 669.258 72.5892 671.248 Q70.9457 673.216 67.9133 673.98 Z\" fill=\"#000000\" fill-rule=\"nonzero\" fill-opacity=\"1\" /><path clip-path=\"url(#clip000)\" d=\"M83.9086 686.734 L88.7928 686.734 L88.7928 692.614 L83.9086 692.614 L83.9086 686.734 Z\" fill=\"#000000\" fill-rule=\"nonzero\" fill-opacity=\"1\" /><path clip-path=\"url(#clip000)\" d=\"M108.978 661.133 Q105.367 661.133 103.538 664.697 Q101.733 668.239 101.733 675.369 Q101.733 682.475 103.538 686.04 Q105.367 689.582 108.978 689.582 Q112.612 689.582 114.418 686.04 Q116.246 682.475 116.246 675.369 Q116.246 668.239 114.418 664.697 Q112.612 661.133 108.978 661.133 M108.978 657.429 Q114.788 657.429 117.844 662.035 Q120.922 666.619 120.922 675.369 Q120.922 684.096 117.844 688.702 Q114.788 693.285 108.978 693.285 Q103.168 693.285 100.089 688.702 Q97.0335 684.096 97.0335 675.369 Q97.0335 666.619 100.089 662.035 Q103.168 657.429 108.978 657.429 Z\" fill=\"#000000\" fill-rule=\"nonzero\" fill-opacity=\"1\" /><path clip-path=\"url(#clip000)\" d=\"M68.9087 365.827 Q72.2652 366.545 74.1402 368.813 Q76.0383 371.082 76.0383 374.415 Q76.0383 379.531 72.5198 382.332 Q69.0013 385.133 62.5198 385.133 Q60.3439 385.133 58.0291 384.693 Q55.7375 384.276 53.2838 383.42 L53.2838 378.906 Q55.2282 380.04 57.543 380.619 Q59.8578 381.197 62.381 381.197 Q66.7791 381.197 69.0707 379.461 Q71.3855 377.725 71.3855 374.415 Q71.3855 371.36 69.2328 369.647 Q67.1032 367.91 63.2837 367.91 L59.256 367.91 L59.256 364.068 L63.4689 364.068 Q66.918 364.068 68.7467 362.702 Q70.5754 361.313 70.5754 358.721 Q70.5754 356.059 68.6772 354.647 Q66.8022 353.211 63.2837 353.211 Q61.3624 353.211 59.1634 353.628 Q56.9643 354.045 54.3254 354.924 L54.3254 350.758 Q56.9875 350.017 59.3023 349.647 Q61.6402 349.276 63.7004 349.276 Q69.0244 349.276 72.1263 351.707 Q75.2281 354.114 75.2281 358.235 Q75.2281 361.105 73.5846 363.096 Q71.9411 365.063 68.9087 365.827 Z\" fill=\"#000000\" fill-rule=\"nonzero\" fill-opacity=\"1\" /><path clip-path=\"url(#clip000)\" d=\"M84.904 378.582 L89.7882 378.582 L89.7882 384.461 L84.904 384.461 L84.904 378.582 Z\" fill=\"#000000\" fill-rule=\"nonzero\" fill-opacity=\"1\" /><path clip-path=\"url(#clip000)\" d=\"M100.02 349.901 L118.376 349.901 L118.376 353.836 L104.302 353.836 L104.302 362.309 Q105.321 361.961 106.339 361.799 Q107.358 361.614 108.376 361.614 Q114.163 361.614 117.543 364.785 Q120.922 367.957 120.922 373.373 Q120.922 378.952 117.45 382.054 Q113.978 385.133 107.658 385.133 Q105.483 385.133 103.214 384.762 Q100.969 384.392 98.5613 383.651 L98.5613 378.952 Q100.645 380.086 102.867 380.642 Q105.089 381.197 107.566 381.197 Q111.571 381.197 113.908 379.091 Q116.246 376.984 116.246 373.373 Q116.246 369.762 113.908 367.656 Q111.571 365.549 107.566 365.549 Q105.691 365.549 103.816 365.966 Q101.964 366.383 100.02 367.262 L100.02 349.901 Z\" fill=\"#000000\" fill-rule=\"nonzero\" fill-opacity=\"1\" /><path clip-path=\"url(#clip000)\" d=\"M66.5939 45.8227 L54.7884 64.2716 L66.5939 64.2716 L66.5939 45.8227 M65.367 41.7486 L71.2466 41.7486 L71.2466 64.2716 L76.1772 64.2716 L76.1772 68.1605 L71.2466 68.1605 L71.2466 76.3086 L66.5939 76.3086 L66.5939 68.1605 L50.9921 68.1605 L50.9921 63.6466 L65.367 41.7486 Z\" fill=\"#000000\" fill-rule=\"nonzero\" fill-opacity=\"1\" /><path clip-path=\"url(#clip000)\" d=\"M83.9086 70.429 L88.7928 70.429 L88.7928 76.3086 L83.9086 76.3086 L83.9086 70.429 Z\" fill=\"#000000\" fill-rule=\"nonzero\" fill-opacity=\"1\" /><path clip-path=\"url(#clip000)\" d=\"M108.978 44.8273 Q105.367 44.8273 103.538 48.3921 Q101.733 51.9337 101.733 59.0633 Q101.733 66.1698 103.538 69.7346 Q105.367 73.2762 108.978 73.2762 Q112.612 73.2762 114.418 69.7346 Q116.246 66.1698 116.246 59.0633 Q116.246 51.9337 114.418 48.3921 Q112.612 44.8273 108.978 44.8273 M108.978 41.1236 Q114.788 41.1236 117.844 45.7301 Q120.922 50.3134 120.922 59.0633 Q120.922 67.7901 117.844 72.3966 Q114.788 76.9799 108.978 76.9799 Q103.168 76.9799 100.089 72.3966 Q97.0335 67.7901 97.0335 59.0633 Q97.0335 50.3134 100.089 45.7301 Q103.168 41.1236 108.978 41.1236 Z\" fill=\"#000000\" fill-rule=\"nonzero\" fill-opacity=\"1\" /><polyline clip-path=\"url(#clip002)\" style=\"stroke:#009af9; stroke-linecap:round; stroke-linejoin:round; stroke-width:4; stroke-opacity:1; fill:none\" points=\"219.069,367.181 248.662,382.589 278.255,397.997 307.849,413.404 337.442,428.812 367.036,444.219 396.629,459.627 426.223,475.035 455.816,490.442 485.41,505.85 515.003,521.258 544.596,536.665 574.19,552.073 603.783,567.481 633.377,582.888 662.97,598.296 692.564,613.703 722.157,629.111 751.751,644.519 781.344,659.926 810.937,675.334 840.531,690.742 870.124,706.149 899.718,721.557 929.311,736.965 958.905,752.372 988.498,767.78 1018.09,783.187 1047.68,798.595 1077.28,814.003 1106.87,829.41 1136.47,844.818 1166.06,860.226 1195.65,875.633 1225.25,891.041 1254.84,906.448 1284.43,921.856 1314.03,937.264 1343.62,952.671 1373.21,968.079 1402.81,983.487 1432.4,998.894 1461.99,1014.3 1491.59,1029.71 1521.18,1045.12 1550.77,1060.52 1580.37,1075.93 1609.96,1091.34 1639.55,1106.75 1669.15,1122.16 1698.74,1137.56 1728.33,1152.97 1757.93,1168.38 1787.52,1183.79 1817.11,1199.19 1846.71,1214.6 1876.3,1230.01 1905.89,1245.42 1935.49,1260.82 1965.08,1276.23 1994.68,1291.64 2024.27,1307.05 2053.86,1322.45 2083.46,1337.86 2113.05,1353.27 2142.64,1368.68 2172.24,1384.09 2201.83,1399.49 2231.42,1414.9 2261.02,1430.31 2290.61,1445.72 \"/>\n<polyline clip-path=\"url(#clip002)\" style=\"stroke:#e26f46; stroke-linecap:round; stroke-linejoin:round; stroke-width:4; stroke-opacity:1; fill:none\" points=\"219.069,87.9763 248.662,141.436 278.255,192.961 307.849,242.589 337.442,290.361 367.036,336.316 396.629,380.492 426.223,422.93 455.816,463.667 485.41,502.745 515.003,540.2 544.596,576.074 574.19,610.405 603.783,643.232 633.377,674.594 662.97,704.532 692.564,733.083 722.157,760.288 751.751,786.185 781.344,810.813 810.937,834.213 840.531,856.422 870.124,877.481 899.718,897.428 929.311,916.304 958.905,934.146 988.498,950.994 1018.09,966.887 1047.68,981.866 1077.28,995.968 1106.87,1009.23 1136.47,1021.7 1166.06,1033.41 1195.65,1044.4 1225.25,1054.71 1254.84,1064.38 1284.43,1073.44 1314.03,1081.95 1343.62,1089.93 1373.21,1097.43 1402.81,1104.48 1432.4,1111.13 1461.99,1117.41 1491.59,1123.36 1521.18,1129.03 1550.77,1134.44 1580.37,1139.65 1609.96,1144.69 1639.55,1149.6 1669.15,1154.41 1698.74,1159.17 1728.33,1163.92 1757.93,1168.7 1787.52,1173.54 1817.11,1178.48 1846.71,1183.57 1876.3,1188.84 1905.89,1194.33 1935.49,1200.09 1965.08,1206.14 1994.68,1212.53 2024.27,1219.31 2053.86,1226.5 2083.46,1234.14 2113.05,1242.29 2142.64,1250.97 2172.24,1260.22 2201.83,1270.09 2231.42,1280.62 2261.02,1291.83 2290.61,1303.78 \"/>\n<polyline clip-path=\"url(#clip002)\" style=\"stroke:#3da44d; stroke-linecap:round; stroke-linejoin:round; stroke-width:4; stroke-opacity:1; fill:none\" points=\"219.069,87.9763 248.662,141.436 278.255,192.961 307.849,242.589 337.442,290.361 367.036,336.316 396.629,380.492 426.223,422.93 455.816,463.667 485.41,502.745 515.003,540.2 544.596,576.074 574.19,610.405 603.783,643.232 633.377,674.594 662.97,704.532 692.564,733.083 722.157,760.288 751.751,786.185 781.344,810.813 810.937,834.213 840.531,856.422 870.124,877.481 899.718,897.428 929.311,916.304 958.905,934.146 988.498,950.994 1018.09,966.887 1047.68,981.866 1077.28,995.968 1106.87,1009.23 1136.47,1021.7 1166.06,1033.41 1195.65,1044.4 1225.25,1054.71 1254.84,1064.38 1284.43,1073.44 1314.03,1081.95 1343.62,1089.93 1373.21,1097.43 1402.81,1104.48 1432.4,1111.13 1461.99,1117.41 1491.59,1123.36 1521.18,1129.03 1550.77,1134.44 1580.37,1139.65 1609.96,1144.69 1639.55,1149.6 1669.15,1154.41 1698.74,1159.17 1728.33,1163.92 1757.93,1168.7 1787.52,1173.54 1817.11,1178.48 1846.71,1183.57 1876.3,1188.84 1905.89,1194.33 1935.49,1200.09 1965.08,1206.14 1994.68,1212.53 2024.27,1219.31 2053.86,1226.5 2083.46,1234.14 2113.05,1242.29 2142.64,1250.97 2172.24,1260.22 2201.83,1270.09 2231.42,1280.62 2261.02,1291.83 2290.61,1303.78 \"/>\n<path clip-path=\"url(#clip000)\" d=\"M2006.97 302.578 L2279.56 302.578 L2279.56 95.2176 L2006.97 95.2176  Z\" fill=\"#ffffff\" fill-rule=\"evenodd\" fill-opacity=\"1\"/>\n<polyline clip-path=\"url(#clip000)\" style=\"stroke:#000000; stroke-linecap:round; stroke-linejoin:round; stroke-width:4; stroke-opacity:1; fill:none\" points=\"2006.97,302.578 2279.56,302.578 2279.56,95.2176 2006.97,95.2176 2006.97,302.578 \"/>\n<polyline clip-path=\"url(#clip000)\" style=\"stroke:#009af9; stroke-linecap:round; stroke-linejoin:round; stroke-width:4; stroke-opacity:1; fill:none\" points=\"2031.37,147.058 2177.76,147.058 \"/>\n<path clip-path=\"url(#clip000)\" d=\"M2216 166.745 Q2214.19 171.375 2212.48 172.787 Q2210.77 174.199 2207.9 174.199 L2204.49 174.199 L2204.49 170.634 L2206.99 170.634 Q2208.75 170.634 2209.72 169.8 Q2210.7 168.967 2211.88 165.865 L2212.64 163.921 L2202.15 138.412 L2206.67 138.412 L2214.77 158.689 L2222.87 138.412 L2227.39 138.412 L2216 166.745 Z\" fill=\"#000000\" fill-rule=\"nonzero\" fill-opacity=\"1\" /><path clip-path=\"url(#clip000)\" d=\"M2234.68 160.402 L2242.32 160.402 L2242.32 134.037 L2234.01 135.703 L2234.01 131.444 L2242.27 129.778 L2246.95 129.778 L2246.95 160.402 L2254.58 160.402 L2254.58 164.338 L2234.68 164.338 L2234.68 160.402 Z\" fill=\"#000000\" fill-rule=\"nonzero\" fill-opacity=\"1\" /><polyline clip-path=\"url(#clip000)\" style=\"stroke:#e26f46; stroke-linecap:round; stroke-linejoin:round; stroke-width:4; stroke-opacity:1; fill:none\" points=\"2031.37,198.898 2177.76,198.898 \"/>\n<path clip-path=\"url(#clip000)\" d=\"M2216 218.585 Q2214.19 223.215 2212.48 224.627 Q2210.77 226.039 2207.9 226.039 L2204.49 226.039 L2204.49 222.474 L2206.99 222.474 Q2208.75 222.474 2209.72 221.64 Q2210.7 220.807 2211.88 217.705 L2212.64 215.761 L2202.15 190.252 L2206.67 190.252 L2214.77 210.529 L2222.87 190.252 L2227.39 190.252 L2216 218.585 Z\" fill=\"#000000\" fill-rule=\"nonzero\" fill-opacity=\"1\" /><path clip-path=\"url(#clip000)\" d=\"M2237.89 212.242 L2254.21 212.242 L2254.21 216.178 L2232.27 216.178 L2232.27 212.242 Q2234.93 209.488 2239.52 204.858 Q2244.12 200.205 2245.3 198.863 Q2247.55 196.34 2248.43 194.604 Q2249.33 192.844 2249.33 191.155 Q2249.33 188.4 2247.39 186.664 Q2245.46 184.928 2242.36 184.928 Q2240.16 184.928 2237.71 185.692 Q2235.28 186.455 2232.5 188.006 L2232.5 183.284 Q2235.33 182.15 2237.78 181.571 Q2240.23 180.993 2242.27 180.993 Q2247.64 180.993 2250.83 183.678 Q2254.03 186.363 2254.03 190.854 Q2254.03 192.983 2253.22 194.905 Q2252.43 196.803 2250.33 199.395 Q2249.75 200.067 2246.64 203.284 Q2243.54 206.479 2237.89 212.242 Z\" fill=\"#000000\" fill-rule=\"nonzero\" fill-opacity=\"1\" /><polyline clip-path=\"url(#clip000)\" style=\"stroke:#3da44d; stroke-linecap:round; stroke-linejoin:round; stroke-width:4; stroke-opacity:1; fill:none\" points=\"2031.37,250.738 2177.76,250.738 \"/>\n<path clip-path=\"url(#clip000)\" d=\"M2216 270.425 Q2214.19 275.055 2212.48 276.467 Q2210.77 277.879 2207.9 277.879 L2204.49 277.879 L2204.49 274.314 L2206.99 274.314 Q2208.75 274.314 2209.72 273.48 Q2210.7 272.647 2211.88 269.545 L2212.64 267.601 L2202.15 242.092 L2206.67 242.092 L2214.77 262.369 L2222.87 242.092 L2227.39 242.092 L2216 270.425 Z\" fill=\"#000000\" fill-rule=\"nonzero\" fill-opacity=\"1\" /><path clip-path=\"url(#clip000)\" d=\"M2248.03 249.383 Q2251.39 250.101 2253.27 252.369 Q2255.16 254.638 2255.16 257.971 Q2255.16 263.087 2251.64 265.888 Q2248.13 268.689 2241.64 268.689 Q2239.47 268.689 2237.15 268.249 Q2234.86 267.832 2232.41 266.976 L2232.41 262.462 Q2234.35 263.596 2236.67 264.175 Q2238.98 264.754 2241.51 264.754 Q2245.9 264.754 2248.2 263.018 Q2250.51 261.281 2250.51 257.971 Q2250.51 254.916 2248.36 253.203 Q2246.23 251.467 2242.41 251.467 L2238.38 251.467 L2238.38 247.624 L2242.59 247.624 Q2246.04 247.624 2247.87 246.258 Q2249.7 244.87 2249.7 242.277 Q2249.7 239.615 2247.8 238.203 Q2245.93 236.768 2242.41 236.768 Q2240.49 236.768 2238.29 237.184 Q2236.09 237.601 2233.45 238.481 L2233.45 234.314 Q2236.11 233.573 2238.43 233.203 Q2240.77 232.833 2242.83 232.833 Q2248.15 232.833 2251.25 235.263 Q2254.35 237.67 2254.35 241.791 Q2254.35 244.661 2252.71 246.652 Q2251.07 248.62 2248.03 249.383 Z\" fill=\"#000000\" fill-rule=\"nonzero\" fill-opacity=\"1\" /></svg>\n"
          },
          "metadata": {}
        }
      ],
      "execution_count": 9,
      "metadata": {
        "collapsed": true,
        "jupyter": {
          "source_hidden": false,
          "outputs_hidden": false
        },
        "nteract": {
          "transient": {
            "deleting": false
          }
        },
        "execution": {
          "iopub.status.busy": "2023-10-31T23:48:51.657Z",
          "iopub.execute_input": "2023-10-31T23:48:51.819Z",
          "iopub.status.idle": "2023-10-31T23:48:52.151Z"
        }
      }
    },
    {
      "cell_type": "code",
      "source": [
        "## 1(C) LEAST SQUARE OF EXPONENTIAL REGRESSION\n",
        "X = [0; 1; 2; 3; 4; 5; 6; 7]\n",
        "Y = [4.0; 3.1; 2.8; 2.5; 2.3; 2.2; 2.1; 2.0]\n",
        "A = [0 1; 1 1; 2 1; 3 1; 4 1; 5 1; 6 1; 7 1]\n",
        "d = log.(Y)\n",
        "A =[X ones(8,1)]\n",
        "c = A\\d\n",
        "\n",
        "z = (A'A)\\(A'd)\n",
        "k = z[1]\n",
        "c = exp(z[2])\n",
        "function j(x)\n",
        "  return c*exp(k*x)\n",
        "end\n",
        "plot!(t,j.(t))"
      ],
      "outputs": [
        {
          "output_type": "execute_result",
          "execution_count": 11,
          "data": {
            "image/png": "[encoded data removed]",
            "text/html": "<?xml version=\"1.0\" encoding=\"utf-8\"?>\n<svg xmlns=\"http://www.w3.org/2000/svg\" xmlns:xlink=\"http://www.w3.org/1999/xlink\" width=\"600\" height=\"400\" viewBox=\"0 0 2400 1600\">\n<defs>\n  <clipPath id=\"clip230\">\n    <rect x=\"0\" y=\"0\" width=\"2400\" height=\"1600\"/>\n  </clipPath>\n</defs>\n<path clip-path=\"url(#clip230)\" d=\"M0 1600 L2400 1600 L2400 0 L0 0  Z\" fill=\"#ffffff\" fill-rule=\"evenodd\" fill-opacity=\"1\"/>\n<defs>\n  <clipPath id=\"clip231\">\n    <rect x=\"480\" y=\"0\" width=\"1681\" height=\"1600\"/>\n  </clipPath>\n</defs>\n<path clip-path=\"url(#clip230)\" d=\"M156.922 1486.45 L2352.76 1486.45 L2352.76 47.2441 L156.922 47.2441  Z\" fill=\"#ffffff\" fill-rule=\"evenodd\" fill-opacity=\"1\"/>\n<defs>\n  <clipPath id=\"clip232\">\n    <rect x=\"156\" y=\"47\" width=\"2197\" height=\"1440\"/>\n  </clipPath>\n</defs>\n<polyline clip-path=\"url(#clip232)\" style=\"stroke:#000000; stroke-linecap:round; stroke-linejoin:round; stroke-width:2; stroke-opacity:0.1; fill:none\" points=\"219.069,1486.45 219.069,47.2441 \"/>\n<polyline clip-path=\"url(#clip232)\" style=\"stroke:#000000; stroke-linecap:round; stroke-linejoin:round; stroke-width:2; stroke-opacity:0.1; fill:none\" points=\"810.937,1486.45 810.937,47.2441 \"/>\n<polyline clip-path=\"url(#clip232)\" style=\"stroke:#000000; stroke-linecap:round; stroke-linejoin:round; stroke-width:2; stroke-opacity:0.1; fill:none\" points=\"1402.81,1486.45 1402.81,47.2441 \"/>\n<polyline clip-path=\"url(#clip232)\" style=\"stroke:#000000; stroke-linecap:round; stroke-linejoin:round; stroke-width:2; stroke-opacity:0.1; fill:none\" points=\"1994.68,1486.45 1994.68,47.2441 \"/>\n<polyline clip-path=\"url(#clip230)\" style=\"stroke:#000000; stroke-linecap:round; stroke-linejoin:round; stroke-width:4; stroke-opacity:1; fill:none\" points=\"156.922,1486.45 2352.76,1486.45 \"/>\n<polyline clip-path=\"url(#clip230)\" style=\"stroke:#000000; stroke-linecap:round; stroke-linejoin:round; stroke-width:4; stroke-opacity:1; fill:none\" points=\"219.069,1486.45 219.069,1467.55 \"/>\n<polyline clip-path=\"url(#clip230)\" style=\"stroke:#000000; stroke-linecap:round; stroke-linejoin:round; stroke-width:4; stroke-opacity:1; fill:none\" points=\"810.937,1486.45 810.937,1467.55 \"/>\n<polyline clip-path=\"url(#clip230)\" style=\"stroke:#000000; stroke-linecap:round; stroke-linejoin:round; stroke-width:4; stroke-opacity:1; fill:none\" points=\"1402.81,1486.45 1402.81,1467.55 \"/>\n<polyline clip-path=\"url(#clip230)\" style=\"stroke:#000000; stroke-linecap:round; stroke-linejoin:round; stroke-width:4; stroke-opacity:1; fill:none\" points=\"1994.68,1486.45 1994.68,1467.55 \"/>\n<path clip-path=\"url(#clip230)\" d=\"M219.069 1517.37 Q215.457 1517.37 213.629 1520.93 Q211.823 1524.47 211.823 1531.6 Q211.823 1538.71 213.629 1542.27 Q215.457 1545.82 219.069 1545.82 Q222.703 1545.82 224.508 1542.27 Q226.337 1538.71 226.337 1531.6 Q226.337 1524.47 224.508 1520.93 Q222.703 1517.37 219.069 1517.37 M219.069 1513.66 Q224.879 1513.66 227.934 1518.27 Q231.013 1522.85 231.013 1531.6 Q231.013 1540.33 227.934 1544.94 Q224.879 1549.52 219.069 1549.52 Q213.258 1549.52 210.18 1544.94 Q207.124 1540.33 207.124 1531.6 Q207.124 1522.85 210.18 1518.27 Q213.258 1513.66 219.069 1513.66 Z\" fill=\"#000000\" fill-rule=\"nonzero\" fill-opacity=\"1\" /><path clip-path=\"url(#clip230)\" d=\"M805.59 1544.91 L821.91 1544.91 L821.91 1548.85 L799.965 1548.85 L799.965 1544.91 Q802.627 1542.16 807.211 1537.53 Q811.817 1532.88 812.998 1531.53 Q815.243 1529.01 816.123 1527.27 Q817.025 1525.51 817.025 1523.82 Q817.025 1521.07 815.081 1519.33 Q813.16 1517.6 810.058 1517.6 Q807.859 1517.6 805.405 1518.36 Q802.975 1519.13 800.197 1520.68 L800.197 1515.95 Q803.021 1514.82 805.475 1514.24 Q807.928 1513.66 809.965 1513.66 Q815.336 1513.66 818.53 1516.35 Q821.724 1519.03 821.724 1523.52 Q821.724 1525.65 820.914 1527.57 Q820.127 1529.47 818.021 1532.07 Q817.442 1532.74 814.34 1535.95 Q811.238 1539.15 805.59 1544.91 Z\" fill=\"#000000\" fill-rule=\"nonzero\" fill-opacity=\"1\" /><path clip-path=\"url(#clip230)\" d=\"M1405.82 1518.36 L1394.01 1536.81 L1405.82 1536.81 L1405.82 1518.36 M1404.59 1514.29 L1410.47 1514.29 L1410.47 1536.81 L1415.4 1536.81 L1415.4 1540.7 L1410.47 1540.7 L1410.47 1548.85 L1405.82 1548.85 L1405.82 1540.7 L1390.21 1540.7 L1390.21 1536.19 L1404.59 1514.29 Z\" fill=\"#000000\" fill-rule=\"nonzero\" fill-opacity=\"1\" /><path clip-path=\"url(#clip230)\" d=\"M1995.08 1529.7 Q1991.93 1529.7 1990.08 1531.86 Q1988.25 1534.01 1988.25 1537.76 Q1988.25 1541.49 1990.08 1543.66 Q1991.93 1545.82 1995.08 1545.82 Q1998.23 1545.82 2000.06 1543.66 Q2001.91 1541.49 2001.91 1537.76 Q2001.91 1534.01 2000.06 1531.86 Q1998.23 1529.7 1995.08 1529.7 M2004.36 1515.05 L2004.36 1519.31 Q2002.6 1518.48 2000.8 1518.04 Q1999.02 1517.6 1997.26 1517.6 Q1992.63 1517.6 1990.17 1520.72 Q1987.74 1523.85 1987.4 1530.17 Q1988.76 1528.15 1990.82 1527.09 Q1992.88 1526 1995.36 1526 Q2000.57 1526 2003.58 1529.17 Q2006.61 1532.32 2006.61 1537.76 Q2006.61 1543.08 2003.46 1546.3 Q2000.31 1549.52 1995.08 1549.52 Q1989.08 1549.52 1985.91 1544.94 Q1982.74 1540.33 1982.74 1531.6 Q1982.74 1523.41 1986.63 1518.55 Q1990.52 1513.66 1997.07 1513.66 Q1998.83 1513.66 2000.61 1514.01 Q2002.42 1514.36 2004.36 1515.05 Z\" fill=\"#000000\" fill-rule=\"nonzero\" fill-opacity=\"1\" /><polyline clip-path=\"url(#clip232)\" style=\"stroke:#000000; stroke-linecap:round; stroke-linejoin:round; stroke-width:2; stroke-opacity:0.1; fill:none\" points=\"156.922,1291.64 2352.76,1291.64 \"/>\n<polyline clip-path=\"url(#clip232)\" style=\"stroke:#000000; stroke-linecap:round; stroke-linejoin:round; stroke-width:2; stroke-opacity:0.1; fill:none\" points=\"156.922,983.487 2352.76,983.487 \"/>\n<polyline clip-path=\"url(#clip232)\" style=\"stroke:#000000; stroke-linecap:round; stroke-linejoin:round; stroke-width:2; stroke-opacity:0.1; fill:none\" points=\"156.922,675.334 2352.76,675.334 \"/>\n<polyline clip-path=\"url(#clip232)\" style=\"stroke:#000000; stroke-linecap:round; stroke-linejoin:round; stroke-width:2; stroke-opacity:0.1; fill:none\" points=\"156.922,367.181 2352.76,367.181 \"/>\n<polyline clip-path=\"url(#clip232)\" style=\"stroke:#000000; stroke-linecap:round; stroke-linejoin:round; stroke-width:2; stroke-opacity:0.1; fill:none\" points=\"156.922,59.0286 2352.76,59.0286 \"/>\n<polyline clip-path=\"url(#clip230)\" style=\"stroke:#000000; stroke-linecap:round; stroke-linejoin:round; stroke-width:4; stroke-opacity:1; fill:none\" points=\"156.922,1486.45 156.922,47.2441 \"/>\n<polyline clip-path=\"url(#clip230)\" style=\"stroke:#000000; stroke-linecap:round; stroke-linejoin:round; stroke-width:4; stroke-opacity:1; fill:none\" points=\"156.922,1291.64 175.82,1291.64 \"/>\n<polyline clip-path=\"url(#clip230)\" style=\"stroke:#000000; stroke-linecap:round; stroke-linejoin:round; stroke-width:4; stroke-opacity:1; fill:none\" points=\"156.922,983.487 175.82,983.487 \"/>\n<polyline clip-path=\"url(#clip230)\" style=\"stroke:#000000; stroke-linecap:round; stroke-linejoin:round; stroke-width:4; stroke-opacity:1; fill:none\" points=\"156.922,675.334 175.82,675.334 \"/>\n<polyline clip-path=\"url(#clip230)\" style=\"stroke:#000000; stroke-linecap:round; stroke-linejoin:round; stroke-width:4; stroke-opacity:1; fill:none\" points=\"156.922,367.181 175.82,367.181 \"/>\n<polyline clip-path=\"url(#clip230)\" style=\"stroke:#000000; stroke-linecap:round; stroke-linejoin:round; stroke-width:4; stroke-opacity:1; fill:none\" points=\"156.922,59.0286 175.82,59.0286 \"/>\n<path clip-path=\"url(#clip230)\" d=\"M57.7745 1304.98 L74.0939 1304.98 L74.0939 1308.92 L52.1495 1308.92 L52.1495 1304.98 Q54.8115 1302.23 59.3949 1297.6 Q64.0013 1292.95 65.1819 1291.6 Q67.4272 1289.08 68.3068 1287.35 Q69.2096 1285.59 69.2096 1283.9 Q69.2096 1281.14 67.2652 1279.41 Q65.3439 1277.67 62.2421 1277.67 Q60.043 1277.67 57.5893 1278.43 Q55.1588 1279.2 52.381 1280.75 L52.381 1276.03 Q55.2051 1274.89 57.6588 1274.31 Q60.1124 1273.73 62.1495 1273.73 Q67.5198 1273.73 70.7142 1276.42 Q73.9087 1279.1 73.9087 1283.6 Q73.9087 1285.73 73.0985 1287.65 Q72.3115 1289.54 70.205 1292.14 Q69.6263 1292.81 66.5245 1296.03 Q63.4226 1299.22 57.7745 1304.98 Z\" fill=\"#000000\" fill-rule=\"nonzero\" fill-opacity=\"1\" /><path clip-path=\"url(#clip230)\" d=\"M83.9086 1303.04 L88.7928 1303.04 L88.7928 1308.92 L83.9086 1308.92 L83.9086 1303.04 Z\" fill=\"#000000\" fill-rule=\"nonzero\" fill-opacity=\"1\" /><path clip-path=\"url(#clip230)\" d=\"M108.978 1277.44 Q105.367 1277.44 103.538 1281 Q101.733 1284.54 101.733 1291.67 Q101.733 1298.78 103.538 1302.35 Q105.367 1305.89 108.978 1305.89 Q112.612 1305.89 114.418 1302.35 Q116.246 1298.78 116.246 1291.67 Q116.246 1284.54 114.418 1281 Q112.612 1277.44 108.978 1277.44 M108.978 1273.73 Q114.788 1273.73 117.844 1278.34 Q120.922 1282.92 120.922 1291.67 Q120.922 1300.4 117.844 1305.01 Q114.788 1309.59 108.978 1309.59 Q103.168 1309.59 100.089 1305.01 Q97.0335 1300.4 97.0335 1291.67 Q97.0335 1282.92 100.089 1278.34 Q103.168 1273.73 108.978 1273.73 Z\" fill=\"#000000\" fill-rule=\"nonzero\" fill-opacity=\"1\" /><path clip-path=\"url(#clip230)\" d=\"M58.7699 996.831 L75.0892 996.831 L75.0892 1000.77 L53.1449 1000.77 L53.1449 996.831 Q55.8069 994.077 60.3902 989.447 Q64.9967 984.795 66.1772 983.452 Q68.4226 980.929 69.3022 979.193 Q70.205 977.433 70.205 975.744 Q70.205 972.989 68.2606 971.253 Q66.3393 969.517 63.2374 969.517 Q61.0384 969.517 58.5847 970.281 Q56.1541 971.045 53.3764 972.596 L53.3764 967.873 Q56.2004 966.739 58.6541 966.16 Q61.1078 965.582 63.1448 965.582 Q68.5152 965.582 71.7096 968.267 Q74.904 970.952 74.904 975.443 Q74.904 977.572 74.0939 979.494 Q73.3068 981.392 71.2004 983.984 Q70.6217 984.656 67.5198 987.873 Q64.418 991.068 58.7699 996.831 Z\" fill=\"#000000\" fill-rule=\"nonzero\" fill-opacity=\"1\" /><path clip-path=\"url(#clip230)\" d=\"M84.904 994.887 L89.7882 994.887 L89.7882 1000.77 L84.904 1000.77 L84.904 994.887 Z\" fill=\"#000000\" fill-rule=\"nonzero\" fill-opacity=\"1\" /><path clip-path=\"url(#clip230)\" d=\"M100.02 966.207 L118.376 966.207 L118.376 970.142 L104.302 970.142 L104.302 978.614 Q105.321 978.267 106.339 978.105 Q107.358 977.92 108.376 977.92 Q114.163 977.92 117.543 981.091 Q120.922 984.262 120.922 989.679 Q120.922 995.257 117.45 998.359 Q113.978 1001.44 107.658 1001.44 Q105.483 1001.44 103.214 1001.07 Q100.969 1000.7 98.5613 999.956 L98.5613 995.257 Q100.645 996.392 102.867 996.947 Q105.089 997.503 107.566 997.503 Q111.571 997.503 113.908 995.396 Q116.246 993.29 116.246 989.679 Q116.246 986.068 113.908 983.961 Q111.571 981.855 107.566 981.855 Q105.691 981.855 103.816 982.271 Q101.964 982.688 100.02 983.568 L100.02 966.207 Z\" fill=\"#000000\" fill-rule=\"nonzero\" fill-opacity=\"1\" /><path clip-path=\"url(#clip230)\" d=\"M67.9133 673.98 Q71.2698 674.697 73.1448 676.966 Q75.0429 679.234 75.0429 682.568 Q75.0429 687.683 71.5244 690.484 Q68.0059 693.285 61.5245 693.285 Q59.3486 693.285 57.0338 692.845 Q54.7421 692.429 52.2884 691.572 L52.2884 687.058 Q54.2328 688.193 56.5477 688.771 Q58.8625 689.35 61.3856 689.35 Q65.7837 689.35 68.0754 687.614 Q70.3902 685.878 70.3902 682.568 Q70.3902 679.512 68.2374 677.799 Q66.1078 676.063 62.2884 676.063 L58.2606 676.063 L58.2606 672.221 L62.4735 672.221 Q65.9226 672.221 67.7513 670.855 Q69.58 669.466 69.58 666.873 Q69.58 664.211 67.6819 662.799 Q65.8069 661.364 62.2884 661.364 Q60.3671 661.364 58.168 661.781 Q55.969 662.197 53.3301 663.077 L53.3301 658.91 Q55.9921 658.17 58.3069 657.799 Q60.6449 657.429 62.705 657.429 Q68.0291 657.429 71.1309 659.86 Q74.2327 662.267 74.2327 666.387 Q74.2327 669.258 72.5892 671.248 Q70.9457 673.216 67.9133 673.98 Z\" fill=\"#000000\" fill-rule=\"nonzero\" fill-opacity=\"1\" /><path clip-path=\"url(#clip230)\" d=\"M83.9086 686.734 L88.7928 686.734 L88.7928 692.614 L83.9086 692.614 L83.9086 686.734 Z\" fill=\"#000000\" fill-rule=\"nonzero\" fill-opacity=\"1\" /><path clip-path=\"url(#clip230)\" d=\"M108.978 661.133 Q105.367 661.133 103.538 664.697 Q101.733 668.239 101.733 675.369 Q101.733 682.475 103.538 686.04 Q105.367 689.582 108.978 689.582 Q112.612 689.582 114.418 686.04 Q116.246 682.475 116.246 675.369 Q116.246 668.239 114.418 664.697 Q112.612 661.133 108.978 661.133 M108.978 657.429 Q114.788 657.429 117.844 662.035 Q120.922 666.619 120.922 675.369 Q120.922 684.096 117.844 688.702 Q114.788 693.285 108.978 693.285 Q103.168 693.285 100.089 688.702 Q97.0335 684.096 97.0335 675.369 Q97.0335 666.619 100.089 662.035 Q103.168 657.429 108.978 657.429 Z\" fill=\"#000000\" fill-rule=\"nonzero\" fill-opacity=\"1\" /><path clip-path=\"url(#clip230)\" d=\"M68.9087 365.827 Q72.2652 366.545 74.1402 368.813 Q76.0383 371.082 76.0383 374.415 Q76.0383 379.531 72.5198 382.332 Q69.0013 385.133 62.5198 385.133 Q60.3439 385.133 58.0291 384.693 Q55.7375 384.276 53.2838 383.42 L53.2838 378.906 Q55.2282 380.04 57.543 380.619 Q59.8578 381.197 62.381 381.197 Q66.7791 381.197 69.0707 379.461 Q71.3855 377.725 71.3855 374.415 Q71.3855 371.36 69.2328 369.647 Q67.1032 367.91 63.2837 367.91 L59.256 367.91 L59.256 364.068 L63.4689 364.068 Q66.918 364.068 68.7467 362.702 Q70.5754 361.313 70.5754 358.721 Q70.5754 356.059 68.6772 354.647 Q66.8022 353.211 63.2837 353.211 Q61.3624 353.211 59.1634 353.628 Q56.9643 354.045 54.3254 354.924 L54.3254 350.758 Q56.9875 350.017 59.3023 349.647 Q61.6402 349.276 63.7004 349.276 Q69.0244 349.276 72.1263 351.707 Q75.2281 354.114 75.2281 358.235 Q75.2281 361.105 73.5846 363.096 Q71.9411 365.063 68.9087 365.827 Z\" fill=\"#000000\" fill-rule=\"nonzero\" fill-opacity=\"1\" /><path clip-path=\"url(#clip230)\" d=\"M84.904 378.582 L89.7882 378.582 L89.7882 384.461 L84.904 384.461 L84.904 378.582 Z\" fill=\"#000000\" fill-rule=\"nonzero\" fill-opacity=\"1\" /><path clip-path=\"url(#clip230)\" d=\"M100.02 349.901 L118.376 349.901 L118.376 353.836 L104.302 353.836 L104.302 362.309 Q105.321 361.961 106.339 361.799 Q107.358 361.614 108.376 361.614 Q114.163 361.614 117.543 364.785 Q120.922 367.957 120.922 373.373 Q120.922 378.952 117.45 382.054 Q113.978 385.133 107.658 385.133 Q105.483 385.133 103.214 384.762 Q100.969 384.392 98.5613 383.651 L98.5613 378.952 Q100.645 380.086 102.867 380.642 Q105.089 381.197 107.566 381.197 Q111.571 381.197 113.908 379.091 Q116.246 376.984 116.246 373.373 Q116.246 369.762 113.908 367.656 Q111.571 365.549 107.566 365.549 Q105.691 365.549 103.816 365.966 Q101.964 366.383 100.02 367.262 L100.02 349.901 Z\" fill=\"#000000\" fill-rule=\"nonzero\" fill-opacity=\"1\" /><path clip-path=\"url(#clip230)\" d=\"M66.5939 45.8227 L54.7884 64.2716 L66.5939 64.2716 L66.5939 45.8227 M65.367 41.7486 L71.2466 41.7486 L71.2466 64.2716 L76.1772 64.2716 L76.1772 68.1605 L71.2466 68.1605 L71.2466 76.3086 L66.5939 76.3086 L66.5939 68.1605 L50.9921 68.1605 L50.9921 63.6466 L65.367 41.7486 Z\" fill=\"#000000\" fill-rule=\"nonzero\" fill-opacity=\"1\" /><path clip-path=\"url(#clip230)\" d=\"M83.9086 70.429 L88.7928 70.429 L88.7928 76.3086 L83.9086 76.3086 L83.9086 70.429 Z\" fill=\"#000000\" fill-rule=\"nonzero\" fill-opacity=\"1\" /><path clip-path=\"url(#clip230)\" d=\"M108.978 44.8273 Q105.367 44.8273 103.538 48.3921 Q101.733 51.9337 101.733 59.0633 Q101.733 66.1698 103.538 69.7346 Q105.367 73.2762 108.978 73.2762 Q112.612 73.2762 114.418 69.7346 Q116.246 66.1698 116.246 59.0633 Q116.246 51.9337 114.418 48.3921 Q112.612 44.8273 108.978 44.8273 M108.978 41.1236 Q114.788 41.1236 117.844 45.7301 Q120.922 50.3134 120.922 59.0633 Q120.922 67.7901 117.844 72.3966 Q114.788 76.9799 108.978 76.9799 Q103.168 76.9799 100.089 72.3966 Q97.0335 67.7901 97.0335 59.0633 Q97.0335 50.3134 100.089 45.7301 Q103.168 41.1236 108.978 41.1236 Z\" fill=\"#000000\" fill-rule=\"nonzero\" fill-opacity=\"1\" /><polyline clip-path=\"url(#clip232)\" style=\"stroke:#009af9; stroke-linecap:round; stroke-linejoin:round; stroke-width:4; stroke-opacity:1; fill:none\" points=\"219.069,367.181 248.662,382.589 278.255,397.997 307.849,413.404 337.442,428.812 367.036,444.219 396.629,459.627 426.223,475.035 455.816,490.442 485.41,505.85 515.003,521.258 544.596,536.665 574.19,552.073 603.783,567.481 633.377,582.888 662.97,598.296 692.564,613.703 722.157,629.111 751.751,644.519 781.344,659.926 810.937,675.334 840.531,690.742 870.124,706.149 899.718,721.557 929.311,736.965 958.905,752.372 988.498,767.78 1018.09,783.187 1047.68,798.595 1077.28,814.003 1106.87,829.41 1136.47,844.818 1166.06,860.226 1195.65,875.633 1225.25,891.041 1254.84,906.448 1284.43,921.856 1314.03,937.264 1343.62,952.671 1373.21,968.079 1402.81,983.487 1432.4,998.894 1461.99,1014.3 1491.59,1029.71 1521.18,1045.12 1550.77,1060.52 1580.37,1075.93 1609.96,1091.34 1639.55,1106.75 1669.15,1122.16 1698.74,1137.56 1728.33,1152.97 1757.93,1168.38 1787.52,1183.79 1817.11,1199.19 1846.71,1214.6 1876.3,1230.01 1905.89,1245.42 1935.49,1260.82 1965.08,1276.23 1994.68,1291.64 2024.27,1307.05 2053.86,1322.45 2083.46,1337.86 2113.05,1353.27 2142.64,1368.68 2172.24,1384.09 2201.83,1399.49 2231.42,1414.9 2261.02,1430.31 2290.61,1445.72 \"/>\n<polyline clip-path=\"url(#clip232)\" style=\"stroke:#e26f46; stroke-linecap:round; stroke-linejoin:round; stroke-width:4; stroke-opacity:1; fill:none\" points=\"219.069,87.9763 248.662,141.436 278.255,192.961 307.849,242.589 337.442,290.361 367.036,336.316 396.629,380.492 426.223,422.93 455.816,463.667 485.41,502.745 515.003,540.2 544.596,576.074 574.19,610.405 603.783,643.232 633.377,674.594 662.97,704.532 692.564,733.083 722.157,760.288 751.751,786.185 781.344,810.813 810.937,834.213 840.531,856.422 870.124,877.481 899.718,897.428 929.311,916.304 958.905,934.146 988.498,950.994 1018.09,966.887 1047.68,981.866 1077.28,995.968 1106.87,1009.23 1136.47,1021.7 1166.06,1033.41 1195.65,1044.4 1225.25,1054.71 1254.84,1064.38 1284.43,1073.44 1314.03,1081.95 1343.62,1089.93 1373.21,1097.43 1402.81,1104.48 1432.4,1111.13 1461.99,1117.41 1491.59,1123.36 1521.18,1129.03 1550.77,1134.44 1580.37,1139.65 1609.96,1144.69 1639.55,1149.6 1669.15,1154.41 1698.74,1159.17 1728.33,1163.92 1757.93,1168.7 1787.52,1173.54 1817.11,1178.48 1846.71,1183.57 1876.3,1188.84 1905.89,1194.33 1935.49,1200.09 1965.08,1206.14 1994.68,1212.53 2024.27,1219.31 2053.86,1226.5 2083.46,1234.14 2113.05,1242.29 2142.64,1250.97 2172.24,1260.22 2201.83,1270.09 2231.42,1280.62 2261.02,1291.83 2290.61,1303.78 \"/>\n<polyline clip-path=\"url(#clip232)\" style=\"stroke:#3da44d; stroke-linecap:round; stroke-linejoin:round; stroke-width:4; stroke-opacity:1; fill:none\" points=\"219.069,87.9763 248.662,141.436 278.255,192.961 307.849,242.589 337.442,290.361 367.036,336.316 396.629,380.492 426.223,422.93 455.816,463.667 485.41,502.745 515.003,540.2 544.596,576.074 574.19,610.405 603.783,643.232 633.377,674.594 662.97,704.532 692.564,733.083 722.157,760.288 751.751,786.185 781.344,810.813 810.937,834.213 840.531,856.422 870.124,877.481 899.718,897.428 929.311,916.304 958.905,934.146 988.498,950.994 1018.09,966.887 1047.68,981.866 1077.28,995.968 1106.87,1009.23 1136.47,1021.7 1166.06,1033.41 1195.65,1044.4 1225.25,1054.71 1254.84,1064.38 1284.43,1073.44 1314.03,1081.95 1343.62,1089.93 1373.21,1097.43 1402.81,1104.48 1432.4,1111.13 1461.99,1117.41 1491.59,1123.36 1521.18,1129.03 1550.77,1134.44 1580.37,1139.65 1609.96,1144.69 1639.55,1149.6 1669.15,1154.41 1698.74,1159.17 1728.33,1163.92 1757.93,1168.7 1787.52,1173.54 1817.11,1178.48 1846.71,1183.57 1876.3,1188.84 1905.89,1194.33 1935.49,1200.09 1965.08,1206.14 1994.68,1212.53 2024.27,1219.31 2053.86,1226.5 2083.46,1234.14 2113.05,1242.29 2142.64,1250.97 2172.24,1260.22 2201.83,1270.09 2231.42,1280.62 2261.02,1291.83 2290.61,1303.78 \"/>\n<polyline clip-path=\"url(#clip232)\" style=\"stroke:#c271d2; stroke-linecap:round; stroke-linejoin:round; stroke-width:4; stroke-opacity:1; fill:none\" points=\"219.069,358.167 248.662,377.693 278.255,397.042 307.849,416.217 337.442,435.219 367.036,454.05 396.629,472.711 426.223,491.204 455.816,509.53 485.41,527.691 515.003,545.688 544.596,563.523 574.19,581.198 603.783,598.713 633.377,616.07 662.97,633.27 692.564,650.316 722.157,667.208 751.751,683.948 781.344,700.536 810.937,716.976 840.531,733.267 870.124,749.411 899.718,765.41 929.311,781.264 958.905,796.976 988.498,812.545 1018.09,827.975 1047.68,843.266 1077.28,858.418 1106.87,873.434 1136.47,888.315 1166.06,903.062 1195.65,917.675 1225.25,932.157 1254.84,946.508 1284.43,960.73 1314.03,974.824 1343.62,988.791 1373.21,1002.63 1402.81,1016.35 1432.4,1029.94 1461.99,1043.41 1491.59,1056.76 1521.18,1069.99 1550.77,1083.1 1580.37,1096.09 1609.96,1108.96 1639.55,1121.72 1669.15,1134.36 1698.74,1146.89 1728.33,1159.31 1757.93,1171.61 1787.52,1183.8 1817.11,1195.88 1846.71,1207.86 1876.3,1219.73 1905.89,1231.48 1935.49,1243.14 1965.08,1254.69 1994.68,1266.13 2024.27,1277.47 2053.86,1288.71 2083.46,1299.85 2113.05,1310.88 2142.64,1321.82 2172.24,1332.66 2201.83,1343.4 2231.42,1354.05 2261.02,1364.59 2290.61,1375.05 \"/>\n<polyline clip-path=\"url(#clip232)\" style=\"stroke:#ac8d18; stroke-linecap:round; stroke-linejoin:round; stroke-width:4; stroke-opacity:1; fill:none\" points=\"219.069,358.167 248.662,377.693 278.255,397.042 307.849,416.217 337.442,435.219 367.036,454.05 396.629,472.711 426.223,491.204 455.816,509.53 485.41,527.691 515.003,545.688 544.596,563.523 574.19,581.198 603.783,598.713 633.377,616.07 662.97,633.27 692.564,650.316 722.157,667.208 751.751,683.948 781.344,700.536 810.937,716.976 840.531,733.267 870.124,749.411 899.718,765.41 929.311,781.264 958.905,796.976 988.498,812.545 1018.09,827.975 1047.68,843.266 1077.28,858.418 1106.87,873.434 1136.47,888.315 1166.06,903.062 1195.65,917.675 1225.25,932.157 1254.84,946.508 1284.43,960.73 1314.03,974.824 1343.62,988.791 1373.21,1002.63 1402.81,1016.35 1432.4,1029.94 1461.99,1043.41 1491.59,1056.76 1521.18,1069.99 1550.77,1083.1 1580.37,1096.09 1609.96,1108.96 1639.55,1121.72 1669.15,1134.36 1698.74,1146.89 1728.33,1159.31 1757.93,1171.61 1787.52,1183.8 1817.11,1195.88 1846.71,1207.86 1876.3,1219.73 1905.89,1231.48 1935.49,1243.14 1965.08,1254.69 1994.68,1266.13 2024.27,1277.47 2053.86,1288.71 2083.46,1299.85 2113.05,1310.88 2142.64,1321.82 2172.24,1332.66 2201.83,1343.4 2231.42,1354.05 2261.02,1364.59 2290.61,1375.05 \"/>\n<path clip-path=\"url(#clip230)\" d=\"M2005.83 406.258 L2279.56 406.258 L2279.56 95.2176 L2005.83 95.2176  Z\" fill=\"#ffffff\" fill-rule=\"evenodd\" fill-opacity=\"1\"/>\n<polyline clip-path=\"url(#clip230)\" style=\"stroke:#000000; stroke-linecap:round; stroke-linejoin:round; stroke-width:4; stroke-opacity:1; fill:none\" points=\"2005.83,406.258 2279.56,406.258 2279.56,95.2176 2005.83,95.2176 2005.83,406.258 \"/>\n<polyline clip-path=\"url(#clip230)\" style=\"stroke:#009af9; stroke-linecap:round; stroke-linejoin:round; stroke-width:4; stroke-opacity:1; fill:none\" points=\"2030.23,147.058 2176.62,147.058 \"/>\n<path clip-path=\"url(#clip230)\" d=\"M2214.86 166.745 Q2213.06 171.375 2211.34 172.787 Q2209.63 174.199 2206.76 174.199 L2203.36 174.199 L2203.36 170.634 L2205.86 170.634 Q2207.62 170.634 2208.59 169.8 Q2209.56 168.967 2210.74 165.865 L2211.51 163.921 L2201.02 138.412 L2205.53 138.412 L2213.64 158.689 L2221.74 138.412 L2226.25 138.412 L2214.86 166.745 Z\" fill=\"#000000\" fill-rule=\"nonzero\" fill-opacity=\"1\" /><path clip-path=\"url(#clip230)\" d=\"M2233.54 160.402 L2241.18 160.402 L2241.18 134.037 L2232.87 135.703 L2232.87 131.444 L2241.14 129.778 L2245.81 129.778 L2245.81 160.402 L2253.45 160.402 L2253.45 164.338 L2233.54 164.338 L2233.54 160.402 Z\" fill=\"#000000\" fill-rule=\"nonzero\" fill-opacity=\"1\" /><polyline clip-path=\"url(#clip230)\" style=\"stroke:#e26f46; stroke-linecap:round; stroke-linejoin:round; stroke-width:4; stroke-opacity:1; fill:none\" points=\"2030.23,198.898 2176.62,198.898 \"/>\n<path clip-path=\"url(#clip230)\" d=\"M2214.86 218.585 Q2213.06 223.215 2211.34 224.627 Q2209.63 226.039 2206.76 226.039 L2203.36 226.039 L2203.36 222.474 L2205.86 222.474 Q2207.62 222.474 2208.59 221.64 Q2209.56 220.807 2210.74 217.705 L2211.51 215.761 L2201.02 190.252 L2205.53 190.252 L2213.64 210.529 L2221.74 190.252 L2226.25 190.252 L2214.86 218.585 Z\" fill=\"#000000\" fill-rule=\"nonzero\" fill-opacity=\"1\" /><path clip-path=\"url(#clip230)\" d=\"M2236.76 212.242 L2253.08 212.242 L2253.08 216.178 L2231.14 216.178 L2231.14 212.242 Q2233.8 209.488 2238.38 204.858 Q2242.99 200.205 2244.17 198.863 Q2246.41 196.34 2247.29 194.604 Q2248.2 192.844 2248.2 191.155 Q2248.2 188.4 2246.25 186.664 Q2244.33 184.928 2241.23 184.928 Q2239.03 184.928 2236.58 185.692 Q2234.14 186.455 2231.37 188.006 L2231.37 183.284 Q2234.19 182.15 2236.64 181.571 Q2239.1 180.993 2241.14 180.993 Q2246.51 180.993 2249.7 183.678 Q2252.89 186.363 2252.89 190.854 Q2252.89 192.983 2252.08 194.905 Q2251.3 196.803 2249.19 199.395 Q2248.61 200.067 2245.51 203.284 Q2242.41 206.479 2236.76 212.242 Z\" fill=\"#000000\" fill-rule=\"nonzero\" fill-opacity=\"1\" /><polyline clip-path=\"url(#clip230)\" style=\"stroke:#3da44d; stroke-linecap:round; stroke-linejoin:round; stroke-width:4; stroke-opacity:1; fill:none\" points=\"2030.23,250.738 2176.62,250.738 \"/>\n<path clip-path=\"url(#clip230)\" d=\"M2214.86 270.425 Q2213.06 275.055 2211.34 276.467 Q2209.63 277.879 2206.76 277.879 L2203.36 277.879 L2203.36 274.314 L2205.86 274.314 Q2207.62 274.314 2208.59 273.48 Q2209.56 272.647 2210.74 269.545 L2211.51 267.601 L2201.02 242.092 L2205.53 242.092 L2213.64 262.369 L2221.74 242.092 L2226.25 242.092 L2214.86 270.425 Z\" fill=\"#000000\" fill-rule=\"nonzero\" fill-opacity=\"1\" /><path clip-path=\"url(#clip230)\" d=\"M2246.9 249.383 Q2250.26 250.101 2252.13 252.369 Q2254.03 254.638 2254.03 257.971 Q2254.03 263.087 2250.51 265.888 Q2246.99 268.689 2240.51 268.689 Q2238.33 268.689 2236.02 268.249 Q2233.73 267.832 2231.27 266.976 L2231.27 262.462 Q2233.22 263.596 2235.53 264.175 Q2237.85 264.754 2240.37 264.754 Q2244.77 264.754 2247.06 263.018 Q2249.38 261.281 2249.38 257.971 Q2249.38 254.916 2247.22 253.203 Q2245.09 251.467 2241.27 251.467 L2237.25 251.467 L2237.25 247.624 L2241.46 247.624 Q2244.91 247.624 2246.74 246.258 Q2248.57 244.87 2248.57 242.277 Q2248.57 239.615 2246.67 238.203 Q2244.79 236.768 2241.27 236.768 Q2239.35 236.768 2237.15 237.184 Q2234.96 237.601 2232.32 238.481 L2232.32 234.314 Q2234.98 233.573 2237.29 233.203 Q2239.63 232.833 2241.69 232.833 Q2247.02 232.833 2250.12 235.263 Q2253.22 237.67 2253.22 241.791 Q2253.22 244.661 2251.58 246.652 Q2249.93 248.62 2246.9 249.383 Z\" fill=\"#000000\" fill-rule=\"nonzero\" fill-opacity=\"1\" /><polyline clip-path=\"url(#clip230)\" style=\"stroke:#c271d2; stroke-linecap:round; stroke-linejoin:round; stroke-width:4; stroke-opacity:1; fill:none\" points=\"2030.23,302.578 2176.62,302.578 \"/>\n<path clip-path=\"url(#clip230)\" d=\"M2214.86 322.265 Q2213.06 326.895 2211.34 328.307 Q2209.63 329.719 2206.76 329.719 L2203.36 329.719 L2203.36 326.154 L2205.86 326.154 Q2207.62 326.154 2208.59 325.32 Q2209.56 324.487 2210.74 321.385 L2211.51 319.441 L2201.02 293.932 L2205.53 293.932 L2213.64 314.209 L2221.74 293.932 L2226.25 293.932 L2214.86 322.265 Z\" fill=\"#000000\" fill-rule=\"nonzero\" fill-opacity=\"1\" /><path clip-path=\"url(#clip230)\" d=\"M2245.58 289.372 L2233.77 307.821 L2245.58 307.821 L2245.58 289.372 M2244.35 285.298 L2250.23 285.298 L2250.23 307.821 L2255.16 307.821 L2255.16 311.709 L2250.23 311.709 L2250.23 319.858 L2245.58 319.858 L2245.58 311.709 L2229.98 311.709 L2229.98 307.196 L2244.35 285.298 Z\" fill=\"#000000\" fill-rule=\"nonzero\" fill-opacity=\"1\" /><polyline clip-path=\"url(#clip230)\" style=\"stroke:#ac8d18; stroke-linecap:round; stroke-linejoin:round; stroke-width:4; stroke-opacity:1; fill:none\" points=\"2030.23,354.418 2176.62,354.418 \"/>\n<path clip-path=\"url(#clip230)\" d=\"M2214.86 374.105 Q2213.06 378.735 2211.34 380.147 Q2209.63 381.559 2206.76 381.559 L2203.36 381.559 L2203.36 377.994 L2205.86 377.994 Q2207.62 377.994 2208.59 377.16 Q2209.56 376.327 2210.74 373.225 L2211.51 371.281 L2201.02 345.772 L2205.53 345.772 L2213.64 366.049 L2221.74 345.772 L2226.25 345.772 L2214.86 374.105 Z\" fill=\"#000000\" fill-rule=\"nonzero\" fill-opacity=\"1\" /><path clip-path=\"url(#clip230)\" d=\"M2232.78 337.138 L2251.14 337.138 L2251.14 341.073 L2237.06 341.073 L2237.06 349.545 Q2238.08 349.198 2239.1 349.036 Q2240.12 348.85 2241.14 348.85 Q2246.92 348.85 2250.3 352.022 Q2253.68 355.193 2253.68 360.61 Q2253.68 366.188 2250.21 369.29 Q2246.74 372.369 2240.42 372.369 Q2238.24 372.369 2235.97 371.998 Q2233.73 371.628 2231.32 370.887 L2231.32 366.188 Q2233.4 367.323 2235.63 367.878 Q2237.85 368.434 2240.33 368.434 Q2244.33 368.434 2246.67 366.327 Q2249.01 364.221 2249.01 360.61 Q2249.01 356.999 2246.67 354.892 Q2244.33 352.786 2240.33 352.786 Q2238.45 352.786 2236.58 353.202 Q2234.72 353.619 2232.78 354.499 L2232.78 337.138 Z\" fill=\"#000000\" fill-rule=\"nonzero\" fill-opacity=\"1\" /></svg>\n",
            "image/svg+xml": "<?xml version=\"1.0\" encoding=\"utf-8\"?>\n<svg xmlns=\"http://www.w3.org/2000/svg\" xmlns:xlink=\"http://www.w3.org/1999/xlink\" width=\"600\" height=\"400\" viewBox=\"0 0 2400 1600\">\n<defs>\n  <clipPath id=\"clip180\">\n    <rect x=\"0\" y=\"0\" width=\"2400\" height=\"1600\"/>\n  </clipPath>\n</defs>\n<path clip-path=\"url(#clip180)\" d=\"M0 1600 L2400 1600 L2400 0 L0 0  Z\" fill=\"#ffffff\" fill-rule=\"evenodd\" fill-opacity=\"1\"/>\n<defs>\n  <clipPath id=\"clip181\">\n    <rect x=\"480\" y=\"0\" width=\"1681\" height=\"1600\"/>\n  </clipPath>\n</defs>\n<path clip-path=\"url(#clip180)\" d=\"M156.922 1486.45 L2352.76 1486.45 L2352.76 47.2441 L156.922 47.2441  Z\" fill=\"#ffffff\" fill-rule=\"evenodd\" fill-opacity=\"1\"/>\n<defs>\n  <clipPath id=\"clip182\">\n    <rect x=\"156\" y=\"47\" width=\"2197\" height=\"1440\"/>\n  </clipPath>\n</defs>\n<polyline clip-path=\"url(#clip182)\" style=\"stroke:#000000; stroke-linecap:round; stroke-linejoin:round; stroke-width:2; stroke-opacity:0.1; fill:none\" points=\"219.069,1486.45 219.069,47.2441 \"/>\n<polyline clip-path=\"url(#clip182)\" style=\"stroke:#000000; stroke-linecap:round; stroke-linejoin:round; stroke-width:2; stroke-opacity:0.1; fill:none\" points=\"810.937,1486.45 810.937,47.2441 \"/>\n<polyline clip-path=\"url(#clip182)\" style=\"stroke:#000000; stroke-linecap:round; stroke-linejoin:round; stroke-width:2; stroke-opacity:0.1; fill:none\" points=\"1402.81,1486.45 1402.81,47.2441 \"/>\n<polyline clip-path=\"url(#clip182)\" style=\"stroke:#000000; stroke-linecap:round; stroke-linejoin:round; stroke-width:2; stroke-opacity:0.1; fill:none\" points=\"1994.68,1486.45 1994.68,47.2441 \"/>\n<polyline clip-path=\"url(#clip180)\" style=\"stroke:#000000; stroke-linecap:round; stroke-linejoin:round; stroke-width:4; stroke-opacity:1; fill:none\" points=\"156.922,1486.45 2352.76,1486.45 \"/>\n<polyline clip-path=\"url(#clip180)\" style=\"stroke:#000000; stroke-linecap:round; stroke-linejoin:round; stroke-width:4; stroke-opacity:1; fill:none\" points=\"219.069,1486.45 219.069,1467.55 \"/>\n<polyline clip-path=\"url(#clip180)\" style=\"stroke:#000000; stroke-linecap:round; stroke-linejoin:round; stroke-width:4; stroke-opacity:1; fill:none\" points=\"810.937,1486.45 810.937,1467.55 \"/>\n<polyline clip-path=\"url(#clip180)\" style=\"stroke:#000000; stroke-linecap:round; stroke-linejoin:round; stroke-width:4; stroke-opacity:1; fill:none\" points=\"1402.81,1486.45 1402.81,1467.55 \"/>\n<polyline clip-path=\"url(#clip180)\" style=\"stroke:#000000; stroke-linecap:round; stroke-linejoin:round; stroke-width:4; stroke-opacity:1; fill:none\" points=\"1994.68,1486.45 1994.68,1467.55 \"/>\n<path clip-path=\"url(#clip180)\" d=\"M219.069 1517.37 Q215.457 1517.37 213.629 1520.93 Q211.823 1524.47 211.823 1531.6 Q211.823 1538.71 213.629 1542.27 Q215.457 1545.82 219.069 1545.82 Q222.703 1545.82 224.508 1542.27 Q226.337 1538.71 226.337 1531.6 Q226.337 1524.47 224.508 1520.93 Q222.703 1517.37 219.069 1517.37 M219.069 1513.66 Q224.879 1513.66 227.934 1518.27 Q231.013 1522.85 231.013 1531.6 Q231.013 1540.33 227.934 1544.94 Q224.879 1549.52 219.069 1549.52 Q213.258 1549.52 210.18 1544.94 Q207.124 1540.33 207.124 1531.6 Q207.124 1522.85 210.18 1518.27 Q213.258 1513.66 219.069 1513.66 Z\" fill=\"#000000\" fill-rule=\"nonzero\" fill-opacity=\"1\" /><path clip-path=\"url(#clip180)\" d=\"M805.59 1544.91 L821.91 1544.91 L821.91 1548.85 L799.965 1548.85 L799.965 1544.91 Q802.627 1542.16 807.211 1537.53 Q811.817 1532.88 812.998 1531.53 Q815.243 1529.01 816.123 1527.27 Q817.025 1525.51 817.025 1523.82 Q817.025 1521.07 815.081 1519.33 Q813.16 1517.6 810.058 1517.6 Q807.859 1517.6 805.405 1518.36 Q802.975 1519.13 800.197 1520.68 L800.197 1515.95 Q803.021 1514.82 805.475 1514.24 Q807.928 1513.66 809.965 1513.66 Q815.336 1513.66 818.53 1516.35 Q821.724 1519.03 821.724 1523.52 Q821.724 1525.65 820.914 1527.57 Q820.127 1529.47 818.021 1532.07 Q817.442 1532.74 814.34 1535.95 Q811.238 1539.15 805.59 1544.91 Z\" fill=\"#000000\" fill-rule=\"nonzero\" fill-opacity=\"1\" /><path clip-path=\"url(#clip180)\" d=\"M1405.82 1518.36 L1394.01 1536.81 L1405.82 1536.81 L1405.82 1518.36 M1404.59 1514.29 L1410.47 1514.29 L1410.47 1536.81 L1415.4 1536.81 L1415.4 1540.7 L1410.47 1540.7 L1410.47 1548.85 L1405.82 1548.85 L1405.82 1540.7 L1390.21 1540.7 L1390.21 1536.19 L1404.59 1514.29 Z\" fill=\"#000000\" fill-rule=\"nonzero\" fill-opacity=\"1\" /><path clip-path=\"url(#clip180)\" d=\"M1995.08 1529.7 Q1991.93 1529.7 1990.08 1531.86 Q1988.25 1534.01 1988.25 1537.76 Q1988.25 1541.49 1990.08 1543.66 Q1991.93 1545.82 1995.08 1545.82 Q1998.23 1545.82 2000.06 1543.66 Q2001.91 1541.49 2001.91 1537.76 Q2001.91 1534.01 2000.06 1531.86 Q1998.23 1529.7 1995.08 1529.7 M2004.36 1515.05 L2004.36 1519.31 Q2002.6 1518.48 2000.8 1518.04 Q1999.02 1517.6 1997.26 1517.6 Q1992.63 1517.6 1990.17 1520.72 Q1987.74 1523.85 1987.4 1530.17 Q1988.76 1528.15 1990.82 1527.09 Q1992.88 1526 1995.36 1526 Q2000.57 1526 2003.58 1529.17 Q2006.61 1532.32 2006.61 1537.76 Q2006.61 1543.08 2003.46 1546.3 Q2000.31 1549.52 1995.08 1549.52 Q1989.08 1549.52 1985.91 1544.94 Q1982.74 1540.33 1982.74 1531.6 Q1982.74 1523.41 1986.63 1518.55 Q1990.52 1513.66 1997.07 1513.66 Q1998.83 1513.66 2000.61 1514.01 Q2002.42 1514.36 2004.36 1515.05 Z\" fill=\"#000000\" fill-rule=\"nonzero\" fill-opacity=\"1\" /><polyline clip-path=\"url(#clip182)\" style=\"stroke:#000000; stroke-linecap:round; stroke-linejoin:round; stroke-width:2; stroke-opacity:0.1; fill:none\" points=\"156.922,1291.64 2352.76,1291.64 \"/>\n<polyline clip-path=\"url(#clip182)\" style=\"stroke:#000000; stroke-linecap:round; stroke-linejoin:round; stroke-width:2; stroke-opacity:0.1; fill:none\" points=\"156.922,983.487 2352.76,983.487 \"/>\n<polyline clip-path=\"url(#clip182)\" style=\"stroke:#000000; stroke-linecap:round; stroke-linejoin:round; stroke-width:2; stroke-opacity:0.1; fill:none\" points=\"156.922,675.334 2352.76,675.334 \"/>\n<polyline clip-path=\"url(#clip182)\" style=\"stroke:#000000; stroke-linecap:round; stroke-linejoin:round; stroke-width:2; stroke-opacity:0.1; fill:none\" points=\"156.922,367.181 2352.76,367.181 \"/>\n<polyline clip-path=\"url(#clip182)\" style=\"stroke:#000000; stroke-linecap:round; stroke-linejoin:round; stroke-width:2; stroke-opacity:0.1; fill:none\" points=\"156.922,59.0286 2352.76,59.0286 \"/>\n<polyline clip-path=\"url(#clip180)\" style=\"stroke:#000000; stroke-linecap:round; stroke-linejoin:round; stroke-width:4; stroke-opacity:1; fill:none\" points=\"156.922,1486.45 156.922,47.2441 \"/>\n<polyline clip-path=\"url(#clip180)\" style=\"stroke:#000000; stroke-linecap:round; stroke-linejoin:round; stroke-width:4; stroke-opacity:1; fill:none\" points=\"156.922,1291.64 175.82,1291.64 \"/>\n<polyline clip-path=\"url(#clip180)\" style=\"stroke:#000000; stroke-linecap:round; stroke-linejoin:round; stroke-width:4; stroke-opacity:1; fill:none\" points=\"156.922,983.487 175.82,983.487 \"/>\n<polyline clip-path=\"url(#clip180)\" style=\"stroke:#000000; stroke-linecap:round; stroke-linejoin:round; stroke-width:4; stroke-opacity:1; fill:none\" points=\"156.922,675.334 175.82,675.334 \"/>\n<polyline clip-path=\"url(#clip180)\" style=\"stroke:#000000; stroke-linecap:round; stroke-linejoin:round; stroke-width:4; stroke-opacity:1; fill:none\" points=\"156.922,367.181 175.82,367.181 \"/>\n<polyline clip-path=\"url(#clip180)\" style=\"stroke:#000000; stroke-linecap:round; stroke-linejoin:round; stroke-width:4; stroke-opacity:1; fill:none\" points=\"156.922,59.0286 175.82,59.0286 \"/>\n<path clip-path=\"url(#clip180)\" d=\"M57.7745 1304.98 L74.0939 1304.98 L74.0939 1308.92 L52.1495 1308.92 L52.1495 1304.98 Q54.8115 1302.23 59.3949 1297.6 Q64.0013 1292.95 65.1819 1291.6 Q67.4272 1289.08 68.3068 1287.35 Q69.2096 1285.59 69.2096 1283.9 Q69.2096 1281.14 67.2652 1279.41 Q65.3439 1277.67 62.2421 1277.67 Q60.043 1277.67 57.5893 1278.43 Q55.1588 1279.2 52.381 1280.75 L52.381 1276.03 Q55.2051 1274.89 57.6588 1274.31 Q60.1124 1273.73 62.1495 1273.73 Q67.5198 1273.73 70.7142 1276.42 Q73.9087 1279.1 73.9087 1283.6 Q73.9087 1285.73 73.0985 1287.65 Q72.3115 1289.54 70.205 1292.14 Q69.6263 1292.81 66.5245 1296.03 Q63.4226 1299.22 57.7745 1304.98 Z\" fill=\"#000000\" fill-rule=\"nonzero\" fill-opacity=\"1\" /><path clip-path=\"url(#clip180)\" d=\"M83.9086 1303.04 L88.7928 1303.04 L88.7928 1308.92 L83.9086 1308.92 L83.9086 1303.04 Z\" fill=\"#000000\" fill-rule=\"nonzero\" fill-opacity=\"1\" /><path clip-path=\"url(#clip180)\" d=\"M108.978 1277.44 Q105.367 1277.44 103.538 1281 Q101.733 1284.54 101.733 1291.67 Q101.733 1298.78 103.538 1302.35 Q105.367 1305.89 108.978 1305.89 Q112.612 1305.89 114.418 1302.35 Q116.246 1298.78 116.246 1291.67 Q116.246 1284.54 114.418 1281 Q112.612 1277.44 108.978 1277.44 M108.978 1273.73 Q114.788 1273.73 117.844 1278.34 Q120.922 1282.92 120.922 1291.67 Q120.922 1300.4 117.844 1305.01 Q114.788 1309.59 108.978 1309.59 Q103.168 1309.59 100.089 1305.01 Q97.0335 1300.4 97.0335 1291.67 Q97.0335 1282.92 100.089 1278.34 Q103.168 1273.73 108.978 1273.73 Z\" fill=\"#000000\" fill-rule=\"nonzero\" fill-opacity=\"1\" /><path clip-path=\"url(#clip180)\" d=\"M58.7699 996.831 L75.0892 996.831 L75.0892 1000.77 L53.1449 1000.77 L53.1449 996.831 Q55.8069 994.077 60.3902 989.447 Q64.9967 984.795 66.1772 983.452 Q68.4226 980.929 69.3022 979.193 Q70.205 977.433 70.205 975.744 Q70.205 972.989 68.2606 971.253 Q66.3393 969.517 63.2374 969.517 Q61.0384 969.517 58.5847 970.281 Q56.1541 971.045 53.3764 972.596 L53.3764 967.873 Q56.2004 966.739 58.6541 966.16 Q61.1078 965.582 63.1448 965.582 Q68.5152 965.582 71.7096 968.267 Q74.904 970.952 74.904 975.443 Q74.904 977.572 74.0939 979.494 Q73.3068 981.392 71.2004 983.984 Q70.6217 984.656 67.5198 987.873 Q64.418 991.068 58.7699 996.831 Z\" fill=\"#000000\" fill-rule=\"nonzero\" fill-opacity=\"1\" /><path clip-path=\"url(#clip180)\" d=\"M84.904 994.887 L89.7882 994.887 L89.7882 1000.77 L84.904 1000.77 L84.904 994.887 Z\" fill=\"#000000\" fill-rule=\"nonzero\" fill-opacity=\"1\" /><path clip-path=\"url(#clip180)\" d=\"M100.02 966.207 L118.376 966.207 L118.376 970.142 L104.302 970.142 L104.302 978.614 Q105.321 978.267 106.339 978.105 Q107.358 977.92 108.376 977.92 Q114.163 977.92 117.543 981.091 Q120.922 984.262 120.922 989.679 Q120.922 995.257 117.45 998.359 Q113.978 1001.44 107.658 1001.44 Q105.483 1001.44 103.214 1001.07 Q100.969 1000.7 98.5613 999.956 L98.5613 995.257 Q100.645 996.392 102.867 996.947 Q105.089 997.503 107.566 997.503 Q111.571 997.503 113.908 995.396 Q116.246 993.29 116.246 989.679 Q116.246 986.068 113.908 983.961 Q111.571 981.855 107.566 981.855 Q105.691 981.855 103.816 982.271 Q101.964 982.688 100.02 983.568 L100.02 966.207 Z\" fill=\"#000000\" fill-rule=\"nonzero\" fill-opacity=\"1\" /><path clip-path=\"url(#clip180)\" d=\"M67.9133 673.98 Q71.2698 674.697 73.1448 676.966 Q75.0429 679.234 75.0429 682.568 Q75.0429 687.683 71.5244 690.484 Q68.0059 693.285 61.5245 693.285 Q59.3486 693.285 57.0338 692.845 Q54.7421 692.429 52.2884 691.572 L52.2884 687.058 Q54.2328 688.193 56.5477 688.771 Q58.8625 689.35 61.3856 689.35 Q65.7837 689.35 68.0754 687.614 Q70.3902 685.878 70.3902 682.568 Q70.3902 679.512 68.2374 677.799 Q66.1078 676.063 62.2884 676.063 L58.2606 676.063 L58.2606 672.221 L62.4735 672.221 Q65.9226 672.221 67.7513 670.855 Q69.58 669.466 69.58 666.873 Q69.58 664.211 67.6819 662.799 Q65.8069 661.364 62.2884 661.364 Q60.3671 661.364 58.168 661.781 Q55.969 662.197 53.3301 663.077 L53.3301 658.91 Q55.9921 658.17 58.3069 657.799 Q60.6449 657.429 62.705 657.429 Q68.0291 657.429 71.1309 659.86 Q74.2327 662.267 74.2327 666.387 Q74.2327 669.258 72.5892 671.248 Q70.9457 673.216 67.9133 673.98 Z\" fill=\"#000000\" fill-rule=\"nonzero\" fill-opacity=\"1\" /><path clip-path=\"url(#clip180)\" d=\"M83.9086 686.734 L88.7928 686.734 L88.7928 692.614 L83.9086 692.614 L83.9086 686.734 Z\" fill=\"#000000\" fill-rule=\"nonzero\" fill-opacity=\"1\" /><path clip-path=\"url(#clip180)\" d=\"M108.978 661.133 Q105.367 661.133 103.538 664.697 Q101.733 668.239 101.733 675.369 Q101.733 682.475 103.538 686.04 Q105.367 689.582 108.978 689.582 Q112.612 689.582 114.418 686.04 Q116.246 682.475 116.246 675.369 Q116.246 668.239 114.418 664.697 Q112.612 661.133 108.978 661.133 M108.978 657.429 Q114.788 657.429 117.844 662.035 Q120.922 666.619 120.922 675.369 Q120.922 684.096 117.844 688.702 Q114.788 693.285 108.978 693.285 Q103.168 693.285 100.089 688.702 Q97.0335 684.096 97.0335 675.369 Q97.0335 666.619 100.089 662.035 Q103.168 657.429 108.978 657.429 Z\" fill=\"#000000\" fill-rule=\"nonzero\" fill-opacity=\"1\" /><path clip-path=\"url(#clip180)\" d=\"M68.9087 365.827 Q72.2652 366.545 74.1402 368.813 Q76.0383 371.082 76.0383 374.415 Q76.0383 379.531 72.5198 382.332 Q69.0013 385.133 62.5198 385.133 Q60.3439 385.133 58.0291 384.693 Q55.7375 384.276 53.2838 383.42 L53.2838 378.906 Q55.2282 380.04 57.543 380.619 Q59.8578 381.197 62.381 381.197 Q66.7791 381.197 69.0707 379.461 Q71.3855 377.725 71.3855 374.415 Q71.3855 371.36 69.2328 369.647 Q67.1032 367.91 63.2837 367.91 L59.256 367.91 L59.256 364.068 L63.4689 364.068 Q66.918 364.068 68.7467 362.702 Q70.5754 361.313 70.5754 358.721 Q70.5754 356.059 68.6772 354.647 Q66.8022 353.211 63.2837 353.211 Q61.3624 353.211 59.1634 353.628 Q56.9643 354.045 54.3254 354.924 L54.3254 350.758 Q56.9875 350.017 59.3023 349.647 Q61.6402 349.276 63.7004 349.276 Q69.0244 349.276 72.1263 351.707 Q75.2281 354.114 75.2281 358.235 Q75.2281 361.105 73.5846 363.096 Q71.9411 365.063 68.9087 365.827 Z\" fill=\"#000000\" fill-rule=\"nonzero\" fill-opacity=\"1\" /><path clip-path=\"url(#clip180)\" d=\"M84.904 378.582 L89.7882 378.582 L89.7882 384.461 L84.904 384.461 L84.904 378.582 Z\" fill=\"#000000\" fill-rule=\"nonzero\" fill-opacity=\"1\" /><path clip-path=\"url(#clip180)\" d=\"M100.02 349.901 L118.376 349.901 L118.376 353.836 L104.302 353.836 L104.302 362.309 Q105.321 361.961 106.339 361.799 Q107.358 361.614 108.376 361.614 Q114.163 361.614 117.543 364.785 Q120.922 367.957 120.922 373.373 Q120.922 378.952 117.45 382.054 Q113.978 385.133 107.658 385.133 Q105.483 385.133 103.214 384.762 Q100.969 384.392 98.5613 383.651 L98.5613 378.952 Q100.645 380.086 102.867 380.642 Q105.089 381.197 107.566 381.197 Q111.571 381.197 113.908 379.091 Q116.246 376.984 116.246 373.373 Q116.246 369.762 113.908 367.656 Q111.571 365.549 107.566 365.549 Q105.691 365.549 103.816 365.966 Q101.964 366.383 100.02 367.262 L100.02 349.901 Z\" fill=\"#000000\" fill-rule=\"nonzero\" fill-opacity=\"1\" /><path clip-path=\"url(#clip180)\" d=\"M66.5939 45.8227 L54.7884 64.2716 L66.5939 64.2716 L66.5939 45.8227 M65.367 41.7486 L71.2466 41.7486 L71.2466 64.2716 L76.1772 64.2716 L76.1772 68.1605 L71.2466 68.1605 L71.2466 76.3086 L66.5939 76.3086 L66.5939 68.1605 L50.9921 68.1605 L50.9921 63.6466 L65.367 41.7486 Z\" fill=\"#000000\" fill-rule=\"nonzero\" fill-opacity=\"1\" /><path clip-path=\"url(#clip180)\" d=\"M83.9086 70.429 L88.7928 70.429 L88.7928 76.3086 L83.9086 76.3086 L83.9086 70.429 Z\" fill=\"#000000\" fill-rule=\"nonzero\" fill-opacity=\"1\" /><path clip-path=\"url(#clip180)\" d=\"M108.978 44.8273 Q105.367 44.8273 103.538 48.3921 Q101.733 51.9337 101.733 59.0633 Q101.733 66.1698 103.538 69.7346 Q105.367 73.2762 108.978 73.2762 Q112.612 73.2762 114.418 69.7346 Q116.246 66.1698 116.246 59.0633 Q116.246 51.9337 114.418 48.3921 Q112.612 44.8273 108.978 44.8273 M108.978 41.1236 Q114.788 41.1236 117.844 45.7301 Q120.922 50.3134 120.922 59.0633 Q120.922 67.7901 117.844 72.3966 Q114.788 76.9799 108.978 76.9799 Q103.168 76.9799 100.089 72.3966 Q97.0335 67.7901 97.0335 59.0633 Q97.0335 50.3134 100.089 45.7301 Q103.168 41.1236 108.978 41.1236 Z\" fill=\"#000000\" fill-rule=\"nonzero\" fill-opacity=\"1\" /><polyline clip-path=\"url(#clip182)\" style=\"stroke:#009af9; stroke-linecap:round; stroke-linejoin:round; stroke-width:4; stroke-opacity:1; fill:none\" points=\"219.069,367.181 248.662,382.589 278.255,397.997 307.849,413.404 337.442,428.812 367.036,444.219 396.629,459.627 426.223,475.035 455.816,490.442 485.41,505.85 515.003,521.258 544.596,536.665 574.19,552.073 603.783,567.481 633.377,582.888 662.97,598.296 692.564,613.703 722.157,629.111 751.751,644.519 781.344,659.926 810.937,675.334 840.531,690.742 870.124,706.149 899.718,721.557 929.311,736.965 958.905,752.372 988.498,767.78 1018.09,783.187 1047.68,798.595 1077.28,814.003 1106.87,829.41 1136.47,844.818 1166.06,860.226 1195.65,875.633 1225.25,891.041 1254.84,906.448 1284.43,921.856 1314.03,937.264 1343.62,952.671 1373.21,968.079 1402.81,983.487 1432.4,998.894 1461.99,1014.3 1491.59,1029.71 1521.18,1045.12 1550.77,1060.52 1580.37,1075.93 1609.96,1091.34 1639.55,1106.75 1669.15,1122.16 1698.74,1137.56 1728.33,1152.97 1757.93,1168.38 1787.52,1183.79 1817.11,1199.19 1846.71,1214.6 1876.3,1230.01 1905.89,1245.42 1935.49,1260.82 1965.08,1276.23 1994.68,1291.64 2024.27,1307.05 2053.86,1322.45 2083.46,1337.86 2113.05,1353.27 2142.64,1368.68 2172.24,1384.09 2201.83,1399.49 2231.42,1414.9 2261.02,1430.31 2290.61,1445.72 \"/>\n<polyline clip-path=\"url(#clip182)\" style=\"stroke:#e26f46; stroke-linecap:round; stroke-linejoin:round; stroke-width:4; stroke-opacity:1; fill:none\" points=\"219.069,87.9763 248.662,141.436 278.255,192.961 307.849,242.589 337.442,290.361 367.036,336.316 396.629,380.492 426.223,422.93 455.816,463.667 485.41,502.745 515.003,540.2 544.596,576.074 574.19,610.405 603.783,643.232 633.377,674.594 662.97,704.532 692.564,733.083 722.157,760.288 751.751,786.185 781.344,810.813 810.937,834.213 840.531,856.422 870.124,877.481 899.718,897.428 929.311,916.304 958.905,934.146 988.498,950.994 1018.09,966.887 1047.68,981.866 1077.28,995.968 1106.87,1009.23 1136.47,1021.7 1166.06,1033.41 1195.65,1044.4 1225.25,1054.71 1254.84,1064.38 1284.43,1073.44 1314.03,1081.95 1343.62,1089.93 1373.21,1097.43 1402.81,1104.48 1432.4,1111.13 1461.99,1117.41 1491.59,1123.36 1521.18,1129.03 1550.77,1134.44 1580.37,1139.65 1609.96,1144.69 1639.55,1149.6 1669.15,1154.41 1698.74,1159.17 1728.33,1163.92 1757.93,1168.7 1787.52,1173.54 1817.11,1178.48 1846.71,1183.57 1876.3,1188.84 1905.89,1194.33 1935.49,1200.09 1965.08,1206.14 1994.68,1212.53 2024.27,1219.31 2053.86,1226.5 2083.46,1234.14 2113.05,1242.29 2142.64,1250.97 2172.24,1260.22 2201.83,1270.09 2231.42,1280.62 2261.02,1291.83 2290.61,1303.78 \"/>\n<polyline clip-path=\"url(#clip182)\" style=\"stroke:#3da44d; stroke-linecap:round; stroke-linejoin:round; stroke-width:4; stroke-opacity:1; fill:none\" points=\"219.069,87.9763 248.662,141.436 278.255,192.961 307.849,242.589 337.442,290.361 367.036,336.316 396.629,380.492 426.223,422.93 455.816,463.667 485.41,502.745 515.003,540.2 544.596,576.074 574.19,610.405 603.783,643.232 633.377,674.594 662.97,704.532 692.564,733.083 722.157,760.288 751.751,786.185 781.344,810.813 810.937,834.213 840.531,856.422 870.124,877.481 899.718,897.428 929.311,916.304 958.905,934.146 988.498,950.994 1018.09,966.887 1047.68,981.866 1077.28,995.968 1106.87,1009.23 1136.47,1021.7 1166.06,1033.41 1195.65,1044.4 1225.25,1054.71 1254.84,1064.38 1284.43,1073.44 1314.03,1081.95 1343.62,1089.93 1373.21,1097.43 1402.81,1104.48 1432.4,1111.13 1461.99,1117.41 1491.59,1123.36 1521.18,1129.03 1550.77,1134.44 1580.37,1139.65 1609.96,1144.69 1639.55,1149.6 1669.15,1154.41 1698.74,1159.17 1728.33,1163.92 1757.93,1168.7 1787.52,1173.54 1817.11,1178.48 1846.71,1183.57 1876.3,1188.84 1905.89,1194.33 1935.49,1200.09 1965.08,1206.14 1994.68,1212.53 2024.27,1219.31 2053.86,1226.5 2083.46,1234.14 2113.05,1242.29 2142.64,1250.97 2172.24,1260.22 2201.83,1270.09 2231.42,1280.62 2261.02,1291.83 2290.61,1303.78 \"/>\n<polyline clip-path=\"url(#clip182)\" style=\"stroke:#c271d2; stroke-linecap:round; stroke-linejoin:round; stroke-width:4; stroke-opacity:1; fill:none\" points=\"219.069,358.167 248.662,377.693 278.255,397.042 307.849,416.217 337.442,435.219 367.036,454.05 396.629,472.711 426.223,491.204 455.816,509.53 485.41,527.691 515.003,545.688 544.596,563.523 574.19,581.198 603.783,598.713 633.377,616.07 662.97,633.27 692.564,650.316 722.157,667.208 751.751,683.948 781.344,700.536 810.937,716.976 840.531,733.267 870.124,749.411 899.718,765.41 929.311,781.264 958.905,796.976 988.498,812.545 1018.09,827.975 1047.68,843.266 1077.28,858.418 1106.87,873.434 1136.47,888.315 1166.06,903.062 1195.65,917.675 1225.25,932.157 1254.84,946.508 1284.43,960.73 1314.03,974.824 1343.62,988.791 1373.21,1002.63 1402.81,1016.35 1432.4,1029.94 1461.99,1043.41 1491.59,1056.76 1521.18,1069.99 1550.77,1083.1 1580.37,1096.09 1609.96,1108.96 1639.55,1121.72 1669.15,1134.36 1698.74,1146.89 1728.33,1159.31 1757.93,1171.61 1787.52,1183.8 1817.11,1195.88 1846.71,1207.86 1876.3,1219.73 1905.89,1231.48 1935.49,1243.14 1965.08,1254.69 1994.68,1266.13 2024.27,1277.47 2053.86,1288.71 2083.46,1299.85 2113.05,1310.88 2142.64,1321.82 2172.24,1332.66 2201.83,1343.4 2231.42,1354.05 2261.02,1364.59 2290.61,1375.05 \"/>\n<polyline clip-path=\"url(#clip182)\" style=\"stroke:#ac8d18; stroke-linecap:round; stroke-linejoin:round; stroke-width:4; stroke-opacity:1; fill:none\" points=\"219.069,358.167 248.662,377.693 278.255,397.042 307.849,416.217 337.442,435.219 367.036,454.05 396.629,472.711 426.223,491.204 455.816,509.53 485.41,527.691 515.003,545.688 544.596,563.523 574.19,581.198 603.783,598.713 633.377,616.07 662.97,633.27 692.564,650.316 722.157,667.208 751.751,683.948 781.344,700.536 810.937,716.976 840.531,733.267 870.124,749.411 899.718,765.41 929.311,781.264 958.905,796.976 988.498,812.545 1018.09,827.975 1047.68,843.266 1077.28,858.418 1106.87,873.434 1136.47,888.315 1166.06,903.062 1195.65,917.675 1225.25,932.157 1254.84,946.508 1284.43,960.73 1314.03,974.824 1343.62,988.791 1373.21,1002.63 1402.81,1016.35 1432.4,1029.94 1461.99,1043.41 1491.59,1056.76 1521.18,1069.99 1550.77,1083.1 1580.37,1096.09 1609.96,1108.96 1639.55,1121.72 1669.15,1134.36 1698.74,1146.89 1728.33,1159.31 1757.93,1171.61 1787.52,1183.8 1817.11,1195.88 1846.71,1207.86 1876.3,1219.73 1905.89,1231.48 1935.49,1243.14 1965.08,1254.69 1994.68,1266.13 2024.27,1277.47 2053.86,1288.71 2083.46,1299.85 2113.05,1310.88 2142.64,1321.82 2172.24,1332.66 2201.83,1343.4 2231.42,1354.05 2261.02,1364.59 2290.61,1375.05 \"/>\n<path clip-path=\"url(#clip180)\" d=\"M2005.83 406.258 L2279.56 406.258 L2279.56 95.2176 L2005.83 95.2176  Z\" fill=\"#ffffff\" fill-rule=\"evenodd\" fill-opacity=\"1\"/>\n<polyline clip-path=\"url(#clip180)\" style=\"stroke:#000000; stroke-linecap:round; stroke-linejoin:round; stroke-width:4; stroke-opacity:1; fill:none\" points=\"2005.83,406.258 2279.56,406.258 2279.56,95.2176 2005.83,95.2176 2005.83,406.258 \"/>\n<polyline clip-path=\"url(#clip180)\" style=\"stroke:#009af9; stroke-linecap:round; stroke-linejoin:round; stroke-width:4; stroke-opacity:1; fill:none\" points=\"2030.23,147.058 2176.62,147.058 \"/>\n<path clip-path=\"url(#clip180)\" d=\"M2214.86 166.745 Q2213.06 171.375 2211.34 172.787 Q2209.63 174.199 2206.76 174.199 L2203.36 174.199 L2203.36 170.634 L2205.86 170.634 Q2207.62 170.634 2208.59 169.8 Q2209.56 168.967 2210.74 165.865 L2211.51 163.921 L2201.02 138.412 L2205.53 138.412 L2213.64 158.689 L2221.74 138.412 L2226.25 138.412 L2214.86 166.745 Z\" fill=\"#000000\" fill-rule=\"nonzero\" fill-opacity=\"1\" /><path clip-path=\"url(#clip180)\" d=\"M2233.54 160.402 L2241.18 160.402 L2241.18 134.037 L2232.87 135.703 L2232.87 131.444 L2241.14 129.778 L2245.81 129.778 L2245.81 160.402 L2253.45 160.402 L2253.45 164.338 L2233.54 164.338 L2233.54 160.402 Z\" fill=\"#000000\" fill-rule=\"nonzero\" fill-opacity=\"1\" /><polyline clip-path=\"url(#clip180)\" style=\"stroke:#e26f46; stroke-linecap:round; stroke-linejoin:round; stroke-width:4; stroke-opacity:1; fill:none\" points=\"2030.23,198.898 2176.62,198.898 \"/>\n<path clip-path=\"url(#clip180)\" d=\"M2214.86 218.585 Q2213.06 223.215 2211.34 224.627 Q2209.63 226.039 2206.76 226.039 L2203.36 226.039 L2203.36 222.474 L2205.86 222.474 Q2207.62 222.474 2208.59 221.64 Q2209.56 220.807 2210.74 217.705 L2211.51 215.761 L2201.02 190.252 L2205.53 190.252 L2213.64 210.529 L2221.74 190.252 L2226.25 190.252 L2214.86 218.585 Z\" fill=\"#000000\" fill-rule=\"nonzero\" fill-opacity=\"1\" /><path clip-path=\"url(#clip180)\" d=\"M2236.76 212.242 L2253.08 212.242 L2253.08 216.178 L2231.14 216.178 L2231.14 212.242 Q2233.8 209.488 2238.38 204.858 Q2242.99 200.205 2244.17 198.863 Q2246.41 196.34 2247.29 194.604 Q2248.2 192.844 2248.2 191.155 Q2248.2 188.4 2246.25 186.664 Q2244.33 184.928 2241.23 184.928 Q2239.03 184.928 2236.58 185.692 Q2234.14 186.455 2231.37 188.006 L2231.37 183.284 Q2234.19 182.15 2236.64 181.571 Q2239.1 180.993 2241.14 180.993 Q2246.51 180.993 2249.7 183.678 Q2252.89 186.363 2252.89 190.854 Q2252.89 192.983 2252.08 194.905 Q2251.3 196.803 2249.19 199.395 Q2248.61 200.067 2245.51 203.284 Q2242.41 206.479 2236.76 212.242 Z\" fill=\"#000000\" fill-rule=\"nonzero\" fill-opacity=\"1\" /><polyline clip-path=\"url(#clip180)\" style=\"stroke:#3da44d; stroke-linecap:round; stroke-linejoin:round; stroke-width:4; stroke-opacity:1; fill:none\" points=\"2030.23,250.738 2176.62,250.738 \"/>\n<path clip-path=\"url(#clip180)\" d=\"M2214.86 270.425 Q2213.06 275.055 2211.34 276.467 Q2209.63 277.879 2206.76 277.879 L2203.36 277.879 L2203.36 274.314 L2205.86 274.314 Q2207.62 274.314 2208.59 273.48 Q2209.56 272.647 2210.74 269.545 L2211.51 267.601 L2201.02 242.092 L2205.53 242.092 L2213.64 262.369 L2221.74 242.092 L2226.25 242.092 L2214.86 270.425 Z\" fill=\"#000000\" fill-rule=\"nonzero\" fill-opacity=\"1\" /><path clip-path=\"url(#clip180)\" d=\"M2246.9 249.383 Q2250.26 250.101 2252.13 252.369 Q2254.03 254.638 2254.03 257.971 Q2254.03 263.087 2250.51 265.888 Q2246.99 268.689 2240.51 268.689 Q2238.33 268.689 2236.02 268.249 Q2233.73 267.832 2231.27 266.976 L2231.27 262.462 Q2233.22 263.596 2235.53 264.175 Q2237.85 264.754 2240.37 264.754 Q2244.77 264.754 2247.06 263.018 Q2249.38 261.281 2249.38 257.971 Q2249.38 254.916 2247.22 253.203 Q2245.09 251.467 2241.27 251.467 L2237.25 251.467 L2237.25 247.624 L2241.46 247.624 Q2244.91 247.624 2246.74 246.258 Q2248.57 244.87 2248.57 242.277 Q2248.57 239.615 2246.67 238.203 Q2244.79 236.768 2241.27 236.768 Q2239.35 236.768 2237.15 237.184 Q2234.96 237.601 2232.32 238.481 L2232.32 234.314 Q2234.98 233.573 2237.29 233.203 Q2239.63 232.833 2241.69 232.833 Q2247.02 232.833 2250.12 235.263 Q2253.22 237.67 2253.22 241.791 Q2253.22 244.661 2251.58 246.652 Q2249.93 248.62 2246.9 249.383 Z\" fill=\"#000000\" fill-rule=\"nonzero\" fill-opacity=\"1\" /><polyline clip-path=\"url(#clip180)\" style=\"stroke:#c271d2; stroke-linecap:round; stroke-linejoin:round; stroke-width:4; stroke-opacity:1; fill:none\" points=\"2030.23,302.578 2176.62,302.578 \"/>\n<path clip-path=\"url(#clip180)\" d=\"M2214.86 322.265 Q2213.06 326.895 2211.34 328.307 Q2209.63 329.719 2206.76 329.719 L2203.36 329.719 L2203.36 326.154 L2205.86 326.154 Q2207.62 326.154 2208.59 325.32 Q2209.56 324.487 2210.74 321.385 L2211.51 319.441 L2201.02 293.932 L2205.53 293.932 L2213.64 314.209 L2221.74 293.932 L2226.25 293.932 L2214.86 322.265 Z\" fill=\"#000000\" fill-rule=\"nonzero\" fill-opacity=\"1\" /><path clip-path=\"url(#clip180)\" d=\"M2245.58 289.372 L2233.77 307.821 L2245.58 307.821 L2245.58 289.372 M2244.35 285.298 L2250.23 285.298 L2250.23 307.821 L2255.16 307.821 L2255.16 311.709 L2250.23 311.709 L2250.23 319.858 L2245.58 319.858 L2245.58 311.709 L2229.98 311.709 L2229.98 307.196 L2244.35 285.298 Z\" fill=\"#000000\" fill-rule=\"nonzero\" fill-opacity=\"1\" /><polyline clip-path=\"url(#clip180)\" style=\"stroke:#ac8d18; stroke-linecap:round; stroke-linejoin:round; stroke-width:4; stroke-opacity:1; fill:none\" points=\"2030.23,354.418 2176.62,354.418 \"/>\n<path clip-path=\"url(#clip180)\" d=\"M2214.86 374.105 Q2213.06 378.735 2211.34 380.147 Q2209.63 381.559 2206.76 381.559 L2203.36 381.559 L2203.36 377.994 L2205.86 377.994 Q2207.62 377.994 2208.59 377.16 Q2209.56 376.327 2210.74 373.225 L2211.51 371.281 L2201.02 345.772 L2205.53 345.772 L2213.64 366.049 L2221.74 345.772 L2226.25 345.772 L2214.86 374.105 Z\" fill=\"#000000\" fill-rule=\"nonzero\" fill-opacity=\"1\" /><path clip-path=\"url(#clip180)\" d=\"M2232.78 337.138 L2251.14 337.138 L2251.14 341.073 L2237.06 341.073 L2237.06 349.545 Q2238.08 349.198 2239.1 349.036 Q2240.12 348.85 2241.14 348.85 Q2246.92 348.85 2250.3 352.022 Q2253.68 355.193 2253.68 360.61 Q2253.68 366.188 2250.21 369.29 Q2246.74 372.369 2240.42 372.369 Q2238.24 372.369 2235.97 371.998 Q2233.73 371.628 2231.32 370.887 L2231.32 366.188 Q2233.4 367.323 2235.63 367.878 Q2237.85 368.434 2240.33 368.434 Q2244.33 368.434 2246.67 366.327 Q2249.01 364.221 2249.01 360.61 Q2249.01 356.999 2246.67 354.892 Q2244.33 352.786 2240.33 352.786 Q2238.45 352.786 2236.58 353.202 Q2234.72 353.619 2232.78 354.499 L2232.78 337.138 Z\" fill=\"#000000\" fill-rule=\"nonzero\" fill-opacity=\"1\" /></svg>\n"
          },
          "metadata": {}
        }
      ],
      "execution_count": 11,
      "metadata": {
        "collapsed": true,
        "jupyter": {
          "source_hidden": false,
          "outputs_hidden": false
        },
        "nteract": {
          "transient": {
            "deleting": false
          }
        },
        "execution": {
          "iopub.status.busy": "2023-10-31T23:48:52.535Z",
          "iopub.execute_input": "2023-10-31T23:48:52.664Z",
          "iopub.status.idle": "2023-10-31T23:48:52.957Z"
        }
      }
    },
    {
      "cell_type": "code",
      "source": [
        "using LinearAlgebra\n",
        "\n",
        "norm(Y-h.(X))"
      ],
      "outputs": [
        {
          "output_type": "execute_result",
          "execution_count": 12,
          "data": {
            "text/plain": "4.926603597119642"
          },
          "metadata": {}
        }
      ],
      "execution_count": 12,
      "metadata": {
        "collapsed": true,
        "jupyter": {
          "source_hidden": false,
          "outputs_hidden": false
        },
        "nteract": {
          "transient": {
            "deleting": false
          }
        },
        "execution": {
          "iopub.status.busy": "2023-10-31T23:48:53.157Z",
          "iopub.execute_input": "2023-10-31T23:48:53.289Z",
          "iopub.status.idle": "2023-10-31T23:48:54.355Z"
        }
      }
    },
    {
      "cell_type": "code",
      "source": [
        "using LinearAlgebra\n",
        "norm(Y-j.(X))"
      ],
      "outputs": [
        {
          "output_type": "execute_result",
          "execution_count": 13,
          "data": {
            "text/plain": "0.5845285752416808"
          },
          "metadata": {}
        }
      ],
      "execution_count": 13,
      "metadata": {
        "collapsed": true,
        "jupyter": {
          "source_hidden": false,
          "outputs_hidden": false
        },
        "nteract": {
          "transient": {
            "deleting": false
          }
        },
        "execution": {
          "iopub.status.busy": "2023-10-31T23:48:54.588Z",
          "iopub.execute_input": "2023-10-31T23:48:54.748Z",
          "iopub.status.idle": "2023-10-31T23:48:55.047Z"
        }
      }
    },
    {
      "cell_type": "code",
      "source": [
        "using LinearAlgebra\n",
        "norm(Y- g.(X))"
      ],
      "outputs": [
        {
          "output_type": "error",
          "ename": "LoadError",
          "evalue": "MethodError: no method matching +(::Float64, ::Vector{Float64})\nFor element-wise addition, use broadcasting with dot syntax: scalar .+ array\n\n\u001b[0mClosest candidates are:\n\u001b[0m  +(::Any, ::Any, \u001b[91m::Any\u001b[39m, \u001b[91m::Any...\u001b[39m)\n\u001b[0m\u001b[90m   @\u001b[39m \u001b[90mBase\u001b[39m \u001b[90m\u001b[4moperators.jl:578\u001b[24m\u001b[39m\n\u001b[0m  +(::T, \u001b[91m::T\u001b[39m) where T<:Union{Float16, Float32, Float64}\n\u001b[0m\u001b[90m   @\u001b[39m \u001b[90mBase\u001b[39m \u001b[90m\u001b[4mfloat.jl:408\u001b[24m\u001b[39m\n\u001b[0m  +(::Union{Float16, Float32, Float64}, \u001b[91m::BigFloat\u001b[39m)\n\u001b[0m\u001b[90m   @\u001b[39m \u001b[90mBase\u001b[39m \u001b[90m\u001b[4mmpfr.jl:423\u001b[24m\u001b[39m\n\u001b[0m  ...\n",
          "traceback": [
            "MethodError: no method matching +(::Float64, ::Vector{Float64})\nFor element-wise addition, use broadcasting with dot syntax: scalar .+ array\n\n\u001b[0mClosest candidates are:\n\u001b[0m  +(::Any, ::Any, \u001b[91m::Any\u001b[39m, \u001b[91m::Any...\u001b[39m)\n\u001b[0m\u001b[90m   @\u001b[39m \u001b[90mBase\u001b[39m \u001b[90m\u001b[4moperators.jl:578\u001b[24m\u001b[39m\n\u001b[0m  +(::T, \u001b[91m::T\u001b[39m) where T<:Union{Float16, Float32, Float64}\n\u001b[0m\u001b[90m   @\u001b[39m \u001b[90mBase\u001b[39m \u001b[90m\u001b[4mfloat.jl:408\u001b[24m\u001b[39m\n\u001b[0m  +(::Union{Float16, Float32, Float64}, \u001b[91m::BigFloat\u001b[39m)\n\u001b[0m\u001b[90m   @\u001b[39m \u001b[90mBase\u001b[39m \u001b[90m\u001b[4mmpfr.jl:423\u001b[24m\u001b[39m\n\u001b[0m  ...\n",
            "",
            "Stacktrace:",
            " [1] afoldl(op::typeof(+), a::Float64, bs::Vector{Float64})",
            "   @ Base .\\operators.jl:535",
            " [2] +(a::Float64, b::Float64, c::Float64, xs::Vector{Float64})",
            "   @ Base .\\operators.jl:578",
            " [3] g(x::Int64)",
            "   @ Main .\\In[9]:12",
            " [4] _broadcast_getindex_evalf",
            "   @ .\\broadcast.jl:683 [inlined]",
            " [5] _broadcast_getindex",
            "   @ .\\broadcast.jl:656 [inlined]",
            " [6] getindex",
            "   @ .\\broadcast.jl:610 [inlined]",
            " [7] copy",
            "   @ .\\broadcast.jl:912 [inlined]",
            " [8] materialize(bc::Base.Broadcast.Broadcasted{Base.Broadcast.DefaultArrayStyle{1}, Nothing, typeof(g), Tuple{Vector{Int64}}})",
            "   @ Base.Broadcast .\\broadcast.jl:873",
            " [9] top-level scope",
            "   @ In[14]:2"
          ]
        }
      ],
      "execution_count": 14,
      "metadata": {
        "collapsed": true,
        "jupyter": {
          "source_hidden": false,
          "outputs_hidden": false
        },
        "nteract": {
          "transient": {
            "deleting": false
          }
        },
        "execution": {
          "iopub.status.busy": "2023-10-31T23:48:55.276Z",
          "iopub.execute_input": "2023-10-31T23:48:55.399Z",
          "iopub.status.idle": "2023-09-22T10:42:53.801Z"
        }
      }
    },
    {
      "cell_type": "code",
      "source": [
        "#The exponential regression has the best models."
      ],
      "outputs": [],
      "execution_count": null,
      "metadata": {
        "collapsed": true,
        "jupyter": {
          "source_hidden": false,
          "outputs_hidden": false
        },
        "nteract": {
          "transient": {
            "deleting": false
          }
        },
        "execution": {
          "iopub.status.busy": "2023-09-20T21:41:22.267Z",
          "iopub.execute_input": "2023-09-20T21:41:22.304Z",
          "iopub.status.idle": "2023-09-20T21:41:22.344Z"
        }
      }
    },
    {
      "cell_type": "code",
      "source": [
        "#######NUMBER 2########\n",
        "using DataFrames\n",
        "using CSV\n",
        "\n",
        "teamnames=CSV.read(\"nbateams(1).csv\",DataFrame)\n",
        "\n",
        "games=CSV.read(\"nbagames2023.csv\",DataFrame)\n"
      ],
      "outputs": [],
      "execution_count": null,
      "metadata": {
        "collapsed": true,
        "jupyter": {
          "source_hidden": false,
          "outputs_hidden": false
        },
        "nteract": {
          "transient": {
            "deleting": false
          }
        },
        "execution": {
          "iopub.status.busy": "2023-09-26T15:23:45.144Z",
          "iopub.execute_input": "2023-09-26T15:23:45.177Z",
          "iopub.status.idle": "2023-09-26T15:23:45.253Z"
        }
      }
    },
    {
      "cell_type": "code",
      "source": [
        "Dates=games.Date\n",
        "t1=games.T1\n",
        "s1=games.S1\n",
        "t2=games.T2\n",
        "s2=games.S2\n",
        "\n",
        "teams=teamnames.Name\n"
      ],
      "outputs": [],
      "execution_count": null,
      "metadata": {
        "collapsed": true,
        "jupyter": {
          "source_hidden": false,
          "outputs_hidden": false
        },
        "nteract": {
          "transient": {
            "deleting": false
          }
        },
        "execution": {
          "iopub.status.busy": "2023-09-26T15:24:00.722Z",
          "iopub.execute_input": "2023-09-26T15:24:00.755Z",
          "iopub.status.idle": "2023-09-26T15:24:00.817Z"
        }
      }
    },
    {
      "cell_type": "code",
      "source": [
        "d=s1-s2"
      ],
      "outputs": [],
      "execution_count": null,
      "metadata": {
        "collapsed": true,
        "jupyter": {
          "source_hidden": false,
          "outputs_hidden": false
        },
        "nteract": {
          "transient": {
            "deleting": false
          }
        },
        "execution": {
          "iopub.status.busy": "2023-09-26T15:24:05.365Z",
          "iopub.execute_input": "2023-09-26T15:24:05.399Z",
          "iopub.status.idle": "2023-09-26T15:24:05.462Z"
        }
      }
    },
    {
      "cell_type": "code",
      "source": [
        "length(teams)"
      ],
      "outputs": [],
      "execution_count": null,
      "metadata": {
        "collapsed": true,
        "jupyter": {
          "source_hidden": false,
          "outputs_hidden": false
        },
        "nteract": {
          "transient": {
            "deleting": false
          }
        },
        "execution": {
          "iopub.status.busy": "2023-09-26T15:24:10.055Z",
          "iopub.execute_input": "2023-09-26T15:24:10.085Z",
          "iopub.status.idle": "2023-09-26T15:24:10.152Z"
        }
      }
    },
    {
      "cell_type": "code",
      "source": [
        "A =zeros(1230,30)\n"
      ],
      "outputs": [],
      "execution_count": null,
      "metadata": {
        "collapsed": true,
        "jupyter": {
          "source_hidden": false,
          "outputs_hidden": false
        },
        "nteract": {
          "transient": {
            "deleting": false
          }
        },
        "execution": {
          "iopub.status.busy": "2023-09-26T15:24:13.603Z",
          "iopub.execute_input": "2023-09-26T15:24:13.636Z",
          "iopub.status.idle": "2023-09-26T15:24:13.703Z"
        }
      }
    },
    {
      "cell_type": "code",
      "source": [
        "for k = 1:1230\n",
        "  A[k,t1[k]]=1\n",
        "  A[k,t2[k]]=-1\n",
        "end"
      ],
      "outputs": [],
      "execution_count": null,
      "metadata": {
        "collapsed": true,
        "jupyter": {
          "source_hidden": false,
          "outputs_hidden": false
        },
        "nteract": {
          "transient": {
            "deleting": false
          }
        },
        "execution": {
          "iopub.status.busy": "2023-09-26T15:24:19.476Z",
          "iopub.execute_input": "2023-09-26T15:24:19.508Z",
          "iopub.status.idle": "2023-09-26T15:24:19.553Z"
        }
      }
    },
    {
      "cell_type": "code",
      "source": [
        "A"
      ],
      "outputs": [],
      "execution_count": null,
      "metadata": {
        "collapsed": true,
        "jupyter": {
          "source_hidden": false,
          "outputs_hidden": false
        },
        "nteract": {
          "transient": {
            "deleting": false
          }
        },
        "execution": {
          "iopub.status.busy": "2023-09-26T15:24:31.417Z",
          "iopub.execute_input": "2023-09-26T15:24:31.477Z",
          "iopub.status.idle": "2023-09-26T15:24:31.612Z"
        }
      }
    },
    {
      "cell_type": "code",
      "source": [
        "r = (A'A)\\(A'd)"
      ],
      "outputs": [],
      "execution_count": null,
      "metadata": {
        "collapsed": true,
        "jupyter": {
          "source_hidden": false,
          "outputs_hidden": false
        },
        "nteract": {
          "transient": {
            "deleting": false
          }
        },
        "execution": {
          "iopub.status.busy": "2023-09-26T15:24:42.750Z",
          "iopub.execute_input": "2023-09-26T15:24:42.783Z",
          "iopub.status.idle": "2023-09-26T15:24:43.875Z"
        }
      }
    },
    {
      "cell_type": "code",
      "source": [
        "#####Number 3########\n"
      ],
      "outputs": [],
      "execution_count": null,
      "metadata": {
        "collapsed": true,
        "jupyter": {
          "source_hidden": false,
          "outputs_hidden": false
        },
        "nteract": {
          "transient": {
            "deleting": false
          }
        },
        "execution": {
          "iopub.status.busy": "2023-09-28T05:43:28.686Z",
          "iopub.execute_input": "2023-09-28T05:43:28.718Z",
          "iopub.status.idle": "2023-09-28T05:43:28.765Z"
        }
      }
    },
    {
      "cell_type": "code",
      "source": [
        "function bern(k,n,t)\n",
        "  return binomial(n,k)*t^k*(1-t)^(n-k)\n",
        "end"
      ],
      "outputs": [
        {
          "output_type": "execute_result",
          "execution_count": 1,
          "data": {
            "text/plain": "bern (generic function with 1 method)"
          },
          "metadata": {}
        }
      ],
      "execution_count": 1,
      "metadata": {
        "collapsed": true,
        "jupyter": {
          "source_hidden": false,
          "outputs_hidden": false
        },
        "nteract": {
          "transient": {
            "deleting": false
          }
        },
        "execution": {
          "iopub.status.busy": "2023-10-03T18:46:31.485Z",
          "iopub.execute_input": "2023-10-03T18:46:31.952Z",
          "iopub.status.idle": "2023-10-03T18:46:32.957Z"
        }
      }
    },
    {
      "cell_type": "code",
      "source": [
        "t=0:.01:1\n",
        "plot(t,bern.(0,3,t))\n",
        "plot!(t,bern.(1,3,t))\n",
        "plot!(t,bern.(2,3,t))\n",
        "plot!(t,bern.(3,3,t))"
      ],
      "outputs": [
        {
          "output_type": "error",
          "ename": "LoadError",
          "evalue": "UndefVarError: `plot` not defined",
          "traceback": [
            "UndefVarError: `plot` not defined",
            "",
            "Stacktrace:",
            " [1] top-level scope",
            "   @ In[2]:2"
          ]
        }
      ],
      "execution_count": 2,
      "metadata": {
        "collapsed": true,
        "jupyter": {
          "source_hidden": false,
          "outputs_hidden": false
        },
        "nteract": {
          "transient": {
            "deleting": false
          }
        },
        "execution": {
          "iopub.status.busy": "2023-10-03T18:46:40.213Z",
          "iopub.execute_input": "2023-10-03T18:46:40.253Z",
          "iopub.status.idle": "2023-09-28T05:43:33.058Z"
        }
      }
    },
    {
      "cell_type": "code",
      "source": [
        "function bez(p)\n",
        "  x=p[1:2:7]\n",
        "  y=p[2:2:8]\n",
        "  \n",
        "  t=0:.01:1\n",
        "  b0=bern.(0,3,t)\n",
        "  b1=bern.(1,3,t)\n",
        "  b2=bern.(2,3,t)\n",
        "  b3=bern.(3,3,t)\n",
        "  \n",
        " B=[b0 b1 b2 b3]\n",
        " xx=B*x\n",
        " yy=B*y\n",
        " \n",
        " plot!(xx,yy)\n",
        " scatter!(x,y)\n",
        "  \n",
        "end"
      ],
      "outputs": [
        {
          "output_type": "execute_result",
          "execution_count": 3,
          "data": {
            "text/plain": "bez (generic function with 1 method)"
          },
          "metadata": {}
        }
      ],
      "execution_count": 3,
      "metadata": {
        "collapsed": true,
        "jupyter": {
          "source_hidden": false,
          "outputs_hidden": false
        },
        "nteract": {
          "transient": {
            "deleting": false
          }
        },
        "execution": {
          "iopub.status.busy": "2023-10-03T18:47:01.363Z",
          "iopub.execute_input": "2023-10-03T18:47:01.396Z",
          "iopub.status.idle": "2023-10-03T18:47:01.537Z"
        }
      }
    },
    {
      "cell_type": "code",
      "source": [
        "plot()\n",
        "p=[0 0 0 .67 1 .67 1 0]\n",
        "bez(p)"
      ],
      "outputs": [],
      "execution_count": null,
      "metadata": {
        "collapsed": true,
        "jupyter": {
          "source_hidden": false,
          "outputs_hidden": false
        },
        "nteract": {
          "transient": {
            "deleting": false
          }
        },
        "execution": {
          "iopub.status.busy": "2023-09-28T05:45:11.611Z",
          "iopub.execute_input": "2023-09-28T05:45:11.646Z",
          "iopub.status.idle": "2023-09-28T05:45:12.175Z"
        }
      }
    },
    {
      "cell_type": "code",
      "source": [
        "using Plots"
      ],
      "outputs": [],
      "execution_count": 5,
      "metadata": {
        "collapsed": true,
        "jupyter": {
          "source_hidden": false,
          "outputs_hidden": false
        },
        "nteract": {
          "transient": {
            "deleting": false
          }
        },
        "execution": {
          "iopub.status.busy": "2023-10-03T18:47:54.248Z",
          "iopub.execute_input": "2023-10-03T18:47:54.278Z",
          "iopub.status.idle": "2023-10-03T18:47:57.536Z"
        }
      }
    },
    {
      "cell_type": "code",
      "source": [
        "######3#####\n",
        "M = [0.00 5.70 0.00 5.70 0.00 5.55 0.00 5.55 ; 0.00 5.55 0.60 5.55 0.80 5.35 0.80 4.80; 0.80 4.80 0.80 4.80 0.80 0.90 0.80 0.90; 0.80 0.90 0.80 0.30 0.60 0.15 0.00 0.15; 0.00 0.15 0.00 0.15 0.00 0.00 0.00 0.00; 0.00 0.00 0.00 0.00 2.40 0.00 2.40  0.00; 2.40 0.00  2.40 0.00 2.40 0.15 2.40 0.15; 2.40 0.15 0.18 0.15 1.65 0.30 1.65 0.90; 1.65 0.90 1.65 0.90 1.65 2.60 1.65 2.60; 1.65 2.60 1.65 2.60 2.65 2.62 2.65 2.62; 2.65 2.62 2.65 2.62 4.10 0.00 4.10 0.00; 4.10 0.00 4.10 0.00 5.50 0.00 5.50 0.00; 5.50 0.15 5.15 0.15 4.95 0.20 4.76 0.50; 4.76 0.50 4.80 0.50 3.50 2.74 3.50 2.74; 3.50 2.74 5.38 3.00 5.10 5.70 3.05 5.70; 3.05 5.70 3.05 5.70 0.00 5.70 0.00 5.70; 1.65 3.00 1.65 3.00 1.65 5.00 1.65 5.00; 1.65 5.00 1.65 5.30 1.75 5.35 1.84 5.35; 1.84 5.35 1.84 5.35 2.30 5.35 2.30 5.35;  2.30 5.35 4.40 5.20 4.20 3.00 2.40 3.00; 2.40 3.00 2.40 3.00 1.65 3.00 1.65 3.00]\n",
        "\n",
        "for k = 1:21\n",
        "  p= M[k,:];\n",
        "  bez(p)\n",
        "end\n",
        "plot()\n",
        "\n",
        "\n"
      ],
      "outputs": [
        {
          "output_type": "execute_result",
          "execution_count": 12,
          "data": {
            "image/png": "[encoded data removed]",
            "text/html": "<?xml version=\"1.0\" encoding=\"utf-8\"?>\n<svg xmlns=\"http://www.w3.org/2000/svg\" xmlns:xlink=\"http://www.w3.org/1999/xlink\" width=\"600\" height=\"400\" viewBox=\"0 0 2400 1600\">\n<defs>\n  <clipPath id=\"clip990\">\n    <rect x=\"0\" y=\"0\" width=\"2400\" height=\"1600\"/>\n  </clipPath>\n</defs>\n<path clip-path=\"url(#clip990)\" d=\"M0 1600 L2400 1600 L2400 0 L0 0  Z\" fill=\"#ffffff\" fill-rule=\"evenodd\" fill-opacity=\"1\"/>\n<defs>\n  <clipPath id=\"clip991\">\n    <rect x=\"480\" y=\"0\" width=\"1681\" height=\"1600\"/>\n  </clipPath>\n</defs>\n<path clip-path=\"url(#clip990)\" d=\"M156.598 1486.45 L2352.76 1486.45 L2352.76 47.2441 L156.598 47.2441  Z\" fill=\"#ffffff\" fill-rule=\"evenodd\" fill-opacity=\"1\"/>\n<defs>\n  <clipPath id=\"clip992\">\n    <rect x=\"156\" y=\"47\" width=\"2197\" height=\"1440\"/>\n  </clipPath>\n</defs>\n<polyline clip-path=\"url(#clip992)\" style=\"stroke:#000000; stroke-linecap:round; stroke-linejoin:round; stroke-width:2; stroke-opacity:0.1; fill:none\" points=\"156.598,1486.45 156.598,47.2441 \"/>\n<polyline clip-path=\"url(#clip992)\" style=\"stroke:#000000; stroke-linecap:round; stroke-linejoin:round; stroke-width:2; stroke-opacity:0.1; fill:none\" points=\"595.83,1486.45 595.83,47.2441 \"/>\n<polyline clip-path=\"url(#clip992)\" style=\"stroke:#000000; stroke-linecap:round; stroke-linejoin:round; stroke-width:2; stroke-opacity:0.1; fill:none\" points=\"1035.06,1486.45 1035.06,47.2441 \"/>\n<polyline clip-path=\"url(#clip992)\" style=\"stroke:#000000; stroke-linecap:round; stroke-linejoin:round; stroke-width:2; stroke-opacity:0.1; fill:none\" points=\"1474.29,1486.45 1474.29,47.2441 \"/>\n<polyline clip-path=\"url(#clip992)\" style=\"stroke:#000000; stroke-linecap:round; stroke-linejoin:round; stroke-width:2; stroke-opacity:0.1; fill:none\" points=\"1913.52,1486.45 1913.52,47.2441 \"/>\n<polyline clip-path=\"url(#clip992)\" style=\"stroke:#000000; stroke-linecap:round; stroke-linejoin:round; stroke-width:2; stroke-opacity:0.1; fill:none\" points=\"2352.76,1486.45 2352.76,47.2441 \"/>\n<polyline clip-path=\"url(#clip990)\" style=\"stroke:#000000; stroke-linecap:round; stroke-linejoin:round; stroke-width:4; stroke-opacity:1; fill:none\" points=\"156.598,1486.45 2352.76,1486.45 \"/>\n<polyline clip-path=\"url(#clip990)\" style=\"stroke:#000000; stroke-linecap:round; stroke-linejoin:round; stroke-width:4; stroke-opacity:1; fill:none\" points=\"156.598,1486.45 156.598,1467.55 \"/>\n<polyline clip-path=\"url(#clip990)\" style=\"stroke:#000000; stroke-linecap:round; stroke-linejoin:round; stroke-width:4; stroke-opacity:1; fill:none\" points=\"595.83,1486.45 595.83,1467.55 \"/>\n<polyline clip-path=\"url(#clip990)\" style=\"stroke:#000000; stroke-linecap:round; stroke-linejoin:round; stroke-width:4; stroke-opacity:1; fill:none\" points=\"1035.06,1486.45 1035.06,1467.55 \"/>\n<polyline clip-path=\"url(#clip990)\" style=\"stroke:#000000; stroke-linecap:round; stroke-linejoin:round; stroke-width:4; stroke-opacity:1; fill:none\" points=\"1474.29,1486.45 1474.29,1467.55 \"/>\n<polyline clip-path=\"url(#clip990)\" style=\"stroke:#000000; stroke-linecap:round; stroke-linejoin:round; stroke-width:4; stroke-opacity:1; fill:none\" points=\"1913.52,1486.45 1913.52,1467.55 \"/>\n<polyline clip-path=\"url(#clip990)\" style=\"stroke:#000000; stroke-linecap:round; stroke-linejoin:round; stroke-width:4; stroke-opacity:1; fill:none\" points=\"2352.76,1486.45 2352.76,1467.55 \"/>\n<path clip-path=\"url(#clip990)\" d=\"M133.983 1517.37 Q130.372 1517.37 128.543 1520.93 Q126.737 1524.47 126.737 1531.6 Q126.737 1538.71 128.543 1542.27 Q130.372 1545.82 133.983 1545.82 Q137.617 1545.82 139.422 1542.27 Q141.251 1538.71 141.251 1531.6 Q141.251 1524.47 139.422 1520.93 Q137.617 1517.37 133.983 1517.37 M133.983 1513.66 Q139.793 1513.66 142.848 1518.27 Q145.927 1522.85 145.927 1531.6 Q145.927 1540.33 142.848 1544.94 Q139.793 1549.52 133.983 1549.52 Q128.172 1549.52 125.094 1544.94 Q122.038 1540.33 122.038 1531.6 Q122.038 1522.85 125.094 1518.27 Q128.172 1513.66 133.983 1513.66 Z\" fill=\"#000000\" fill-rule=\"nonzero\" fill-opacity=\"1\" /><path clip-path=\"url(#clip990)\" d=\"M154.145 1542.97 L159.029 1542.97 L159.029 1548.85 L154.145 1548.85 L154.145 1542.97 Z\" fill=\"#000000\" fill-rule=\"nonzero\" fill-opacity=\"1\" /><path clip-path=\"url(#clip990)\" d=\"M179.214 1517.37 Q175.603 1517.37 173.774 1520.93 Q171.969 1524.47 171.969 1531.6 Q171.969 1538.71 173.774 1542.27 Q175.603 1545.82 179.214 1545.82 Q182.848 1545.82 184.654 1542.27 Q186.482 1538.71 186.482 1531.6 Q186.482 1524.47 184.654 1520.93 Q182.848 1517.37 179.214 1517.37 M179.214 1513.66 Q185.024 1513.66 188.08 1518.27 Q191.158 1522.85 191.158 1531.6 Q191.158 1540.33 188.08 1544.94 Q185.024 1549.52 179.214 1549.52 Q173.404 1549.52 170.325 1544.94 Q167.269 1540.33 167.269 1531.6 Q167.269 1522.85 170.325 1518.27 Q173.404 1513.66 179.214 1513.66 Z\" fill=\"#000000\" fill-rule=\"nonzero\" fill-opacity=\"1\" /><path clip-path=\"url(#clip990)\" d=\"M574.013 1517.37 Q570.402 1517.37 568.573 1520.93 Q566.767 1524.47 566.767 1531.6 Q566.767 1538.71 568.573 1542.27 Q570.402 1545.82 574.013 1545.82 Q577.647 1545.82 579.453 1542.27 Q581.281 1538.71 581.281 1531.6 Q581.281 1524.47 579.453 1520.93 Q577.647 1517.37 574.013 1517.37 M574.013 1513.66 Q579.823 1513.66 582.878 1518.27 Q585.957 1522.85 585.957 1531.6 Q585.957 1540.33 582.878 1544.94 Q579.823 1549.52 574.013 1549.52 Q568.203 1549.52 565.124 1544.94 Q562.068 1540.33 562.068 1531.6 Q562.068 1522.85 565.124 1518.27 Q568.203 1513.66 574.013 1513.66 Z\" fill=\"#000000\" fill-rule=\"nonzero\" fill-opacity=\"1\" /><path clip-path=\"url(#clip990)\" d=\"M594.175 1542.97 L599.059 1542.97 L599.059 1548.85 L594.175 1548.85 L594.175 1542.97 Z\" fill=\"#000000\" fill-rule=\"nonzero\" fill-opacity=\"1\" /><path clip-path=\"url(#clip990)\" d=\"M613.272 1544.91 L629.591 1544.91 L629.591 1548.85 L607.647 1548.85 L607.647 1544.91 Q610.309 1542.16 614.892 1537.53 Q619.499 1532.88 620.679 1531.53 Q622.925 1529.01 623.804 1527.27 Q624.707 1525.51 624.707 1523.82 Q624.707 1521.07 622.762 1519.33 Q620.841 1517.6 617.739 1517.6 Q615.54 1517.6 613.087 1518.36 Q610.656 1519.13 607.878 1520.68 L607.878 1515.95 Q610.702 1514.82 613.156 1514.24 Q615.61 1513.66 617.647 1513.66 Q623.017 1513.66 626.212 1516.35 Q629.406 1519.03 629.406 1523.52 Q629.406 1525.65 628.596 1527.57 Q627.809 1529.47 625.702 1532.07 Q625.124 1532.74 622.022 1535.95 Q618.92 1539.15 613.272 1544.91 Z\" fill=\"#000000\" fill-rule=\"nonzero\" fill-opacity=\"1\" /><path clip-path=\"url(#clip990)\" d=\"M1012.2 1517.37 Q1008.59 1517.37 1006.76 1520.93 Q1004.96 1524.47 1004.96 1531.6 Q1004.96 1538.71 1006.76 1542.27 Q1008.59 1545.82 1012.2 1545.82 Q1015.84 1545.82 1017.64 1542.27 Q1019.47 1538.71 1019.47 1531.6 Q1019.47 1524.47 1017.64 1520.93 Q1015.84 1517.37 1012.2 1517.37 M1012.2 1513.66 Q1018.01 1513.66 1021.07 1518.27 Q1024.15 1522.85 1024.15 1531.6 Q1024.15 1540.33 1021.07 1544.94 Q1018.01 1549.52 1012.2 1549.52 Q1006.39 1549.52 1003.31 1544.94 Q1000.26 1540.33 1000.26 1531.6 Q1000.26 1522.85 1003.31 1518.27 Q1006.39 1513.66 1012.2 1513.66 Z\" fill=\"#000000\" fill-rule=\"nonzero\" fill-opacity=\"1\" /><path clip-path=\"url(#clip990)\" d=\"M1032.36 1542.97 L1037.25 1542.97 L1037.25 1548.85 L1032.36 1548.85 L1032.36 1542.97 Z\" fill=\"#000000\" fill-rule=\"nonzero\" fill-opacity=\"1\" /><path clip-path=\"url(#clip990)\" d=\"M1060.28 1518.36 L1048.48 1536.81 L1060.28 1536.81 L1060.28 1518.36 M1059.05 1514.29 L1064.93 1514.29 L1064.93 1536.81 L1069.86 1536.81 L1069.86 1540.7 L1064.93 1540.7 L1064.93 1548.85 L1060.28 1548.85 L1060.28 1540.7 L1044.68 1540.7 L1044.68 1536.19 L1059.05 1514.29 Z\" fill=\"#000000\" fill-rule=\"nonzero\" fill-opacity=\"1\" /><path clip-path=\"url(#clip990)\" d=\"M1451.6 1517.37 Q1447.99 1517.37 1446.16 1520.93 Q1444.35 1524.47 1444.35 1531.6 Q1444.35 1538.71 1446.16 1542.27 Q1447.99 1545.82 1451.6 1545.82 Q1455.23 1545.82 1457.04 1542.27 Q1458.86 1538.71 1458.86 1531.6 Q1458.86 1524.47 1457.04 1520.93 Q1455.23 1517.37 1451.6 1517.37 M1451.6 1513.66 Q1457.41 1513.66 1460.46 1518.27 Q1463.54 1522.85 1463.54 1531.6 Q1463.54 1540.33 1460.46 1544.94 Q1457.41 1549.52 1451.6 1549.52 Q1445.79 1549.52 1442.71 1544.94 Q1439.65 1540.33 1439.65 1531.6 Q1439.65 1522.85 1442.71 1518.27 Q1445.79 1513.66 1451.6 1513.66 Z\" fill=\"#000000\" fill-rule=\"nonzero\" fill-opacity=\"1\" /><path clip-path=\"url(#clip990)\" d=\"M1471.76 1542.97 L1476.64 1542.97 L1476.64 1548.85 L1471.76 1548.85 L1471.76 1542.97 Z\" fill=\"#000000\" fill-rule=\"nonzero\" fill-opacity=\"1\" /><path clip-path=\"url(#clip990)\" d=\"M1497.41 1529.7 Q1494.26 1529.7 1492.41 1531.86 Q1490.58 1534.01 1490.58 1537.76 Q1490.58 1541.49 1492.41 1543.66 Q1494.26 1545.82 1497.41 1545.82 Q1500.55 1545.82 1502.38 1543.66 Q1504.23 1541.49 1504.23 1537.76 Q1504.23 1534.01 1502.38 1531.86 Q1500.55 1529.7 1497.41 1529.7 M1506.69 1515.05 L1506.69 1519.31 Q1504.93 1518.48 1503.12 1518.04 Q1501.34 1517.6 1499.58 1517.6 Q1494.95 1517.6 1492.5 1520.72 Q1490.07 1523.85 1489.72 1530.17 Q1491.09 1528.15 1493.15 1527.09 Q1495.21 1526 1497.68 1526 Q1502.89 1526 1505.9 1529.17 Q1508.93 1532.32 1508.93 1537.76 Q1508.93 1543.08 1505.79 1546.3 Q1502.64 1549.52 1497.41 1549.52 Q1491.41 1549.52 1488.24 1544.94 Q1485.07 1540.33 1485.07 1531.6 Q1485.07 1523.41 1488.96 1518.55 Q1492.85 1513.66 1499.4 1513.66 Q1501.16 1513.66 1502.94 1514.01 Q1504.74 1514.36 1506.69 1515.05 Z\" fill=\"#000000\" fill-rule=\"nonzero\" fill-opacity=\"1\" /><path clip-path=\"url(#clip990)\" d=\"M1890.96 1517.37 Q1887.34 1517.37 1885.52 1520.93 Q1883.71 1524.47 1883.71 1531.6 Q1883.71 1538.71 1885.52 1542.27 Q1887.34 1545.82 1890.96 1545.82 Q1894.59 1545.82 1896.39 1542.27 Q1898.22 1538.71 1898.22 1531.6 Q1898.22 1524.47 1896.39 1520.93 Q1894.59 1517.37 1890.96 1517.37 M1890.96 1513.66 Q1896.77 1513.66 1899.82 1518.27 Q1902.9 1522.85 1902.9 1531.6 Q1902.9 1540.33 1899.82 1544.94 Q1896.77 1549.52 1890.96 1549.52 Q1885.14 1549.52 1882.07 1544.94 Q1879.01 1540.33 1879.01 1531.6 Q1879.01 1522.85 1882.07 1518.27 Q1885.14 1513.66 1890.96 1513.66 Z\" fill=\"#000000\" fill-rule=\"nonzero\" fill-opacity=\"1\" /><path clip-path=\"url(#clip990)\" d=\"M1911.12 1542.97 L1916 1542.97 L1916 1548.85 L1911.12 1548.85 L1911.12 1542.97 Z\" fill=\"#000000\" fill-rule=\"nonzero\" fill-opacity=\"1\" /><path clip-path=\"url(#clip990)\" d=\"M1936.19 1532.44 Q1932.85 1532.44 1930.93 1534.22 Q1929.03 1536 1929.03 1539.13 Q1929.03 1542.25 1930.93 1544.03 Q1932.85 1545.82 1936.19 1545.82 Q1939.52 1545.82 1941.44 1544.03 Q1943.36 1542.23 1943.36 1539.13 Q1943.36 1536 1941.44 1534.22 Q1939.54 1532.44 1936.19 1532.44 M1931.51 1530.45 Q1928.5 1529.7 1926.81 1527.64 Q1925.14 1525.58 1925.14 1522.62 Q1925.14 1518.48 1928.08 1516.07 Q1931.05 1513.66 1936.19 1513.66 Q1941.35 1513.66 1944.29 1516.07 Q1947.23 1518.48 1947.23 1522.62 Q1947.23 1525.58 1945.54 1527.64 Q1943.87 1529.7 1940.89 1530.45 Q1944.26 1531.23 1946.14 1533.52 Q1948.04 1535.82 1948.04 1539.13 Q1948.04 1544.15 1944.96 1546.83 Q1941.9 1549.52 1936.19 1549.52 Q1930.47 1549.52 1927.39 1546.83 Q1924.33 1544.15 1924.33 1539.13 Q1924.33 1535.82 1926.23 1533.52 Q1928.13 1531.23 1931.51 1530.45 M1929.8 1523.06 Q1929.8 1525.75 1931.46 1527.25 Q1933.15 1528.76 1936.19 1528.76 Q1939.2 1528.76 1940.89 1527.25 Q1942.6 1525.75 1942.6 1523.06 Q1942.6 1520.38 1940.89 1518.87 Q1939.2 1517.37 1936.19 1517.37 Q1933.15 1517.37 1931.46 1518.87 Q1929.8 1520.38 1929.8 1523.06 Z\" fill=\"#000000\" fill-rule=\"nonzero\" fill-opacity=\"1\" /><path clip-path=\"url(#clip990)\" d=\"M2319.91 1544.91 L2327.55 1544.91 L2327.55 1518.55 L2319.24 1520.21 L2319.24 1515.95 L2327.5 1514.29 L2332.18 1514.29 L2332.18 1544.91 L2339.82 1544.91 L2339.82 1548.85 L2319.91 1548.85 L2319.91 1544.91 Z\" fill=\"#000000\" fill-rule=\"nonzero\" fill-opacity=\"1\" /><path clip-path=\"url(#clip990)\" d=\"M2349.26 1542.97 L2354.14 1542.97 L2354.14 1548.85 L2349.26 1548.85 L2349.26 1542.97 Z\" fill=\"#000000\" fill-rule=\"nonzero\" fill-opacity=\"1\" /><path clip-path=\"url(#clip990)\" d=\"M2374.33 1517.37 Q2370.72 1517.37 2368.89 1520.93 Q2367.08 1524.47 2367.08 1531.6 Q2367.08 1538.71 2368.89 1542.27 Q2370.72 1545.82 2374.33 1545.82 Q2377.96 1545.82 2379.77 1542.27 Q2381.6 1538.71 2381.6 1531.6 Q2381.6 1524.47 2379.77 1520.93 Q2377.96 1517.37 2374.33 1517.37 M2374.33 1513.66 Q2380.14 1513.66 2383.2 1518.27 Q2386.27 1522.85 2386.27 1531.6 Q2386.27 1540.33 2383.2 1544.94 Q2380.14 1549.52 2374.33 1549.52 Q2368.52 1549.52 2365.44 1544.94 Q2362.39 1540.33 2362.39 1531.6 Q2362.39 1522.85 2365.44 1518.27 Q2368.52 1513.66 2374.33 1513.66 Z\" fill=\"#000000\" fill-rule=\"nonzero\" fill-opacity=\"1\" /><polyline clip-path=\"url(#clip992)\" style=\"stroke:#000000; stroke-linecap:round; stroke-linejoin:round; stroke-width:2; stroke-opacity:0.1; fill:none\" points=\"156.598,1486.45 2352.76,1486.45 \"/>\n<polyline clip-path=\"url(#clip992)\" style=\"stroke:#000000; stroke-linecap:round; stroke-linejoin:round; stroke-width:2; stroke-opacity:0.1; fill:none\" points=\"156.598,1198.61 2352.76,1198.61 \"/>\n<polyline clip-path=\"url(#clip992)\" style=\"stroke:#000000; stroke-linecap:round; stroke-linejoin:round; stroke-width:2; stroke-opacity:0.1; fill:none\" points=\"156.598,910.766 2352.76,910.766 \"/>\n<polyline clip-path=\"url(#clip992)\" style=\"stroke:#000000; stroke-linecap:round; stroke-linejoin:round; stroke-width:2; stroke-opacity:0.1; fill:none\" points=\"156.598,622.926 2352.76,622.926 \"/>\n<polyline clip-path=\"url(#clip992)\" style=\"stroke:#000000; stroke-linecap:round; stroke-linejoin:round; stroke-width:2; stroke-opacity:0.1; fill:none\" points=\"156.598,335.085 2352.76,335.085 \"/>\n<polyline clip-path=\"url(#clip992)\" style=\"stroke:#000000; stroke-linecap:round; stroke-linejoin:round; stroke-width:2; stroke-opacity:0.1; fill:none\" points=\"156.598,47.2441 2352.76,47.2441 \"/>\n<polyline clip-path=\"url(#clip990)\" style=\"stroke:#000000; stroke-linecap:round; stroke-linejoin:round; stroke-width:4; stroke-opacity:1; fill:none\" points=\"156.598,1486.45 156.598,47.2441 \"/>\n<polyline clip-path=\"url(#clip990)\" style=\"stroke:#000000; stroke-linecap:round; stroke-linejoin:round; stroke-width:4; stroke-opacity:1; fill:none\" points=\"156.598,1486.45 175.496,1486.45 \"/>\n<polyline clip-path=\"url(#clip990)\" style=\"stroke:#000000; stroke-linecap:round; stroke-linejoin:round; stroke-width:4; stroke-opacity:1; fill:none\" points=\"156.598,1198.61 175.496,1198.61 \"/>\n<polyline clip-path=\"url(#clip990)\" style=\"stroke:#000000; stroke-linecap:round; stroke-linejoin:round; stroke-width:4; stroke-opacity:1; fill:none\" points=\"156.598,910.766 175.496,910.766 \"/>\n<polyline clip-path=\"url(#clip990)\" style=\"stroke:#000000; stroke-linecap:round; stroke-linejoin:round; stroke-width:4; stroke-opacity:1; fill:none\" points=\"156.598,622.926 175.496,622.926 \"/>\n<polyline clip-path=\"url(#clip990)\" style=\"stroke:#000000; stroke-linecap:round; stroke-linejoin:round; stroke-width:4; stroke-opacity:1; fill:none\" points=\"156.598,335.085 175.496,335.085 \"/>\n<polyline clip-path=\"url(#clip990)\" style=\"stroke:#000000; stroke-linecap:round; stroke-linejoin:round; stroke-width:4; stroke-opacity:1; fill:none\" points=\"156.598,47.2441 175.496,47.2441 \"/>\n<path clip-path=\"url(#clip990)\" d=\"M63.4226 1472.25 Q59.8115 1472.25 57.9828 1475.81 Q56.1773 1479.35 56.1773 1486.48 Q56.1773 1493.59 57.9828 1497.15 Q59.8115 1500.7 63.4226 1500.7 Q67.0569 1500.7 68.8624 1497.15 Q70.6911 1493.59 70.6911 1486.48 Q70.6911 1479.35 68.8624 1475.81 Q67.0569 1472.25 63.4226 1472.25 M63.4226 1468.54 Q69.2328 1468.54 72.2883 1473.15 Q75.367 1477.73 75.367 1486.48 Q75.367 1495.21 72.2883 1499.82 Q69.2328 1504.4 63.4226 1504.4 Q57.6125 1504.4 54.5338 1499.82 Q51.4782 1495.21 51.4782 1486.48 Q51.4782 1477.73 54.5338 1473.15 Q57.6125 1468.54 63.4226 1468.54 Z\" fill=\"#000000\" fill-rule=\"nonzero\" fill-opacity=\"1\" /><path clip-path=\"url(#clip990)\" d=\"M83.5845 1497.85 L88.4688 1497.85 L88.4688 1503.73 L83.5845 1503.73 L83.5845 1497.85 Z\" fill=\"#000000\" fill-rule=\"nonzero\" fill-opacity=\"1\" /><path clip-path=\"url(#clip990)\" d=\"M108.654 1472.25 Q105.043 1472.25 103.214 1475.81 Q101.409 1479.35 101.409 1486.48 Q101.409 1493.59 103.214 1497.15 Q105.043 1500.7 108.654 1500.7 Q112.288 1500.7 114.094 1497.15 Q115.922 1493.59 115.922 1486.48 Q115.922 1479.35 114.094 1475.81 Q112.288 1472.25 108.654 1472.25 M108.654 1468.54 Q114.464 1468.54 117.52 1473.15 Q120.598 1477.73 120.598 1486.48 Q120.598 1495.21 117.52 1499.82 Q114.464 1504.4 108.654 1504.4 Q102.844 1504.4 99.765 1499.82 Q96.7095 1495.21 96.7095 1486.48 Q96.7095 1477.73 99.765 1473.15 Q102.844 1468.54 108.654 1468.54 Z\" fill=\"#000000\" fill-rule=\"nonzero\" fill-opacity=\"1\" /><path clip-path=\"url(#clip990)\" d=\"M65.0198 1184.41 Q61.4087 1184.41 59.58 1187.97 Q57.7745 1191.51 57.7745 1198.64 Q57.7745 1205.75 59.58 1209.31 Q61.4087 1212.85 65.0198 1212.85 Q68.6541 1212.85 70.4596 1209.31 Q72.2883 1205.75 72.2883 1198.64 Q72.2883 1191.51 70.4596 1187.97 Q68.6541 1184.41 65.0198 1184.41 M65.0198 1180.7 Q70.83 1180.7 73.8855 1185.31 Q76.9642 1189.89 76.9642 1198.64 Q76.9642 1207.37 73.8855 1211.98 Q70.83 1216.56 65.0198 1216.56 Q59.2097 1216.56 56.131 1211.98 Q53.0754 1207.37 53.0754 1198.64 Q53.0754 1189.89 56.131 1185.31 Q59.2097 1180.7 65.0198 1180.7 Z\" fill=\"#000000\" fill-rule=\"nonzero\" fill-opacity=\"1\" /><path clip-path=\"url(#clip990)\" d=\"M85.1818 1210.01 L90.066 1210.01 L90.066 1215.89 L85.1818 1215.89 L85.1818 1210.01 Z\" fill=\"#000000\" fill-rule=\"nonzero\" fill-opacity=\"1\" /><path clip-path=\"url(#clip990)\" d=\"M104.279 1211.95 L120.598 1211.95 L120.598 1215.89 L98.6539 1215.89 L98.6539 1211.95 Q101.316 1209.2 105.899 1204.57 Q110.506 1199.91 111.686 1198.57 Q113.932 1196.05 114.811 1194.31 Q115.714 1192.55 115.714 1190.86 Q115.714 1188.11 113.77 1186.37 Q111.848 1184.64 108.746 1184.64 Q106.547 1184.64 104.094 1185.4 Q101.663 1186.17 98.8854 1187.72 L98.8854 1182.99 Q101.709 1181.86 104.163 1181.28 Q106.617 1180.7 108.654 1180.7 Q114.024 1180.7 117.219 1183.39 Q120.413 1186.07 120.413 1190.56 Q120.413 1192.69 119.603 1194.61 Q118.816 1196.51 116.709 1199.1 Q116.131 1199.78 113.029 1202.99 Q109.927 1206.19 104.279 1211.95 Z\" fill=\"#000000\" fill-rule=\"nonzero\" fill-opacity=\"1\" /><path clip-path=\"url(#clip990)\" d=\"M62.9365 896.565 Q59.3254 896.565 57.4967 900.13 Q55.6912 903.671 55.6912 910.801 Q55.6912 917.908 57.4967 921.472 Q59.3254 925.014 62.9365 925.014 Q66.5707 925.014 68.3763 921.472 Q70.205 917.908 70.205 910.801 Q70.205 903.671 68.3763 900.13 Q66.5707 896.565 62.9365 896.565 M62.9365 892.861 Q68.7467 892.861 71.8022 897.468 Q74.8809 902.051 74.8809 910.801 Q74.8809 919.528 71.8022 924.134 Q68.7467 928.718 62.9365 928.718 Q57.1264 928.718 54.0477 924.134 Q50.9921 919.528 50.9921 910.801 Q50.9921 902.051 54.0477 897.468 Q57.1264 892.861 62.9365 892.861 Z\" fill=\"#000000\" fill-rule=\"nonzero\" fill-opacity=\"1\" /><path clip-path=\"url(#clip990)\" d=\"M83.0984 922.167 L87.9827 922.167 L87.9827 928.046 L83.0984 928.046 L83.0984 922.167 Z\" fill=\"#000000\" fill-rule=\"nonzero\" fill-opacity=\"1\" /><path clip-path=\"url(#clip990)\" d=\"M111.015 897.56 L99.2095 916.009 L111.015 916.009 L111.015 897.56 M109.788 893.486 L115.668 893.486 L115.668 916.009 L120.598 916.009 L120.598 919.898 L115.668 919.898 L115.668 928.046 L111.015 928.046 L111.015 919.898 L95.4132 919.898 L95.4132 915.384 L109.788 893.486 Z\" fill=\"#000000\" fill-rule=\"nonzero\" fill-opacity=\"1\" /><path clip-path=\"url(#clip990)\" d=\"M63.2606 608.724 Q59.6495 608.724 57.8208 612.289 Q56.0152 615.831 56.0152 622.96 Q56.0152 630.067 57.8208 633.632 Q59.6495 637.173 63.2606 637.173 Q66.8948 637.173 68.7004 633.632 Q70.5291 630.067 70.5291 622.96 Q70.5291 615.831 68.7004 612.289 Q66.8948 608.724 63.2606 608.724 M63.2606 605.021 Q69.0707 605.021 72.1263 609.627 Q75.205 614.21 75.205 622.96 Q75.205 631.687 72.1263 636.294 Q69.0707 640.877 63.2606 640.877 Q57.4504 640.877 54.3717 636.294 Q51.3162 631.687 51.3162 622.96 Q51.3162 614.21 54.3717 609.627 Q57.4504 605.021 63.2606 605.021 Z\" fill=\"#000000\" fill-rule=\"nonzero\" fill-opacity=\"1\" /><path clip-path=\"url(#clip990)\" d=\"M83.4225 634.326 L88.3067 634.326 L88.3067 640.206 L83.4225 640.206 L83.4225 634.326 Z\" fill=\"#000000\" fill-rule=\"nonzero\" fill-opacity=\"1\" /><path clip-path=\"url(#clip990)\" d=\"M109.071 621.062 Q105.922 621.062 104.071 623.215 Q102.242 625.368 102.242 629.118 Q102.242 632.845 104.071 635.02 Q105.922 637.173 109.071 637.173 Q112.219 637.173 114.047 635.02 Q115.899 632.845 115.899 629.118 Q115.899 625.368 114.047 623.215 Q112.219 621.062 109.071 621.062 M118.353 606.409 L118.353 610.669 Q116.594 609.835 114.788 609.396 Q113.006 608.956 111.246 608.956 Q106.617 608.956 104.163 612.081 Q101.733 615.206 101.385 621.525 Q102.751 619.511 104.811 618.446 Q106.871 617.359 109.348 617.359 Q114.557 617.359 117.566 620.53 Q120.598 623.678 120.598 629.118 Q120.598 634.442 117.45 637.659 Q114.302 640.877 109.071 640.877 Q103.075 640.877 99.9039 636.294 Q96.7326 631.687 96.7326 622.96 Q96.7326 614.766 100.621 609.905 Q104.51 605.021 111.061 605.021 Q112.82 605.021 114.603 605.368 Q116.408 605.715 118.353 606.409 Z\" fill=\"#000000\" fill-rule=\"nonzero\" fill-opacity=\"1\" /><path clip-path=\"url(#clip990)\" d=\"M63.5152 320.884 Q59.9041 320.884 58.0754 324.448 Q56.2699 327.99 56.2699 335.12 Q56.2699 342.226 58.0754 345.791 Q59.9041 349.332 63.5152 349.332 Q67.1494 349.332 68.955 345.791 Q70.7837 342.226 70.7837 335.12 Q70.7837 327.99 68.955 324.448 Q67.1494 320.884 63.5152 320.884 M63.5152 317.18 Q69.3254 317.18 72.3809 321.786 Q75.4596 326.37 75.4596 335.12 Q75.4596 343.846 72.3809 348.453 Q69.3254 353.036 63.5152 353.036 Q57.7051 353.036 54.6264 348.453 Q51.5708 343.846 51.5708 335.12 Q51.5708 326.37 54.6264 321.786 Q57.7051 317.18 63.5152 317.18 Z\" fill=\"#000000\" fill-rule=\"nonzero\" fill-opacity=\"1\" /><path clip-path=\"url(#clip990)\" d=\"M83.6771 346.485 L88.5614 346.485 L88.5614 352.365 L83.6771 352.365 L83.6771 346.485 Z\" fill=\"#000000\" fill-rule=\"nonzero\" fill-opacity=\"1\" /><path clip-path=\"url(#clip990)\" d=\"M108.746 335.953 Q105.413 335.953 103.492 337.735 Q101.594 339.518 101.594 342.643 Q101.594 345.768 103.492 347.55 Q105.413 349.332 108.746 349.332 Q112.08 349.332 114.001 347.55 Q115.922 345.745 115.922 342.643 Q115.922 339.518 114.001 337.735 Q112.103 335.953 108.746 335.953 M104.071 333.962 Q101.061 333.221 99.3715 331.161 Q97.7048 329.101 97.7048 326.138 Q97.7048 321.995 100.645 319.587 Q103.608 317.18 108.746 317.18 Q113.908 317.18 116.848 319.587 Q119.788 321.995 119.788 326.138 Q119.788 329.101 118.098 331.161 Q116.432 333.221 113.445 333.962 Q116.825 334.749 118.7 337.041 Q120.598 339.333 120.598 342.643 Q120.598 347.666 117.52 350.351 Q114.464 353.036 108.746 353.036 Q103.029 353.036 99.9502 350.351 Q96.8947 347.666 96.8947 342.643 Q96.8947 339.333 98.7928 337.041 Q100.691 334.749 104.071 333.962 M102.358 326.578 Q102.358 329.263 104.024 330.768 Q105.714 332.272 108.746 332.272 Q111.756 332.272 113.445 330.768 Q115.158 329.263 115.158 326.578 Q115.158 323.893 113.445 322.388 Q111.756 320.884 108.746 320.884 Q105.714 320.884 104.024 322.388 Q102.358 323.893 102.358 326.578 Z\" fill=\"#000000\" fill-rule=\"nonzero\" fill-opacity=\"1\" /><path clip-path=\"url(#clip990)\" d=\"M54.2328 60.5889 L61.8717 60.5889 L61.8717 34.2233 L53.5616 35.89 L53.5616 31.6308 L61.8254 29.9641 L66.5013 29.9641 L66.5013 60.5889 L74.1402 60.5889 L74.1402 64.5241 L54.2328 64.5241 L54.2328 60.5889 Z\" fill=\"#000000\" fill-rule=\"nonzero\" fill-opacity=\"1\" /><path clip-path=\"url(#clip990)\" d=\"M83.5845 58.6445 L88.4688 58.6445 L88.4688 64.5241 L83.5845 64.5241 L83.5845 58.6445 Z\" fill=\"#000000\" fill-rule=\"nonzero\" fill-opacity=\"1\" /><path clip-path=\"url(#clip990)\" d=\"M108.654 33.0428 Q105.043 33.0428 103.214 36.6076 Q101.409 40.1492 101.409 47.2788 Q101.409 54.3853 103.214 57.9501 Q105.043 61.4917 108.654 61.4917 Q112.288 61.4917 114.094 57.9501 Q115.922 54.3853 115.922 47.2788 Q115.922 40.1492 114.094 36.6076 Q112.288 33.0428 108.654 33.0428 M108.654 29.3391 Q114.464 29.3391 117.52 33.9456 Q120.598 38.5289 120.598 47.2788 Q120.598 56.0056 117.52 60.6121 Q114.464 65.1954 108.654 65.1954 Q102.844 65.1954 99.765 60.6121 Q96.7095 56.0056 96.7095 47.2788 Q96.7095 38.5289 99.765 33.9456 Q102.844 29.3391 108.654 29.3391 Z\" fill=\"#000000\" fill-rule=\"nonzero\" fill-opacity=\"1\" /></svg>\n",
            "image/svg+xml": "<?xml version=\"1.0\" encoding=\"utf-8\"?>\n<svg xmlns=\"http://www.w3.org/2000/svg\" xmlns:xlink=\"http://www.w3.org/1999/xlink\" width=\"600\" height=\"400\" viewBox=\"0 0 2400 1600\">\n<defs>\n  <clipPath id=\"clip940\">\n    <rect x=\"0\" y=\"0\" width=\"2400\" height=\"1600\"/>\n  </clipPath>\n</defs>\n<path clip-path=\"url(#clip940)\" d=\"M0 1600 L2400 1600 L2400 0 L0 0  Z\" fill=\"#ffffff\" fill-rule=\"evenodd\" fill-opacity=\"1\"/>\n<defs>\n  <clipPath id=\"clip941\">\n    <rect x=\"480\" y=\"0\" width=\"1681\" height=\"1600\"/>\n  </clipPath>\n</defs>\n<path clip-path=\"url(#clip940)\" d=\"M156.598 1486.45 L2352.76 1486.45 L2352.76 47.2441 L156.598 47.2441  Z\" fill=\"#ffffff\" fill-rule=\"evenodd\" fill-opacity=\"1\"/>\n<defs>\n  <clipPath id=\"clip942\">\n    <rect x=\"156\" y=\"47\" width=\"2197\" height=\"1440\"/>\n  </clipPath>\n</defs>\n<polyline clip-path=\"url(#clip942)\" style=\"stroke:#000000; stroke-linecap:round; stroke-linejoin:round; stroke-width:2; stroke-opacity:0.1; fill:none\" points=\"156.598,1486.45 156.598,47.2441 \"/>\n<polyline clip-path=\"url(#clip942)\" style=\"stroke:#000000; stroke-linecap:round; stroke-linejoin:round; stroke-width:2; stroke-opacity:0.1; fill:none\" points=\"595.83,1486.45 595.83,47.2441 \"/>\n<polyline clip-path=\"url(#clip942)\" style=\"stroke:#000000; stroke-linecap:round; stroke-linejoin:round; stroke-width:2; stroke-opacity:0.1; fill:none\" points=\"1035.06,1486.45 1035.06,47.2441 \"/>\n<polyline clip-path=\"url(#clip942)\" style=\"stroke:#000000; stroke-linecap:round; stroke-linejoin:round; stroke-width:2; stroke-opacity:0.1; fill:none\" points=\"1474.29,1486.45 1474.29,47.2441 \"/>\n<polyline clip-path=\"url(#clip942)\" style=\"stroke:#000000; stroke-linecap:round; stroke-linejoin:round; stroke-width:2; stroke-opacity:0.1; fill:none\" points=\"1913.52,1486.45 1913.52,47.2441 \"/>\n<polyline clip-path=\"url(#clip942)\" style=\"stroke:#000000; stroke-linecap:round; stroke-linejoin:round; stroke-width:2; stroke-opacity:0.1; fill:none\" points=\"2352.76,1486.45 2352.76,47.2441 \"/>\n<polyline clip-path=\"url(#clip940)\" style=\"stroke:#000000; stroke-linecap:round; stroke-linejoin:round; stroke-width:4; stroke-opacity:1; fill:none\" points=\"156.598,1486.45 2352.76,1486.45 \"/>\n<polyline clip-path=\"url(#clip940)\" style=\"stroke:#000000; stroke-linecap:round; stroke-linejoin:round; stroke-width:4; stroke-opacity:1; fill:none\" points=\"156.598,1486.45 156.598,1467.55 \"/>\n<polyline clip-path=\"url(#clip940)\" style=\"stroke:#000000; stroke-linecap:round; stroke-linejoin:round; stroke-width:4; stroke-opacity:1; fill:none\" points=\"595.83,1486.45 595.83,1467.55 \"/>\n<polyline clip-path=\"url(#clip940)\" style=\"stroke:#000000; stroke-linecap:round; stroke-linejoin:round; stroke-width:4; stroke-opacity:1; fill:none\" points=\"1035.06,1486.45 1035.06,1467.55 \"/>\n<polyline clip-path=\"url(#clip940)\" style=\"stroke:#000000; stroke-linecap:round; stroke-linejoin:round; stroke-width:4; stroke-opacity:1; fill:none\" points=\"1474.29,1486.45 1474.29,1467.55 \"/>\n<polyline clip-path=\"url(#clip940)\" style=\"stroke:#000000; stroke-linecap:round; stroke-linejoin:round; stroke-width:4; stroke-opacity:1; fill:none\" points=\"1913.52,1486.45 1913.52,1467.55 \"/>\n<polyline clip-path=\"url(#clip940)\" style=\"stroke:#000000; stroke-linecap:round; stroke-linejoin:round; stroke-width:4; stroke-opacity:1; fill:none\" points=\"2352.76,1486.45 2352.76,1467.55 \"/>\n<path clip-path=\"url(#clip940)\" d=\"M133.983 1517.37 Q130.372 1517.37 128.543 1520.93 Q126.737 1524.47 126.737 1531.6 Q126.737 1538.71 128.543 1542.27 Q130.372 1545.82 133.983 1545.82 Q137.617 1545.82 139.422 1542.27 Q141.251 1538.71 141.251 1531.6 Q141.251 1524.47 139.422 1520.93 Q137.617 1517.37 133.983 1517.37 M133.983 1513.66 Q139.793 1513.66 142.848 1518.27 Q145.927 1522.85 145.927 1531.6 Q145.927 1540.33 142.848 1544.94 Q139.793 1549.52 133.983 1549.52 Q128.172 1549.52 125.094 1544.94 Q122.038 1540.33 122.038 1531.6 Q122.038 1522.85 125.094 1518.27 Q128.172 1513.66 133.983 1513.66 Z\" fill=\"#000000\" fill-rule=\"nonzero\" fill-opacity=\"1\" /><path clip-path=\"url(#clip940)\" d=\"M154.145 1542.97 L159.029 1542.97 L159.029 1548.85 L154.145 1548.85 L154.145 1542.97 Z\" fill=\"#000000\" fill-rule=\"nonzero\" fill-opacity=\"1\" /><path clip-path=\"url(#clip940)\" d=\"M179.214 1517.37 Q175.603 1517.37 173.774 1520.93 Q171.969 1524.47 171.969 1531.6 Q171.969 1538.71 173.774 1542.27 Q175.603 1545.82 179.214 1545.82 Q182.848 1545.82 184.654 1542.27 Q186.482 1538.71 186.482 1531.6 Q186.482 1524.47 184.654 1520.93 Q182.848 1517.37 179.214 1517.37 M179.214 1513.66 Q185.024 1513.66 188.08 1518.27 Q191.158 1522.85 191.158 1531.6 Q191.158 1540.33 188.08 1544.94 Q185.024 1549.52 179.214 1549.52 Q173.404 1549.52 170.325 1544.94 Q167.269 1540.33 167.269 1531.6 Q167.269 1522.85 170.325 1518.27 Q173.404 1513.66 179.214 1513.66 Z\" fill=\"#000000\" fill-rule=\"nonzero\" fill-opacity=\"1\" /><path clip-path=\"url(#clip940)\" d=\"M574.013 1517.37 Q570.402 1517.37 568.573 1520.93 Q566.767 1524.47 566.767 1531.6 Q566.767 1538.71 568.573 1542.27 Q570.402 1545.82 574.013 1545.82 Q577.647 1545.82 579.453 1542.27 Q581.281 1538.71 581.281 1531.6 Q581.281 1524.47 579.453 1520.93 Q577.647 1517.37 574.013 1517.37 M574.013 1513.66 Q579.823 1513.66 582.878 1518.27 Q585.957 1522.85 585.957 1531.6 Q585.957 1540.33 582.878 1544.94 Q579.823 1549.52 574.013 1549.52 Q568.203 1549.52 565.124 1544.94 Q562.068 1540.33 562.068 1531.6 Q562.068 1522.85 565.124 1518.27 Q568.203 1513.66 574.013 1513.66 Z\" fill=\"#000000\" fill-rule=\"nonzero\" fill-opacity=\"1\" /><path clip-path=\"url(#clip940)\" d=\"M594.175 1542.97 L599.059 1542.97 L599.059 1548.85 L594.175 1548.85 L594.175 1542.97 Z\" fill=\"#000000\" fill-rule=\"nonzero\" fill-opacity=\"1\" /><path clip-path=\"url(#clip940)\" d=\"M613.272 1544.91 L629.591 1544.91 L629.591 1548.85 L607.647 1548.85 L607.647 1544.91 Q610.309 1542.16 614.892 1537.53 Q619.499 1532.88 620.679 1531.53 Q622.925 1529.01 623.804 1527.27 Q624.707 1525.51 624.707 1523.82 Q624.707 1521.07 622.762 1519.33 Q620.841 1517.6 617.739 1517.6 Q615.54 1517.6 613.087 1518.36 Q610.656 1519.13 607.878 1520.68 L607.878 1515.95 Q610.702 1514.82 613.156 1514.24 Q615.61 1513.66 617.647 1513.66 Q623.017 1513.66 626.212 1516.35 Q629.406 1519.03 629.406 1523.52 Q629.406 1525.65 628.596 1527.57 Q627.809 1529.47 625.702 1532.07 Q625.124 1532.74 622.022 1535.95 Q618.92 1539.15 613.272 1544.91 Z\" fill=\"#000000\" fill-rule=\"nonzero\" fill-opacity=\"1\" /><path clip-path=\"url(#clip940)\" d=\"M1012.2 1517.37 Q1008.59 1517.37 1006.76 1520.93 Q1004.96 1524.47 1004.96 1531.6 Q1004.96 1538.71 1006.76 1542.27 Q1008.59 1545.82 1012.2 1545.82 Q1015.84 1545.82 1017.64 1542.27 Q1019.47 1538.71 1019.47 1531.6 Q1019.47 1524.47 1017.64 1520.93 Q1015.84 1517.37 1012.2 1517.37 M1012.2 1513.66 Q1018.01 1513.66 1021.07 1518.27 Q1024.15 1522.85 1024.15 1531.6 Q1024.15 1540.33 1021.07 1544.94 Q1018.01 1549.52 1012.2 1549.52 Q1006.39 1549.52 1003.31 1544.94 Q1000.26 1540.33 1000.26 1531.6 Q1000.26 1522.85 1003.31 1518.27 Q1006.39 1513.66 1012.2 1513.66 Z\" fill=\"#000000\" fill-rule=\"nonzero\" fill-opacity=\"1\" /><path clip-path=\"url(#clip940)\" d=\"M1032.36 1542.97 L1037.25 1542.97 L1037.25 1548.85 L1032.36 1548.85 L1032.36 1542.97 Z\" fill=\"#000000\" fill-rule=\"nonzero\" fill-opacity=\"1\" /><path clip-path=\"url(#clip940)\" d=\"M1060.28 1518.36 L1048.48 1536.81 L1060.28 1536.81 L1060.28 1518.36 M1059.05 1514.29 L1064.93 1514.29 L1064.93 1536.81 L1069.86 1536.81 L1069.86 1540.7 L1064.93 1540.7 L1064.93 1548.85 L1060.28 1548.85 L1060.28 1540.7 L1044.68 1540.7 L1044.68 1536.19 L1059.05 1514.29 Z\" fill=\"#000000\" fill-rule=\"nonzero\" fill-opacity=\"1\" /><path clip-path=\"url(#clip940)\" d=\"M1451.6 1517.37 Q1447.99 1517.37 1446.16 1520.93 Q1444.35 1524.47 1444.35 1531.6 Q1444.35 1538.71 1446.16 1542.27 Q1447.99 1545.82 1451.6 1545.82 Q1455.23 1545.82 1457.04 1542.27 Q1458.86 1538.71 1458.86 1531.6 Q1458.86 1524.47 1457.04 1520.93 Q1455.23 1517.37 1451.6 1517.37 M1451.6 1513.66 Q1457.41 1513.66 1460.46 1518.27 Q1463.54 1522.85 1463.54 1531.6 Q1463.54 1540.33 1460.46 1544.94 Q1457.41 1549.52 1451.6 1549.52 Q1445.79 1549.52 1442.71 1544.94 Q1439.65 1540.33 1439.65 1531.6 Q1439.65 1522.85 1442.71 1518.27 Q1445.79 1513.66 1451.6 1513.66 Z\" fill=\"#000000\" fill-rule=\"nonzero\" fill-opacity=\"1\" /><path clip-path=\"url(#clip940)\" d=\"M1471.76 1542.97 L1476.64 1542.97 L1476.64 1548.85 L1471.76 1548.85 L1471.76 1542.97 Z\" fill=\"#000000\" fill-rule=\"nonzero\" fill-opacity=\"1\" /><path clip-path=\"url(#clip940)\" d=\"M1497.41 1529.7 Q1494.26 1529.7 1492.41 1531.86 Q1490.58 1534.01 1490.58 1537.76 Q1490.58 1541.49 1492.41 1543.66 Q1494.26 1545.82 1497.41 1545.82 Q1500.55 1545.82 1502.38 1543.66 Q1504.23 1541.49 1504.23 1537.76 Q1504.23 1534.01 1502.38 1531.86 Q1500.55 1529.7 1497.41 1529.7 M1506.69 1515.05 L1506.69 1519.31 Q1504.93 1518.48 1503.12 1518.04 Q1501.34 1517.6 1499.58 1517.6 Q1494.95 1517.6 1492.5 1520.72 Q1490.07 1523.85 1489.72 1530.17 Q1491.09 1528.15 1493.15 1527.09 Q1495.21 1526 1497.68 1526 Q1502.89 1526 1505.9 1529.17 Q1508.93 1532.32 1508.93 1537.76 Q1508.93 1543.08 1505.79 1546.3 Q1502.64 1549.52 1497.41 1549.52 Q1491.41 1549.52 1488.24 1544.94 Q1485.07 1540.33 1485.07 1531.6 Q1485.07 1523.41 1488.96 1518.55 Q1492.85 1513.66 1499.4 1513.66 Q1501.16 1513.66 1502.94 1514.01 Q1504.74 1514.36 1506.69 1515.05 Z\" fill=\"#000000\" fill-rule=\"nonzero\" fill-opacity=\"1\" /><path clip-path=\"url(#clip940)\" d=\"M1890.96 1517.37 Q1887.34 1517.37 1885.52 1520.93 Q1883.71 1524.47 1883.71 1531.6 Q1883.71 1538.71 1885.52 1542.27 Q1887.34 1545.82 1890.96 1545.82 Q1894.59 1545.82 1896.39 1542.27 Q1898.22 1538.71 1898.22 1531.6 Q1898.22 1524.47 1896.39 1520.93 Q1894.59 1517.37 1890.96 1517.37 M1890.96 1513.66 Q1896.77 1513.66 1899.82 1518.27 Q1902.9 1522.85 1902.9 1531.6 Q1902.9 1540.33 1899.82 1544.94 Q1896.77 1549.52 1890.96 1549.52 Q1885.14 1549.52 1882.07 1544.94 Q1879.01 1540.33 1879.01 1531.6 Q1879.01 1522.85 1882.07 1518.27 Q1885.14 1513.66 1890.96 1513.66 Z\" fill=\"#000000\" fill-rule=\"nonzero\" fill-opacity=\"1\" /><path clip-path=\"url(#clip940)\" d=\"M1911.12 1542.97 L1916 1542.97 L1916 1548.85 L1911.12 1548.85 L1911.12 1542.97 Z\" fill=\"#000000\" fill-rule=\"nonzero\" fill-opacity=\"1\" /><path clip-path=\"url(#clip940)\" d=\"M1936.19 1532.44 Q1932.85 1532.44 1930.93 1534.22 Q1929.03 1536 1929.03 1539.13 Q1929.03 1542.25 1930.93 1544.03 Q1932.85 1545.82 1936.19 1545.82 Q1939.52 1545.82 1941.44 1544.03 Q1943.36 1542.23 1943.36 1539.13 Q1943.36 1536 1941.44 1534.22 Q1939.54 1532.44 1936.19 1532.44 M1931.51 1530.45 Q1928.5 1529.7 1926.81 1527.64 Q1925.14 1525.58 1925.14 1522.62 Q1925.14 1518.48 1928.08 1516.07 Q1931.05 1513.66 1936.19 1513.66 Q1941.35 1513.66 1944.29 1516.07 Q1947.23 1518.48 1947.23 1522.62 Q1947.23 1525.58 1945.54 1527.64 Q1943.87 1529.7 1940.89 1530.45 Q1944.26 1531.23 1946.14 1533.52 Q1948.04 1535.82 1948.04 1539.13 Q1948.04 1544.15 1944.96 1546.83 Q1941.9 1549.52 1936.19 1549.52 Q1930.47 1549.52 1927.39 1546.83 Q1924.33 1544.15 1924.33 1539.13 Q1924.33 1535.82 1926.23 1533.52 Q1928.13 1531.23 1931.51 1530.45 M1929.8 1523.06 Q1929.8 1525.75 1931.46 1527.25 Q1933.15 1528.76 1936.19 1528.76 Q1939.2 1528.76 1940.89 1527.25 Q1942.6 1525.75 1942.6 1523.06 Q1942.6 1520.38 1940.89 1518.87 Q1939.2 1517.37 1936.19 1517.37 Q1933.15 1517.37 1931.46 1518.87 Q1929.8 1520.38 1929.8 1523.06 Z\" fill=\"#000000\" fill-rule=\"nonzero\" fill-opacity=\"1\" /><path clip-path=\"url(#clip940)\" d=\"M2319.91 1544.91 L2327.55 1544.91 L2327.55 1518.55 L2319.24 1520.21 L2319.24 1515.95 L2327.5 1514.29 L2332.18 1514.29 L2332.18 1544.91 L2339.82 1544.91 L2339.82 1548.85 L2319.91 1548.85 L2319.91 1544.91 Z\" fill=\"#000000\" fill-rule=\"nonzero\" fill-opacity=\"1\" /><path clip-path=\"url(#clip940)\" d=\"M2349.26 1542.97 L2354.14 1542.97 L2354.14 1548.85 L2349.26 1548.85 L2349.26 1542.97 Z\" fill=\"#000000\" fill-rule=\"nonzero\" fill-opacity=\"1\" /><path clip-path=\"url(#clip940)\" d=\"M2374.33 1517.37 Q2370.72 1517.37 2368.89 1520.93 Q2367.08 1524.47 2367.08 1531.6 Q2367.08 1538.71 2368.89 1542.27 Q2370.72 1545.82 2374.33 1545.82 Q2377.96 1545.82 2379.77 1542.27 Q2381.6 1538.71 2381.6 1531.6 Q2381.6 1524.47 2379.77 1520.93 Q2377.96 1517.37 2374.33 1517.37 M2374.33 1513.66 Q2380.14 1513.66 2383.2 1518.27 Q2386.27 1522.85 2386.27 1531.6 Q2386.27 1540.33 2383.2 1544.94 Q2380.14 1549.52 2374.33 1549.52 Q2368.52 1549.52 2365.44 1544.94 Q2362.39 1540.33 2362.39 1531.6 Q2362.39 1522.85 2365.44 1518.27 Q2368.52 1513.66 2374.33 1513.66 Z\" fill=\"#000000\" fill-rule=\"nonzero\" fill-opacity=\"1\" /><polyline clip-path=\"url(#clip942)\" style=\"stroke:#000000; stroke-linecap:round; stroke-linejoin:round; stroke-width:2; stroke-opacity:0.1; fill:none\" points=\"156.598,1486.45 2352.76,1486.45 \"/>\n<polyline clip-path=\"url(#clip942)\" style=\"stroke:#000000; stroke-linecap:round; stroke-linejoin:round; stroke-width:2; stroke-opacity:0.1; fill:none\" points=\"156.598,1198.61 2352.76,1198.61 \"/>\n<polyline clip-path=\"url(#clip942)\" style=\"stroke:#000000; stroke-linecap:round; stroke-linejoin:round; stroke-width:2; stroke-opacity:0.1; fill:none\" points=\"156.598,910.766 2352.76,910.766 \"/>\n<polyline clip-path=\"url(#clip942)\" style=\"stroke:#000000; stroke-linecap:round; stroke-linejoin:round; stroke-width:2; stroke-opacity:0.1; fill:none\" points=\"156.598,622.926 2352.76,622.926 \"/>\n<polyline clip-path=\"url(#clip942)\" style=\"stroke:#000000; stroke-linecap:round; stroke-linejoin:round; stroke-width:2; stroke-opacity:0.1; fill:none\" points=\"156.598,335.085 2352.76,335.085 \"/>\n<polyline clip-path=\"url(#clip942)\" style=\"stroke:#000000; stroke-linecap:round; stroke-linejoin:round; stroke-width:2; stroke-opacity:0.1; fill:none\" points=\"156.598,47.2441 2352.76,47.2441 \"/>\n<polyline clip-path=\"url(#clip940)\" style=\"stroke:#000000; stroke-linecap:round; stroke-linejoin:round; stroke-width:4; stroke-opacity:1; fill:none\" points=\"156.598,1486.45 156.598,47.2441 \"/>\n<polyline clip-path=\"url(#clip940)\" style=\"stroke:#000000; stroke-linecap:round; stroke-linejoin:round; stroke-width:4; stroke-opacity:1; fill:none\" points=\"156.598,1486.45 175.496,1486.45 \"/>\n<polyline clip-path=\"url(#clip940)\" style=\"stroke:#000000; stroke-linecap:round; stroke-linejoin:round; stroke-width:4; stroke-opacity:1; fill:none\" points=\"156.598,1198.61 175.496,1198.61 \"/>\n<polyline clip-path=\"url(#clip940)\" style=\"stroke:#000000; stroke-linecap:round; stroke-linejoin:round; stroke-width:4; stroke-opacity:1; fill:none\" points=\"156.598,910.766 175.496,910.766 \"/>\n<polyline clip-path=\"url(#clip940)\" style=\"stroke:#000000; stroke-linecap:round; stroke-linejoin:round; stroke-width:4; stroke-opacity:1; fill:none\" points=\"156.598,622.926 175.496,622.926 \"/>\n<polyline clip-path=\"url(#clip940)\" style=\"stroke:#000000; stroke-linecap:round; stroke-linejoin:round; stroke-width:4; stroke-opacity:1; fill:none\" points=\"156.598,335.085 175.496,335.085 \"/>\n<polyline clip-path=\"url(#clip940)\" style=\"stroke:#000000; stroke-linecap:round; stroke-linejoin:round; stroke-width:4; stroke-opacity:1; fill:none\" points=\"156.598,47.2441 175.496,47.2441 \"/>\n<path clip-path=\"url(#clip940)\" d=\"M63.4226 1472.25 Q59.8115 1472.25 57.9828 1475.81 Q56.1773 1479.35 56.1773 1486.48 Q56.1773 1493.59 57.9828 1497.15 Q59.8115 1500.7 63.4226 1500.7 Q67.0569 1500.7 68.8624 1497.15 Q70.6911 1493.59 70.6911 1486.48 Q70.6911 1479.35 68.8624 1475.81 Q67.0569 1472.25 63.4226 1472.25 M63.4226 1468.54 Q69.2328 1468.54 72.2883 1473.15 Q75.367 1477.73 75.367 1486.48 Q75.367 1495.21 72.2883 1499.82 Q69.2328 1504.4 63.4226 1504.4 Q57.6125 1504.4 54.5338 1499.82 Q51.4782 1495.21 51.4782 1486.48 Q51.4782 1477.73 54.5338 1473.15 Q57.6125 1468.54 63.4226 1468.54 Z\" fill=\"#000000\" fill-rule=\"nonzero\" fill-opacity=\"1\" /><path clip-path=\"url(#clip940)\" d=\"M83.5845 1497.85 L88.4688 1497.85 L88.4688 1503.73 L83.5845 1503.73 L83.5845 1497.85 Z\" fill=\"#000000\" fill-rule=\"nonzero\" fill-opacity=\"1\" /><path clip-path=\"url(#clip940)\" d=\"M108.654 1472.25 Q105.043 1472.25 103.214 1475.81 Q101.409 1479.35 101.409 1486.48 Q101.409 1493.59 103.214 1497.15 Q105.043 1500.7 108.654 1500.7 Q112.288 1500.7 114.094 1497.15 Q115.922 1493.59 115.922 1486.48 Q115.922 1479.35 114.094 1475.81 Q112.288 1472.25 108.654 1472.25 M108.654 1468.54 Q114.464 1468.54 117.52 1473.15 Q120.598 1477.73 120.598 1486.48 Q120.598 1495.21 117.52 1499.82 Q114.464 1504.4 108.654 1504.4 Q102.844 1504.4 99.765 1499.82 Q96.7095 1495.21 96.7095 1486.48 Q96.7095 1477.73 99.765 1473.15 Q102.844 1468.54 108.654 1468.54 Z\" fill=\"#000000\" fill-rule=\"nonzero\" fill-opacity=\"1\" /><path clip-path=\"url(#clip940)\" d=\"M65.0198 1184.41 Q61.4087 1184.41 59.58 1187.97 Q57.7745 1191.51 57.7745 1198.64 Q57.7745 1205.75 59.58 1209.31 Q61.4087 1212.85 65.0198 1212.85 Q68.6541 1212.85 70.4596 1209.31 Q72.2883 1205.75 72.2883 1198.64 Q72.2883 1191.51 70.4596 1187.97 Q68.6541 1184.41 65.0198 1184.41 M65.0198 1180.7 Q70.83 1180.7 73.8855 1185.31 Q76.9642 1189.89 76.9642 1198.64 Q76.9642 1207.37 73.8855 1211.98 Q70.83 1216.56 65.0198 1216.56 Q59.2097 1216.56 56.131 1211.98 Q53.0754 1207.37 53.0754 1198.64 Q53.0754 1189.89 56.131 1185.31 Q59.2097 1180.7 65.0198 1180.7 Z\" fill=\"#000000\" fill-rule=\"nonzero\" fill-opacity=\"1\" /><path clip-path=\"url(#clip940)\" d=\"M85.1818 1210.01 L90.066 1210.01 L90.066 1215.89 L85.1818 1215.89 L85.1818 1210.01 Z\" fill=\"#000000\" fill-rule=\"nonzero\" fill-opacity=\"1\" /><path clip-path=\"url(#clip940)\" d=\"M104.279 1211.95 L120.598 1211.95 L120.598 1215.89 L98.6539 1215.89 L98.6539 1211.95 Q101.316 1209.2 105.899 1204.57 Q110.506 1199.91 111.686 1198.57 Q113.932 1196.05 114.811 1194.31 Q115.714 1192.55 115.714 1190.86 Q115.714 1188.11 113.77 1186.37 Q111.848 1184.64 108.746 1184.64 Q106.547 1184.64 104.094 1185.4 Q101.663 1186.17 98.8854 1187.72 L98.8854 1182.99 Q101.709 1181.86 104.163 1181.28 Q106.617 1180.7 108.654 1180.7 Q114.024 1180.7 117.219 1183.39 Q120.413 1186.07 120.413 1190.56 Q120.413 1192.69 119.603 1194.61 Q118.816 1196.51 116.709 1199.1 Q116.131 1199.78 113.029 1202.99 Q109.927 1206.19 104.279 1211.95 Z\" fill=\"#000000\" fill-rule=\"nonzero\" fill-opacity=\"1\" /><path clip-path=\"url(#clip940)\" d=\"M62.9365 896.565 Q59.3254 896.565 57.4967 900.13 Q55.6912 903.671 55.6912 910.801 Q55.6912 917.908 57.4967 921.472 Q59.3254 925.014 62.9365 925.014 Q66.5707 925.014 68.3763 921.472 Q70.205 917.908 70.205 910.801 Q70.205 903.671 68.3763 900.13 Q66.5707 896.565 62.9365 896.565 M62.9365 892.861 Q68.7467 892.861 71.8022 897.468 Q74.8809 902.051 74.8809 910.801 Q74.8809 919.528 71.8022 924.134 Q68.7467 928.718 62.9365 928.718 Q57.1264 928.718 54.0477 924.134 Q50.9921 919.528 50.9921 910.801 Q50.9921 902.051 54.0477 897.468 Q57.1264 892.861 62.9365 892.861 Z\" fill=\"#000000\" fill-rule=\"nonzero\" fill-opacity=\"1\" /><path clip-path=\"url(#clip940)\" d=\"M83.0984 922.167 L87.9827 922.167 L87.9827 928.046 L83.0984 928.046 L83.0984 922.167 Z\" fill=\"#000000\" fill-rule=\"nonzero\" fill-opacity=\"1\" /><path clip-path=\"url(#clip940)\" d=\"M111.015 897.56 L99.2095 916.009 L111.015 916.009 L111.015 897.56 M109.788 893.486 L115.668 893.486 L115.668 916.009 L120.598 916.009 L120.598 919.898 L115.668 919.898 L115.668 928.046 L111.015 928.046 L111.015 919.898 L95.4132 919.898 L95.4132 915.384 L109.788 893.486 Z\" fill=\"#000000\" fill-rule=\"nonzero\" fill-opacity=\"1\" /><path clip-path=\"url(#clip940)\" d=\"M63.2606 608.724 Q59.6495 608.724 57.8208 612.289 Q56.0152 615.831 56.0152 622.96 Q56.0152 630.067 57.8208 633.632 Q59.6495 637.173 63.2606 637.173 Q66.8948 637.173 68.7004 633.632 Q70.5291 630.067 70.5291 622.96 Q70.5291 615.831 68.7004 612.289 Q66.8948 608.724 63.2606 608.724 M63.2606 605.021 Q69.0707 605.021 72.1263 609.627 Q75.205 614.21 75.205 622.96 Q75.205 631.687 72.1263 636.294 Q69.0707 640.877 63.2606 640.877 Q57.4504 640.877 54.3717 636.294 Q51.3162 631.687 51.3162 622.96 Q51.3162 614.21 54.3717 609.627 Q57.4504 605.021 63.2606 605.021 Z\" fill=\"#000000\" fill-rule=\"nonzero\" fill-opacity=\"1\" /><path clip-path=\"url(#clip940)\" d=\"M83.4225 634.326 L88.3067 634.326 L88.3067 640.206 L83.4225 640.206 L83.4225 634.326 Z\" fill=\"#000000\" fill-rule=\"nonzero\" fill-opacity=\"1\" /><path clip-path=\"url(#clip940)\" d=\"M109.071 621.062 Q105.922 621.062 104.071 623.215 Q102.242 625.368 102.242 629.118 Q102.242 632.845 104.071 635.02 Q105.922 637.173 109.071 637.173 Q112.219 637.173 114.047 635.02 Q115.899 632.845 115.899 629.118 Q115.899 625.368 114.047 623.215 Q112.219 621.062 109.071 621.062 M118.353 606.409 L118.353 610.669 Q116.594 609.835 114.788 609.396 Q113.006 608.956 111.246 608.956 Q106.617 608.956 104.163 612.081 Q101.733 615.206 101.385 621.525 Q102.751 619.511 104.811 618.446 Q106.871 617.359 109.348 617.359 Q114.557 617.359 117.566 620.53 Q120.598 623.678 120.598 629.118 Q120.598 634.442 117.45 637.659 Q114.302 640.877 109.071 640.877 Q103.075 640.877 99.9039 636.294 Q96.7326 631.687 96.7326 622.96 Q96.7326 614.766 100.621 609.905 Q104.51 605.021 111.061 605.021 Q112.82 605.021 114.603 605.368 Q116.408 605.715 118.353 606.409 Z\" fill=\"#000000\" fill-rule=\"nonzero\" fill-opacity=\"1\" /><path clip-path=\"url(#clip940)\" d=\"M63.5152 320.884 Q59.9041 320.884 58.0754 324.448 Q56.2699 327.99 56.2699 335.12 Q56.2699 342.226 58.0754 345.791 Q59.9041 349.332 63.5152 349.332 Q67.1494 349.332 68.955 345.791 Q70.7837 342.226 70.7837 335.12 Q70.7837 327.99 68.955 324.448 Q67.1494 320.884 63.5152 320.884 M63.5152 317.18 Q69.3254 317.18 72.3809 321.786 Q75.4596 326.37 75.4596 335.12 Q75.4596 343.846 72.3809 348.453 Q69.3254 353.036 63.5152 353.036 Q57.7051 353.036 54.6264 348.453 Q51.5708 343.846 51.5708 335.12 Q51.5708 326.37 54.6264 321.786 Q57.7051 317.18 63.5152 317.18 Z\" fill=\"#000000\" fill-rule=\"nonzero\" fill-opacity=\"1\" /><path clip-path=\"url(#clip940)\" d=\"M83.6771 346.485 L88.5614 346.485 L88.5614 352.365 L83.6771 352.365 L83.6771 346.485 Z\" fill=\"#000000\" fill-rule=\"nonzero\" fill-opacity=\"1\" /><path clip-path=\"url(#clip940)\" d=\"M108.746 335.953 Q105.413 335.953 103.492 337.735 Q101.594 339.518 101.594 342.643 Q101.594 345.768 103.492 347.55 Q105.413 349.332 108.746 349.332 Q112.08 349.332 114.001 347.55 Q115.922 345.745 115.922 342.643 Q115.922 339.518 114.001 337.735 Q112.103 335.953 108.746 335.953 M104.071 333.962 Q101.061 333.221 99.3715 331.161 Q97.7048 329.101 97.7048 326.138 Q97.7048 321.995 100.645 319.587 Q103.608 317.18 108.746 317.18 Q113.908 317.18 116.848 319.587 Q119.788 321.995 119.788 326.138 Q119.788 329.101 118.098 331.161 Q116.432 333.221 113.445 333.962 Q116.825 334.749 118.7 337.041 Q120.598 339.333 120.598 342.643 Q120.598 347.666 117.52 350.351 Q114.464 353.036 108.746 353.036 Q103.029 353.036 99.9502 350.351 Q96.8947 347.666 96.8947 342.643 Q96.8947 339.333 98.7928 337.041 Q100.691 334.749 104.071 333.962 M102.358 326.578 Q102.358 329.263 104.024 330.768 Q105.714 332.272 108.746 332.272 Q111.756 332.272 113.445 330.768 Q115.158 329.263 115.158 326.578 Q115.158 323.893 113.445 322.388 Q111.756 320.884 108.746 320.884 Q105.714 320.884 104.024 322.388 Q102.358 323.893 102.358 326.578 Z\" fill=\"#000000\" fill-rule=\"nonzero\" fill-opacity=\"1\" /><path clip-path=\"url(#clip940)\" d=\"M54.2328 60.5889 L61.8717 60.5889 L61.8717 34.2233 L53.5616 35.89 L53.5616 31.6308 L61.8254 29.9641 L66.5013 29.9641 L66.5013 60.5889 L74.1402 60.5889 L74.1402 64.5241 L54.2328 64.5241 L54.2328 60.5889 Z\" fill=\"#000000\" fill-rule=\"nonzero\" fill-opacity=\"1\" /><path clip-path=\"url(#clip940)\" d=\"M83.5845 58.6445 L88.4688 58.6445 L88.4688 64.5241 L83.5845 64.5241 L83.5845 58.6445 Z\" fill=\"#000000\" fill-rule=\"nonzero\" fill-opacity=\"1\" /><path clip-path=\"url(#clip940)\" d=\"M108.654 33.0428 Q105.043 33.0428 103.214 36.6076 Q101.409 40.1492 101.409 47.2788 Q101.409 54.3853 103.214 57.9501 Q105.043 61.4917 108.654 61.4917 Q112.288 61.4917 114.094 57.9501 Q115.922 54.3853 115.922 47.2788 Q115.922 40.1492 114.094 36.6076 Q112.288 33.0428 108.654 33.0428 M108.654 29.3391 Q114.464 29.3391 117.52 33.9456 Q120.598 38.5289 120.598 47.2788 Q120.598 56.0056 117.52 60.6121 Q114.464 65.1954 108.654 65.1954 Q102.844 65.1954 99.765 60.6121 Q96.7095 56.0056 96.7095 47.2788 Q96.7095 38.5289 99.765 33.9456 Q102.844 29.3391 108.654 29.3391 Z\" fill=\"#000000\" fill-rule=\"nonzero\" fill-opacity=\"1\" /></svg>\n"
          },
          "metadata": {}
        }
      ],
      "execution_count": 12,
      "metadata": {
        "collapsed": true,
        "jupyter": {
          "source_hidden": false,
          "outputs_hidden": false
        },
        "nteract": {
          "transient": {
            "deleting": false
          }
        },
        "execution": {
          "iopub.status.busy": "2023-10-03T18:53:06.652Z",
          "iopub.execute_input": "2023-10-03T18:53:06.686Z",
          "iopub.status.idle": "2023-10-03T18:53:06.775Z"
        }
      }
    },
    {
      "cell_type": "code",
      "source": [
        "p =[0 1 0 -4 -8 -8 -5 2 ]\n",
        "bez(p)"
      ],
      "outputs": [
        {
          "output_type": "execute_result",
          "execution_count": 14,
          "data": {
            "image/png": "[encoded data removed]",
            "text/html": "<?xml version=\"1.0\" encoding=\"utf-8\"?>\n<svg xmlns=\"http://www.w3.org/2000/svg\" xmlns:xlink=\"http://www.w3.org/1999/xlink\" width=\"600\" height=\"400\" viewBox=\"0 0 2400 1600\">\n<defs>\n  <clipPath id=\"clip170\">\n    <rect x=\"0\" y=\"0\" width=\"2400\" height=\"1600\"/>\n  </clipPath>\n</defs>\n<path clip-path=\"url(#clip170)\" d=\"M0 1600 L2400 1600 L2400 0 L0 0  Z\" fill=\"#ffffff\" fill-rule=\"evenodd\" fill-opacity=\"1\"/>\n<defs>\n  <clipPath id=\"clip171\">\n    <rect x=\"480\" y=\"0\" width=\"1681\" height=\"1600\"/>\n  </clipPath>\n</defs>\n<path clip-path=\"url(#clip170)\" d=\"M193.936 1486.45 L2352.76 1486.45 L2352.76 47.2441 L193.936 47.2441  Z\" fill=\"#ffffff\" fill-rule=\"evenodd\" fill-opacity=\"1\"/>\n<defs>\n  <clipPath id=\"clip172\">\n    <rect x=\"193\" y=\"47\" width=\"2160\" height=\"1440\"/>\n  </clipPath>\n</defs>\n<polyline clip-path=\"url(#clip172)\" style=\"stroke:#000000; stroke-linecap:round; stroke-linejoin:round; stroke-width:2; stroke-opacity:0.1; fill:none\" points=\"509.612,1486.45 509.612,47.2441 \"/>\n<polyline clip-path=\"url(#clip172)\" style=\"stroke:#000000; stroke-linecap:round; stroke-linejoin:round; stroke-width:2; stroke-opacity:0.1; fill:none\" points=\"891.479,1486.45 891.479,47.2441 \"/>\n<polyline clip-path=\"url(#clip172)\" style=\"stroke:#000000; stroke-linecap:round; stroke-linejoin:round; stroke-width:2; stroke-opacity:0.1; fill:none\" points=\"1273.35,1486.45 1273.35,47.2441 \"/>\n<polyline clip-path=\"url(#clip172)\" style=\"stroke:#000000; stroke-linecap:round; stroke-linejoin:round; stroke-width:2; stroke-opacity:0.1; fill:none\" points=\"1655.21,1486.45 1655.21,47.2441 \"/>\n<polyline clip-path=\"url(#clip172)\" style=\"stroke:#000000; stroke-linecap:round; stroke-linejoin:round; stroke-width:2; stroke-opacity:0.1; fill:none\" points=\"2037.08,1486.45 2037.08,47.2441 \"/>\n<polyline clip-path=\"url(#clip170)\" style=\"stroke:#000000; stroke-linecap:round; stroke-linejoin:round; stroke-width:4; stroke-opacity:1; fill:none\" points=\"193.936,1486.45 2352.76,1486.45 \"/>\n<polyline clip-path=\"url(#clip170)\" style=\"stroke:#000000; stroke-linecap:round; stroke-linejoin:round; stroke-width:4; stroke-opacity:1; fill:none\" points=\"509.612,1486.45 509.612,1467.55 \"/>\n<polyline clip-path=\"url(#clip170)\" style=\"stroke:#000000; stroke-linecap:round; stroke-linejoin:round; stroke-width:4; stroke-opacity:1; fill:none\" points=\"891.479,1486.45 891.479,1467.55 \"/>\n<polyline clip-path=\"url(#clip170)\" style=\"stroke:#000000; stroke-linecap:round; stroke-linejoin:round; stroke-width:4; stroke-opacity:1; fill:none\" points=\"1273.35,1486.45 1273.35,1467.55 \"/>\n<polyline clip-path=\"url(#clip170)\" style=\"stroke:#000000; stroke-linecap:round; stroke-linejoin:round; stroke-width:4; stroke-opacity:1; fill:none\" points=\"1655.21,1486.45 1655.21,1467.55 \"/>\n<polyline clip-path=\"url(#clip170)\" style=\"stroke:#000000; stroke-linecap:round; stroke-linejoin:round; stroke-width:4; stroke-opacity:1; fill:none\" points=\"2037.08,1486.45 2037.08,1467.55 \"/>\n<path clip-path=\"url(#clip170)\" d=\"M478.675 1532.02 L508.351 1532.02 L508.351 1535.95 L478.675 1535.95 L478.675 1532.02 Z\" fill=\"#000000\" fill-rule=\"nonzero\" fill-opacity=\"1\" /><path clip-path=\"url(#clip170)\" d=\"M529.022 1529.7 Q525.874 1529.7 524.022 1531.86 Q522.193 1534.01 522.193 1537.76 Q522.193 1541.49 524.022 1543.66 Q525.874 1545.82 529.022 1545.82 Q532.17 1545.82 533.999 1543.66 Q535.851 1541.49 535.851 1537.76 Q535.851 1534.01 533.999 1531.86 Q532.17 1529.7 529.022 1529.7 M538.304 1515.05 L538.304 1519.31 Q536.545 1518.48 534.74 1518.04 Q532.957 1517.6 531.198 1517.6 Q526.568 1517.6 524.115 1520.72 Q521.684 1523.85 521.337 1530.17 Q522.703 1528.15 524.763 1527.09 Q526.823 1526 529.3 1526 Q534.508 1526 537.517 1529.17 Q540.55 1532.32 540.55 1537.76 Q540.55 1543.08 537.402 1546.3 Q534.254 1549.52 529.022 1549.52 Q523.027 1549.52 519.855 1544.94 Q516.684 1540.33 516.684 1531.6 Q516.684 1523.41 520.573 1518.55 Q524.462 1513.66 531.013 1513.66 Q532.772 1513.66 534.554 1514.01 Q536.36 1514.36 538.304 1515.05 Z\" fill=\"#000000\" fill-rule=\"nonzero\" fill-opacity=\"1\" /><path clip-path=\"url(#clip170)\" d=\"M860.947 1532.02 L890.623 1532.02 L890.623 1535.95 L860.947 1535.95 L860.947 1532.02 Z\" fill=\"#000000\" fill-rule=\"nonzero\" fill-opacity=\"1\" /><path clip-path=\"url(#clip170)\" d=\"M914.882 1530.21 Q918.238 1530.93 920.113 1533.2 Q922.011 1535.47 922.011 1538.8 Q922.011 1543.92 918.493 1546.72 Q914.974 1549.52 908.493 1549.52 Q906.317 1549.52 904.002 1549.08 Q901.711 1548.66 899.257 1547.81 L899.257 1543.29 Q901.201 1544.43 903.516 1545.01 Q905.831 1545.58 908.354 1545.58 Q912.752 1545.58 915.044 1543.85 Q917.359 1542.11 917.359 1538.8 Q917.359 1535.75 915.206 1534.03 Q913.076 1532.3 909.257 1532.3 L905.229 1532.3 L905.229 1528.45 L909.442 1528.45 Q912.891 1528.45 914.72 1527.09 Q916.549 1525.7 916.549 1523.11 Q916.549 1520.45 914.65 1519.03 Q912.775 1517.6 909.257 1517.6 Q907.336 1517.6 905.137 1518.01 Q902.937 1518.43 900.299 1519.31 L900.299 1515.14 Q902.961 1514.4 905.275 1514.03 Q907.613 1513.66 909.674 1513.66 Q914.998 1513.66 918.099 1516.09 Q921.201 1518.5 921.201 1522.62 Q921.201 1525.49 919.558 1527.48 Q917.914 1529.45 914.882 1530.21 Z\" fill=\"#000000\" fill-rule=\"nonzero\" fill-opacity=\"1\" /><path clip-path=\"url(#clip170)\" d=\"M1273.35 1517.37 Q1269.73 1517.37 1267.91 1520.93 Q1266.1 1524.47 1266.1 1531.6 Q1266.1 1538.71 1267.91 1542.27 Q1269.73 1545.82 1273.35 1545.82 Q1276.98 1545.82 1278.79 1542.27 Q1280.61 1538.71 1280.61 1531.6 Q1280.61 1524.47 1278.79 1520.93 Q1276.98 1517.37 1273.35 1517.37 M1273.35 1513.66 Q1279.16 1513.66 1282.21 1518.27 Q1285.29 1522.85 1285.29 1531.6 Q1285.29 1540.33 1282.21 1544.94 Q1279.16 1549.52 1273.35 1549.52 Q1267.54 1549.52 1264.46 1544.94 Q1261.4 1540.33 1261.4 1531.6 Q1261.4 1522.85 1264.46 1518.27 Q1267.54 1513.66 1273.35 1513.66 Z\" fill=\"#000000\" fill-rule=\"nonzero\" fill-opacity=\"1\" /><path clip-path=\"url(#clip170)\" d=\"M1659.46 1530.21 Q1662.82 1530.93 1664.69 1533.2 Q1666.59 1535.47 1666.59 1538.8 Q1666.59 1543.92 1663.07 1546.72 Q1659.55 1549.52 1653.07 1549.52 Q1650.9 1549.52 1648.58 1549.08 Q1646.29 1548.66 1643.84 1547.81 L1643.84 1543.29 Q1645.78 1544.43 1648.09 1545.01 Q1650.41 1545.58 1652.93 1545.58 Q1657.33 1545.58 1659.62 1543.85 Q1661.94 1542.11 1661.94 1538.8 Q1661.94 1535.75 1659.78 1534.03 Q1657.65 1532.3 1653.84 1532.3 L1649.81 1532.3 L1649.81 1528.45 L1654.02 1528.45 Q1657.47 1528.45 1659.3 1527.09 Q1661.13 1525.7 1661.13 1523.11 Q1661.13 1520.45 1659.23 1519.03 Q1657.35 1517.6 1653.84 1517.6 Q1651.91 1517.6 1649.72 1518.01 Q1647.52 1518.43 1644.88 1519.31 L1644.88 1515.14 Q1647.54 1514.4 1649.85 1514.03 Q1652.19 1513.66 1654.25 1513.66 Q1659.58 1513.66 1662.68 1516.09 Q1665.78 1518.5 1665.78 1522.62 Q1665.78 1525.49 1664.14 1527.48 Q1662.49 1529.45 1659.46 1530.21 Z\" fill=\"#000000\" fill-rule=\"nonzero\" fill-opacity=\"1\" /><path clip-path=\"url(#clip170)\" d=\"M2037.48 1529.7 Q2034.34 1529.7 2032.48 1531.86 Q2030.66 1534.01 2030.66 1537.76 Q2030.66 1541.49 2032.48 1543.66 Q2034.34 1545.82 2037.48 1545.82 Q2040.63 1545.82 2042.46 1543.66 Q2044.31 1541.49 2044.31 1537.76 Q2044.31 1534.01 2042.46 1531.86 Q2040.63 1529.7 2037.48 1529.7 M2046.77 1515.05 L2046.77 1519.31 Q2045.01 1518.48 2043.2 1518.04 Q2041.42 1517.6 2039.66 1517.6 Q2035.03 1517.6 2032.58 1520.72 Q2030.15 1523.85 2029.8 1530.17 Q2031.17 1528.15 2033.23 1527.09 Q2035.29 1526 2037.76 1526 Q2042.97 1526 2045.98 1529.17 Q2049.01 1532.32 2049.01 1537.76 Q2049.01 1543.08 2045.86 1546.3 Q2042.72 1549.52 2037.48 1549.52 Q2031.49 1549.52 2028.32 1544.94 Q2025.15 1540.33 2025.15 1531.6 Q2025.15 1523.41 2029.04 1518.55 Q2032.92 1513.66 2039.48 1513.66 Q2041.23 1513.66 2043.02 1514.01 Q2044.82 1514.36 2046.77 1515.05 Z\" fill=\"#000000\" fill-rule=\"nonzero\" fill-opacity=\"1\" /><polyline clip-path=\"url(#clip172)\" style=\"stroke:#000000; stroke-linecap:round; stroke-linejoin:round; stroke-width:2; stroke-opacity:0.1; fill:none\" points=\"193.936,1405.78 2352.76,1405.78 \"/>\n<polyline clip-path=\"url(#clip172)\" style=\"stroke:#000000; stroke-linecap:round; stroke-linejoin:round; stroke-width:2; stroke-opacity:0.1; fill:none\" points=\"193.936,1206.11 2352.76,1206.11 \"/>\n<polyline clip-path=\"url(#clip172)\" style=\"stroke:#000000; stroke-linecap:round; stroke-linejoin:round; stroke-width:2; stroke-opacity:0.1; fill:none\" points=\"193.936,1006.45 2352.76,1006.45 \"/>\n<polyline clip-path=\"url(#clip172)\" style=\"stroke:#000000; stroke-linecap:round; stroke-linejoin:round; stroke-width:2; stroke-opacity:0.1; fill:none\" points=\"193.936,806.779 2352.76,806.779 \"/>\n<polyline clip-path=\"url(#clip172)\" style=\"stroke:#000000; stroke-linecap:round; stroke-linejoin:round; stroke-width:2; stroke-opacity:0.1; fill:none\" points=\"193.936,607.112 2352.76,607.112 \"/>\n<polyline clip-path=\"url(#clip172)\" style=\"stroke:#000000; stroke-linecap:round; stroke-linejoin:round; stroke-width:2; stroke-opacity:0.1; fill:none\" points=\"193.936,407.444 2352.76,407.444 \"/>\n<polyline clip-path=\"url(#clip172)\" style=\"stroke:#000000; stroke-linecap:round; stroke-linejoin:round; stroke-width:2; stroke-opacity:0.1; fill:none\" points=\"193.936,207.777 2352.76,207.777 \"/>\n<polyline clip-path=\"url(#clip170)\" style=\"stroke:#000000; stroke-linecap:round; stroke-linejoin:round; stroke-width:4; stroke-opacity:1; fill:none\" points=\"193.936,1486.45 193.936,47.2441 \"/>\n<polyline clip-path=\"url(#clip170)\" style=\"stroke:#000000; stroke-linecap:round; stroke-linejoin:round; stroke-width:4; stroke-opacity:1; fill:none\" points=\"193.936,1405.78 212.834,1405.78 \"/>\n<polyline clip-path=\"url(#clip170)\" style=\"stroke:#000000; stroke-linecap:round; stroke-linejoin:round; stroke-width:4; stroke-opacity:1; fill:none\" points=\"193.936,1206.11 212.834,1206.11 \"/>\n<polyline clip-path=\"url(#clip170)\" style=\"stroke:#000000; stroke-linecap:round; stroke-linejoin:round; stroke-width:4; stroke-opacity:1; fill:none\" points=\"193.936,1006.45 212.834,1006.45 \"/>\n<polyline clip-path=\"url(#clip170)\" style=\"stroke:#000000; stroke-linecap:round; stroke-linejoin:round; stroke-width:4; stroke-opacity:1; fill:none\" points=\"193.936,806.779 212.834,806.779 \"/>\n<polyline clip-path=\"url(#clip170)\" style=\"stroke:#000000; stroke-linecap:round; stroke-linejoin:round; stroke-width:4; stroke-opacity:1; fill:none\" points=\"193.936,607.112 212.834,607.112 \"/>\n<polyline clip-path=\"url(#clip170)\" style=\"stroke:#000000; stroke-linecap:round; stroke-linejoin:round; stroke-width:4; stroke-opacity:1; fill:none\" points=\"193.936,407.444 212.834,407.444 \"/>\n<polyline clip-path=\"url(#clip170)\" style=\"stroke:#000000; stroke-linecap:round; stroke-linejoin:round; stroke-width:4; stroke-opacity:1; fill:none\" points=\"193.936,207.777 212.834,207.777 \"/>\n<path clip-path=\"url(#clip170)\" d=\"M51.9875 1406.23 L81.6633 1406.23 L81.6633 1410.17 L51.9875 1410.17 L51.9875 1406.23 Z\" fill=\"#000000\" fill-rule=\"nonzero\" fill-opacity=\"1\" /><path clip-path=\"url(#clip170)\" d=\"M90.5752 1388.5 L112.797 1388.5 L112.797 1390.49 L100.251 1423.06 L95.3669 1423.06 L107.172 1392.44 L90.5752 1392.44 L90.5752 1388.5 Z\" fill=\"#000000\" fill-rule=\"nonzero\" fill-opacity=\"1\" /><path clip-path=\"url(#clip170)\" d=\"M121.918 1417.18 L126.802 1417.18 L126.802 1423.06 L121.918 1423.06 L121.918 1417.18 Z\" fill=\"#000000\" fill-rule=\"nonzero\" fill-opacity=\"1\" /><path clip-path=\"url(#clip170)\" d=\"M137.033 1388.5 L155.39 1388.5 L155.39 1392.44 L141.316 1392.44 L141.316 1400.91 Q142.334 1400.56 143.353 1400.4 Q144.371 1400.22 145.39 1400.22 Q151.177 1400.22 154.556 1403.39 Q157.936 1406.56 157.936 1411.97 Q157.936 1417.55 154.464 1420.65 Q150.992 1423.73 144.672 1423.73 Q142.496 1423.73 140.228 1423.36 Q137.982 1422.99 135.575 1422.25 L135.575 1417.55 Q137.658 1418.69 139.881 1419.24 Q142.103 1419.8 144.58 1419.8 Q148.584 1419.8 150.922 1417.69 Q153.26 1415.59 153.26 1411.97 Q153.26 1408.36 150.922 1406.26 Q148.584 1404.15 144.58 1404.15 Q142.705 1404.15 140.83 1404.57 Q138.978 1404.98 137.033 1405.86 L137.033 1388.5 Z\" fill=\"#000000\" fill-rule=\"nonzero\" fill-opacity=\"1\" /><path clip-path=\"url(#clip170)\" d=\"M50.9921 1206.57 L80.6679 1206.57 L80.6679 1210.5 L50.9921 1210.5 L50.9921 1206.57 Z\" fill=\"#000000\" fill-rule=\"nonzero\" fill-opacity=\"1\" /><path clip-path=\"url(#clip170)\" d=\"M90.8067 1188.83 L109.163 1188.83 L109.163 1192.77 L95.0891 1192.77 L95.0891 1201.24 Q96.1076 1200.89 97.1261 1200.73 Q98.1447 1200.55 99.1632 1200.55 Q104.95 1200.55 108.33 1203.72 Q111.709 1206.89 111.709 1212.31 Q111.709 1217.89 108.237 1220.99 Q104.765 1224.07 98.4456 1224.07 Q96.2697 1224.07 94.0012 1223.7 Q91.7558 1223.33 89.3484 1222.58 L89.3484 1217.89 Q91.4317 1219.02 93.6539 1219.58 Q95.8761 1220.13 98.353 1220.13 Q102.358 1220.13 104.696 1218.02 Q107.033 1215.92 107.033 1212.31 Q107.033 1208.7 104.696 1206.59 Q102.358 1204.48 98.353 1204.48 Q96.478 1204.48 94.603 1204.9 Q92.7512 1205.32 90.8067 1206.2 L90.8067 1188.83 Z\" fill=\"#000000\" fill-rule=\"nonzero\" fill-opacity=\"1\" /><path clip-path=\"url(#clip170)\" d=\"M120.922 1217.52 L125.807 1217.52 L125.807 1223.39 L120.922 1223.39 L120.922 1217.52 Z\" fill=\"#000000\" fill-rule=\"nonzero\" fill-opacity=\"1\" /><path clip-path=\"url(#clip170)\" d=\"M145.992 1191.91 Q142.381 1191.91 140.552 1195.48 Q138.746 1199.02 138.746 1206.15 Q138.746 1213.26 140.552 1216.82 Q142.381 1220.36 145.992 1220.36 Q149.626 1220.36 151.431 1216.82 Q153.26 1213.26 153.26 1206.15 Q153.26 1199.02 151.431 1195.48 Q149.626 1191.91 145.992 1191.91 M145.992 1188.21 Q151.802 1188.21 154.857 1192.82 Q157.936 1197.4 157.936 1206.15 Q157.936 1214.88 154.857 1219.48 Q151.802 1224.07 145.992 1224.07 Q140.181 1224.07 137.103 1219.48 Q134.047 1214.88 134.047 1206.15 Q134.047 1197.4 137.103 1192.82 Q140.181 1188.21 145.992 1188.21 Z\" fill=\"#000000\" fill-rule=\"nonzero\" fill-opacity=\"1\" /><path clip-path=\"url(#clip170)\" d=\"M51.9875 1006.9 L81.6633 1006.9 L81.6633 1010.83 L51.9875 1010.83 L51.9875 1006.9 Z\" fill=\"#000000\" fill-rule=\"nonzero\" fill-opacity=\"1\" /><path clip-path=\"url(#clip170)\" d=\"M95.7836 1019.79 L112.103 1019.79 L112.103 1023.73 L90.1586 1023.73 L90.1586 1019.79 Q92.8206 1017.04 97.4039 1012.41 Q102.01 1007.75 103.191 1006.41 Q105.436 1003.89 106.316 1002.15 Q107.219 1000.39 107.219 998.704 Q107.219 995.949 105.274 994.213 Q103.353 992.477 100.251 992.477 Q98.0521 992.477 95.5984 993.241 Q93.1678 994.005 90.3901 995.556 L90.3901 990.834 Q93.2141 989.699 95.6678 989.121 Q98.1215 988.542 100.159 988.542 Q105.529 988.542 108.723 991.227 Q111.918 993.912 111.918 998.403 Q111.918 1000.53 111.108 1002.45 Q110.321 1004.35 108.214 1006.94 Q107.635 1007.62 104.534 1010.83 Q101.432 1014.03 95.7836 1019.79 Z\" fill=\"#000000\" fill-rule=\"nonzero\" fill-opacity=\"1\" /><path clip-path=\"url(#clip170)\" d=\"M121.918 1017.85 L126.802 1017.85 L126.802 1023.73 L121.918 1023.73 L121.918 1017.85 Z\" fill=\"#000000\" fill-rule=\"nonzero\" fill-opacity=\"1\" /><path clip-path=\"url(#clip170)\" d=\"M137.033 989.167 L155.39 989.167 L155.39 993.102 L141.316 993.102 L141.316 1001.57 Q142.334 1001.23 143.353 1001.07 Q144.371 1000.88 145.39 1000.88 Q151.177 1000.88 154.556 1004.05 Q157.936 1007.22 157.936 1012.64 Q157.936 1018.22 154.464 1021.32 Q150.992 1024.4 144.672 1024.4 Q142.496 1024.4 140.228 1024.03 Q137.982 1023.66 135.575 1022.92 L135.575 1018.22 Q137.658 1019.35 139.881 1019.91 Q142.103 1020.46 144.58 1020.46 Q148.584 1020.46 150.922 1018.36 Q153.26 1016.25 153.26 1012.64 Q153.26 1009.03 150.922 1006.92 Q148.584 1004.82 144.58 1004.82 Q142.705 1004.82 140.83 1005.23 Q138.978 1005.65 137.033 1006.53 L137.033 989.167 Z\" fill=\"#000000\" fill-rule=\"nonzero\" fill-opacity=\"1\" /><path clip-path=\"url(#clip170)\" d=\"M100.76 792.578 Q97.1493 792.578 95.3206 796.143 Q93.515 799.685 93.515 806.814 Q93.515 813.921 95.3206 817.485 Q97.1493 821.027 100.76 821.027 Q104.395 821.027 106.2 817.485 Q108.029 813.921 108.029 806.814 Q108.029 799.685 106.2 796.143 Q104.395 792.578 100.76 792.578 M100.76 788.874 Q106.571 788.874 109.626 793.481 Q112.705 798.064 112.705 806.814 Q112.705 815.541 109.626 820.147 Q106.571 824.731 100.76 824.731 Q94.9502 824.731 91.8715 820.147 Q88.816 815.541 88.816 806.814 Q88.816 798.064 91.8715 793.481 Q94.9502 788.874 100.76 788.874 Z\" fill=\"#000000\" fill-rule=\"nonzero\" fill-opacity=\"1\" /><path clip-path=\"url(#clip170)\" d=\"M120.922 818.18 L125.807 818.18 L125.807 824.059 L120.922 824.059 L120.922 818.18 Z\" fill=\"#000000\" fill-rule=\"nonzero\" fill-opacity=\"1\" /><path clip-path=\"url(#clip170)\" d=\"M145.992 792.578 Q142.381 792.578 140.552 796.143 Q138.746 799.685 138.746 806.814 Q138.746 813.921 140.552 817.485 Q142.381 821.027 145.992 821.027 Q149.626 821.027 151.431 817.485 Q153.26 813.921 153.26 806.814 Q153.26 799.685 151.431 796.143 Q149.626 792.578 145.992 792.578 M145.992 788.874 Q151.802 788.874 154.857 793.481 Q157.936 798.064 157.936 806.814 Q157.936 815.541 154.857 820.147 Q151.802 824.731 145.992 824.731 Q140.181 824.731 137.103 820.147 Q134.047 815.541 134.047 806.814 Q134.047 798.064 137.103 793.481 Q140.181 788.874 145.992 788.874 Z\" fill=\"#000000\" fill-rule=\"nonzero\" fill-opacity=\"1\" /><path clip-path=\"url(#clip170)\" d=\"M95.7836 620.457 L112.103 620.457 L112.103 624.392 L90.1586 624.392 L90.1586 620.457 Q92.8206 617.702 97.4039 613.073 Q102.01 608.42 103.191 607.077 Q105.436 604.554 106.316 602.818 Q107.219 601.059 107.219 599.369 Q107.219 596.614 105.274 594.878 Q103.353 593.142 100.251 593.142 Q98.0521 593.142 95.5984 593.906 Q93.1678 594.67 90.3901 596.221 L90.3901 591.499 Q93.2141 590.364 95.6678 589.786 Q98.1215 589.207 100.159 589.207 Q105.529 589.207 108.723 591.892 Q111.918 594.577 111.918 599.068 Q111.918 601.198 111.108 603.119 Q110.321 605.017 108.214 607.61 Q107.635 608.281 104.534 611.498 Q101.432 614.693 95.7836 620.457 Z\" fill=\"#000000\" fill-rule=\"nonzero\" fill-opacity=\"1\" /><path clip-path=\"url(#clip170)\" d=\"M121.918 618.512 L126.802 618.512 L126.802 624.392 L121.918 624.392 L121.918 618.512 Z\" fill=\"#000000\" fill-rule=\"nonzero\" fill-opacity=\"1\" /><path clip-path=\"url(#clip170)\" d=\"M137.033 589.832 L155.39 589.832 L155.39 593.767 L141.316 593.767 L141.316 602.239 Q142.334 601.892 143.353 601.73 Q144.371 601.545 145.39 601.545 Q151.177 601.545 154.556 604.716 Q157.936 607.887 157.936 613.304 Q157.936 618.883 154.464 621.985 Q150.992 625.063 144.672 625.063 Q142.496 625.063 140.228 624.693 Q137.982 624.322 135.575 623.582 L135.575 618.883 Q137.658 620.017 139.881 620.573 Q142.103 621.128 144.58 621.128 Q148.584 621.128 150.922 619.022 Q153.26 616.915 153.26 613.304 Q153.26 609.693 150.922 607.586 Q148.584 605.48 144.58 605.48 Q142.705 605.48 140.83 605.897 Q138.978 606.313 137.033 607.193 L137.033 589.832 Z\" fill=\"#000000\" fill-rule=\"nonzero\" fill-opacity=\"1\" /><path clip-path=\"url(#clip170)\" d=\"M90.8067 390.164 L109.163 390.164 L109.163 394.1 L95.0891 394.1 L95.0891 402.572 Q96.1076 402.224 97.1261 402.062 Q98.1447 401.877 99.1632 401.877 Q104.95 401.877 108.33 405.049 Q111.709 408.22 111.709 413.636 Q111.709 419.215 108.237 422.317 Q104.765 425.396 98.4456 425.396 Q96.2697 425.396 94.0012 425.025 Q91.7558 424.655 89.3484 423.914 L89.3484 419.215 Q91.4317 420.349 93.6539 420.905 Q95.8761 421.461 98.353 421.461 Q102.358 421.461 104.696 419.354 Q107.033 417.248 107.033 413.636 Q107.033 410.025 104.696 407.919 Q102.358 405.812 98.353 405.812 Q96.478 405.812 94.603 406.229 Q92.7512 406.646 90.8067 407.525 L90.8067 390.164 Z\" fill=\"#000000\" fill-rule=\"nonzero\" fill-opacity=\"1\" /><path clip-path=\"url(#clip170)\" d=\"M120.922 418.845 L125.807 418.845 L125.807 424.724 L120.922 424.724 L120.922 418.845 Z\" fill=\"#000000\" fill-rule=\"nonzero\" fill-opacity=\"1\" /><path clip-path=\"url(#clip170)\" d=\"M145.992 393.243 Q142.381 393.243 140.552 396.808 Q138.746 400.35 138.746 407.479 Q138.746 414.586 140.552 418.15 Q142.381 421.692 145.992 421.692 Q149.626 421.692 151.431 418.15 Q153.26 414.586 153.26 407.479 Q153.26 400.35 151.431 396.808 Q149.626 393.243 145.992 393.243 M145.992 389.539 Q151.802 389.539 154.857 394.146 Q157.936 398.729 157.936 407.479 Q157.936 416.206 154.857 420.812 Q151.802 425.396 145.992 425.396 Q140.181 425.396 137.103 420.812 Q134.047 416.206 134.047 407.479 Q134.047 398.729 137.103 394.146 Q140.181 389.539 145.992 389.539 Z\" fill=\"#000000\" fill-rule=\"nonzero\" fill-opacity=\"1\" /><path clip-path=\"url(#clip170)\" d=\"M90.5752 190.497 L112.797 190.497 L112.797 192.488 L100.251 225.057 L95.3669 225.057 L107.172 194.432 L90.5752 194.432 L90.5752 190.497 Z\" fill=\"#000000\" fill-rule=\"nonzero\" fill-opacity=\"1\" /><path clip-path=\"url(#clip170)\" d=\"M121.918 219.177 L126.802 219.177 L126.802 225.057 L121.918 225.057 L121.918 219.177 Z\" fill=\"#000000\" fill-rule=\"nonzero\" fill-opacity=\"1\" /><path clip-path=\"url(#clip170)\" d=\"M137.033 190.497 L155.39 190.497 L155.39 194.432 L141.316 194.432 L141.316 202.904 Q142.334 202.557 143.353 202.395 Q144.371 202.21 145.39 202.21 Q151.177 202.21 154.556 205.381 Q157.936 208.552 157.936 213.969 Q157.936 219.548 154.464 222.649 Q150.992 225.728 144.672 225.728 Q142.496 225.728 140.228 225.358 Q137.982 224.987 135.575 224.247 L135.575 219.548 Q137.658 220.682 139.881 221.237 Q142.103 221.793 144.58 221.793 Q148.584 221.793 150.922 219.686 Q153.26 217.58 153.26 213.969 Q153.26 210.358 150.922 208.251 Q148.584 206.145 144.58 206.145 Q142.705 206.145 140.83 206.562 Q138.978 206.978 137.033 207.858 L137.033 190.497 Z\" fill=\"#000000\" fill-rule=\"nonzero\" fill-opacity=\"1\" /><polyline clip-path=\"url(#clip172)\" style=\"stroke:#009af9; stroke-linecap:round; stroke-linejoin:round; stroke-width:4; stroke-opacity:1; fill:none\" points=\"1273.35,567.178 1303.44,557.713 1332.63,548.484 1360.94,539.485 1388.37,530.713 1414.95,522.163 1440.7,513.832 1465.61,505.714 1489.72,497.805 1513.03,490.102 1535.56,482.599 1557.33,475.293 1578.35,468.179 1598.64,461.253 1618.21,454.51 1637.07,447.947 1655.25,441.558 1672.76,435.341 1689.61,429.289 1705.82,423.399 1721.4,417.667 1736.37,412.089 1750.75,406.659 1764.55,401.374 1777.78,396.23 1790.46,391.221 1802.6,386.345 1814.23,381.596 1825.35,376.97 1835.99,372.463 1846.15,368.07 1855.85,363.788 1865.11,359.611 1873.94,355.536 1882.36,351.559 1890.38,347.674 1898.02,343.878 1905.29,340.166 1912.21,336.535 1918.8,332.979 1925.07,329.494 1931.02,326.077 1936.69,322.722 1942.09,319.426 1947.22,316.184 1952.11,312.992 1956.78,309.845 1961.22,306.739 1965.47,303.671 1969.54,300.635 1973.43,297.627 1977.18,294.643 1980.79,291.679 1984.27,288.731 1987.65,285.793 1990.94,282.862 1994.15,279.933 1997.3,277.003 2000.4,274.066 2003.47,271.118 2006.53,268.156 2009.59,265.175 2012.66,262.17 2015.76,259.137 2018.91,256.073 2022.12,252.972 2025.41,249.83 2028.79,246.643 2032.27,243.406 2035.88,240.116 2039.63,236.769 2043.52,233.358 2047.59,229.881 2051.84,226.334 2056.28,222.711 2060.95,219.008 2065.84,215.222 2070.97,211.347 2076.37,207.38 2082.04,203.316 2087.99,199.151 2094.26,194.881 2100.85,190.501 2107.77,186.006 2115.04,181.394 2122.68,176.659 2130.7,171.796 2139.12,166.803 2147.95,161.674 2157.21,156.405 2166.91,150.991 2177.07,145.429 2187.71,139.715 2198.83,133.843 2210.46,127.809 2222.6,121.61 2235.28,115.241 2248.51,108.697 2262.31,101.975 2276.69,95.0692 2291.66,87.9763 \"/>\n<circle clip-path=\"url(#clip172)\" cx=\"1273.35\" cy=\"567.178\" r=\"14.4\" fill=\"#e26f46\" fill-rule=\"evenodd\" fill-opacity=\"1\" stroke=\"#000000\" stroke-opacity=\"1\" stroke-width=\"3.2\"/>\n<circle clip-path=\"url(#clip172)\" cx=\"2291.66\" cy=\"247.71\" r=\"14.4\" fill=\"#e26f46\" fill-rule=\"evenodd\" fill-opacity=\"1\" stroke=\"#000000\" stroke-opacity=\"1\" stroke-width=\"3.2\"/>\n<circle clip-path=\"url(#clip172)\" cx=\"1782.5\" cy=\"327.577\" r=\"14.4\" fill=\"#e26f46\" fill-rule=\"evenodd\" fill-opacity=\"1\" stroke=\"#000000\" stroke-opacity=\"1\" stroke-width=\"3.2\"/>\n<circle clip-path=\"url(#clip172)\" cx=\"2291.66\" cy=\"87.9763\" r=\"14.4\" fill=\"#e26f46\" fill-rule=\"evenodd\" fill-opacity=\"1\" stroke=\"#000000\" stroke-opacity=\"1\" stroke-width=\"3.2\"/>\n<polyline clip-path=\"url(#clip172)\" style=\"stroke:#3da44d; stroke-linecap:round; stroke-linejoin:round; stroke-width:4; stroke-opacity:1; fill:none\" points=\"1273.35,726.912 1273.04,738.868 1272.14,750.768 1270.66,762.609 1268.61,774.383 1266.01,786.084 1262.87,797.706 1259.21,809.243 1255.03,820.688 1250.36,832.035 1245.22,843.279 1239.6,854.412 1233.53,865.429 1227.03,876.323 1220.11,887.088 1212.77,897.718 1205.05,908.207 1196.94,918.548 1188.47,928.735 1179.65,938.762 1170.5,948.623 1161.02,958.312 1151.24,967.821 1141.17,977.146 1130.81,986.28 1120.2,995.216 1109.34,1003.95 1098.24,1012.47 1086.93,1020.78 1075.41,1028.86 1063.7,1036.72 1051.82,1044.34 1039.77,1051.72 1027.58,1058.85 1015.25,1065.73 1002.81,1072.35 990.264,1078.7 977.629,1084.78 964.921,1090.58 952.153,1096.1 939.34,1101.33 926.496,1106.26 913.637,1110.89 900.776,1115.2 887.927,1119.2 875.107,1122.88 862.328,1126.23 849.606,1129.25 836.955,1131.93 824.389,1134.26 811.924,1136.23 799.573,1137.85 787.351,1139.1 775.272,1139.98 763.352,1140.48 751.605,1140.59 740.044,1140.32 728.685,1139.65 717.542,1138.57 706.63,1137.09 695.963,1135.19 685.556,1132.87 675.423,1130.12 665.579,1126.94 656.038,1123.32 646.814,1119.25 637.923,1114.73 629.378,1109.75 621.195,1104.3 613.387,1098.38 605.97,1091.98 598.958,1085.1 592.365,1077.73 586.205,1069.87 580.494,1061.5 575.246,1052.62 570.475,1043.23 566.196,1033.31 562.423,1022.87 559.171,1011.89 556.455,1000.38 554.288,988.315 552.686,975.7 551.663,962.526 551.233,948.787 551.411,934.477 552.212,919.589 553.649,904.118 555.738,888.057 558.493,871.4 561.928,854.141 566.059,836.273 570.899,817.79 576.462,798.686 582.765,778.954 589.82,758.59 597.643,737.585 606.249,715.935 615.65,693.632 625.863,670.671 636.901,647.045 \"/>\n<circle clip-path=\"url(#clip172)\" cx=\"1273.35\" cy=\"726.912\" r=\"14.4\" fill=\"#c271d2\" fill-rule=\"evenodd\" fill-opacity=\"1\" stroke=\"#000000\" stroke-opacity=\"1\" stroke-width=\"3.2\"/>\n<circle clip-path=\"url(#clip172)\" cx=\"1273.35\" cy=\"1126.25\" r=\"14.4\" fill=\"#c271d2\" fill-rule=\"evenodd\" fill-opacity=\"1\" stroke=\"#000000\" stroke-opacity=\"1\" stroke-width=\"3.2\"/>\n<circle clip-path=\"url(#clip172)\" cx=\"255.035\" cy=\"1445.72\" r=\"14.4\" fill=\"#c271d2\" fill-rule=\"evenodd\" fill-opacity=\"1\" stroke=\"#000000\" stroke-opacity=\"1\" stroke-width=\"3.2\"/>\n<circle clip-path=\"url(#clip172)\" cx=\"636.901\" cy=\"647.045\" r=\"14.4\" fill=\"#c271d2\" fill-rule=\"evenodd\" fill-opacity=\"1\" stroke=\"#000000\" stroke-opacity=\"1\" stroke-width=\"3.2\"/>\n<path clip-path=\"url(#clip170)\" d=\"M265.897 354.418 L535.922 354.418 L535.922 95.2176 L265.897 95.2176  Z\" fill=\"#ffffff\" fill-rule=\"evenodd\" fill-opacity=\"1\"/>\n<polyline clip-path=\"url(#clip170)\" style=\"stroke:#000000; stroke-linecap:round; stroke-linejoin:round; stroke-width:4; stroke-opacity:1; fill:none\" points=\"265.897,354.418 535.922,354.418 535.922,95.2176 265.897,95.2176 265.897,354.418 \"/>\n<polyline clip-path=\"url(#clip170)\" style=\"stroke:#009af9; stroke-linecap:round; stroke-linejoin:round; stroke-width:4; stroke-opacity:1; fill:none\" points=\"289.884,147.058 433.805,147.058 \"/>\n<path clip-path=\"url(#clip170)\" d=\"M471.634 166.745 Q469.829 171.375 468.116 172.787 Q466.403 174.199 463.532 174.199 L460.13 174.199 L460.13 170.634 L462.63 170.634 Q464.389 170.634 465.361 169.8 Q466.333 168.967 467.514 165.865 L468.278 163.921 L457.792 138.412 L462.306 138.412 L470.407 158.689 L478.509 138.412 L483.023 138.412 L471.634 166.745 Z\" fill=\"#000000\" fill-rule=\"nonzero\" fill-opacity=\"1\" /><path clip-path=\"url(#clip170)\" d=\"M490.315 160.402 L497.954 160.402 L497.954 134.037 L489.643 135.703 L489.643 131.444 L497.907 129.778 L502.583 129.778 L502.583 160.402 L510.222 160.402 L510.222 164.338 L490.315 164.338 L490.315 160.402 Z\" fill=\"#000000\" fill-rule=\"nonzero\" fill-opacity=\"1\" /><circle clip-path=\"url(#clip170)\" cx=\"361.844\" cy=\"198.898\" r=\"20.48\" fill=\"#e26f46\" fill-rule=\"evenodd\" fill-opacity=\"1\" stroke=\"#000000\" stroke-opacity=\"1\" stroke-width=\"4.55111\"/>\n<path clip-path=\"url(#clip170)\" d=\"M471.634 218.585 Q469.829 223.215 468.116 224.627 Q466.403 226.039 463.532 226.039 L460.13 226.039 L460.13 222.474 L462.63 222.474 Q464.389 222.474 465.361 221.64 Q466.333 220.807 467.514 217.705 L468.278 215.761 L457.792 190.252 L462.306 190.252 L470.407 210.529 L478.509 190.252 L483.023 190.252 L471.634 218.585 Z\" fill=\"#000000\" fill-rule=\"nonzero\" fill-opacity=\"1\" /><path clip-path=\"url(#clip170)\" d=\"M493.532 212.242 L509.852 212.242 L509.852 216.178 L487.907 216.178 L487.907 212.242 Q490.569 209.488 495.153 204.858 Q499.759 200.205 500.94 198.863 Q503.185 196.34 504.065 194.604 Q504.967 192.844 504.967 191.155 Q504.967 188.4 503.023 186.664 Q501.102 184.928 498 184.928 Q495.801 184.928 493.347 185.692 Q490.917 186.455 488.139 188.006 L488.139 183.284 Q490.963 182.15 493.417 181.571 Q495.87 180.993 497.907 180.993 Q503.278 180.993 506.472 183.678 Q509.666 186.363 509.666 190.854 Q509.666 192.983 508.856 194.905 Q508.069 196.803 505.963 199.395 Q505.384 200.067 502.282 203.284 Q499.18 206.479 493.532 212.242 Z\" fill=\"#000000\" fill-rule=\"nonzero\" fill-opacity=\"1\" /><polyline clip-path=\"url(#clip170)\" style=\"stroke:#3da44d; stroke-linecap:round; stroke-linejoin:round; stroke-width:4; stroke-opacity:1; fill:none\" points=\"289.884,250.738 433.805,250.738 \"/>\n<path clip-path=\"url(#clip170)\" d=\"M471.634 270.425 Q469.829 275.055 468.116 276.467 Q466.403 277.879 463.532 277.879 L460.13 277.879 L460.13 274.314 L462.63 274.314 Q464.389 274.314 465.361 273.48 Q466.333 272.647 467.514 269.545 L468.278 267.601 L457.792 242.092 L462.306 242.092 L470.407 262.369 L478.509 242.092 L483.023 242.092 L471.634 270.425 Z\" fill=\"#000000\" fill-rule=\"nonzero\" fill-opacity=\"1\" /><path clip-path=\"url(#clip170)\" d=\"M503.671 249.383 Q507.028 250.101 508.903 252.369 Q510.801 254.638 510.801 257.971 Q510.801 263.087 507.282 265.888 Q503.764 268.689 497.282 268.689 Q495.106 268.689 492.792 268.249 Q490.5 267.832 488.046 266.976 L488.046 262.462 Q489.991 263.596 492.305 264.175 Q494.62 264.754 497.143 264.754 Q501.542 264.754 503.833 263.018 Q506.148 261.281 506.148 257.971 Q506.148 254.916 503.995 253.203 Q501.866 251.467 498.046 251.467 L494.018 251.467 L494.018 247.624 L498.231 247.624 Q501.68 247.624 503.509 246.258 Q505.338 244.87 505.338 242.277 Q505.338 239.615 503.44 238.203 Q501.565 236.768 498.046 236.768 Q496.125 236.768 493.926 237.184 Q491.727 237.601 489.088 238.481 L489.088 234.314 Q491.75 233.573 494.065 233.203 Q496.403 232.833 498.463 232.833 Q503.787 232.833 506.889 235.263 Q509.991 237.67 509.991 241.791 Q509.991 244.661 508.347 246.652 Q506.704 248.62 503.671 249.383 Z\" fill=\"#000000\" fill-rule=\"nonzero\" fill-opacity=\"1\" /><circle clip-path=\"url(#clip170)\" cx=\"361.844\" cy=\"302.578\" r=\"20.48\" fill=\"#c271d2\" fill-rule=\"evenodd\" fill-opacity=\"1\" stroke=\"#000000\" stroke-opacity=\"1\" stroke-width=\"4.55111\"/>\n<path clip-path=\"url(#clip170)\" d=\"M471.634 322.265 Q469.829 326.895 468.116 328.307 Q466.403 329.719 463.532 329.719 L460.13 329.719 L460.13 326.154 L462.63 326.154 Q464.389 326.154 465.361 325.32 Q466.333 324.487 467.514 321.385 L468.278 319.441 L457.792 293.932 L462.306 293.932 L470.407 314.209 L478.509 293.932 L483.023 293.932 L471.634 322.265 Z\" fill=\"#000000\" fill-rule=\"nonzero\" fill-opacity=\"1\" /><path clip-path=\"url(#clip170)\" d=\"M502.352 289.372 L490.546 307.821 L502.352 307.821 L502.352 289.372 M501.125 285.298 L507.004 285.298 L507.004 307.821 L511.935 307.821 L511.935 311.709 L507.004 311.709 L507.004 319.858 L502.352 319.858 L502.352 311.709 L486.75 311.709 L486.75 307.196 L501.125 285.298 Z\" fill=\"#000000\" fill-rule=\"nonzero\" fill-opacity=\"1\" /></svg>\n",
            "image/svg+xml": "<?xml version=\"1.0\" encoding=\"utf-8\"?>\n<svg xmlns=\"http://www.w3.org/2000/svg\" xmlns:xlink=\"http://www.w3.org/1999/xlink\" width=\"600\" height=\"400\" viewBox=\"0 0 2400 1600\">\n<defs>\n  <clipPath id=\"clip120\">\n    <rect x=\"0\" y=\"0\" width=\"2400\" height=\"1600\"/>\n  </clipPath>\n</defs>\n<path clip-path=\"url(#clip120)\" d=\"M0 1600 L2400 1600 L2400 0 L0 0  Z\" fill=\"#ffffff\" fill-rule=\"evenodd\" fill-opacity=\"1\"/>\n<defs>\n  <clipPath id=\"clip121\">\n    <rect x=\"480\" y=\"0\" width=\"1681\" height=\"1600\"/>\n  </clipPath>\n</defs>\n<path clip-path=\"url(#clip120)\" d=\"M193.936 1486.45 L2352.76 1486.45 L2352.76 47.2441 L193.936 47.2441  Z\" fill=\"#ffffff\" fill-rule=\"evenodd\" fill-opacity=\"1\"/>\n<defs>\n  <clipPath id=\"clip122\">\n    <rect x=\"193\" y=\"47\" width=\"2160\" height=\"1440\"/>\n  </clipPath>\n</defs>\n<polyline clip-path=\"url(#clip122)\" style=\"stroke:#000000; stroke-linecap:round; stroke-linejoin:round; stroke-width:2; stroke-opacity:0.1; fill:none\" points=\"509.612,1486.45 509.612,47.2441 \"/>\n<polyline clip-path=\"url(#clip122)\" style=\"stroke:#000000; stroke-linecap:round; stroke-linejoin:round; stroke-width:2; stroke-opacity:0.1; fill:none\" points=\"891.479,1486.45 891.479,47.2441 \"/>\n<polyline clip-path=\"url(#clip122)\" style=\"stroke:#000000; stroke-linecap:round; stroke-linejoin:round; stroke-width:2; stroke-opacity:0.1; fill:none\" points=\"1273.35,1486.45 1273.35,47.2441 \"/>\n<polyline clip-path=\"url(#clip122)\" style=\"stroke:#000000; stroke-linecap:round; stroke-linejoin:round; stroke-width:2; stroke-opacity:0.1; fill:none\" points=\"1655.21,1486.45 1655.21,47.2441 \"/>\n<polyline clip-path=\"url(#clip122)\" style=\"stroke:#000000; stroke-linecap:round; stroke-linejoin:round; stroke-width:2; stroke-opacity:0.1; fill:none\" points=\"2037.08,1486.45 2037.08,47.2441 \"/>\n<polyline clip-path=\"url(#clip120)\" style=\"stroke:#000000; stroke-linecap:round; stroke-linejoin:round; stroke-width:4; stroke-opacity:1; fill:none\" points=\"193.936,1486.45 2352.76,1486.45 \"/>\n<polyline clip-path=\"url(#clip120)\" style=\"stroke:#000000; stroke-linecap:round; stroke-linejoin:round; stroke-width:4; stroke-opacity:1; fill:none\" points=\"509.612,1486.45 509.612,1467.55 \"/>\n<polyline clip-path=\"url(#clip120)\" style=\"stroke:#000000; stroke-linecap:round; stroke-linejoin:round; stroke-width:4; stroke-opacity:1; fill:none\" points=\"891.479,1486.45 891.479,1467.55 \"/>\n<polyline clip-path=\"url(#clip120)\" style=\"stroke:#000000; stroke-linecap:round; stroke-linejoin:round; stroke-width:4; stroke-opacity:1; fill:none\" points=\"1273.35,1486.45 1273.35,1467.55 \"/>\n<polyline clip-path=\"url(#clip120)\" style=\"stroke:#000000; stroke-linecap:round; stroke-linejoin:round; stroke-width:4; stroke-opacity:1; fill:none\" points=\"1655.21,1486.45 1655.21,1467.55 \"/>\n<polyline clip-path=\"url(#clip120)\" style=\"stroke:#000000; stroke-linecap:round; stroke-linejoin:round; stroke-width:4; stroke-opacity:1; fill:none\" points=\"2037.08,1486.45 2037.08,1467.55 \"/>\n<path clip-path=\"url(#clip120)\" d=\"M478.675 1532.02 L508.351 1532.02 L508.351 1535.95 L478.675 1535.95 L478.675 1532.02 Z\" fill=\"#000000\" fill-rule=\"nonzero\" fill-opacity=\"1\" /><path clip-path=\"url(#clip120)\" d=\"M529.022 1529.7 Q525.874 1529.7 524.022 1531.86 Q522.193 1534.01 522.193 1537.76 Q522.193 1541.49 524.022 1543.66 Q525.874 1545.82 529.022 1545.82 Q532.17 1545.82 533.999 1543.66 Q535.851 1541.49 535.851 1537.76 Q535.851 1534.01 533.999 1531.86 Q532.17 1529.7 529.022 1529.7 M538.304 1515.05 L538.304 1519.31 Q536.545 1518.48 534.74 1518.04 Q532.957 1517.6 531.198 1517.6 Q526.568 1517.6 524.115 1520.72 Q521.684 1523.85 521.337 1530.17 Q522.703 1528.15 524.763 1527.09 Q526.823 1526 529.3 1526 Q534.508 1526 537.517 1529.17 Q540.55 1532.32 540.55 1537.76 Q540.55 1543.08 537.402 1546.3 Q534.254 1549.52 529.022 1549.52 Q523.027 1549.52 519.855 1544.94 Q516.684 1540.33 516.684 1531.6 Q516.684 1523.41 520.573 1518.55 Q524.462 1513.66 531.013 1513.66 Q532.772 1513.66 534.554 1514.01 Q536.36 1514.36 538.304 1515.05 Z\" fill=\"#000000\" fill-rule=\"nonzero\" fill-opacity=\"1\" /><path clip-path=\"url(#clip120)\" d=\"M860.947 1532.02 L890.623 1532.02 L890.623 1535.95 L860.947 1535.95 L860.947 1532.02 Z\" fill=\"#000000\" fill-rule=\"nonzero\" fill-opacity=\"1\" /><path clip-path=\"url(#clip120)\" d=\"M914.882 1530.21 Q918.238 1530.93 920.113 1533.2 Q922.011 1535.47 922.011 1538.8 Q922.011 1543.92 918.493 1546.72 Q914.974 1549.52 908.493 1549.52 Q906.317 1549.52 904.002 1549.08 Q901.711 1548.66 899.257 1547.81 L899.257 1543.29 Q901.201 1544.43 903.516 1545.01 Q905.831 1545.58 908.354 1545.58 Q912.752 1545.58 915.044 1543.85 Q917.359 1542.11 917.359 1538.8 Q917.359 1535.75 915.206 1534.03 Q913.076 1532.3 909.257 1532.3 L905.229 1532.3 L905.229 1528.45 L909.442 1528.45 Q912.891 1528.45 914.72 1527.09 Q916.549 1525.7 916.549 1523.11 Q916.549 1520.45 914.65 1519.03 Q912.775 1517.6 909.257 1517.6 Q907.336 1517.6 905.137 1518.01 Q902.937 1518.43 900.299 1519.31 L900.299 1515.14 Q902.961 1514.4 905.275 1514.03 Q907.613 1513.66 909.674 1513.66 Q914.998 1513.66 918.099 1516.09 Q921.201 1518.5 921.201 1522.62 Q921.201 1525.49 919.558 1527.48 Q917.914 1529.45 914.882 1530.21 Z\" fill=\"#000000\" fill-rule=\"nonzero\" fill-opacity=\"1\" /><path clip-path=\"url(#clip120)\" d=\"M1273.35 1517.37 Q1269.73 1517.37 1267.91 1520.93 Q1266.1 1524.47 1266.1 1531.6 Q1266.1 1538.71 1267.91 1542.27 Q1269.73 1545.82 1273.35 1545.82 Q1276.98 1545.82 1278.79 1542.27 Q1280.61 1538.71 1280.61 1531.6 Q1280.61 1524.47 1278.79 1520.93 Q1276.98 1517.37 1273.35 1517.37 M1273.35 1513.66 Q1279.16 1513.66 1282.21 1518.27 Q1285.29 1522.85 1285.29 1531.6 Q1285.29 1540.33 1282.21 1544.94 Q1279.16 1549.52 1273.35 1549.52 Q1267.54 1549.52 1264.46 1544.94 Q1261.4 1540.33 1261.4 1531.6 Q1261.4 1522.85 1264.46 1518.27 Q1267.54 1513.66 1273.35 1513.66 Z\" fill=\"#000000\" fill-rule=\"nonzero\" fill-opacity=\"1\" /><path clip-path=\"url(#clip120)\" d=\"M1659.46 1530.21 Q1662.82 1530.93 1664.69 1533.2 Q1666.59 1535.47 1666.59 1538.8 Q1666.59 1543.92 1663.07 1546.72 Q1659.55 1549.52 1653.07 1549.52 Q1650.9 1549.52 1648.58 1549.08 Q1646.29 1548.66 1643.84 1547.81 L1643.84 1543.29 Q1645.78 1544.43 1648.09 1545.01 Q1650.41 1545.58 1652.93 1545.58 Q1657.33 1545.58 1659.62 1543.85 Q1661.94 1542.11 1661.94 1538.8 Q1661.94 1535.75 1659.78 1534.03 Q1657.65 1532.3 1653.84 1532.3 L1649.81 1532.3 L1649.81 1528.45 L1654.02 1528.45 Q1657.47 1528.45 1659.3 1527.09 Q1661.13 1525.7 1661.13 1523.11 Q1661.13 1520.45 1659.23 1519.03 Q1657.35 1517.6 1653.84 1517.6 Q1651.91 1517.6 1649.72 1518.01 Q1647.52 1518.43 1644.88 1519.31 L1644.88 1515.14 Q1647.54 1514.4 1649.85 1514.03 Q1652.19 1513.66 1654.25 1513.66 Q1659.58 1513.66 1662.68 1516.09 Q1665.78 1518.5 1665.78 1522.62 Q1665.78 1525.49 1664.14 1527.48 Q1662.49 1529.45 1659.46 1530.21 Z\" fill=\"#000000\" fill-rule=\"nonzero\" fill-opacity=\"1\" /><path clip-path=\"url(#clip120)\" d=\"M2037.48 1529.7 Q2034.34 1529.7 2032.48 1531.86 Q2030.66 1534.01 2030.66 1537.76 Q2030.66 1541.49 2032.48 1543.66 Q2034.34 1545.82 2037.48 1545.82 Q2040.63 1545.82 2042.46 1543.66 Q2044.31 1541.49 2044.31 1537.76 Q2044.31 1534.01 2042.46 1531.86 Q2040.63 1529.7 2037.48 1529.7 M2046.77 1515.05 L2046.77 1519.31 Q2045.01 1518.48 2043.2 1518.04 Q2041.42 1517.6 2039.66 1517.6 Q2035.03 1517.6 2032.58 1520.72 Q2030.15 1523.85 2029.8 1530.17 Q2031.17 1528.15 2033.23 1527.09 Q2035.29 1526 2037.76 1526 Q2042.97 1526 2045.98 1529.17 Q2049.01 1532.32 2049.01 1537.76 Q2049.01 1543.08 2045.86 1546.3 Q2042.72 1549.52 2037.48 1549.52 Q2031.49 1549.52 2028.32 1544.94 Q2025.15 1540.33 2025.15 1531.6 Q2025.15 1523.41 2029.04 1518.55 Q2032.92 1513.66 2039.48 1513.66 Q2041.23 1513.66 2043.02 1514.01 Q2044.82 1514.36 2046.77 1515.05 Z\" fill=\"#000000\" fill-rule=\"nonzero\" fill-opacity=\"1\" /><polyline clip-path=\"url(#clip122)\" style=\"stroke:#000000; stroke-linecap:round; stroke-linejoin:round; stroke-width:2; stroke-opacity:0.1; fill:none\" points=\"193.936,1405.78 2352.76,1405.78 \"/>\n<polyline clip-path=\"url(#clip122)\" style=\"stroke:#000000; stroke-linecap:round; stroke-linejoin:round; stroke-width:2; stroke-opacity:0.1; fill:none\" points=\"193.936,1206.11 2352.76,1206.11 \"/>\n<polyline clip-path=\"url(#clip122)\" style=\"stroke:#000000; stroke-linecap:round; stroke-linejoin:round; stroke-width:2; stroke-opacity:0.1; fill:none\" points=\"193.936,1006.45 2352.76,1006.45 \"/>\n<polyline clip-path=\"url(#clip122)\" style=\"stroke:#000000; stroke-linecap:round; stroke-linejoin:round; stroke-width:2; stroke-opacity:0.1; fill:none\" points=\"193.936,806.779 2352.76,806.779 \"/>\n<polyline clip-path=\"url(#clip122)\" style=\"stroke:#000000; stroke-linecap:round; stroke-linejoin:round; stroke-width:2; stroke-opacity:0.1; fill:none\" points=\"193.936,607.112 2352.76,607.112 \"/>\n<polyline clip-path=\"url(#clip122)\" style=\"stroke:#000000; stroke-linecap:round; stroke-linejoin:round; stroke-width:2; stroke-opacity:0.1; fill:none\" points=\"193.936,407.444 2352.76,407.444 \"/>\n<polyline clip-path=\"url(#clip122)\" style=\"stroke:#000000; stroke-linecap:round; stroke-linejoin:round; stroke-width:2; stroke-opacity:0.1; fill:none\" points=\"193.936,207.777 2352.76,207.777 \"/>\n<polyline clip-path=\"url(#clip120)\" style=\"stroke:#000000; stroke-linecap:round; stroke-linejoin:round; stroke-width:4; stroke-opacity:1; fill:none\" points=\"193.936,1486.45 193.936,47.2441 \"/>\n<polyline clip-path=\"url(#clip120)\" style=\"stroke:#000000; stroke-linecap:round; stroke-linejoin:round; stroke-width:4; stroke-opacity:1; fill:none\" points=\"193.936,1405.78 212.834,1405.78 \"/>\n<polyline clip-path=\"url(#clip120)\" style=\"stroke:#000000; stroke-linecap:round; stroke-linejoin:round; stroke-width:4; stroke-opacity:1; fill:none\" points=\"193.936,1206.11 212.834,1206.11 \"/>\n<polyline clip-path=\"url(#clip120)\" style=\"stroke:#000000; stroke-linecap:round; stroke-linejoin:round; stroke-width:4; stroke-opacity:1; fill:none\" points=\"193.936,1006.45 212.834,1006.45 \"/>\n<polyline clip-path=\"url(#clip120)\" style=\"stroke:#000000; stroke-linecap:round; stroke-linejoin:round; stroke-width:4; stroke-opacity:1; fill:none\" points=\"193.936,806.779 212.834,806.779 \"/>\n<polyline clip-path=\"url(#clip120)\" style=\"stroke:#000000; stroke-linecap:round; stroke-linejoin:round; stroke-width:4; stroke-opacity:1; fill:none\" points=\"193.936,607.112 212.834,607.112 \"/>\n<polyline clip-path=\"url(#clip120)\" style=\"stroke:#000000; stroke-linecap:round; stroke-linejoin:round; stroke-width:4; stroke-opacity:1; fill:none\" points=\"193.936,407.444 212.834,407.444 \"/>\n<polyline clip-path=\"url(#clip120)\" style=\"stroke:#000000; stroke-linecap:round; stroke-linejoin:round; stroke-width:4; stroke-opacity:1; fill:none\" points=\"193.936,207.777 212.834,207.777 \"/>\n<path clip-path=\"url(#clip120)\" d=\"M51.9875 1406.23 L81.6633 1406.23 L81.6633 1410.17 L51.9875 1410.17 L51.9875 1406.23 Z\" fill=\"#000000\" fill-rule=\"nonzero\" fill-opacity=\"1\" /><path clip-path=\"url(#clip120)\" d=\"M90.5752 1388.5 L112.797 1388.5 L112.797 1390.49 L100.251 1423.06 L95.3669 1423.06 L107.172 1392.44 L90.5752 1392.44 L90.5752 1388.5 Z\" fill=\"#000000\" fill-rule=\"nonzero\" fill-opacity=\"1\" /><path clip-path=\"url(#clip120)\" d=\"M121.918 1417.18 L126.802 1417.18 L126.802 1423.06 L121.918 1423.06 L121.918 1417.18 Z\" fill=\"#000000\" fill-rule=\"nonzero\" fill-opacity=\"1\" /><path clip-path=\"url(#clip120)\" d=\"M137.033 1388.5 L155.39 1388.5 L155.39 1392.44 L141.316 1392.44 L141.316 1400.91 Q142.334 1400.56 143.353 1400.4 Q144.371 1400.22 145.39 1400.22 Q151.177 1400.22 154.556 1403.39 Q157.936 1406.56 157.936 1411.97 Q157.936 1417.55 154.464 1420.65 Q150.992 1423.73 144.672 1423.73 Q142.496 1423.73 140.228 1423.36 Q137.982 1422.99 135.575 1422.25 L135.575 1417.55 Q137.658 1418.69 139.881 1419.24 Q142.103 1419.8 144.58 1419.8 Q148.584 1419.8 150.922 1417.69 Q153.26 1415.59 153.26 1411.97 Q153.26 1408.36 150.922 1406.26 Q148.584 1404.15 144.58 1404.15 Q142.705 1404.15 140.83 1404.57 Q138.978 1404.98 137.033 1405.86 L137.033 1388.5 Z\" fill=\"#000000\" fill-rule=\"nonzero\" fill-opacity=\"1\" /><path clip-path=\"url(#clip120)\" d=\"M50.9921 1206.57 L80.6679 1206.57 L80.6679 1210.5 L50.9921 1210.5 L50.9921 1206.57 Z\" fill=\"#000000\" fill-rule=\"nonzero\" fill-opacity=\"1\" /><path clip-path=\"url(#clip120)\" d=\"M90.8067 1188.83 L109.163 1188.83 L109.163 1192.77 L95.0891 1192.77 L95.0891 1201.24 Q96.1076 1200.89 97.1261 1200.73 Q98.1447 1200.55 99.1632 1200.55 Q104.95 1200.55 108.33 1203.72 Q111.709 1206.89 111.709 1212.31 Q111.709 1217.89 108.237 1220.99 Q104.765 1224.07 98.4456 1224.07 Q96.2697 1224.07 94.0012 1223.7 Q91.7558 1223.33 89.3484 1222.58 L89.3484 1217.89 Q91.4317 1219.02 93.6539 1219.58 Q95.8761 1220.13 98.353 1220.13 Q102.358 1220.13 104.696 1218.02 Q107.033 1215.92 107.033 1212.31 Q107.033 1208.7 104.696 1206.59 Q102.358 1204.48 98.353 1204.48 Q96.478 1204.48 94.603 1204.9 Q92.7512 1205.32 90.8067 1206.2 L90.8067 1188.83 Z\" fill=\"#000000\" fill-rule=\"nonzero\" fill-opacity=\"1\" /><path clip-path=\"url(#clip120)\" d=\"M120.922 1217.52 L125.807 1217.52 L125.807 1223.39 L120.922 1223.39 L120.922 1217.52 Z\" fill=\"#000000\" fill-rule=\"nonzero\" fill-opacity=\"1\" /><path clip-path=\"url(#clip120)\" d=\"M145.992 1191.91 Q142.381 1191.91 140.552 1195.48 Q138.746 1199.02 138.746 1206.15 Q138.746 1213.26 140.552 1216.82 Q142.381 1220.36 145.992 1220.36 Q149.626 1220.36 151.431 1216.82 Q153.26 1213.26 153.26 1206.15 Q153.26 1199.02 151.431 1195.48 Q149.626 1191.91 145.992 1191.91 M145.992 1188.21 Q151.802 1188.21 154.857 1192.82 Q157.936 1197.4 157.936 1206.15 Q157.936 1214.88 154.857 1219.48 Q151.802 1224.07 145.992 1224.07 Q140.181 1224.07 137.103 1219.48 Q134.047 1214.88 134.047 1206.15 Q134.047 1197.4 137.103 1192.82 Q140.181 1188.21 145.992 1188.21 Z\" fill=\"#000000\" fill-rule=\"nonzero\" fill-opacity=\"1\" /><path clip-path=\"url(#clip120)\" d=\"M51.9875 1006.9 L81.6633 1006.9 L81.6633 1010.83 L51.9875 1010.83 L51.9875 1006.9 Z\" fill=\"#000000\" fill-rule=\"nonzero\" fill-opacity=\"1\" /><path clip-path=\"url(#clip120)\" d=\"M95.7836 1019.79 L112.103 1019.79 L112.103 1023.73 L90.1586 1023.73 L90.1586 1019.79 Q92.8206 1017.04 97.4039 1012.41 Q102.01 1007.75 103.191 1006.41 Q105.436 1003.89 106.316 1002.15 Q107.219 1000.39 107.219 998.704 Q107.219 995.949 105.274 994.213 Q103.353 992.477 100.251 992.477 Q98.0521 992.477 95.5984 993.241 Q93.1678 994.005 90.3901 995.556 L90.3901 990.834 Q93.2141 989.699 95.6678 989.121 Q98.1215 988.542 100.159 988.542 Q105.529 988.542 108.723 991.227 Q111.918 993.912 111.918 998.403 Q111.918 1000.53 111.108 1002.45 Q110.321 1004.35 108.214 1006.94 Q107.635 1007.62 104.534 1010.83 Q101.432 1014.03 95.7836 1019.79 Z\" fill=\"#000000\" fill-rule=\"nonzero\" fill-opacity=\"1\" /><path clip-path=\"url(#clip120)\" d=\"M121.918 1017.85 L126.802 1017.85 L126.802 1023.73 L121.918 1023.73 L121.918 1017.85 Z\" fill=\"#000000\" fill-rule=\"nonzero\" fill-opacity=\"1\" /><path clip-path=\"url(#clip120)\" d=\"M137.033 989.167 L155.39 989.167 L155.39 993.102 L141.316 993.102 L141.316 1001.57 Q142.334 1001.23 143.353 1001.07 Q144.371 1000.88 145.39 1000.88 Q151.177 1000.88 154.556 1004.05 Q157.936 1007.22 157.936 1012.64 Q157.936 1018.22 154.464 1021.32 Q150.992 1024.4 144.672 1024.4 Q142.496 1024.4 140.228 1024.03 Q137.982 1023.66 135.575 1022.92 L135.575 1018.22 Q137.658 1019.35 139.881 1019.91 Q142.103 1020.46 144.58 1020.46 Q148.584 1020.46 150.922 1018.36 Q153.26 1016.25 153.26 1012.64 Q153.26 1009.03 150.922 1006.92 Q148.584 1004.82 144.58 1004.82 Q142.705 1004.82 140.83 1005.23 Q138.978 1005.65 137.033 1006.53 L137.033 989.167 Z\" fill=\"#000000\" fill-rule=\"nonzero\" fill-opacity=\"1\" /><path clip-path=\"url(#clip120)\" d=\"M100.76 792.578 Q97.1493 792.578 95.3206 796.143 Q93.515 799.685 93.515 806.814 Q93.515 813.921 95.3206 817.485 Q97.1493 821.027 100.76 821.027 Q104.395 821.027 106.2 817.485 Q108.029 813.921 108.029 806.814 Q108.029 799.685 106.2 796.143 Q104.395 792.578 100.76 792.578 M100.76 788.874 Q106.571 788.874 109.626 793.481 Q112.705 798.064 112.705 806.814 Q112.705 815.541 109.626 820.147 Q106.571 824.731 100.76 824.731 Q94.9502 824.731 91.8715 820.147 Q88.816 815.541 88.816 806.814 Q88.816 798.064 91.8715 793.481 Q94.9502 788.874 100.76 788.874 Z\" fill=\"#000000\" fill-rule=\"nonzero\" fill-opacity=\"1\" /><path clip-path=\"url(#clip120)\" d=\"M120.922 818.18 L125.807 818.18 L125.807 824.059 L120.922 824.059 L120.922 818.18 Z\" fill=\"#000000\" fill-rule=\"nonzero\" fill-opacity=\"1\" /><path clip-path=\"url(#clip120)\" d=\"M145.992 792.578 Q142.381 792.578 140.552 796.143 Q138.746 799.685 138.746 806.814 Q138.746 813.921 140.552 817.485 Q142.381 821.027 145.992 821.027 Q149.626 821.027 151.431 817.485 Q153.26 813.921 153.26 806.814 Q153.26 799.685 151.431 796.143 Q149.626 792.578 145.992 792.578 M145.992 788.874 Q151.802 788.874 154.857 793.481 Q157.936 798.064 157.936 806.814 Q157.936 815.541 154.857 820.147 Q151.802 824.731 145.992 824.731 Q140.181 824.731 137.103 820.147 Q134.047 815.541 134.047 806.814 Q134.047 798.064 137.103 793.481 Q140.181 788.874 145.992 788.874 Z\" fill=\"#000000\" fill-rule=\"nonzero\" fill-opacity=\"1\" /><path clip-path=\"url(#clip120)\" d=\"M95.7836 620.457 L112.103 620.457 L112.103 624.392 L90.1586 624.392 L90.1586 620.457 Q92.8206 617.702 97.4039 613.073 Q102.01 608.42 103.191 607.077 Q105.436 604.554 106.316 602.818 Q107.219 601.059 107.219 599.369 Q107.219 596.614 105.274 594.878 Q103.353 593.142 100.251 593.142 Q98.0521 593.142 95.5984 593.906 Q93.1678 594.67 90.3901 596.221 L90.3901 591.499 Q93.2141 590.364 95.6678 589.786 Q98.1215 589.207 100.159 589.207 Q105.529 589.207 108.723 591.892 Q111.918 594.577 111.918 599.068 Q111.918 601.198 111.108 603.119 Q110.321 605.017 108.214 607.61 Q107.635 608.281 104.534 611.498 Q101.432 614.693 95.7836 620.457 Z\" fill=\"#000000\" fill-rule=\"nonzero\" fill-opacity=\"1\" /><path clip-path=\"url(#clip120)\" d=\"M121.918 618.512 L126.802 618.512 L126.802 624.392 L121.918 624.392 L121.918 618.512 Z\" fill=\"#000000\" fill-rule=\"nonzero\" fill-opacity=\"1\" /><path clip-path=\"url(#clip120)\" d=\"M137.033 589.832 L155.39 589.832 L155.39 593.767 L141.316 593.767 L141.316 602.239 Q142.334 601.892 143.353 601.73 Q144.371 601.545 145.39 601.545 Q151.177 601.545 154.556 604.716 Q157.936 607.887 157.936 613.304 Q157.936 618.883 154.464 621.985 Q150.992 625.063 144.672 625.063 Q142.496 625.063 140.228 624.693 Q137.982 624.322 135.575 623.582 L135.575 618.883 Q137.658 620.017 139.881 620.573 Q142.103 621.128 144.58 621.128 Q148.584 621.128 150.922 619.022 Q153.26 616.915 153.26 613.304 Q153.26 609.693 150.922 607.586 Q148.584 605.48 144.58 605.48 Q142.705 605.48 140.83 605.897 Q138.978 606.313 137.033 607.193 L137.033 589.832 Z\" fill=\"#000000\" fill-rule=\"nonzero\" fill-opacity=\"1\" /><path clip-path=\"url(#clip120)\" d=\"M90.8067 390.164 L109.163 390.164 L109.163 394.1 L95.0891 394.1 L95.0891 402.572 Q96.1076 402.224 97.1261 402.062 Q98.1447 401.877 99.1632 401.877 Q104.95 401.877 108.33 405.049 Q111.709 408.22 111.709 413.636 Q111.709 419.215 108.237 422.317 Q104.765 425.396 98.4456 425.396 Q96.2697 425.396 94.0012 425.025 Q91.7558 424.655 89.3484 423.914 L89.3484 419.215 Q91.4317 420.349 93.6539 420.905 Q95.8761 421.461 98.353 421.461 Q102.358 421.461 104.696 419.354 Q107.033 417.248 107.033 413.636 Q107.033 410.025 104.696 407.919 Q102.358 405.812 98.353 405.812 Q96.478 405.812 94.603 406.229 Q92.7512 406.646 90.8067 407.525 L90.8067 390.164 Z\" fill=\"#000000\" fill-rule=\"nonzero\" fill-opacity=\"1\" /><path clip-path=\"url(#clip120)\" d=\"M120.922 418.845 L125.807 418.845 L125.807 424.724 L120.922 424.724 L120.922 418.845 Z\" fill=\"#000000\" fill-rule=\"nonzero\" fill-opacity=\"1\" /><path clip-path=\"url(#clip120)\" d=\"M145.992 393.243 Q142.381 393.243 140.552 396.808 Q138.746 400.35 138.746 407.479 Q138.746 414.586 140.552 418.15 Q142.381 421.692 145.992 421.692 Q149.626 421.692 151.431 418.15 Q153.26 414.586 153.26 407.479 Q153.26 400.35 151.431 396.808 Q149.626 393.243 145.992 393.243 M145.992 389.539 Q151.802 389.539 154.857 394.146 Q157.936 398.729 157.936 407.479 Q157.936 416.206 154.857 420.812 Q151.802 425.396 145.992 425.396 Q140.181 425.396 137.103 420.812 Q134.047 416.206 134.047 407.479 Q134.047 398.729 137.103 394.146 Q140.181 389.539 145.992 389.539 Z\" fill=\"#000000\" fill-rule=\"nonzero\" fill-opacity=\"1\" /><path clip-path=\"url(#clip120)\" d=\"M90.5752 190.497 L112.797 190.497 L112.797 192.488 L100.251 225.057 L95.3669 225.057 L107.172 194.432 L90.5752 194.432 L90.5752 190.497 Z\" fill=\"#000000\" fill-rule=\"nonzero\" fill-opacity=\"1\" /><path clip-path=\"url(#clip120)\" d=\"M121.918 219.177 L126.802 219.177 L126.802 225.057 L121.918 225.057 L121.918 219.177 Z\" fill=\"#000000\" fill-rule=\"nonzero\" fill-opacity=\"1\" /><path clip-path=\"url(#clip120)\" d=\"M137.033 190.497 L155.39 190.497 L155.39 194.432 L141.316 194.432 L141.316 202.904 Q142.334 202.557 143.353 202.395 Q144.371 202.21 145.39 202.21 Q151.177 202.21 154.556 205.381 Q157.936 208.552 157.936 213.969 Q157.936 219.548 154.464 222.649 Q150.992 225.728 144.672 225.728 Q142.496 225.728 140.228 225.358 Q137.982 224.987 135.575 224.247 L135.575 219.548 Q137.658 220.682 139.881 221.237 Q142.103 221.793 144.58 221.793 Q148.584 221.793 150.922 219.686 Q153.26 217.58 153.26 213.969 Q153.26 210.358 150.922 208.251 Q148.584 206.145 144.58 206.145 Q142.705 206.145 140.83 206.562 Q138.978 206.978 137.033 207.858 L137.033 190.497 Z\" fill=\"#000000\" fill-rule=\"nonzero\" fill-opacity=\"1\" /><polyline clip-path=\"url(#clip122)\" style=\"stroke:#009af9; stroke-linecap:round; stroke-linejoin:round; stroke-width:4; stroke-opacity:1; fill:none\" points=\"1273.35,567.178 1303.44,557.713 1332.63,548.484 1360.94,539.485 1388.37,530.713 1414.95,522.163 1440.7,513.832 1465.61,505.714 1489.72,497.805 1513.03,490.102 1535.56,482.599 1557.33,475.293 1578.35,468.179 1598.64,461.253 1618.21,454.51 1637.07,447.947 1655.25,441.558 1672.76,435.341 1689.61,429.289 1705.82,423.399 1721.4,417.667 1736.37,412.089 1750.75,406.659 1764.55,401.374 1777.78,396.23 1790.46,391.221 1802.6,386.345 1814.23,381.596 1825.35,376.97 1835.99,372.463 1846.15,368.07 1855.85,363.788 1865.11,359.611 1873.94,355.536 1882.36,351.559 1890.38,347.674 1898.02,343.878 1905.29,340.166 1912.21,336.535 1918.8,332.979 1925.07,329.494 1931.02,326.077 1936.69,322.722 1942.09,319.426 1947.22,316.184 1952.11,312.992 1956.78,309.845 1961.22,306.739 1965.47,303.671 1969.54,300.635 1973.43,297.627 1977.18,294.643 1980.79,291.679 1984.27,288.731 1987.65,285.793 1990.94,282.862 1994.15,279.933 1997.3,277.003 2000.4,274.066 2003.47,271.118 2006.53,268.156 2009.59,265.175 2012.66,262.17 2015.76,259.137 2018.91,256.073 2022.12,252.972 2025.41,249.83 2028.79,246.643 2032.27,243.406 2035.88,240.116 2039.63,236.769 2043.52,233.358 2047.59,229.881 2051.84,226.334 2056.28,222.711 2060.95,219.008 2065.84,215.222 2070.97,211.347 2076.37,207.38 2082.04,203.316 2087.99,199.151 2094.26,194.881 2100.85,190.501 2107.77,186.006 2115.04,181.394 2122.68,176.659 2130.7,171.796 2139.12,166.803 2147.95,161.674 2157.21,156.405 2166.91,150.991 2177.07,145.429 2187.71,139.715 2198.83,133.843 2210.46,127.809 2222.6,121.61 2235.28,115.241 2248.51,108.697 2262.31,101.975 2276.69,95.0692 2291.66,87.9763 \"/>\n<circle clip-path=\"url(#clip122)\" cx=\"1273.35\" cy=\"567.178\" r=\"14.4\" fill=\"#e26f46\" fill-rule=\"evenodd\" fill-opacity=\"1\" stroke=\"#000000\" stroke-opacity=\"1\" stroke-width=\"3.2\"/>\n<circle clip-path=\"url(#clip122)\" cx=\"2291.66\" cy=\"247.71\" r=\"14.4\" fill=\"#e26f46\" fill-rule=\"evenodd\" fill-opacity=\"1\" stroke=\"#000000\" stroke-opacity=\"1\" stroke-width=\"3.2\"/>\n<circle clip-path=\"url(#clip122)\" cx=\"1782.5\" cy=\"327.577\" r=\"14.4\" fill=\"#e26f46\" fill-rule=\"evenodd\" fill-opacity=\"1\" stroke=\"#000000\" stroke-opacity=\"1\" stroke-width=\"3.2\"/>\n<circle clip-path=\"url(#clip122)\" cx=\"2291.66\" cy=\"87.9763\" r=\"14.4\" fill=\"#e26f46\" fill-rule=\"evenodd\" fill-opacity=\"1\" stroke=\"#000000\" stroke-opacity=\"1\" stroke-width=\"3.2\"/>\n<polyline clip-path=\"url(#clip122)\" style=\"stroke:#3da44d; stroke-linecap:round; stroke-linejoin:round; stroke-width:4; stroke-opacity:1; fill:none\" points=\"1273.35,726.912 1273.04,738.868 1272.14,750.768 1270.66,762.609 1268.61,774.383 1266.01,786.084 1262.87,797.706 1259.21,809.243 1255.03,820.688 1250.36,832.035 1245.22,843.279 1239.6,854.412 1233.53,865.429 1227.03,876.323 1220.11,887.088 1212.77,897.718 1205.05,908.207 1196.94,918.548 1188.47,928.735 1179.65,938.762 1170.5,948.623 1161.02,958.312 1151.24,967.821 1141.17,977.146 1130.81,986.28 1120.2,995.216 1109.34,1003.95 1098.24,1012.47 1086.93,1020.78 1075.41,1028.86 1063.7,1036.72 1051.82,1044.34 1039.77,1051.72 1027.58,1058.85 1015.25,1065.73 1002.81,1072.35 990.264,1078.7 977.629,1084.78 964.921,1090.58 952.153,1096.1 939.34,1101.33 926.496,1106.26 913.637,1110.89 900.776,1115.2 887.927,1119.2 875.107,1122.88 862.328,1126.23 849.606,1129.25 836.955,1131.93 824.389,1134.26 811.924,1136.23 799.573,1137.85 787.351,1139.1 775.272,1139.98 763.352,1140.48 751.605,1140.59 740.044,1140.32 728.685,1139.65 717.542,1138.57 706.63,1137.09 695.963,1135.19 685.556,1132.87 675.423,1130.12 665.579,1126.94 656.038,1123.32 646.814,1119.25 637.923,1114.73 629.378,1109.75 621.195,1104.3 613.387,1098.38 605.97,1091.98 598.958,1085.1 592.365,1077.73 586.205,1069.87 580.494,1061.5 575.246,1052.62 570.475,1043.23 566.196,1033.31 562.423,1022.87 559.171,1011.89 556.455,1000.38 554.288,988.315 552.686,975.7 551.663,962.526 551.233,948.787 551.411,934.477 552.212,919.589 553.649,904.118 555.738,888.057 558.493,871.4 561.928,854.141 566.059,836.273 570.899,817.79 576.462,798.686 582.765,778.954 589.82,758.59 597.643,737.585 606.249,715.935 615.65,693.632 625.863,670.671 636.901,647.045 \"/>\n<circle clip-path=\"url(#clip122)\" cx=\"1273.35\" cy=\"726.912\" r=\"14.4\" fill=\"#c271d2\" fill-rule=\"evenodd\" fill-opacity=\"1\" stroke=\"#000000\" stroke-opacity=\"1\" stroke-width=\"3.2\"/>\n<circle clip-path=\"url(#clip122)\" cx=\"1273.35\" cy=\"1126.25\" r=\"14.4\" fill=\"#c271d2\" fill-rule=\"evenodd\" fill-opacity=\"1\" stroke=\"#000000\" stroke-opacity=\"1\" stroke-width=\"3.2\"/>\n<circle clip-path=\"url(#clip122)\" cx=\"255.035\" cy=\"1445.72\" r=\"14.4\" fill=\"#c271d2\" fill-rule=\"evenodd\" fill-opacity=\"1\" stroke=\"#000000\" stroke-opacity=\"1\" stroke-width=\"3.2\"/>\n<circle clip-path=\"url(#clip122)\" cx=\"636.901\" cy=\"647.045\" r=\"14.4\" fill=\"#c271d2\" fill-rule=\"evenodd\" fill-opacity=\"1\" stroke=\"#000000\" stroke-opacity=\"1\" stroke-width=\"3.2\"/>\n<path clip-path=\"url(#clip120)\" d=\"M265.897 354.418 L535.922 354.418 L535.922 95.2176 L265.897 95.2176  Z\" fill=\"#ffffff\" fill-rule=\"evenodd\" fill-opacity=\"1\"/>\n<polyline clip-path=\"url(#clip120)\" style=\"stroke:#000000; stroke-linecap:round; stroke-linejoin:round; stroke-width:4; stroke-opacity:1; fill:none\" points=\"265.897,354.418 535.922,354.418 535.922,95.2176 265.897,95.2176 265.897,354.418 \"/>\n<polyline clip-path=\"url(#clip120)\" style=\"stroke:#009af9; stroke-linecap:round; stroke-linejoin:round; stroke-width:4; stroke-opacity:1; fill:none\" points=\"289.884,147.058 433.805,147.058 \"/>\n<path clip-path=\"url(#clip120)\" d=\"M471.634 166.745 Q469.829 171.375 468.116 172.787 Q466.403 174.199 463.532 174.199 L460.13 174.199 L460.13 170.634 L462.63 170.634 Q464.389 170.634 465.361 169.8 Q466.333 168.967 467.514 165.865 L468.278 163.921 L457.792 138.412 L462.306 138.412 L470.407 158.689 L478.509 138.412 L483.023 138.412 L471.634 166.745 Z\" fill=\"#000000\" fill-rule=\"nonzero\" fill-opacity=\"1\" /><path clip-path=\"url(#clip120)\" d=\"M490.315 160.402 L497.954 160.402 L497.954 134.037 L489.643 135.703 L489.643 131.444 L497.907 129.778 L502.583 129.778 L502.583 160.402 L510.222 160.402 L510.222 164.338 L490.315 164.338 L490.315 160.402 Z\" fill=\"#000000\" fill-rule=\"nonzero\" fill-opacity=\"1\" /><circle clip-path=\"url(#clip120)\" cx=\"361.844\" cy=\"198.898\" r=\"20.48\" fill=\"#e26f46\" fill-rule=\"evenodd\" fill-opacity=\"1\" stroke=\"#000000\" stroke-opacity=\"1\" stroke-width=\"4.55111\"/>\n<path clip-path=\"url(#clip120)\" d=\"M471.634 218.585 Q469.829 223.215 468.116 224.627 Q466.403 226.039 463.532 226.039 L460.13 226.039 L460.13 222.474 L462.63 222.474 Q464.389 222.474 465.361 221.64 Q466.333 220.807 467.514 217.705 L468.278 215.761 L457.792 190.252 L462.306 190.252 L470.407 210.529 L478.509 190.252 L483.023 190.252 L471.634 218.585 Z\" fill=\"#000000\" fill-rule=\"nonzero\" fill-opacity=\"1\" /><path clip-path=\"url(#clip120)\" d=\"M493.532 212.242 L509.852 212.242 L509.852 216.178 L487.907 216.178 L487.907 212.242 Q490.569 209.488 495.153 204.858 Q499.759 200.205 500.94 198.863 Q503.185 196.34 504.065 194.604 Q504.967 192.844 504.967 191.155 Q504.967 188.4 503.023 186.664 Q501.102 184.928 498 184.928 Q495.801 184.928 493.347 185.692 Q490.917 186.455 488.139 188.006 L488.139 183.284 Q490.963 182.15 493.417 181.571 Q495.87 180.993 497.907 180.993 Q503.278 180.993 506.472 183.678 Q509.666 186.363 509.666 190.854 Q509.666 192.983 508.856 194.905 Q508.069 196.803 505.963 199.395 Q505.384 200.067 502.282 203.284 Q499.18 206.479 493.532 212.242 Z\" fill=\"#000000\" fill-rule=\"nonzero\" fill-opacity=\"1\" /><polyline clip-path=\"url(#clip120)\" style=\"stroke:#3da44d; stroke-linecap:round; stroke-linejoin:round; stroke-width:4; stroke-opacity:1; fill:none\" points=\"289.884,250.738 433.805,250.738 \"/>\n<path clip-path=\"url(#clip120)\" d=\"M471.634 270.425 Q469.829 275.055 468.116 276.467 Q466.403 277.879 463.532 277.879 L460.13 277.879 L460.13 274.314 L462.63 274.314 Q464.389 274.314 465.361 273.48 Q466.333 272.647 467.514 269.545 L468.278 267.601 L457.792 242.092 L462.306 242.092 L470.407 262.369 L478.509 242.092 L483.023 242.092 L471.634 270.425 Z\" fill=\"#000000\" fill-rule=\"nonzero\" fill-opacity=\"1\" /><path clip-path=\"url(#clip120)\" d=\"M503.671 249.383 Q507.028 250.101 508.903 252.369 Q510.801 254.638 510.801 257.971 Q510.801 263.087 507.282 265.888 Q503.764 268.689 497.282 268.689 Q495.106 268.689 492.792 268.249 Q490.5 267.832 488.046 266.976 L488.046 262.462 Q489.991 263.596 492.305 264.175 Q494.62 264.754 497.143 264.754 Q501.542 264.754 503.833 263.018 Q506.148 261.281 506.148 257.971 Q506.148 254.916 503.995 253.203 Q501.866 251.467 498.046 251.467 L494.018 251.467 L494.018 247.624 L498.231 247.624 Q501.68 247.624 503.509 246.258 Q505.338 244.87 505.338 242.277 Q505.338 239.615 503.44 238.203 Q501.565 236.768 498.046 236.768 Q496.125 236.768 493.926 237.184 Q491.727 237.601 489.088 238.481 L489.088 234.314 Q491.75 233.573 494.065 233.203 Q496.403 232.833 498.463 232.833 Q503.787 232.833 506.889 235.263 Q509.991 237.67 509.991 241.791 Q509.991 244.661 508.347 246.652 Q506.704 248.62 503.671 249.383 Z\" fill=\"#000000\" fill-rule=\"nonzero\" fill-opacity=\"1\" /><circle clip-path=\"url(#clip120)\" cx=\"361.844\" cy=\"302.578\" r=\"20.48\" fill=\"#c271d2\" fill-rule=\"evenodd\" fill-opacity=\"1\" stroke=\"#000000\" stroke-opacity=\"1\" stroke-width=\"4.55111\"/>\n<path clip-path=\"url(#clip120)\" d=\"M471.634 322.265 Q469.829 326.895 468.116 328.307 Q466.403 329.719 463.532 329.719 L460.13 329.719 L460.13 326.154 L462.63 326.154 Q464.389 326.154 465.361 325.32 Q466.333 324.487 467.514 321.385 L468.278 319.441 L457.792 293.932 L462.306 293.932 L470.407 314.209 L478.509 293.932 L483.023 293.932 L471.634 322.265 Z\" fill=\"#000000\" fill-rule=\"nonzero\" fill-opacity=\"1\" /><path clip-path=\"url(#clip120)\" d=\"M502.352 289.372 L490.546 307.821 L502.352 307.821 L502.352 289.372 M501.125 285.298 L507.004 285.298 L507.004 307.821 L511.935 307.821 L511.935 311.709 L507.004 311.709 L507.004 319.858 L502.352 319.858 L502.352 311.709 L486.75 311.709 L486.75 307.196 L501.125 285.298 Z\" fill=\"#000000\" fill-rule=\"nonzero\" fill-opacity=\"1\" /></svg>\n"
          },
          "metadata": {}
        }
      ],
      "execution_count": 14,
      "metadata": {
        "collapsed": true,
        "jupyter": {
          "source_hidden": false,
          "outputs_hidden": false
        },
        "nteract": {
          "transient": {
            "deleting": false
          }
        },
        "execution": {
          "iopub.status.busy": "2023-10-03T18:54:03.002Z",
          "iopub.execute_input": "2023-10-03T18:54:03.031Z",
          "iopub.status.idle": "2023-10-03T18:54:03.091Z"
        }
      }
    },
    {
      "cell_type": "code",
      "source": [
        "##########################NUMBER 4######################\n",
        "\n",
        "##K-CLUSTERING#######\n",
        "using DataFrames\n",
        "using CSV\n",
        "\n",
        "c=CSV.read(\"wine(1).csv\",DataFrame)"
      ],
      "outputs": [],
      "execution_count": null,
      "metadata": {
        "collapsed": true,
        "jupyter": {
          "source_hidden": false,
          "outputs_hidden": false
        },
        "nteract": {
          "transient": {
            "deleting": false
          }
        },
        "execution": {
          "iopub.status.busy": "2023-09-26T15:25:16.352Z",
          "iopub.execute_input": "2023-09-26T15:25:16.389Z",
          "iopub.status.idle": "2023-09-26T15:25:16.459Z"
        }
      }
    },
    {
      "cell_type": "code",
      "source": [
        "a=c.Alcohol_Content\n",
        "b= c.Color_Intensity"
      ],
      "outputs": [],
      "execution_count": null,
      "metadata": {
        "collapsed": true,
        "jupyter": {
          "source_hidden": false,
          "outputs_hidden": false
        },
        "nteract": {
          "transient": {
            "deleting": false
          }
        },
        "execution": {
          "iopub.status.busy": "2023-09-26T15:34:20.447Z",
          "iopub.execute_input": "2023-09-26T15:34:20.477Z",
          "iopub.status.idle": "2023-09-26T15:34:20.539Z"
        }
      }
    },
    {
      "cell_type": "code",
      "source": [
        "\n",
        "X = [c.Alcohol_Content'; c.Color_Intensity']\n"
      ],
      "outputs": [],
      "execution_count": null,
      "metadata": {
        "collapsed": true,
        "jupyter": {
          "source_hidden": false,
          "outputs_hidden": false
        },
        "nteract": {
          "transient": {
            "deleting": false
          }
        },
        "execution": {
          "iopub.status.busy": "2023-09-26T15:39:01.704Z",
          "iopub.execute_input": "2023-09-26T15:39:01.743Z",
          "iopub.status.idle": "2023-09-26T15:39:01.815Z"
        }
      }
    },
    {
      "cell_type": "code",
      "source": [
        "using Plots\n",
        "\n",
        "scatter(X[1,:],X[2,:])"
      ],
      "outputs": [],
      "execution_count": null,
      "metadata": {
        "collapsed": true,
        "jupyter": {
          "source_hidden": false,
          "outputs_hidden": false
        },
        "nteract": {
          "transient": {
            "deleting": false
          }
        },
        "execution": {
          "iopub.status.busy": "2023-09-26T15:39:06.429Z",
          "iopub.execute_input": "2023-09-26T15:39:06.461Z",
          "iopub.status.idle": "2023-09-26T15:39:06.553Z"
        }
      }
    },
    {
      "cell_type": "code",
      "source": [
        "using Pkg\n",
        "Pkg.add(\"Clustering\")"
      ],
      "outputs": [],
      "execution_count": null,
      "metadata": {
        "collapsed": true,
        "jupyter": {
          "source_hidden": false,
          "outputs_hidden": false
        },
        "nteract": {
          "transient": {
            "deleting": false
          }
        },
        "execution": {
          "iopub.status.busy": "2023-09-26T15:41:59.292Z",
          "iopub.execute_input": "2023-09-26T15:41:59.328Z",
          "iopub.status.idle": "2023-09-26T15:42:00.415Z"
        }
      }
    },
    {
      "cell_type": "code",
      "source": [
        "using Clustering\n",
        "\n",
        "Results=kmeans(X,3)"
      ],
      "outputs": [],
      "execution_count": null,
      "metadata": {
        "collapsed": true,
        "jupyter": {
          "source_hidden": false,
          "outputs_hidden": false
        },
        "nteract": {
          "transient": {
            "deleting": false
          }
        },
        "execution": {
          "iopub.status.busy": "2023-09-26T15:45:11.186Z",
          "iopub.execute_input": "2023-09-26T15:45:11.218Z",
          "iopub.status.idle": "2023-09-26T15:45:11.279Z"
        }
      }
    },
    {
      "cell_type": "code",
      "source": [
        "Results.assignments\n",
        "Results.counts\n",
        "Results.centers"
      ],
      "outputs": [],
      "execution_count": null,
      "metadata": {
        "collapsed": true,
        "jupyter": {
          "source_hidden": false,
          "outputs_hidden": false
        },
        "nteract": {
          "transient": {
            "deleting": false
          }
        },
        "execution": {
          "iopub.status.busy": "2023-09-26T15:44:53.675Z",
          "iopub.execute_input": "2023-09-26T15:44:53.710Z",
          "iopub.status.idle": "2023-09-26T15:44:53.798Z"
        }
      }
    },
    {
      "cell_type": "code",
      "source": [
        "scatter(X[1,:],X[2,:],marker_z=Results.assignments,color=:lightrainbow, legend=false)"
      ],
      "outputs": [],
      "execution_count": null,
      "metadata": {
        "collapsed": true,
        "jupyter": {
          "source_hidden": false,
          "outputs_hidden": false
        },
        "nteract": {
          "transient": {
            "deleting": false
          }
        },
        "execution": {
          "iopub.status.busy": "2023-09-26T15:44:59.405Z",
          "iopub.execute_input": "2023-09-26T15:44:59.440Z",
          "iopub.status.idle": "2023-09-26T15:44:59.514Z"
        }
      }
    },
    {
      "cell_type": "code",
      "source": [],
      "outputs": [],
      "execution_count": null,
      "metadata": {
        "collapsed": true,
        "jupyter": {
          "source_hidden": false,
          "outputs_hidden": false
        },
        "nteract": {
          "transient": {
            "deleting": false
          }
        }
      }
    },
    {
      "cell_type": "code",
      "source": [],
      "outputs": [],
      "execution_count": null,
      "metadata": {
        "collapsed": true,
        "jupyter": {
          "source_hidden": false,
          "outputs_hidden": false
        },
        "nteract": {
          "transient": {
            "deleting": false
          }
        }
      }
    },
    {
      "cell_type": "code",
      "source": [],
      "outputs": [],
      "execution_count": null,
      "metadata": {
        "collapsed": true,
        "jupyter": {
          "source_hidden": false,
          "outputs_hidden": false
        },
        "nteract": {
          "transient": {
            "deleting": false
          }
        }
      }
    },
    {
      "cell_type": "code",
      "source": [],
      "outputs": [],
      "execution_count": null,
      "metadata": {
        "collapsed": true,
        "jupyter": {
          "source_hidden": false,
          "outputs_hidden": false
        },
        "nteract": {
          "transient": {
            "deleting": false
          }
        }
      }
    },
    {
      "cell_type": "code",
      "source": [],
      "outputs": [],
      "execution_count": null,
      "metadata": {
        "collapsed": true,
        "jupyter": {
          "source_hidden": false,
          "outputs_hidden": false
        },
        "nteract": {
          "transient": {
            "deleting": false
          }
        }
      }
    },
    {
      "cell_type": "code",
      "source": [],
      "outputs": [],
      "execution_count": null,
      "metadata": {
        "collapsed": true,
        "jupyter": {
          "source_hidden": false,
          "outputs_hidden": false
        },
        "nteract": {
          "transient": {
            "deleting": false
          }
        }
      }
    },
    {
      "cell_type": "code",
      "source": [],
      "outputs": [],
      "execution_count": null,
      "metadata": {
        "collapsed": true,
        "jupyter": {
          "source_hidden": false,
          "outputs_hidden": false
        },
        "nteract": {
          "transient": {
            "deleting": false
          }
        }
      }
    },
    {
      "cell_type": "code",
      "source": [],
      "outputs": [],
      "execution_count": null,
      "metadata": {
        "collapsed": true,
        "jupyter": {
          "source_hidden": false,
          "outputs_hidden": false
        },
        "nteract": {
          "transient": {
            "deleting": false
          }
        }
      }
    },
    {
      "cell_type": "code",
      "source": [],
      "outputs": [],
      "execution_count": null,
      "metadata": {
        "collapsed": true,
        "jupyter": {
          "source_hidden": false,
          "outputs_hidden": false
        },
        "nteract": {
          "transient": {
            "deleting": false
          }
        }
      }
    },
    {
      "cell_type": "code",
      "source": [],
      "outputs": [],
      "execution_count": null,
      "metadata": {
        "collapsed": true,
        "jupyter": {
          "source_hidden": false,
          "outputs_hidden": false
        },
        "nteract": {
          "transient": {
            "deleting": false
          }
        }
      }
    },
    {
      "cell_type": "code",
      "source": [],
      "outputs": [],
      "execution_count": null,
      "metadata": {
        "collapsed": true,
        "jupyter": {
          "source_hidden": false,
          "outputs_hidden": false
        },
        "nteract": {
          "transient": {
            "deleting": false
          }
        }
      }
    },
    {
      "cell_type": "code",
      "source": [],
      "outputs": [],
      "execution_count": null,
      "metadata": {
        "collapsed": true,
        "jupyter": {
          "source_hidden": false,
          "outputs_hidden": false
        },
        "nteract": {
          "transient": {
            "deleting": false
          }
        }
      }
    },
    {
      "cell_type": "code",
      "source": [],
      "outputs": [],
      "execution_count": null,
      "metadata": {
        "collapsed": true,
        "jupyter": {
          "source_hidden": false,
          "outputs_hidden": false
        },
        "nteract": {
          "transient": {
            "deleting": false
          }
        }
      }
    },
    {
      "cell_type": "code",
      "source": [],
      "outputs": [],
      "execution_count": null,
      "metadata": {
        "collapsed": true,
        "jupyter": {
          "source_hidden": false,
          "outputs_hidden": false
        },
        "nteract": {
          "transient": {
            "deleting": false
          }
        }
      }
    },
    {
      "cell_type": "code",
      "source": [],
      "outputs": [],
      "execution_count": null,
      "metadata": {
        "collapsed": true,
        "jupyter": {
          "source_hidden": false,
          "outputs_hidden": false
        },
        "nteract": {
          "transient": {
            "deleting": false
          }
        }
      }
    },
    {
      "cell_type": "code",
      "source": [],
      "outputs": [],
      "execution_count": null,
      "metadata": {
        "collapsed": true,
        "jupyter": {
          "source_hidden": false,
          "outputs_hidden": false
        },
        "nteract": {
          "transient": {
            "deleting": false
          }
        }
      }
    },
    {
      "cell_type": "code",
      "source": [],
      "outputs": [],
      "execution_count": null,
      "metadata": {
        "collapsed": true,
        "jupyter": {
          "source_hidden": false,
          "outputs_hidden": false
        },
        "nteract": {
          "transient": {
            "deleting": false
          }
        }
      }
    },
    {
      "cell_type": "code",
      "source": [],
      "outputs": [],
      "execution_count": null,
      "metadata": {
        "collapsed": true,
        "jupyter": {
          "source_hidden": false,
          "outputs_hidden": false
        },
        "nteract": {
          "transient": {
            "deleting": false
          }
        }
      }
    },
    {
      "cell_type": "code",
      "source": [],
      "outputs": [],
      "execution_count": null,
      "metadata": {
        "collapsed": true,
        "jupyter": {
          "source_hidden": false,
          "outputs_hidden": false
        },
        "nteract": {
          "transient": {
            "deleting": false
          }
        }
      }
    },
    {
      "cell_type": "code",
      "source": [],
      "outputs": [],
      "execution_count": null,
      "metadata": {
        "collapsed": true,
        "jupyter": {
          "source_hidden": false,
          "outputs_hidden": false
        },
        "nteract": {
          "transient": {
            "deleting": false
          }
        }
      }
    },
    {
      "cell_type": "code",
      "source": [],
      "outputs": [],
      "execution_count": null,
      "metadata": {
        "collapsed": true,
        "jupyter": {
          "source_hidden": false,
          "outputs_hidden": false
        },
        "nteract": {
          "transient": {
            "deleting": false
          }
        }
      }
    },
    {
      "cell_type": "code",
      "source": [],
      "outputs": [],
      "execution_count": null,
      "metadata": {
        "collapsed": true,
        "jupyter": {
          "source_hidden": false,
          "outputs_hidden": false
        },
        "nteract": {
          "transient": {
            "deleting": false
          }
        }
      }
    },
    {
      "cell_type": "code",
      "source": [],
      "outputs": [],
      "execution_count": null,
      "metadata": {
        "collapsed": true,
        "jupyter": {
          "source_hidden": false,
          "outputs_hidden": false
        },
        "nteract": {
          "transient": {
            "deleting": false
          }
        }
      }
    },
    {
      "cell_type": "code",
      "source": [],
      "outputs": [],
      "execution_count": null,
      "metadata": {
        "collapsed": true,
        "jupyter": {
          "source_hidden": false,
          "outputs_hidden": false
        },
        "nteract": {
          "transient": {
            "deleting": false
          }
        }
      }
    },
    {
      "cell_type": "code",
      "source": [],
      "outputs": [],
      "execution_count": null,
      "metadata": {
        "collapsed": true,
        "jupyter": {
          "source_hidden": false,
          "outputs_hidden": false
        },
        "nteract": {
          "transient": {
            "deleting": false
          }
        }
      }
    },
    {
      "cell_type": "code",
      "source": [],
      "outputs": [],
      "execution_count": null,
      "metadata": {
        "collapsed": true,
        "jupyter": {
          "source_hidden": false,
          "outputs_hidden": false
        },
        "nteract": {
          "transient": {
            "deleting": false
          }
        }
      }
    },
    {
      "cell_type": "code",
      "source": [],
      "outputs": [],
      "execution_count": null,
      "metadata": {
        "collapsed": true,
        "jupyter": {
          "source_hidden": false,
          "outputs_hidden": false
        },
        "nteract": {
          "transient": {
            "deleting": false
          }
        }
      }
    },
    {
      "cell_type": "code",
      "source": [],
      "outputs": [],
      "execution_count": null,
      "metadata": {
        "collapsed": true,
        "jupyter": {
          "source_hidden": false,
          "outputs_hidden": false
        },
        "nteract": {
          "transient": {
            "deleting": false
          }
        }
      }
    },
    {
      "cell_type": "code",
      "source": [],
      "outputs": [],
      "execution_count": null,
      "metadata": {
        "collapsed": true,
        "jupyter": {
          "source_hidden": false,
          "outputs_hidden": false
        },
        "nteract": {
          "transient": {
            "deleting": false
          }
        }
      }
    },
    {
      "cell_type": "code",
      "source": [],
      "outputs": [],
      "execution_count": null,
      "metadata": {
        "collapsed": true,
        "jupyter": {
          "source_hidden": false,
          "outputs_hidden": false
        },
        "nteract": {
          "transient": {
            "deleting": false
          }
        }
      }
    },
    {
      "cell_type": "code",
      "source": [],
      "outputs": [],
      "execution_count": null,
      "metadata": {
        "collapsed": true,
        "jupyter": {
          "source_hidden": false,
          "outputs_hidden": false
        },
        "nteract": {
          "transient": {
            "deleting": false
          }
        }
      }
    },
    {
      "cell_type": "code",
      "source": [],
      "outputs": [],
      "execution_count": null,
      "metadata": {
        "collapsed": true,
        "jupyter": {
          "source_hidden": false,
          "outputs_hidden": false
        },
        "nteract": {
          "transient": {
            "deleting": false
          }
        }
      }
    },
    {
      "cell_type": "code",
      "source": [],
      "outputs": [],
      "execution_count": null,
      "metadata": {
        "collapsed": true,
        "jupyter": {
          "source_hidden": false,
          "outputs_hidden": false
        },
        "nteract": {
          "transient": {
            "deleting": false
          }
        }
      }
    },
    {
      "cell_type": "code",
      "source": [],
      "outputs": [],
      "execution_count": null,
      "metadata": {
        "collapsed": true,
        "jupyter": {
          "source_hidden": false,
          "outputs_hidden": false
        },
        "nteract": {
          "transient": {
            "deleting": false
          }
        }
      }
    },
    {
      "cell_type": "code",
      "source": [],
      "outputs": [],
      "execution_count": null,
      "metadata": {
        "collapsed": true,
        "jupyter": {
          "source_hidden": false,
          "outputs_hidden": false
        },
        "nteract": {
          "transient": {
            "deleting": false
          }
        }
      }
    },
    {
      "cell_type": "code",
      "source": [],
      "outputs": [],
      "execution_count": null,
      "metadata": {
        "collapsed": true,
        "jupyter": {
          "source_hidden": false,
          "outputs_hidden": false
        },
        "nteract": {
          "transient": {
            "deleting": false
          }
        }
      }
    },
    {
      "cell_type": "code",
      "source": [],
      "outputs": [],
      "execution_count": null,
      "metadata": {
        "collapsed": true,
        "jupyter": {
          "source_hidden": false,
          "outputs_hidden": false
        },
        "nteract": {
          "transient": {
            "deleting": false
          }
        }
      }
    },
    {
      "cell_type": "code",
      "source": [],
      "outputs": [],
      "execution_count": null,
      "metadata": {
        "collapsed": true,
        "jupyter": {
          "source_hidden": false,
          "outputs_hidden": false
        },
        "nteract": {
          "transient": {
            "deleting": false
          }
        }
      }
    },
    {
      "cell_type": "code",
      "source": [],
      "outputs": [],
      "execution_count": null,
      "metadata": {
        "collapsed": true,
        "jupyter": {
          "source_hidden": false,
          "outputs_hidden": false
        },
        "nteract": {
          "transient": {
            "deleting": false
          }
        }
      }
    },
    {
      "cell_type": "code",
      "source": [],
      "outputs": [],
      "execution_count": null,
      "metadata": {
        "collapsed": true,
        "jupyter": {
          "source_hidden": false,
          "outputs_hidden": false
        },
        "nteract": {
          "transient": {
            "deleting": false
          }
        }
      }
    },
    {
      "cell_type": "code",
      "source": [],
      "outputs": [],
      "execution_count": null,
      "metadata": {
        "collapsed": true,
        "jupyter": {
          "source_hidden": false,
          "outputs_hidden": false
        },
        "nteract": {
          "transient": {
            "deleting": false
          }
        }
      }
    },
    {
      "cell_type": "code",
      "source": [],
      "outputs": [],
      "execution_count": null,
      "metadata": {
        "collapsed": true,
        "jupyter": {
          "source_hidden": false,
          "outputs_hidden": false
        },
        "nteract": {
          "transient": {
            "deleting": false
          }
        }
      }
    },
    {
      "cell_type": "code",
      "source": [],
      "outputs": [],
      "execution_count": null,
      "metadata": {
        "collapsed": true,
        "jupyter": {
          "source_hidden": false,
          "outputs_hidden": false
        },
        "nteract": {
          "transient": {
            "deleting": false
          }
        }
      }
    },
    {
      "cell_type": "code",
      "source": [],
      "outputs": [],
      "execution_count": null,
      "metadata": {
        "collapsed": true,
        "jupyter": {
          "source_hidden": false,
          "outputs_hidden": false
        },
        "nteract": {
          "transient": {
            "deleting": false
          }
        }
      }
    },
    {
      "cell_type": "code",
      "source": [],
      "outputs": [],
      "execution_count": null,
      "metadata": {
        "collapsed": true,
        "jupyter": {
          "source_hidden": false,
          "outputs_hidden": false
        },
        "nteract": {
          "transient": {
            "deleting": false
          }
        }
      }
    },
    {
      "cell_type": "code",
      "source": [],
      "outputs": [],
      "execution_count": null,
      "metadata": {
        "collapsed": true,
        "jupyter": {
          "source_hidden": false,
          "outputs_hidden": false
        },
        "nteract": {
          "transient": {
            "deleting": false
          }
        }
      }
    },
    {
      "cell_type": "code",
      "source": [],
      "outputs": [],
      "execution_count": null,
      "metadata": {
        "collapsed": true,
        "jupyter": {
          "source_hidden": false,
          "outputs_hidden": false
        },
        "nteract": {
          "transient": {
            "deleting": false
          }
        }
      }
    },
    {
      "cell_type": "code",
      "source": [],
      "outputs": [],
      "execution_count": null,
      "metadata": {
        "collapsed": true,
        "jupyter": {
          "source_hidden": false,
          "outputs_hidden": false
        },
        "nteract": {
          "transient": {
            "deleting": false
          }
        }
      }
    },
    {
      "cell_type": "code",
      "source": [],
      "outputs": [],
      "execution_count": null,
      "metadata": {
        "collapsed": true,
        "jupyter": {
          "source_hidden": false,
          "outputs_hidden": false
        },
        "nteract": {
          "transient": {
            "deleting": false
          }
        }
      }
    },
    {
      "cell_type": "code",
      "source": [],
      "outputs": [],
      "execution_count": null,
      "metadata": {
        "collapsed": true,
        "jupyter": {
          "source_hidden": false,
          "outputs_hidden": false
        },
        "nteract": {
          "transient": {
            "deleting": false
          }
        }
      }
    },
    {
      "cell_type": "code",
      "source": [],
      "outputs": [],
      "execution_count": null,
      "metadata": {
        "collapsed": true,
        "jupyter": {
          "source_hidden": false,
          "outputs_hidden": false
        },
        "nteract": {
          "transient": {
            "deleting": false
          }
        }
      }
    },
    {
      "cell_type": "code",
      "source": [],
      "outputs": [],
      "execution_count": null,
      "metadata": {
        "collapsed": true,
        "jupyter": {
          "source_hidden": false,
          "outputs_hidden": false
        },
        "nteract": {
          "transient": {
            "deleting": false
          }
        }
      }
    },
    {
      "cell_type": "code",
      "source": [],
      "outputs": [],
      "execution_count": null,
      "metadata": {
        "collapsed": true,
        "jupyter": {
          "source_hidden": false,
          "outputs_hidden": false
        },
        "nteract": {
          "transient": {
            "deleting": false
          }
        }
      }
    },
    {
      "cell_type": "code",
      "source": [],
      "outputs": [],
      "execution_count": null,
      "metadata": {
        "collapsed": true,
        "jupyter": {
          "source_hidden": false,
          "outputs_hidden": false
        },
        "nteract": {
          "transient": {
            "deleting": false
          }
        }
      }
    },
    {
      "cell_type": "code",
      "source": [],
      "outputs": [],
      "execution_count": null,
      "metadata": {
        "collapsed": true,
        "jupyter": {
          "source_hidden": false,
          "outputs_hidden": false
        },
        "nteract": {
          "transient": {
            "deleting": false
          }
        }
      }
    },
    {
      "cell_type": "code",
      "source": [],
      "outputs": [],
      "execution_count": null,
      "metadata": {
        "collapsed": true,
        "jupyter": {
          "source_hidden": false,
          "outputs_hidden": false
        },
        "nteract": {
          "transient": {
            "deleting": false
          }
        }
      }
    },
    {
      "cell_type": "code",
      "source": [],
      "outputs": [],
      "execution_count": null,
      "metadata": {
        "collapsed": true,
        "jupyter": {
          "source_hidden": false,
          "outputs_hidden": false
        },
        "nteract": {
          "transient": {
            "deleting": false
          }
        }
      }
    },
    {
      "cell_type": "code",
      "source": [],
      "outputs": [],
      "execution_count": null,
      "metadata": {
        "collapsed": true,
        "jupyter": {
          "source_hidden": false,
          "outputs_hidden": false
        },
        "nteract": {
          "transient": {
            "deleting": false
          }
        }
      }
    },
    {
      "cell_type": "code",
      "source": [],
      "outputs": [],
      "execution_count": null,
      "metadata": {
        "collapsed": true,
        "jupyter": {
          "source_hidden": false,
          "outputs_hidden": false
        },
        "nteract": {
          "transient": {
            "deleting": false
          }
        }
      }
    },
    {
      "cell_type": "code",
      "source": [],
      "outputs": [],
      "execution_count": null,
      "metadata": {
        "collapsed": true,
        "jupyter": {
          "source_hidden": false,
          "outputs_hidden": false
        },
        "nteract": {
          "transient": {
            "deleting": false
          }
        }
      }
    },
    {
      "cell_type": "code",
      "source": [],
      "outputs": [],
      "execution_count": null,
      "metadata": {
        "collapsed": true,
        "jupyter": {
          "source_hidden": false,
          "outputs_hidden": false
        },
        "nteract": {
          "transient": {
            "deleting": false
          }
        }
      }
    },
    {
      "cell_type": "code",
      "source": [],
      "outputs": [],
      "execution_count": null,
      "metadata": {
        "collapsed": true,
        "jupyter": {
          "source_hidden": false,
          "outputs_hidden": false
        },
        "nteract": {
          "transient": {
            "deleting": false
          }
        }
      }
    },
    {
      "cell_type": "code",
      "source": [],
      "outputs": [],
      "execution_count": null,
      "metadata": {
        "collapsed": true,
        "jupyter": {
          "source_hidden": false,
          "outputs_hidden": false
        },
        "nteract": {
          "transient": {
            "deleting": false
          }
        }
      }
    },
    {
      "cell_type": "code",
      "source": [],
      "outputs": [],
      "execution_count": null,
      "metadata": {
        "collapsed": true,
        "jupyter": {
          "source_hidden": false,
          "outputs_hidden": false
        },
        "nteract": {
          "transient": {
            "deleting": false
          }
        }
      }
    },
    {
      "cell_type": "code",
      "source": [],
      "outputs": [],
      "execution_count": null,
      "metadata": {
        "collapsed": true,
        "jupyter": {
          "source_hidden": false,
          "outputs_hidden": false
        },
        "nteract": {
          "transient": {
            "deleting": false
          }
        }
      }
    },
    {
      "cell_type": "code",
      "source": [],
      "outputs": [],
      "execution_count": null,
      "metadata": {
        "collapsed": true,
        "jupyter": {
          "source_hidden": false,
          "outputs_hidden": false
        },
        "nteract": {
          "transient": {
            "deleting": false
          }
        }
      }
    },
    {
      "cell_type": "code",
      "source": [],
      "outputs": [],
      "execution_count": null,
      "metadata": {
        "collapsed": true,
        "jupyter": {
          "source_hidden": false,
          "outputs_hidden": false
        },
        "nteract": {
          "transient": {
            "deleting": false
          }
        }
      }
    },
    {
      "cell_type": "code",
      "source": [],
      "outputs": [],
      "execution_count": null,
      "metadata": {
        "collapsed": true,
        "jupyter": {
          "source_hidden": false,
          "outputs_hidden": false
        },
        "nteract": {
          "transient": {
            "deleting": false
          }
        }
      }
    },
    {
      "cell_type": "code",
      "source": [],
      "outputs": [],
      "execution_count": null,
      "metadata": {
        "collapsed": true,
        "jupyter": {
          "source_hidden": false,
          "outputs_hidden": false
        },
        "nteract": {
          "transient": {
            "deleting": false
          }
        }
      }
    },
    {
      "cell_type": "code",
      "source": [],
      "outputs": [],
      "execution_count": null,
      "metadata": {
        "collapsed": true,
        "jupyter": {
          "source_hidden": false,
          "outputs_hidden": false
        },
        "nteract": {
          "transient": {
            "deleting": false
          }
        }
      }
    },
    {
      "cell_type": "code",
      "source": [],
      "outputs": [],
      "execution_count": null,
      "metadata": {
        "collapsed": true,
        "jupyter": {
          "source_hidden": false,
          "outputs_hidden": false
        },
        "nteract": {
          "transient": {
            "deleting": false
          }
        }
      }
    },
    {
      "cell_type": "code",
      "source": [],
      "outputs": [],
      "execution_count": null,
      "metadata": {
        "collapsed": true,
        "jupyter": {
          "source_hidden": false,
          "outputs_hidden": false
        },
        "nteract": {
          "transient": {
            "deleting": false
          }
        }
      }
    },
    {
      "cell_type": "code",
      "source": [],
      "outputs": [],
      "execution_count": null,
      "metadata": {
        "collapsed": true,
        "jupyter": {
          "source_hidden": false,
          "outputs_hidden": false
        },
        "nteract": {
          "transient": {
            "deleting": false
          }
        }
      }
    },
    {
      "cell_type": "code",
      "source": [],
      "outputs": [],
      "execution_count": null,
      "metadata": {
        "collapsed": true,
        "jupyter": {
          "source_hidden": false,
          "outputs_hidden": false
        },
        "nteract": {
          "transient": {
            "deleting": false
          }
        }
      }
    },
    {
      "cell_type": "code",
      "source": [],
      "outputs": [],
      "execution_count": null,
      "metadata": {
        "collapsed": true,
        "jupyter": {
          "source_hidden": false,
          "outputs_hidden": false
        },
        "nteract": {
          "transient": {
            "deleting": false
          }
        }
      }
    },
    {
      "cell_type": "code",
      "source": [],
      "outputs": [],
      "execution_count": null,
      "metadata": {
        "collapsed": true,
        "jupyter": {
          "source_hidden": false,
          "outputs_hidden": false
        },
        "nteract": {
          "transient": {
            "deleting": false
          }
        }
      }
    },
    {
      "cell_type": "code",
      "source": [],
      "outputs": [],
      "execution_count": null,
      "metadata": {
        "collapsed": true,
        "jupyter": {
          "source_hidden": false,
          "outputs_hidden": false
        },
        "nteract": {
          "transient": {
            "deleting": false
          }
        }
      }
    },
    {
      "cell_type": "code",
      "source": [],
      "outputs": [],
      "execution_count": null,
      "metadata": {
        "collapsed": true,
        "jupyter": {
          "source_hidden": false,
          "outputs_hidden": false
        },
        "nteract": {
          "transient": {
            "deleting": false
          }
        }
      }
    },
    {
      "cell_type": "code",
      "source": [],
      "outputs": [],
      "execution_count": null,
      "metadata": {
        "collapsed": true,
        "jupyter": {
          "source_hidden": false,
          "outputs_hidden": false
        },
        "nteract": {
          "transient": {
            "deleting": false
          }
        }
      }
    },
    {
      "cell_type": "code",
      "source": [],
      "outputs": [],
      "execution_count": null,
      "metadata": {
        "collapsed": true,
        "jupyter": {
          "source_hidden": false,
          "outputs_hidden": false
        },
        "nteract": {
          "transient": {
            "deleting": false
          }
        }
      }
    },
    {
      "cell_type": "code",
      "source": [],
      "outputs": [],
      "execution_count": null,
      "metadata": {
        "collapsed": true,
        "jupyter": {
          "source_hidden": false,
          "outputs_hidden": false
        },
        "nteract": {
          "transient": {
            "deleting": false
          }
        }
      }
    },
    {
      "cell_type": "code",
      "source": [],
      "outputs": [],
      "execution_count": null,
      "metadata": {
        "collapsed": true,
        "jupyter": {
          "source_hidden": false,
          "outputs_hidden": false
        },
        "nteract": {
          "transient": {
            "deleting": false
          }
        }
      }
    },
    {
      "cell_type": "code",
      "source": [],
      "outputs": [],
      "execution_count": null,
      "metadata": {
        "collapsed": true,
        "jupyter": {
          "source_hidden": false,
          "outputs_hidden": false
        },
        "nteract": {
          "transient": {
            "deleting": false
          }
        }
      }
    },
    {
      "cell_type": "code",
      "source": [],
      "outputs": [],
      "execution_count": null,
      "metadata": {
        "collapsed": true,
        "jupyter": {
          "source_hidden": false,
          "outputs_hidden": false
        },
        "nteract": {
          "transient": {
            "deleting": false
          }
        }
      }
    },
    {
      "cell_type": "code",
      "source": [],
      "outputs": [],
      "execution_count": null,
      "metadata": {
        "collapsed": true,
        "jupyter": {
          "source_hidden": false,
          "outputs_hidden": false
        },
        "nteract": {
          "transient": {
            "deleting": false
          }
        }
      }
    },
    {
      "cell_type": "code",
      "source": [],
      "outputs": [],
      "execution_count": null,
      "metadata": {
        "collapsed": true,
        "jupyter": {
          "source_hidden": false,
          "outputs_hidden": false
        },
        "nteract": {
          "transient": {
            "deleting": false
          }
        }
      }
    },
    {
      "cell_type": "code",
      "source": [],
      "outputs": [],
      "execution_count": null,
      "metadata": {
        "collapsed": true,
        "jupyter": {
          "source_hidden": false,
          "outputs_hidden": false
        },
        "nteract": {
          "transient": {
            "deleting": false
          }
        }
      }
    },
    {
      "cell_type": "code",
      "source": [],
      "outputs": [],
      "execution_count": null,
      "metadata": {
        "collapsed": true,
        "jupyter": {
          "source_hidden": false,
          "outputs_hidden": false
        },
        "nteract": {
          "transient": {
            "deleting": false
          }
        }
      }
    },
    {
      "cell_type": "code",
      "source": [],
      "outputs": [],
      "execution_count": null,
      "metadata": {
        "collapsed": true,
        "jupyter": {
          "source_hidden": false,
          "outputs_hidden": false
        },
        "nteract": {
          "transient": {
            "deleting": false
          }
        }
      }
    },
    {
      "cell_type": "code",
      "source": [],
      "outputs": [],
      "execution_count": null,
      "metadata": {
        "collapsed": true,
        "jupyter": {
          "source_hidden": false,
          "outputs_hidden": false
        },
        "nteract": {
          "transient": {
            "deleting": false
          }
        }
      }
    },
    {
      "cell_type": "code",
      "source": [],
      "outputs": [],
      "execution_count": null,
      "metadata": {
        "collapsed": true,
        "jupyter": {
          "source_hidden": false,
          "outputs_hidden": false
        },
        "nteract": {
          "transient": {
            "deleting": false
          }
        }
      }
    },
    {
      "cell_type": "code",
      "source": [],
      "outputs": [],
      "execution_count": null,
      "metadata": {
        "collapsed": true,
        "jupyter": {
          "source_hidden": false,
          "outputs_hidden": false
        },
        "nteract": {
          "transient": {
            "deleting": false
          }
        }
      }
    },
    {
      "cell_type": "code",
      "source": [],
      "outputs": [],
      "execution_count": null,
      "metadata": {
        "collapsed": true,
        "jupyter": {
          "source_hidden": false,
          "outputs_hidden": false
        },
        "nteract": {
          "transient": {
            "deleting": false
          }
        }
      }
    },
    {
      "cell_type": "code",
      "source": [],
      "outputs": [],
      "execution_count": null,
      "metadata": {
        "collapsed": true,
        "jupyter": {
          "source_hidden": false,
          "outputs_hidden": false
        },
        "nteract": {
          "transient": {
            "deleting": false
          }
        }
      }
    },
    {
      "cell_type": "code",
      "source": [],
      "outputs": [],
      "execution_count": null,
      "metadata": {
        "collapsed": true,
        "jupyter": {
          "source_hidden": false,
          "outputs_hidden": false
        },
        "nteract": {
          "transient": {
            "deleting": false
          }
        }
      }
    },
    {
      "cell_type": "code",
      "source": [],
      "outputs": [],
      "execution_count": null,
      "metadata": {
        "collapsed": true,
        "jupyter": {
          "source_hidden": false,
          "outputs_hidden": false
        },
        "nteract": {
          "transient": {
            "deleting": false
          }
        }
      }
    },
    {
      "cell_type": "code",
      "source": [],
      "outputs": [],
      "execution_count": null,
      "metadata": {
        "collapsed": true,
        "jupyter": {
          "source_hidden": false,
          "outputs_hidden": false
        },
        "nteract": {
          "transient": {
            "deleting": false
          }
        }
      }
    },
    {
      "cell_type": "code",
      "source": [],
      "outputs": [],
      "execution_count": null,
      "metadata": {
        "collapsed": true,
        "jupyter": {
          "source_hidden": false,
          "outputs_hidden": false
        },
        "nteract": {
          "transient": {
            "deleting": false
          }
        }
      }
    },
    {
      "cell_type": "code",
      "source": [],
      "outputs": [],
      "execution_count": null,
      "metadata": {
        "collapsed": true,
        "jupyter": {
          "source_hidden": false,
          "outputs_hidden": false
        },
        "nteract": {
          "transient": {
            "deleting": false
          }
        }
      }
    },
    {
      "cell_type": "code",
      "source": [],
      "outputs": [],
      "execution_count": null,
      "metadata": {
        "collapsed": true,
        "jupyter": {
          "source_hidden": false,
          "outputs_hidden": false
        },
        "nteract": {
          "transient": {
            "deleting": false
          }
        }
      }
    },
    {
      "cell_type": "code",
      "source": [],
      "outputs": [],
      "execution_count": null,
      "metadata": {
        "collapsed": true,
        "jupyter": {
          "source_hidden": false,
          "outputs_hidden": false
        },
        "nteract": {
          "transient": {
            "deleting": false
          }
        }
      }
    },
    {
      "cell_type": "code",
      "source": [],
      "outputs": [],
      "execution_count": null,
      "metadata": {
        "collapsed": true,
        "jupyter": {
          "source_hidden": false,
          "outputs_hidden": false
        },
        "nteract": {
          "transient": {
            "deleting": false
          }
        }
      }
    },
    {
      "cell_type": "code",
      "source": [],
      "outputs": [],
      "execution_count": null,
      "metadata": {
        "collapsed": true,
        "jupyter": {
          "source_hidden": false,
          "outputs_hidden": false
        },
        "nteract": {
          "transient": {
            "deleting": false
          }
        }
      }
    },
    {
      "cell_type": "code",
      "source": [],
      "outputs": [],
      "execution_count": null,
      "metadata": {
        "collapsed": true,
        "jupyter": {
          "source_hidden": false,
          "outputs_hidden": false
        },
        "nteract": {
          "transient": {
            "deleting": false
          }
        }
      }
    },
    {
      "cell_type": "code",
      "source": [],
      "outputs": [],
      "execution_count": null,
      "metadata": {
        "collapsed": true,
        "jupyter": {
          "source_hidden": false,
          "outputs_hidden": false
        },
        "nteract": {
          "transient": {
            "deleting": false
          }
        }
      }
    },
    {
      "cell_type": "code",
      "source": [],
      "outputs": [],
      "execution_count": null,
      "metadata": {
        "collapsed": true,
        "jupyter": {
          "source_hidden": false,
          "outputs_hidden": false
        },
        "nteract": {
          "transient": {
            "deleting": false
          }
        }
      }
    },
    {
      "cell_type": "code",
      "source": [],
      "outputs": [],
      "execution_count": null,
      "metadata": {
        "collapsed": true,
        "jupyter": {
          "source_hidden": false,
          "outputs_hidden": false
        },
        "nteract": {
          "transient": {
            "deleting": false
          }
        }
      }
    },
    {
      "cell_type": "code",
      "source": [],
      "outputs": [],
      "execution_count": null,
      "metadata": {
        "collapsed": true,
        "jupyter": {
          "source_hidden": false,
          "outputs_hidden": false
        },
        "nteract": {
          "transient": {
            "deleting": false
          }
        }
      }
    },
    {
      "cell_type": "code",
      "source": [],
      "outputs": [],
      "execution_count": null,
      "metadata": {
        "collapsed": true,
        "jupyter": {
          "source_hidden": false,
          "outputs_hidden": false
        },
        "nteract": {
          "transient": {
            "deleting": false
          }
        }
      }
    },
    {
      "cell_type": "code",
      "source": [],
      "outputs": [],
      "execution_count": null,
      "metadata": {
        "collapsed": true,
        "jupyter": {
          "source_hidden": false,
          "outputs_hidden": false
        },
        "nteract": {
          "transient": {
            "deleting": false
          }
        }
      }
    },
    {
      "cell_type": "code",
      "source": [],
      "outputs": [],
      "execution_count": null,
      "metadata": {
        "collapsed": true,
        "jupyter": {
          "source_hidden": false,
          "outputs_hidden": false
        },
        "nteract": {
          "transient": {
            "deleting": false
          }
        }
      }
    },
    {
      "cell_type": "code",
      "source": [],
      "outputs": [],
      "execution_count": null,
      "metadata": {
        "collapsed": true,
        "jupyter": {
          "source_hidden": false,
          "outputs_hidden": false
        },
        "nteract": {
          "transient": {
            "deleting": false
          }
        }
      }
    },
    {
      "cell_type": "code",
      "source": [],
      "outputs": [],
      "execution_count": null,
      "metadata": {
        "collapsed": true,
        "jupyter": {
          "source_hidden": false,
          "outputs_hidden": false
        },
        "nteract": {
          "transient": {
            "deleting": false
          }
        }
      }
    },
    {
      "cell_type": "code",
      "source": [],
      "outputs": [],
      "execution_count": null,
      "metadata": {
        "collapsed": true,
        "jupyter": {
          "source_hidden": false,
          "outputs_hidden": false
        },
        "nteract": {
          "transient": {
            "deleting": false
          }
        }
      }
    },
    {
      "cell_type": "code",
      "source": [],
      "outputs": [],
      "execution_count": null,
      "metadata": {
        "collapsed": true,
        "jupyter": {
          "source_hidden": false,
          "outputs_hidden": false
        },
        "nteract": {
          "transient": {
            "deleting": false
          }
        }
      }
    },
    {
      "cell_type": "code",
      "source": [],
      "outputs": [],
      "execution_count": null,
      "metadata": {
        "collapsed": true,
        "jupyter": {
          "source_hidden": false,
          "outputs_hidden": false
        },
        "nteract": {
          "transient": {
            "deleting": false
          }
        }
      }
    },
    {
      "cell_type": "code",
      "source": [],
      "outputs": [],
      "execution_count": null,
      "metadata": {
        "collapsed": true,
        "jupyter": {
          "source_hidden": false,
          "outputs_hidden": false
        },
        "nteract": {
          "transient": {
            "deleting": false
          }
        }
      }
    },
    {
      "cell_type": "code",
      "source": [],
      "outputs": [],
      "execution_count": null,
      "metadata": {
        "collapsed": true,
        "jupyter": {
          "source_hidden": false,
          "outputs_hidden": false
        },
        "nteract": {
          "transient": {
            "deleting": false
          }
        }
      }
    },
    {
      "cell_type": "code",
      "source": [],
      "outputs": [],
      "execution_count": null,
      "metadata": {
        "collapsed": true,
        "jupyter": {
          "source_hidden": false,
          "outputs_hidden": false
        },
        "nteract": {
          "transient": {
            "deleting": false
          }
        }
      }
    },
    {
      "cell_type": "code",
      "source": [],
      "outputs": [],
      "execution_count": null,
      "metadata": {
        "collapsed": true,
        "jupyter": {
          "source_hidden": false,
          "outputs_hidden": false
        },
        "nteract": {
          "transient": {
            "deleting": false
          }
        }
      }
    },
    {
      "cell_type": "code",
      "source": [],
      "outputs": [],
      "execution_count": null,
      "metadata": {
        "collapsed": true,
        "jupyter": {
          "source_hidden": false,
          "outputs_hidden": false
        },
        "nteract": {
          "transient": {
            "deleting": false
          }
        }
      }
    },
    {
      "cell_type": "code",
      "source": [],
      "outputs": [],
      "execution_count": null,
      "metadata": {
        "collapsed": true,
        "jupyter": {
          "source_hidden": false,
          "outputs_hidden": false
        },
        "nteract": {
          "transient": {
            "deleting": false
          }
        }
      }
    },
    {
      "cell_type": "code",
      "source": [],
      "outputs": [],
      "execution_count": null,
      "metadata": {
        "collapsed": true,
        "jupyter": {
          "source_hidden": false,
          "outputs_hidden": false
        },
        "nteract": {
          "transient": {
            "deleting": false
          }
        }
      }
    },
    {
      "cell_type": "code",
      "source": [],
      "outputs": [],
      "execution_count": null,
      "metadata": {
        "collapsed": true,
        "jupyter": {
          "source_hidden": false,
          "outputs_hidden": false
        },
        "nteract": {
          "transient": {
            "deleting": false
          }
        }
      }
    },
    {
      "cell_type": "code",
      "source": [],
      "outputs": [],
      "execution_count": null,
      "metadata": {
        "collapsed": true,
        "jupyter": {
          "source_hidden": false,
          "outputs_hidden": false
        },
        "nteract": {
          "transient": {
            "deleting": false
          }
        }
      }
    },
    {
      "cell_type": "code",
      "source": [],
      "outputs": [],
      "execution_count": null,
      "metadata": {
        "collapsed": true,
        "jupyter": {
          "source_hidden": false,
          "outputs_hidden": false
        },
        "nteract": {
          "transient": {
            "deleting": false
          }
        }
      }
    },
    {
      "cell_type": "code",
      "source": [],
      "outputs": [],
      "execution_count": null,
      "metadata": {
        "collapsed": true,
        "jupyter": {
          "source_hidden": false,
          "outputs_hidden": false
        },
        "nteract": {
          "transient": {
            "deleting": false
          }
        }
      }
    },
    {
      "cell_type": "code",
      "source": [],
      "outputs": [],
      "execution_count": null,
      "metadata": {
        "collapsed": true,
        "jupyter": {
          "source_hidden": false,
          "outputs_hidden": false
        },
        "nteract": {
          "transient": {
            "deleting": false
          }
        }
      }
    },
    {
      "cell_type": "code",
      "source": [],
      "outputs": [],
      "execution_count": null,
      "metadata": {
        "collapsed": true,
        "jupyter": {
          "source_hidden": false,
          "outputs_hidden": false
        },
        "nteract": {
          "transient": {
            "deleting": false
          }
        }
      }
    },
    {
      "cell_type": "code",
      "source": [],
      "outputs": [],
      "execution_count": null,
      "metadata": {
        "collapsed": true,
        "jupyter": {
          "source_hidden": false,
          "outputs_hidden": false
        },
        "nteract": {
          "transient": {
            "deleting": false
          }
        }
      }
    },
    {
      "cell_type": "code",
      "source": [],
      "outputs": [],
      "execution_count": null,
      "metadata": {
        "collapsed": true,
        "jupyter": {
          "source_hidden": false,
          "outputs_hidden": false
        },
        "nteract": {
          "transient": {
            "deleting": false
          }
        }
      }
    },
    {
      "cell_type": "code",
      "source": [],
      "outputs": [],
      "execution_count": null,
      "metadata": {
        "collapsed": true,
        "jupyter": {
          "source_hidden": false,
          "outputs_hidden": false
        },
        "nteract": {
          "transient": {
            "deleting": false
          }
        }
      }
    },
    {
      "cell_type": "code",
      "source": [],
      "outputs": [],
      "execution_count": null,
      "metadata": {
        "collapsed": true,
        "jupyter": {
          "source_hidden": false,
          "outputs_hidden": false
        },
        "nteract": {
          "transient": {
            "deleting": false
          }
        }
      }
    },
    {
      "cell_type": "code",
      "source": [],
      "outputs": [],
      "execution_count": null,
      "metadata": {
        "collapsed": true,
        "jupyter": {
          "source_hidden": false,
          "outputs_hidden": false
        },
        "nteract": {
          "transient": {
            "deleting": false
          }
        }
      }
    },
    {
      "cell_type": "code",
      "source": [],
      "outputs": [],
      "execution_count": null,
      "metadata": {
        "collapsed": true,
        "jupyter": {
          "source_hidden": false,
          "outputs_hidden": false
        },
        "nteract": {
          "transient": {
            "deleting": false
          }
        }
      }
    },
    {
      "cell_type": "code",
      "source": [],
      "outputs": [],
      "execution_count": null,
      "metadata": {
        "collapsed": true,
        "jupyter": {
          "source_hidden": false,
          "outputs_hidden": false
        },
        "nteract": {
          "transient": {
            "deleting": false
          }
        }
      }
    },
    {
      "cell_type": "code",
      "source": [],
      "outputs": [],
      "execution_count": null,
      "metadata": {
        "collapsed": true,
        "jupyter": {
          "source_hidden": false,
          "outputs_hidden": false
        },
        "nteract": {
          "transient": {
            "deleting": false
          }
        }
      }
    },
    {
      "cell_type": "code",
      "source": [],
      "outputs": [],
      "execution_count": null,
      "metadata": {
        "collapsed": true,
        "jupyter": {
          "source_hidden": false,
          "outputs_hidden": false
        },
        "nteract": {
          "transient": {
            "deleting": false
          }
        }
      }
    },
    {
      "cell_type": "code",
      "source": [],
      "outputs": [],
      "execution_count": null,
      "metadata": {
        "collapsed": true,
        "jupyter": {
          "source_hidden": false,
          "outputs_hidden": false
        },
        "nteract": {
          "transient": {
            "deleting": false
          }
        }
      }
    },
    {
      "cell_type": "code",
      "source": [],
      "outputs": [],
      "execution_count": null,
      "metadata": {
        "collapsed": true,
        "jupyter": {
          "source_hidden": false,
          "outputs_hidden": false
        },
        "nteract": {
          "transient": {
            "deleting": false
          }
        }
      }
    },
    {
      "cell_type": "code",
      "source": [],
      "outputs": [],
      "execution_count": null,
      "metadata": {
        "collapsed": true,
        "jupyter": {
          "source_hidden": false,
          "outputs_hidden": false
        },
        "nteract": {
          "transient": {
            "deleting": false
          }
        }
      }
    },
    {
      "cell_type": "code",
      "source": [],
      "outputs": [],
      "execution_count": null,
      "metadata": {
        "collapsed": true,
        "jupyter": {
          "source_hidden": false,
          "outputs_hidden": false
        },
        "nteract": {
          "transient": {
            "deleting": false
          }
        }
      }
    },
    {
      "cell_type": "code",
      "source": [],
      "outputs": [],
      "execution_count": null,
      "metadata": {
        "collapsed": true,
        "jupyter": {
          "source_hidden": false,
          "outputs_hidden": false
        },
        "nteract": {
          "transient": {
            "deleting": false
          }
        }
      }
    },
    {
      "cell_type": "code",
      "source": [],
      "outputs": [],
      "execution_count": null,
      "metadata": {
        "collapsed": true,
        "jupyter": {
          "source_hidden": false,
          "outputs_hidden": false
        },
        "nteract": {
          "transient": {
            "deleting": false
          }
        }
      }
    },
    {
      "cell_type": "code",
      "source": [],
      "outputs": [],
      "execution_count": null,
      "metadata": {
        "collapsed": true,
        "jupyter": {
          "source_hidden": false,
          "outputs_hidden": false
        },
        "nteract": {
          "transient": {
            "deleting": false
          }
        }
      }
    },
    {
      "cell_type": "code",
      "source": [],
      "outputs": [],
      "execution_count": null,
      "metadata": {
        "collapsed": true,
        "jupyter": {
          "source_hidden": false,
          "outputs_hidden": false
        },
        "nteract": {
          "transient": {
            "deleting": false
          }
        }
      }
    },
    {
      "cell_type": "code",
      "source": [],
      "outputs": [],
      "execution_count": null,
      "metadata": {
        "collapsed": true,
        "jupyter": {
          "source_hidden": false,
          "outputs_hidden": false
        },
        "nteract": {
          "transient": {
            "deleting": false
          }
        }
      }
    },
    {
      "cell_type": "code",
      "source": [],
      "outputs": [],
      "execution_count": null,
      "metadata": {
        "collapsed": true,
        "jupyter": {
          "source_hidden": false,
          "outputs_hidden": false
        },
        "nteract": {
          "transient": {
            "deleting": false
          }
        }
      }
    },
    {
      "cell_type": "code",
      "source": [],
      "outputs": [],
      "execution_count": null,
      "metadata": {
        "collapsed": true,
        "jupyter": {
          "source_hidden": false,
          "outputs_hidden": false
        },
        "nteract": {
          "transient": {
            "deleting": false
          }
        }
      }
    },
    {
      "cell_type": "code",
      "source": [],
      "outputs": [],
      "execution_count": null,
      "metadata": {
        "collapsed": true,
        "jupyter": {
          "source_hidden": false,
          "outputs_hidden": false
        },
        "nteract": {
          "transient": {
            "deleting": false
          }
        }
      }
    },
    {
      "cell_type": "code",
      "source": [],
      "outputs": [],
      "execution_count": null,
      "metadata": {
        "collapsed": true,
        "jupyter": {
          "source_hidden": false,
          "outputs_hidden": false
        },
        "nteract": {
          "transient": {
            "deleting": false
          }
        }
      }
    },
    {
      "cell_type": "code",
      "source": [],
      "outputs": [],
      "execution_count": null,
      "metadata": {
        "collapsed": true,
        "jupyter": {
          "source_hidden": false,
          "outputs_hidden": false
        },
        "nteract": {
          "transient": {
            "deleting": false
          }
        }
      }
    },
    {
      "cell_type": "code",
      "source": [],
      "outputs": [],
      "execution_count": null,
      "metadata": {
        "collapsed": true,
        "jupyter": {
          "source_hidden": false,
          "outputs_hidden": false
        },
        "nteract": {
          "transient": {
            "deleting": false
          }
        }
      }
    },
    {
      "cell_type": "code",
      "source": [],
      "outputs": [],
      "execution_count": null,
      "metadata": {
        "collapsed": true,
        "jupyter": {
          "source_hidden": false,
          "outputs_hidden": false
        },
        "nteract": {
          "transient": {
            "deleting": false
          }
        }
      }
    },
    {
      "cell_type": "code",
      "source": [],
      "outputs": [],
      "execution_count": null,
      "metadata": {
        "collapsed": true,
        "jupyter": {
          "source_hidden": false,
          "outputs_hidden": false
        },
        "nteract": {
          "transient": {
            "deleting": false
          }
        }
      }
    },
    {
      "cell_type": "code",
      "source": [],
      "outputs": [],
      "execution_count": null,
      "metadata": {
        "collapsed": true,
        "jupyter": {
          "source_hidden": false,
          "outputs_hidden": false
        },
        "nteract": {
          "transient": {
            "deleting": false
          }
        }
      }
    },
    {
      "cell_type": "code",
      "source": [],
      "outputs": [],
      "execution_count": null,
      "metadata": {
        "collapsed": true,
        "jupyter": {
          "source_hidden": false,
          "outputs_hidden": false
        },
        "nteract": {
          "transient": {
            "deleting": false
          }
        }
      }
    },
    {
      "cell_type": "code",
      "source": [],
      "outputs": [],
      "execution_count": null,
      "metadata": {
        "collapsed": true,
        "jupyter": {
          "source_hidden": false,
          "outputs_hidden": false
        },
        "nteract": {
          "transient": {
            "deleting": false
          }
        }
      }
    }
  ],
  "metadata": {
    "kernel_info": {
      "name": "julia-1.9"
    },
    "language_info": {
      "file_extension": ".jl",
      "name": "julia",
      "mimetype": "application/julia",
      "version": "1.9.3"
    },
    "kernelspec": {
      "argv": [
        "C:\\Users\\14176\\AppData\\Local\\Programs\\Julia-1.9.3\\bin\\julia.exe",
        "-i",
        "--color=yes",
        "--project=@.",
        "C:\\Users\\14176\\.julia\\packages\\IJulia\\Vo51o\\src\\kernel.jl",
        "{connection_file}"
      ],
      "display_name": "Julia 1.9.3",
      "env": {},
      "interrupt_mode": "message",
      "language": "julia",
      "name": "julia-1.9"
    },
    "nteract": {
      "version": "0.28.0"
    }
  },
  "nbformat": 4,
  "nbformat_minor": 0
}